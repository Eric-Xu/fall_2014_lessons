{
 "metadata": {
  "name": "",
  "signature": "sha256:542b2aed1ac2cf104da9018116f5d2ae1e31b777564ee30aa80359fd602ad6e4"
 },
 "nbformat": 3,
 "nbformat_minor": 0,
 "worksheets": [
  {
   "cells": [
    {
     "cell_type": "code",
     "collapsed": false,
     "input": [
      "%matplotlib inline\n",
      "\n",
      "import pandas as pd\n",
      "import numpy as np\n",
      "import matplotlib.pyplot as plt\n",
      "from sklearn.linear_model import LinearRegression, Ridge, Lasso\n",
      "from sklearn import cross_validation\n",
      "from sklearn.cross_validation import KFold\n",
      "from sklearn.cross_validation import train_test_split\n",
      "from sklearn.cross_validation import cross_val_score\n",
      "from sklearn.metrics import mean_squared_error"
     ],
     "language": "python",
     "metadata": {},
     "outputs": [],
     "prompt_number": 12
    },
    {
     "cell_type": "code",
     "collapsed": false,
     "input": [
      "df = pd.read_csv('../../datasets/africa_ph.csv')\n",
      "predictors = ['ELEV', 'REF2', 'BSAN', 'LSTN', 'Infrared01', 'Infrared02', 'Infrared03', 'Infrared04', 'Infrared05']"
     ],
     "language": "python",
     "metadata": {},
     "outputs": [],
     "prompt_number": 13
    },
    {
     "cell_type": "code",
     "collapsed": false,
     "input": [
      "df.head()"
     ],
     "language": "python",
     "metadata": {},
     "outputs": [
      {
       "html": [
        "<div style=\"max-height:1000px;max-width:1500px;overflow:auto;\">\n",
        "<table border=\"1\" class=\"dataframe\">\n",
        "  <thead>\n",
        "    <tr style=\"text-align: right;\">\n",
        "      <th></th>\n",
        "      <th>Unnamed: 0</th>\n",
        "      <th>PIDN</th>\n",
        "      <th>pH</th>\n",
        "      <th>ELEV</th>\n",
        "      <th>REF2</th>\n",
        "      <th>BSAN</th>\n",
        "      <th>LSTN</th>\n",
        "      <th>Infrared01</th>\n",
        "      <th>Infrared02</th>\n",
        "      <th>Infrared03</th>\n",
        "      <th>Infrared04</th>\n",
        "      <th>Infrared05</th>\n",
        "    </tr>\n",
        "  </thead>\n",
        "  <tbody>\n",
        "    <tr>\n",
        "      <th>0</th>\n",
        "      <td> 32</td>\n",
        "      <td> d9u06tdU</td>\n",
        "      <td>-0.044436</td>\n",
        "      <td> 0.904900</td>\n",
        "      <td>-0.352505</td>\n",
        "      <td>-0.710145</td>\n",
        "      <td>-0.371001</td>\n",
        "      <td> 0.378298</td>\n",
        "      <td> 0.056228</td>\n",
        "      <td> 1.349732</td>\n",
        "      <td> 1.81377</td>\n",
        "      <td> 1.65483</td>\n",
        "    </tr>\n",
        "    <tr>\n",
        "      <th>1</th>\n",
        "      <td> 33</td>\n",
        "      <td> qsQFu3ef</td>\n",
        "      <td>-0.455961</td>\n",
        "      <td> 0.904900</td>\n",
        "      <td>-0.352505</td>\n",
        "      <td>-0.710145</td>\n",
        "      <td>-0.371001</td>\n",
        "      <td> 0.374321</td>\n",
        "      <td> 0.072229</td>\n",
        "      <td> 1.459569</td>\n",
        "      <td> 1.78552</td>\n",
        "      <td> 1.62982</td>\n",
        "    </tr>\n",
        "    <tr>\n",
        "      <th>2</th>\n",
        "      <td> 34</td>\n",
        "      <td> C4kj5IMN</td>\n",
        "      <td>-0.549490</td>\n",
        "      <td> 0.971715</td>\n",
        "      <td>-0.352505</td>\n",
        "      <td>-0.702899</td>\n",
        "      <td>-0.399312</td>\n",
        "      <td> 0.390773</td>\n",
        "      <td> 0.048228</td>\n",
        "      <td> 1.555917</td>\n",
        "      <td> 1.73194</td>\n",
        "      <td> 1.63317</td>\n",
        "    </tr>\n",
        "    <tr>\n",
        "      <th>3</th>\n",
        "      <td> 35</td>\n",
        "      <td> p1SCgsM8</td>\n",
        "      <td>-0.951662</td>\n",
        "      <td> 0.971715</td>\n",
        "      <td>-0.352505</td>\n",
        "      <td>-0.702899</td>\n",
        "      <td>-0.399312</td>\n",
        "      <td> 0.385719</td>\n",
        "      <td> 0.047679</td>\n",
        "      <td> 1.662981</td>\n",
        "      <td> 1.68115</td>\n",
        "      <td> 1.69190</td>\n",
        "    </tr>\n",
        "    <tr>\n",
        "      <th>4</th>\n",
        "      <td> 36</td>\n",
        "      <td> UqyLWYTl</td>\n",
        "      <td>-0.427903</td>\n",
        "      <td> 0.929399</td>\n",
        "      <td>-0.506494</td>\n",
        "      <td>-0.695652</td>\n",
        "      <td>-0.543779</td>\n",
        "      <td> 0.411471</td>\n",
        "      <td> 0.043002</td>\n",
        "      <td> 1.522019</td>\n",
        "      <td> 1.71672</td>\n",
        "      <td> 1.68936</td>\n",
        "    </tr>\n",
        "  </tbody>\n",
        "</table>\n",
        "</div>"
       ],
       "metadata": {},
       "output_type": "pyout",
       "prompt_number": 14,
       "text": [
        "   Unnamed: 0      PIDN        pH      ELEV      REF2      BSAN      LSTN  \\\n",
        "0          32  d9u06tdU -0.044436  0.904900 -0.352505 -0.710145 -0.371001   \n",
        "1          33  qsQFu3ef -0.455961  0.904900 -0.352505 -0.710145 -0.371001   \n",
        "2          34  C4kj5IMN -0.549490  0.971715 -0.352505 -0.702899 -0.399312   \n",
        "3          35  p1SCgsM8 -0.951662  0.971715 -0.352505 -0.702899 -0.399312   \n",
        "4          36  UqyLWYTl -0.427903  0.929399 -0.506494 -0.695652 -0.543779   \n",
        "\n",
        "   Infrared01  Infrared02  Infrared03  Infrared04  Infrared05  \n",
        "0    0.378298    0.056228    1.349732     1.81377     1.65483  \n",
        "1    0.374321    0.072229    1.459569     1.78552     1.62982  \n",
        "2    0.390773    0.048228    1.555917     1.73194     1.63317  \n",
        "3    0.385719    0.047679    1.662981     1.68115     1.69190  \n",
        "4    0.411471    0.043002    1.522019     1.71672     1.68936  "
       ]
      }
     ],
     "prompt_number": 14
    },
    {
     "cell_type": "code",
     "collapsed": false,
     "input": [
      "df.shape"
     ],
     "language": "python",
     "metadata": {},
     "outputs": [
      {
       "metadata": {},
       "output_type": "pyout",
       "prompt_number": 15,
       "text": [
        "(736, 12)"
       ]
      }
     ],
     "prompt_number": 15
    },
    {
     "cell_type": "markdown",
     "metadata": {},
     "source": [
      "### K-fold Cross-validation example"
     ]
    },
    {
     "cell_type": "code",
     "collapsed": false,
     "input": [
      "cross_val_errors = []\n",
      "num_pred = 9\n",
      "\n",
      "for numcol in range(2, num_pred):\n",
      "    # each ndegree corresponds to a polynomial model\n",
      "    X = df[predictors[1:numcol]].values\n",
      "    y = df[\"pH\"].values\n",
      "    \n",
      "    print df[predictors[1:numcol]].columns\n",
      "    \n",
      "    kfold = KFold(len(df), n_folds=10)\n",
      "    \n",
      "    msqr_errors = []\n",
      "    \n",
      "    for train, test in kfold:\n",
      "        # each model is cross validated 10 times\n",
      "        Xtrain, ytrain, Xtest, ytest = X[train], y[train], X[test], y[test]   \n",
      "        model = LinearRegression()\n",
      "        model.fit(X, y)\n",
      "        ypred = model.predict(Xtest)\n",
      "        msqr_errors.append(mean_squared_error(ypred, ytest))\n",
      "    cross_val_errors.append(np.mean(msqr_errors))"
     ],
     "language": "python",
     "metadata": {},
     "outputs": [
      {
       "output_type": "stream",
       "stream": "stdout",
       "text": [
        "Index([u'REF2'], dtype='object')\n",
        "Index([u'REF2', u'BSAN'], dtype='object')\n",
        "Index([u'REF2', u'BSAN', u'LSTN'], dtype='object')\n",
        "Index([u'REF2', u'BSAN', u'LSTN', u'Infrared01'], dtype='object')\n",
        "Index([u'REF2', u'BSAN', u'LSTN', u'Infrared01', u'Infrared02'], dtype='object')\n",
        "Index([u'REF2', u'BSAN', u'LSTN', u'Infrared01', u'Infrared02', u'Infrared03'], dtype='object')\n",
        "Index([u'REF2', u'BSAN', u'LSTN', u'Infrared01', u'Infrared02', u'Infrared03', u'Infrared04'], dtype='object')\n"
       ]
      }
     ],
     "prompt_number": 52
    },
    {
     "cell_type": "code",
     "collapsed": false,
     "input": [
      "print cross_val_errors"
     ],
     "language": "python",
     "metadata": {},
     "outputs": [
      {
       "output_type": "stream",
       "stream": "stdout",
       "text": [
        "[0.84490587322427257, 0.60196691020719917, 0.5818296374456895, 0.56387917500504359, 0.49806068828975913, 0.44674024033417564, 0.39622400811879721]\n"
       ]
      }
     ],
     "prompt_number": 53
    },
    {
     "cell_type": "code",
     "collapsed": false,
     "input": [
      "plt.plot(range(1, num_pred-1), cross_val_errors)\n",
      "plt.xlabel(\"columns\")\n",
      "plt.ylabel(\"cv.error\")"
     ],
     "language": "python",
     "metadata": {},
     "outputs": [
      {
       "metadata": {},
       "output_type": "pyout",
       "prompt_number": 54,
       "text": [
        "<matplotlib.text.Text at 0x112eb3b50>"
       ]
      },
      {
       "metadata": {},
       "output_type": "display_data",
       "png": "[encoded data removed]",
       "text": [
        "<matplotlib.figure.Figure at 0x113343a10>"
       ]
      }
     ],
     "prompt_number": 54
    },
    {
     "cell_type": "markdown",
     "metadata": {},
     "source": [
      "### Different Regression Models to Test"
     ]
    },
    {
     "cell_type": "code",
     "collapsed": false,
     "input": [
      "model1 = LinearRegression(fit_intercept=True)\n",
      "model2 = Ridge()\n",
      "model3 = Lasso()"
     ],
     "language": "python",
     "metadata": {},
     "outputs": [],
     "prompt_number": 17
    },
    {
     "cell_type": "code",
     "collapsed": false,
     "input": [
      "#train_df, test_df = train_test_split(df, test_size = 0.2)\n",
      "score1 = cross_val_score(model1, df[predictors], df['pH'], n_jobs=5).mean()\n",
      "score2 = cross_val_score(model2, df[predictors], df['pH'], n_jobs=5).mean()\n",
      "score3 = cross_val_score(model3, df[predictors], df['pH'], n_jobs=5).mean()\n",
      "print score1, score2, score3"
     ],
     "language": "python",
     "metadata": {},
     "outputs": [
      {
       "output_type": "stream",
       "stream": "stdout",
       "text": [
        "0.131373269833 0.0281005913935 -0.0603715300621\n"
       ]
      }
     ],
     "prompt_number": 18
    }
   ],
   "metadata": {}
  }
 ]
}