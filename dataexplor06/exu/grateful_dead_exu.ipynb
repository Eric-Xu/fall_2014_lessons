{
 "metadata": {
  "name": "",
  "signature": "sha256:257809f303f70bdaf063c9208511822bd4e381a22223e69c10b82e32cb2ebb0b"
 },
 "nbformat": 3,
 "nbformat_minor": 0,
 "worksheets": [
  {
   "cells": [
    {
     "cell_type": "markdown",
     "metadata": {},
     "source": [
      "## Web Scraping with Requests and BeautifulSoup4"
     ]
    },
    {
     "cell_type": "code",
     "collapsed": false,
     "input": [
      "import requests\n",
      "from bs4 import BeautifulSoup\n",
      "\n",
      "import re\n",
      "import datetime\n",
      "from sklearn.cross_validation import KFold\n",
      "import matplotlib.pyplot as plt\n",
      "from sklearn.naive_bayes import MultinomialNB\n",
      "from sklearn.naive_bayes import BernoulliNB\n",
      "from sklearn.linear_model import LogisticRegression\n",
      "from sklearn.metrics import roc_curve, auc\n",
      "\n",
      "%matplotlib inline"
     ],
     "language": "python",
     "metadata": {},
     "outputs": [],
     "prompt_number": 37
    },
    {
     "cell_type": "markdown",
     "metadata": {},
     "source": [
      "### Get links for each year from full setlist page"
     ]
    },
    {
     "cell_type": "code",
     "collapsed": false,
     "input": [
      "setlists_url = \"http://www.cs.cmu.edu/~./gdead/setlists.html\"\n",
      "r = requests.get(setlists_url)\n",
      "\n",
      "soup = BeautifulSoup(r.content)"
     ],
     "language": "python",
     "metadata": {},
     "outputs": [],
     "prompt_number": 165
    },
    {
     "cell_type": "code",
     "collapsed": false,
     "input": [
      "year_hrefs = []\n",
      "\n",
      "for anchor in soup.find_all(\"a\"):\n",
      "    if anchor.parent.name == \"li\":\n",
      "        year_hrefs.append(str(anchor[\"href\"]))\n",
      "\n",
      "year_hrefs"
     ],
     "language": "python",
     "metadata": {},
     "outputs": [
      {
       "metadata": {},
       "output_type": "pyout",
       "prompt_number": 166,
       "text": [
        "['http://www2.southwind.net/~tjb9d/tbt/',\n",
        " 'http://www.deadbase.com/',\n",
        " 'http://www.tiedrich.com/tapelist/',\n",
        " '95.html',\n",
        " '94.html',\n",
        " '93.html',\n",
        " '92.html',\n",
        " '91.html',\n",
        " '90.html',\n",
        " '89.html',\n",
        " '88.html',\n",
        " '87.html',\n",
        " '86.html',\n",
        " '85.html',\n",
        " '84.html',\n",
        " '83.html',\n",
        " '82.html',\n",
        " '81.html',\n",
        " '80.html',\n",
        " '79.html',\n",
        " '78.html',\n",
        " '77.html',\n",
        " '76.html',\n",
        " '75.html',\n",
        " '74.html',\n",
        " '73.html',\n",
        " '72.html']"
       ]
      }
     ],
     "prompt_number": 166
    },
    {
     "cell_type": "code",
     "collapsed": false,
     "input": [
      "year_urls = []\n",
      "\n",
      "for href in hrefs[3:]:\n",
      "    year_urls.append(\"http://www.cs.cmu.edu/~./gdead/\" + str(href))\n",
      "\n",
      "year_urls"
     ],
     "language": "python",
     "metadata": {},
     "outputs": [
      {
       "metadata": {},
       "output_type": "pyout",
       "prompt_number": 167,
       "text": [
        "['http://www.cs.cmu.edu/~./gdead/95.html',\n",
        " 'http://www.cs.cmu.edu/~./gdead/94.html',\n",
        " 'http://www.cs.cmu.edu/~./gdead/93.html',\n",
        " 'http://www.cs.cmu.edu/~./gdead/92.html',\n",
        " 'http://www.cs.cmu.edu/~./gdead/91.html',\n",
        " 'http://www.cs.cmu.edu/~./gdead/90.html',\n",
        " 'http://www.cs.cmu.edu/~./gdead/89.html',\n",
        " 'http://www.cs.cmu.edu/~./gdead/88.html',\n",
        " 'http://www.cs.cmu.edu/~./gdead/87.html',\n",
        " 'http://www.cs.cmu.edu/~./gdead/86.html',\n",
        " 'http://www.cs.cmu.edu/~./gdead/85.html',\n",
        " 'http://www.cs.cmu.edu/~./gdead/84.html',\n",
        " 'http://www.cs.cmu.edu/~./gdead/83.html',\n",
        " 'http://www.cs.cmu.edu/~./gdead/82.html',\n",
        " 'http://www.cs.cmu.edu/~./gdead/81.html',\n",
        " 'http://www.cs.cmu.edu/~./gdead/80.html',\n",
        " 'http://www.cs.cmu.edu/~./gdead/79.html',\n",
        " 'http://www.cs.cmu.edu/~./gdead/78.html',\n",
        " 'http://www.cs.cmu.edu/~./gdead/77.html',\n",
        " 'http://www.cs.cmu.edu/~./gdead/76.html',\n",
        " 'http://www.cs.cmu.edu/~./gdead/75.html',\n",
        " 'http://www.cs.cmu.edu/~./gdead/74.html',\n",
        " 'http://www.cs.cmu.edu/~./gdead/73.html',\n",
        " 'http://www.cs.cmu.edu/~./gdead/72.html']"
       ]
      }
     ],
     "prompt_number": 167
    },
    {
     "cell_type": "markdown",
     "metadata": {},
     "source": [
      "### Get links for each concert from individual year page"
     ]
    },
    {
     "cell_type": "code",
     "collapsed": false,
     "input": [
      "def get_concert_urls(url):\n",
      "    r = requests.get(url)\n",
      "    soup = BeautifulSoup(r.content)\n",
      "    \n",
      "    concert_urls = []\n",
      "    for anchor in soup.find_all(\"a\"):\n",
      "        if anchor[\"href\"][-4:] == \".txt\":\n",
      "            concert_urls.append(\"http://www.cs.cmu.edu/~./gdead/\" + str(anchor[\"href\"]))\n",
      "    \n",
      "    return concert_urls"
     ],
     "language": "python",
     "metadata": {},
     "outputs": [],
     "prompt_number": 168
    },
    {
     "cell_type": "code",
     "collapsed": false,
     "input": [
      "year_urls\n",
      "\n",
      "concert_urls = get_concert_urls(year_urls[0])\n",
      "\n",
      "concert_urls[:5]"
     ],
     "language": "python",
     "metadata": {},
     "outputs": [
      {
       "metadata": {},
       "output_type": "pyout",
       "prompt_number": 169,
       "text": [
        "['http://www.cs.cmu.edu/~./gdead/dead-sets/95/2-19-95.txt',\n",
        " 'http://www.cs.cmu.edu/~./gdead/dead-sets/95/2-20-95.txt',\n",
        " 'http://www.cs.cmu.edu/~./gdead/dead-sets/95/2-21-95.txt',\n",
        " 'http://www.cs.cmu.edu/~./gdead/dead-sets/95/2-24-95.txt',\n",
        " 'http://www.cs.cmu.edu/~./gdead/dead-sets/95/2-25-95.txt']"
       ]
      }
     ],
     "prompt_number": 169
    },
    {
     "cell_type": "markdown",
     "metadata": {},
     "source": [
      "### Get setlist data"
     ]
    },
    {
     "cell_type": "code",
     "collapsed": false,
     "input": [
      "def get_setlist_data(url):\n",
      "    r = requests.get(url)\n",
      "    return r.content"
     ],
     "language": "python",
     "metadata": {},
     "outputs": [],
     "prompt_number": 170
    },
    {
     "cell_type": "code",
     "collapsed": false,
     "input": [
      "concert_urls[0]\n",
      "\n",
      "raw_setlist_data = get_setlist_data(concert_urls[0])\n",
      "\n",
      "raw_setlist_data"
     ],
     "language": "python",
     "metadata": {},
     "outputs": [
      {
       "metadata": {},
       "output_type": "pyout",
       "prompt_number": 171,
       "text": [
        "\"Delta Center, Salt Lake City, UT (Sunday, 2/19/95)\\n\\nJack Straw\\nSugaree\\nWalkin' Blues\\nAlabama Getaway\\nMe & My Uncle* ->\\nBig River*\\nDon't Ease Me In*\\n\\nChina Cat Sunflower ->\\nI Know You Rider\\nSamson and Delilah\\nIf the Shoe Fits\\nNew Speedway Boogie ->\\nEstimated Prophet ->\\nDrums ->\\nSpace ->\\nI Need A Miracle ->\\nAttics of my Life ->\\nJohnny B. Goode\\n\\nE: Baby Blue\\n\\n*Bobby Acoustic\\n*(first Alabama Getaway since 6/18/89)*\\n*(soundcheck included Alabama Getaway, Attics, Schoolgirl, \\nand It's a Man's World)*\\n\""
       ]
      }
     ],
     "prompt_number": 171
    },
    {
     "cell_type": "markdown",
     "metadata": {},
     "source": [
      "### Parse setlist data"
     ]
    },
    {
     "cell_type": "code",
     "collapsed": false,
     "input": [
      "# output format: [year, song1, song2, etc.]\n",
      "def parse_setlist_data(data):\n",
      "    split_data = data.split(\"\\n\")\n",
      "    year = parse_date(split_data[0])\n",
      "    songs = parse_songs(split_data[1:])\n",
      "    songs.insert(0, year)\n",
      "    return songs\n",
      "\n",
      "def parse_date(raw_data):\n",
      "    match = re.search(r'(\\d+/\\d+/\\d+)', raw_data)\n",
      "    raw_date_string = match.group(1)\n",
      "    try:\n",
      "        date = datetime.datetime.strptime(raw_date_string, \"%m/%d/%y\")\n",
      "        return date.year\n",
      "    except ValueError as err:\n",
      "        print(err)\n",
      "\n",
      "def parse_songs(raw_data):\n",
      "    formatted = []\n",
      "    for row in raw_data:\n",
      "        if (len(row) > 0 and row[0] != \"*\"): \n",
      "            \n",
      "            formatted.append(row)\n",
      "\n",
      "    return formatted"
     ],
     "language": "python",
     "metadata": {},
     "outputs": [],
     "prompt_number": 220
    },
    {
     "cell_type": "code",
     "collapsed": false,
     "input": [
      "formatted = parse_setlist_data(raw_setlist_data)\n",
      "print formatted"
     ],
     "language": "python",
     "metadata": {},
     "outputs": [
      {
       "output_type": "stream",
       "stream": "stdout",
       "text": [
        "\n",
        "Jack Straw\n",
        "Sugaree\n",
        "Walkin' Blues\n",
        "Alabama Getaway\n",
        "Me & My Uncle* ->\n",
        "Big River*\n",
        "Don't Ease Me In*\n",
        "\n",
        "China Cat Sunflower ->\n",
        "I Know You Rider\n",
        "Samson and Delilah\n",
        "If the Shoe Fits\n",
        "New Speedway Boogie ->\n",
        "Estimated Prophet ->\n",
        "Drums ->\n",
        "Space ->\n",
        "I Need A Miracle ->\n",
        "Attics of my Life ->\n",
        "Johnny B. Goode\n",
        "\n",
        "E: Baby Blue\n",
        "\n",
        "*Bobby Acoustic\n",
        "*(first Alabama Getaway since 6/18/89)*\n",
        "*(soundcheck included Alabama Getaway, Attics, Schoolgirl, \n",
        "and It's a Man's World)*\n",
        "\n",
        "[1995, 'Jack Straw', 'Sugaree', \"Walkin' Blues\", 'Alabama Getaway', 'Me & My Uncle* ->', 'Big River*', \"Don't Ease Me In*\", 'China Cat Sunflower ->', 'I Know You Rider', 'Samson and Delilah', 'If the Shoe Fits', 'New Speedway Boogie ->', 'Estimated Prophet ->', 'Drums ->', 'Space ->', 'I Need A Miracle ->', 'Attics of my Life ->', 'Johnny B. Goode', 'E: Baby Blue', \"and It's a Man's World)*\"]\n"
       ]
      }
     ],
     "prompt_number": 219
    },
    {
     "cell_type": "markdown",
     "metadata": {},
     "source": [
      "####Todo: strip out *, ->, and E:"
     ]
    },
    {
     "cell_type": "markdown",
     "metadata": {},
     "source": [
      "### Modeling the data"
     ]
    },
    {
     "cell_type": "code",
     "collapsed": false,
     "input": [
      "import pandas as pd\n",
      "import numpy as np\n"
     ],
     "language": "python",
     "metadata": {},
     "outputs": [],
     "prompt_number": 2
    },
    {
     "cell_type": "code",
     "collapsed": false,
     "input": [
      "df = pd.read_csv(\"/ga_fall_2014/fall_2014_lessons/dataexplor06/GDsetlists.csv\")"
     ],
     "language": "python",
     "metadata": {},
     "outputs": [],
     "prompt_number": 3
    },
    {
     "cell_type": "code",
     "collapsed": false,
     "input": [
      "df.head()"
     ],
     "language": "python",
     "metadata": {},
     "outputs": [
      {
       "html": [
        "<div style=\"max-height:1000px;max-width:1500px;overflow:auto;\">\n",
        "<table border=\"1\" class=\"dataframe\">\n",
        "  <thead>\n",
        "    <tr style=\"text-align: right;\">\n",
        "      <th></th>\n",
        "      <th>26 Miles</th>\n",
        "      <th>&gt;From the Heart of Me</th>\n",
        "      <th>?????</th>\n",
        "      <th>A Mind to Give Up Livin'</th>\n",
        "      <th>Addams Family</th>\n",
        "      <th>Ain't Superstitious</th>\n",
        "      <th>Alabama Getaway</th>\n",
        "      <th>All Along The Watchtower</th>\n",
        "      <th>All Along the Watchtower</th>\n",
        "      <th>Althea</th>\n",
        "      <th>...</th>\n",
        "      <th>Willie and the Hand Jive</th>\n",
        "      <th>You Ain't Woman Enough</th>\n",
        "      <th>You Win Again</th>\n",
        "      <th>You Won't Find Me</th>\n",
        "      <th>Your Love At Home</th>\n",
        "      <th>[set list unknown]</th>\n",
        "      <th>drums</th>\n",
        "      <th>jam</th>\n",
        "      <th>space</th>\n",
        "      <th>year</th>\n",
        "    </tr>\n",
        "  </thead>\n",
        "  <tbody>\n",
        "    <tr>\n",
        "      <th>0</th>\n",
        "      <td> False</td>\n",
        "      <td> False</td>\n",
        "      <td> False</td>\n",
        "      <td> False</td>\n",
        "      <td> False</td>\n",
        "      <td> False</td>\n",
        "      <td> False</td>\n",
        "      <td> False</td>\n",
        "      <td>  True</td>\n",
        "      <td>  True</td>\n",
        "      <td>...</td>\n",
        "      <td> False</td>\n",
        "      <td> False</td>\n",
        "      <td> False</td>\n",
        "      <td> False</td>\n",
        "      <td> False</td>\n",
        "      <td> False</td>\n",
        "      <td> True</td>\n",
        "      <td> False</td>\n",
        "      <td> False</td>\n",
        "      <td> 1987</td>\n",
        "    </tr>\n",
        "    <tr>\n",
        "      <th>1</th>\n",
        "      <td> False</td>\n",
        "      <td> False</td>\n",
        "      <td> False</td>\n",
        "      <td> False</td>\n",
        "      <td> False</td>\n",
        "      <td> False</td>\n",
        "      <td> False</td>\n",
        "      <td> False</td>\n",
        "      <td>  True</td>\n",
        "      <td> False</td>\n",
        "      <td>...</td>\n",
        "      <td> False</td>\n",
        "      <td> False</td>\n",
        "      <td> False</td>\n",
        "      <td> False</td>\n",
        "      <td> False</td>\n",
        "      <td> False</td>\n",
        "      <td> True</td>\n",
        "      <td> False</td>\n",
        "      <td> False</td>\n",
        "      <td> 1987</td>\n",
        "    </tr>\n",
        "    <tr>\n",
        "      <th>2</th>\n",
        "      <td> False</td>\n",
        "      <td> False</td>\n",
        "      <td> False</td>\n",
        "      <td> False</td>\n",
        "      <td> False</td>\n",
        "      <td> False</td>\n",
        "      <td> False</td>\n",
        "      <td> False</td>\n",
        "      <td> False</td>\n",
        "      <td> False</td>\n",
        "      <td>...</td>\n",
        "      <td> False</td>\n",
        "      <td> False</td>\n",
        "      <td> False</td>\n",
        "      <td> False</td>\n",
        "      <td> False</td>\n",
        "      <td> False</td>\n",
        "      <td> True</td>\n",
        "      <td> False</td>\n",
        "      <td> False</td>\n",
        "      <td> 1982</td>\n",
        "    </tr>\n",
        "    <tr>\n",
        "      <th>3</th>\n",
        "      <td> False</td>\n",
        "      <td> False</td>\n",
        "      <td> False</td>\n",
        "      <td> False</td>\n",
        "      <td> False</td>\n",
        "      <td> False</td>\n",
        "      <td> False</td>\n",
        "      <td> False</td>\n",
        "      <td> False</td>\n",
        "      <td> False</td>\n",
        "      <td>...</td>\n",
        "      <td> False</td>\n",
        "      <td> False</td>\n",
        "      <td> False</td>\n",
        "      <td> False</td>\n",
        "      <td> False</td>\n",
        "      <td> False</td>\n",
        "      <td> True</td>\n",
        "      <td> False</td>\n",
        "      <td> False</td>\n",
        "      <td> 1990</td>\n",
        "    </tr>\n",
        "    <tr>\n",
        "      <th>4</th>\n",
        "      <td> False</td>\n",
        "      <td> False</td>\n",
        "      <td> False</td>\n",
        "      <td> False</td>\n",
        "      <td> False</td>\n",
        "      <td> False</td>\n",
        "      <td> False</td>\n",
        "      <td> False</td>\n",
        "      <td> False</td>\n",
        "      <td>  True</td>\n",
        "      <td>...</td>\n",
        "      <td> False</td>\n",
        "      <td> False</td>\n",
        "      <td> False</td>\n",
        "      <td> False</td>\n",
        "      <td> False</td>\n",
        "      <td> False</td>\n",
        "      <td> True</td>\n",
        "      <td> False</td>\n",
        "      <td> False</td>\n",
        "      <td> 1979</td>\n",
        "    </tr>\n",
        "  </tbody>\n",
        "</table>\n",
        "<p>5 rows \u00d7 433 columns</p>\n",
        "</div>"
       ],
       "metadata": {},
       "output_type": "pyout",
       "prompt_number": 4,
       "text": [
        "  26 Miles >From the Heart of Me  ????? A Mind to Give Up Livin'  \\\n",
        "0    False                 False  False                    False   \n",
        "1    False                 False  False                    False   \n",
        "2    False                 False  False                    False   \n",
        "3    False                 False  False                    False   \n",
        "4    False                 False  False                    False   \n",
        "\n",
        "  Addams Family Ain't Superstitious Alabama Getaway All Along The Watchtower  \\\n",
        "0         False               False           False                    False   \n",
        "1         False               False           False                    False   \n",
        "2         False               False           False                    False   \n",
        "3         False               False           False                    False   \n",
        "4         False               False           False                    False   \n",
        "\n",
        "  All Along the Watchtower Althea  ...   Willie and the Hand Jive  \\\n",
        "0                     True   True  ...                      False   \n",
        "1                     True  False  ...                      False   \n",
        "2                    False  False  ...                      False   \n",
        "3                    False  False  ...                      False   \n",
        "4                    False   True  ...                      False   \n",
        "\n",
        "  You Ain't Woman Enough You Win Again You Won't Find Me Your Love At Home  \\\n",
        "0                  False         False             False             False   \n",
        "1                  False         False             False             False   \n",
        "2                  False         False             False             False   \n",
        "3                  False         False             False             False   \n",
        "4                  False         False             False             False   \n",
        "\n",
        "  [set list unknown] drums    jam  space  year  \n",
        "0              False  True  False  False  1987  \n",
        "1              False  True  False  False  1987  \n",
        "2              False  True  False  False  1982  \n",
        "3              False  True  False  False  1990  \n",
        "4              False  True  False  False  1979  \n",
        "\n",
        "[5 rows x 433 columns]"
       ]
      }
     ],
     "prompt_number": 4
    },
    {
     "cell_type": "markdown",
     "metadata": {},
     "source": [
      "### Add a decades column"
     ]
    },
    {
     "cell_type": "code",
     "collapsed": false,
     "input": [
      "df.year.min()"
     ],
     "language": "python",
     "metadata": {},
     "outputs": [
      {
       "metadata": {},
       "output_type": "pyout",
       "prompt_number": 7,
       "text": [
        "1972"
       ]
      }
     ],
     "prompt_number": 7
    },
    {
     "cell_type": "code",
     "collapsed": false,
     "input": [
      "df.year.max()"
     ],
     "language": "python",
     "metadata": {},
     "outputs": [
      {
       "metadata": {},
       "output_type": "pyout",
       "prompt_number": 8,
       "text": [
        "1992"
       ]
      }
     ],
     "prompt_number": 8
    },
    {
     "cell_type": "code",
     "collapsed": false,
     "input": [
      "def convert_to_decade(year):\n",
      "  if year >= 1970 and year < 1980:\n",
      "    return \"1970-1980\"\n",
      "  elif year >= 1980 and year < 1990:\n",
      "    return \"1980-1990\"\n",
      "  elif year >= 1990:\n",
      "    return \"1990-2000\"\n",
      "  else:\n",
      "    return np.nan\n",
      "\n",
      "df['decade'] = df.year.apply(lambda x: convert_to_decade(x))"
     ],
     "language": "python",
     "metadata": {},
     "outputs": [],
     "prompt_number": 11
    },
    {
     "cell_type": "code",
     "collapsed": false,
     "input": [
      "df.head()"
     ],
     "language": "python",
     "metadata": {},
     "outputs": [
      {
       "html": [
        "<div style=\"max-height:1000px;max-width:1500px;overflow:auto;\">\n",
        "<table border=\"1\" class=\"dataframe\">\n",
        "  <thead>\n",
        "    <tr style=\"text-align: right;\">\n",
        "      <th></th>\n",
        "      <th>26 Miles</th>\n",
        "      <th>&gt;From the Heart of Me</th>\n",
        "      <th>?????</th>\n",
        "      <th>A Mind to Give Up Livin'</th>\n",
        "      <th>Addams Family</th>\n",
        "      <th>Ain't Superstitious</th>\n",
        "      <th>Alabama Getaway</th>\n",
        "      <th>All Along The Watchtower</th>\n",
        "      <th>All Along the Watchtower</th>\n",
        "      <th>Althea</th>\n",
        "      <th>...</th>\n",
        "      <th>You Ain't Woman Enough</th>\n",
        "      <th>You Win Again</th>\n",
        "      <th>You Won't Find Me</th>\n",
        "      <th>Your Love At Home</th>\n",
        "      <th>[set list unknown]</th>\n",
        "      <th>drums</th>\n",
        "      <th>jam</th>\n",
        "      <th>space</th>\n",
        "      <th>year</th>\n",
        "      <th>decade</th>\n",
        "    </tr>\n",
        "  </thead>\n",
        "  <tbody>\n",
        "    <tr>\n",
        "      <th>0</th>\n",
        "      <td> False</td>\n",
        "      <td> False</td>\n",
        "      <td> False</td>\n",
        "      <td> False</td>\n",
        "      <td> False</td>\n",
        "      <td> False</td>\n",
        "      <td> False</td>\n",
        "      <td> False</td>\n",
        "      <td>  True</td>\n",
        "      <td>  True</td>\n",
        "      <td>...</td>\n",
        "      <td> False</td>\n",
        "      <td> False</td>\n",
        "      <td> False</td>\n",
        "      <td> False</td>\n",
        "      <td> False</td>\n",
        "      <td> True</td>\n",
        "      <td> False</td>\n",
        "      <td> False</td>\n",
        "      <td> 1987</td>\n",
        "      <td> 1980-1990</td>\n",
        "    </tr>\n",
        "    <tr>\n",
        "      <th>1</th>\n",
        "      <td> False</td>\n",
        "      <td> False</td>\n",
        "      <td> False</td>\n",
        "      <td> False</td>\n",
        "      <td> False</td>\n",
        "      <td> False</td>\n",
        "      <td> False</td>\n",
        "      <td> False</td>\n",
        "      <td>  True</td>\n",
        "      <td> False</td>\n",
        "      <td>...</td>\n",
        "      <td> False</td>\n",
        "      <td> False</td>\n",
        "      <td> False</td>\n",
        "      <td> False</td>\n",
        "      <td> False</td>\n",
        "      <td> True</td>\n",
        "      <td> False</td>\n",
        "      <td> False</td>\n",
        "      <td> 1987</td>\n",
        "      <td> 1980-1990</td>\n",
        "    </tr>\n",
        "    <tr>\n",
        "      <th>2</th>\n",
        "      <td> False</td>\n",
        "      <td> False</td>\n",
        "      <td> False</td>\n",
        "      <td> False</td>\n",
        "      <td> False</td>\n",
        "      <td> False</td>\n",
        "      <td> False</td>\n",
        "      <td> False</td>\n",
        "      <td> False</td>\n",
        "      <td> False</td>\n",
        "      <td>...</td>\n",
        "      <td> False</td>\n",
        "      <td> False</td>\n",
        "      <td> False</td>\n",
        "      <td> False</td>\n",
        "      <td> False</td>\n",
        "      <td> True</td>\n",
        "      <td> False</td>\n",
        "      <td> False</td>\n",
        "      <td> 1982</td>\n",
        "      <td> 1980-1990</td>\n",
        "    </tr>\n",
        "    <tr>\n",
        "      <th>3</th>\n",
        "      <td> False</td>\n",
        "      <td> False</td>\n",
        "      <td> False</td>\n",
        "      <td> False</td>\n",
        "      <td> False</td>\n",
        "      <td> False</td>\n",
        "      <td> False</td>\n",
        "      <td> False</td>\n",
        "      <td> False</td>\n",
        "      <td> False</td>\n",
        "      <td>...</td>\n",
        "      <td> False</td>\n",
        "      <td> False</td>\n",
        "      <td> False</td>\n",
        "      <td> False</td>\n",
        "      <td> False</td>\n",
        "      <td> True</td>\n",
        "      <td> False</td>\n",
        "      <td> False</td>\n",
        "      <td> 1990</td>\n",
        "      <td> 1990-2000</td>\n",
        "    </tr>\n",
        "    <tr>\n",
        "      <th>4</th>\n",
        "      <td> False</td>\n",
        "      <td> False</td>\n",
        "      <td> False</td>\n",
        "      <td> False</td>\n",
        "      <td> False</td>\n",
        "      <td> False</td>\n",
        "      <td> False</td>\n",
        "      <td> False</td>\n",
        "      <td> False</td>\n",
        "      <td>  True</td>\n",
        "      <td>...</td>\n",
        "      <td> False</td>\n",
        "      <td> False</td>\n",
        "      <td> False</td>\n",
        "      <td> False</td>\n",
        "      <td> False</td>\n",
        "      <td> True</td>\n",
        "      <td> False</td>\n",
        "      <td> False</td>\n",
        "      <td> 1979</td>\n",
        "      <td> 1970-1980</td>\n",
        "    </tr>\n",
        "  </tbody>\n",
        "</table>\n",
        "<p>5 rows \u00d7 434 columns</p>\n",
        "</div>"
       ],
       "metadata": {},
       "output_type": "pyout",
       "prompt_number": 12,
       "text": [
        "  26 Miles >From the Heart of Me  ????? A Mind to Give Up Livin'  \\\n",
        "0    False                 False  False                    False   \n",
        "1    False                 False  False                    False   \n",
        "2    False                 False  False                    False   \n",
        "3    False                 False  False                    False   \n",
        "4    False                 False  False                    False   \n",
        "\n",
        "  Addams Family Ain't Superstitious Alabama Getaway All Along The Watchtower  \\\n",
        "0         False               False           False                    False   \n",
        "1         False               False           False                    False   \n",
        "2         False               False           False                    False   \n",
        "3         False               False           False                    False   \n",
        "4         False               False           False                    False   \n",
        "\n",
        "  All Along the Watchtower Althea  ...   You Ain't Woman Enough You Win Again  \\\n",
        "0                     True   True  ...                    False         False   \n",
        "1                     True  False  ...                    False         False   \n",
        "2                    False  False  ...                    False         False   \n",
        "3                    False  False  ...                    False         False   \n",
        "4                    False   True  ...                    False         False   \n",
        "\n",
        "  You Won't Find Me Your Love At Home [set list unknown] drums    jam  space  \\\n",
        "0             False             False              False  True  False  False   \n",
        "1             False             False              False  True  False  False   \n",
        "2             False             False              False  True  False  False   \n",
        "3             False             False              False  True  False  False   \n",
        "4             False             False              False  True  False  False   \n",
        "\n",
        "   year     decade  \n",
        "0  1987  1980-1990  \n",
        "1  1987  1980-1990  \n",
        "2  1982  1980-1990  \n",
        "3  1990  1990-2000  \n",
        "4  1979  1970-1980  \n",
        "\n",
        "[5 rows x 434 columns]"
       ]
      }
     ],
     "prompt_number": 12
    },
    {
     "cell_type": "code",
     "collapsed": false,
     "input": [
      "predictors = [col for col in df.columns if col != \"year\" and col != \"decade\"]"
     ],
     "language": "python",
     "metadata": {},
     "outputs": [],
     "prompt_number": 13
    },
    {
     "cell_type": "code",
     "collapsed": false,
     "input": [
      "X = df[predictors].values\n",
      "y = df[\"decade\"].values"
     ],
     "language": "python",
     "metadata": {},
     "outputs": [],
     "prompt_number": 49
    },
    {
     "cell_type": "code",
     "collapsed": false,
     "input": [
      "def accuracy_report(_clf):\n",
      "    kfold = KFold(len(df), n_folds=10)\n",
      "    accuracy_scores = []\n",
      "    for train, test in kfold:\n",
      "        Xtrain, ytrain, Xtest, ytest = X[train], y[train], X[test], y[test]   \n",
      "        clf = _clf.fit(Xtrain, ytrain)\n",
      "\n",
      "        test_accuracy = clf.score(Xtest, ytest)\n",
      "        accuracy_scores.append(test_accuracy)\n",
      "\n",
      "    print \"Accuracy on test data: %0.2f\" % (np.mean(accuracy_scores))"
     ],
     "language": "python",
     "metadata": {},
     "outputs": [],
     "prompt_number": 50
    },
    {
     "cell_type": "code",
     "collapsed": false,
     "input": [
      "print \"MultinomialNB\"\n",
      "clf_mn = MultinomialNB()\n",
      "accuracy_report(clf_mn)"
     ],
     "language": "python",
     "metadata": {},
     "outputs": [
      {
       "output_type": "stream",
       "stream": "stdout",
       "text": [
        "MultinomialNB\n",
        "Accuracy on test data: 0.94"
       ]
      },
      {
       "output_type": "stream",
       "stream": "stdout",
       "text": [
        "\n"
       ]
      }
     ],
     "prompt_number": 51
    },
    {
     "cell_type": "code",
     "collapsed": false,
     "input": [
      "print \"BernoulliNB:\"\n",
      "clf_b = BernoulliNB()\n",
      "accuracy_report(clf_b)"
     ],
     "language": "python",
     "metadata": {},
     "outputs": [
      {
       "output_type": "stream",
       "stream": "stdout",
       "text": [
        "BernoulliNB:\n",
        "Accuracy on test data: 0.92"
       ]
      },
      {
       "output_type": "stream",
       "stream": "stdout",
       "text": [
        "\n"
       ]
      }
     ],
     "prompt_number": 30
    },
    {
     "cell_type": "code",
     "collapsed": false,
     "input": [
      "print \"LogisticReg\"\n",
      "clf_lr = LogisticRegression()\n",
      "accuracy_report(clf_lr)"
     ],
     "language": "python",
     "metadata": {},
     "outputs": [
      {
       "output_type": "stream",
       "stream": "stdout",
       "text": [
        "LogisticReg\n",
        "Accuracy on test data: 0.94"
       ]
      },
      {
       "output_type": "stream",
       "stream": "stdout",
       "text": [
        "\n"
       ]
      }
     ],
     "prompt_number": 33
    },
    {
     "cell_type": "code",
     "collapsed": false,
     "input": [
      "clf_lr.predict([\"All Along The Watchtower\"]) # whats shape should the argument be when passing into predict?"
     ],
     "language": "python",
     "metadata": {},
     "outputs": [
      {
       "ename": "ValueError",
       "evalue": "X has 1 features per sample; expecting 432",
       "output_type": "pyerr",
       "traceback": [
        "\u001b[1;31m---------------------------------------------------------------------------\u001b[0m\n\u001b[1;31mValueError\u001b[0m                                Traceback (most recent call last)",
        "\u001b[1;32m<ipython-input-36-56b9ba9b11e7>\u001b[0m in \u001b[0;36m<module>\u001b[1;34m()\u001b[0m\n\u001b[1;32m----> 1\u001b[1;33m \u001b[0mclf_lr\u001b[0m\u001b[1;33m.\u001b[0m\u001b[0mpredict\u001b[0m\u001b[1;33m(\u001b[0m\u001b[1;33m[\u001b[0m\u001b[1;34m\"All Along The Watchtower\"\u001b[0m\u001b[1;33m]\u001b[0m\u001b[1;33m)\u001b[0m \u001b[1;31m# whats shape should the argument be when passing into predict?\u001b[0m\u001b[1;33m\u001b[0m\u001b[0m\n\u001b[0m",
        "\u001b[1;32m/usr/local/lib/python2.7/dist-packages/sklearn/linear_model/base.pyc\u001b[0m in \u001b[0;36mpredict\u001b[1;34m(self, X)\u001b[0m\n\u001b[0;32m    213\u001b[0m             \u001b[0mPredicted\u001b[0m \u001b[1;32mclass\u001b[0m \u001b[0mlabel\u001b[0m \u001b[0mper\u001b[0m \u001b[0msample\u001b[0m\u001b[1;33m.\u001b[0m\u001b[1;33m\u001b[0m\u001b[0m\n\u001b[0;32m    214\u001b[0m         \"\"\"\n\u001b[1;32m--> 215\u001b[1;33m         \u001b[0mscores\u001b[0m \u001b[1;33m=\u001b[0m \u001b[0mself\u001b[0m\u001b[1;33m.\u001b[0m\u001b[0mdecision_function\u001b[0m\u001b[1;33m(\u001b[0m\u001b[0mX\u001b[0m\u001b[1;33m)\u001b[0m\u001b[1;33m\u001b[0m\u001b[0m\n\u001b[0m\u001b[0;32m    216\u001b[0m         \u001b[1;32mif\u001b[0m \u001b[0mlen\u001b[0m\u001b[1;33m(\u001b[0m\u001b[0mscores\u001b[0m\u001b[1;33m.\u001b[0m\u001b[0mshape\u001b[0m\u001b[1;33m)\u001b[0m \u001b[1;33m==\u001b[0m \u001b[1;36m1\u001b[0m\u001b[1;33m:\u001b[0m\u001b[1;33m\u001b[0m\u001b[0m\n\u001b[0;32m    217\u001b[0m             \u001b[0mindices\u001b[0m \u001b[1;33m=\u001b[0m \u001b[1;33m(\u001b[0m\u001b[0mscores\u001b[0m \u001b[1;33m>\u001b[0m \u001b[1;36m0\u001b[0m\u001b[1;33m)\u001b[0m\u001b[1;33m.\u001b[0m\u001b[0mastype\u001b[0m\u001b[1;33m(\u001b[0m\u001b[0mnp\u001b[0m\u001b[1;33m.\u001b[0m\u001b[0mint\u001b[0m\u001b[1;33m)\u001b[0m\u001b[1;33m\u001b[0m\u001b[0m\n",
        "\u001b[1;32m/usr/local/lib/python2.7/dist-packages/sklearn/linear_model/base.pyc\u001b[0m in \u001b[0;36mdecision_function\u001b[1;34m(self, X)\u001b[0m\n\u001b[0;32m    194\u001b[0m         \u001b[1;32mif\u001b[0m \u001b[0mX\u001b[0m\u001b[1;33m.\u001b[0m\u001b[0mshape\u001b[0m\u001b[1;33m[\u001b[0m\u001b[1;36m1\u001b[0m\u001b[1;33m]\u001b[0m \u001b[1;33m!=\u001b[0m \u001b[0mn_features\u001b[0m\u001b[1;33m:\u001b[0m\u001b[1;33m\u001b[0m\u001b[0m\n\u001b[0;32m    195\u001b[0m             raise ValueError(\"X has %d features per sample; expecting %d\"\n\u001b[1;32m--> 196\u001b[1;33m                              % (X.shape[1], n_features))\n\u001b[0m\u001b[0;32m    197\u001b[0m \u001b[1;33m\u001b[0m\u001b[0m\n\u001b[0;32m    198\u001b[0m         scores = safe_sparse_dot(X, self.coef_.T,\n",
        "\u001b[1;31mValueError\u001b[0m: X has 1 features per sample; expecting 432"
       ]
      }
     ],
     "prompt_number": 36
    },
    {
     "cell_type": "markdown",
     "metadata": {},
     "source": [
      "### ROC plot"
     ]
    },
    {
     "cell_type": "code",
     "collapsed": false,
     "input": [
      "ytest[:5]"
     ],
     "language": "python",
     "metadata": {},
     "outputs": [
      {
       "metadata": {},
       "output_type": "pyout",
       "prompt_number": 55,
       "text": [
        "array(['1980-1990', '1980-1990', '1970-1980', '1970-1980', '1990-2000'], dtype=object)"
       ]
      }
     ],
     "prompt_number": 55
    },
    {
     "cell_type": "code",
     "collapsed": false,
     "input": [
      "probas_ = clf_lr.predict_proba(Xtest)"
     ],
     "language": "python",
     "metadata": {},
     "outputs": [],
     "prompt_number": 45
    },
    {
     "cell_type": "code",
     "collapsed": false,
     "input": [
      "# this error is because the format of ytest is wrong;\n",
      "# the sklearn doc says: \"True binary labels in range {0, 1} or {-1, 1}. \n",
      "# If labels are not binary, pos_label should be explicitly given.\"\n",
      "# does this mean ROC is only used when the predicted outcome is binary?\n",
      "false_pos_rate, true_pos_rate, thresholds = roc_curve(ytest, probas_[:, 1])\n",
      "roc_auc = auc(false_pos_rate, true_pos_rate)\n",
      "print \"Area under the ROC curve : %f\" % roc_auc"
     ],
     "language": "python",
     "metadata": {},
     "outputs": [
      {
       "output_type": "stream",
       "stream": "stderr",
       "text": [
        "/usr/local/lib/python2.7/dist-packages/sklearn/metrics/metrics.py:909: UndefinedMetricWarning: No positive samples in y_true, true positive value should be meaningless\n",
        "  UndefinedMetricWarning)\n"
       ]
      },
      {
       "ename": "ValueError",
       "evalue": "Input contains NaN, infinity or a value too large for dtype('float64').",
       "output_type": "pyerr",
       "traceback": [
        "\u001b[1;31m---------------------------------------------------------------------------\u001b[0m\n\u001b[1;31mValueError\u001b[0m                                Traceback (most recent call last)",
        "\u001b[1;32m<ipython-input-56-58186bf12bee>\u001b[0m in \u001b[0;36m<module>\u001b[1;34m()\u001b[0m\n\u001b[0;32m      1\u001b[0m \u001b[1;31m# can you explain why this error is happening\u001b[0m\u001b[1;33m\u001b[0m\u001b[1;33m\u001b[0m\u001b[0m\n\u001b[0;32m      2\u001b[0m \u001b[0mfalse_pos_rate\u001b[0m\u001b[1;33m,\u001b[0m \u001b[0mtrue_pos_rate\u001b[0m\u001b[1;33m,\u001b[0m \u001b[0mthresholds\u001b[0m \u001b[1;33m=\u001b[0m \u001b[0mroc_curve\u001b[0m\u001b[1;33m(\u001b[0m\u001b[0mytest\u001b[0m\u001b[1;33m,\u001b[0m \u001b[0mprobas_\u001b[0m\u001b[1;33m[\u001b[0m\u001b[1;33m:\u001b[0m\u001b[1;33m,\u001b[0m \u001b[1;36m1\u001b[0m\u001b[1;33m]\u001b[0m\u001b[1;33m,\u001b[0m \u001b[0mpos_label\u001b[0m\u001b[1;33m=\u001b[0m\u001b[1;36m1\u001b[0m\u001b[1;33m)\u001b[0m\u001b[1;33m\u001b[0m\u001b[0m\n\u001b[1;32m----> 3\u001b[1;33m \u001b[0mroc_auc\u001b[0m \u001b[1;33m=\u001b[0m \u001b[0mauc\u001b[0m\u001b[1;33m(\u001b[0m\u001b[0mfalse_pos_rate\u001b[0m\u001b[1;33m,\u001b[0m \u001b[0mtrue_pos_rate\u001b[0m\u001b[1;33m)\u001b[0m\u001b[1;33m\u001b[0m\u001b[0m\n\u001b[0m\u001b[0;32m      4\u001b[0m \u001b[1;32mprint\u001b[0m \u001b[1;34m\"Area under the ROC curve : %f\"\u001b[0m \u001b[1;33m%\u001b[0m \u001b[0mroc_auc\u001b[0m\u001b[1;33m\u001b[0m\u001b[0m\n",
        "\u001b[1;32m/usr/local/lib/python2.7/dist-packages/sklearn/metrics/metrics.pyc\u001b[0m in \u001b[0;36mauc\u001b[1;34m(x, y, reorder)\u001b[0m\n\u001b[0;32m    205\u001b[0m \u001b[1;33m\u001b[0m\u001b[0m\n\u001b[0;32m    206\u001b[0m     \"\"\"\n\u001b[1;32m--> 207\u001b[1;33m     \u001b[0mx\u001b[0m\u001b[1;33m,\u001b[0m \u001b[0my\u001b[0m \u001b[1;33m=\u001b[0m \u001b[0mcheck_arrays\u001b[0m\u001b[1;33m(\u001b[0m\u001b[0mx\u001b[0m\u001b[1;33m,\u001b[0m \u001b[0my\u001b[0m\u001b[1;33m)\u001b[0m\u001b[1;33m\u001b[0m\u001b[0m\n\u001b[0m\u001b[0;32m    208\u001b[0m     \u001b[1;32mif\u001b[0m \u001b[0mx\u001b[0m\u001b[1;33m.\u001b[0m\u001b[0mshape\u001b[0m\u001b[1;33m[\u001b[0m\u001b[1;36m0\u001b[0m\u001b[1;33m]\u001b[0m \u001b[1;33m<\u001b[0m \u001b[1;36m2\u001b[0m\u001b[1;33m:\u001b[0m\u001b[1;33m\u001b[0m\u001b[0m\n\u001b[0;32m    209\u001b[0m         raise ValueError('At least 2 points are needed to compute'\n",
        "\u001b[1;32m/usr/local/lib/python2.7/dist-packages/sklearn/utils/validation.pyc\u001b[0m in \u001b[0;36mcheck_arrays\u001b[1;34m(*arrays, **options)\u001b[0m\n\u001b[0;32m    281\u001b[0m                     \u001b[0marray\u001b[0m \u001b[1;33m=\u001b[0m \u001b[0mnp\u001b[0m\u001b[1;33m.\u001b[0m\u001b[0masarray\u001b[0m\u001b[1;33m(\u001b[0m\u001b[0marray\u001b[0m\u001b[1;33m,\u001b[0m \u001b[0mdtype\u001b[0m\u001b[1;33m=\u001b[0m\u001b[0mdtype\u001b[0m\u001b[1;33m)\u001b[0m\u001b[1;33m\u001b[0m\u001b[0m\n\u001b[0;32m    282\u001b[0m                 \u001b[1;32mif\u001b[0m \u001b[1;32mnot\u001b[0m \u001b[0mallow_nans\u001b[0m\u001b[1;33m:\u001b[0m\u001b[1;33m\u001b[0m\u001b[0m\n\u001b[1;32m--> 283\u001b[1;33m                     \u001b[0m_assert_all_finite\u001b[0m\u001b[1;33m(\u001b[0m\u001b[0marray\u001b[0m\u001b[1;33m)\u001b[0m\u001b[1;33m\u001b[0m\u001b[0m\n\u001b[0m\u001b[0;32m    284\u001b[0m \u001b[1;33m\u001b[0m\u001b[0m\n\u001b[0;32m    285\u001b[0m             \u001b[1;32mif\u001b[0m \u001b[1;32mnot\u001b[0m \u001b[0mallow_nd\u001b[0m \u001b[1;32mand\u001b[0m \u001b[0marray\u001b[0m\u001b[1;33m.\u001b[0m\u001b[0mndim\u001b[0m \u001b[1;33m>=\u001b[0m \u001b[1;36m3\u001b[0m\u001b[1;33m:\u001b[0m\u001b[1;33m\u001b[0m\u001b[0m\n",
        "\u001b[1;32m/usr/local/lib/python2.7/dist-packages/sklearn/utils/validation.pyc\u001b[0m in \u001b[0;36m_assert_all_finite\u001b[1;34m(X)\u001b[0m\n\u001b[0;32m     41\u001b[0m             and not np.isfinite(X).all()):\n\u001b[0;32m     42\u001b[0m         raise ValueError(\"Input contains NaN, infinity\"\n\u001b[1;32m---> 43\u001b[1;33m                          \" or a value too large for %r.\" % X.dtype)\n\u001b[0m\u001b[0;32m     44\u001b[0m \u001b[1;33m\u001b[0m\u001b[0m\n\u001b[0;32m     45\u001b[0m \u001b[1;33m\u001b[0m\u001b[0m\n",
        "\u001b[1;31mValueError\u001b[0m: Input contains NaN, infinity or a value too large for dtype('float64')."
       ]
      }
     ],
     "prompt_number": 56
    },
    {
     "cell_type": "code",
     "collapsed": false,
     "input": [],
     "language": "python",
     "metadata": {},
     "outputs": []
    }
   ],
   "metadata": {}
  }
 ]
}