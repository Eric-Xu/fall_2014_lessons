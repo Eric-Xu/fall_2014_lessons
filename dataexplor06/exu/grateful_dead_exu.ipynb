{
 "metadata": {
  "name": "",
  "signature": "sha256:537463456a62f838693aa41eb3d8cb1cfaeb4694197bd6a48d4f7f070bb3843e"
 },
 "nbformat": 3,
 "nbformat_minor": 0,
 "worksheets": [
  {
   "cells": [
    {
     "cell_type": "markdown",
     "metadata": {},
     "source": [
      "## Web Scraping with Requests and BeautifulSoup4"
     ]
    },
    {
     "cell_type": "code",
     "collapsed": false,
     "input": [
      "import requests\n",
      "from bs4 import BeautifulSoup\n",
      "\n",
      "import re\n",
      "import datetime\n",
      "from sklearn.cross_validation import KFold\n",
      "import matplotlib.pyplot as plt\n",
      "from sklearn.naive_bayes import MultinomialNB\n",
      "from sklearn.naive_bayes import BernoulliNB\n",
      "from sklearn.linear_model import LogisticRegression\n",
      "from sklearn.metrics import roc_curve, auc\n",
      "\n",
      "%matplotlib inline"
     ],
     "language": "python",
     "metadata": {},
     "outputs": [],
     "prompt_number": 1
    },
    {
     "cell_type": "markdown",
     "metadata": {},
     "source": [
      "### Get links for each year from full setlist page"
     ]
    },
    {
     "cell_type": "code",
     "collapsed": false,
     "input": [
      "setlists_url = \"http://www.cs.cmu.edu/~./gdead/setlists.html\"\n",
      "r = requests.get(setlists_url)\n",
      "\n",
      "soup = BeautifulSoup(r.content)"
     ],
     "language": "python",
     "metadata": {},
     "outputs": [],
     "prompt_number": 2
    },
    {
     "cell_type": "code",
     "collapsed": false,
     "input": [
      "year_hrefs = []\n",
      "\n",
      "for anchor in soup.find_all(\"a\"):\n",
      "    if anchor.parent.name == \"li\":\n",
      "        year_hrefs.append(str(anchor[\"href\"]))\n",
      "\n",
      "year_hrefs"
     ],
     "language": "python",
     "metadata": {},
     "outputs": [
      {
       "metadata": {},
       "output_type": "pyout",
       "prompt_number": 3,
       "text": [
        "['http://www2.southwind.net/~tjb9d/tbt/',\n",
        " 'http://www.deadbase.com/',\n",
        " 'http://www.tiedrich.com/tapelist/',\n",
        " '95.html',\n",
        " '94.html',\n",
        " '93.html',\n",
        " '92.html',\n",
        " '91.html',\n",
        " '90.html',\n",
        " '89.html',\n",
        " '88.html',\n",
        " '87.html',\n",
        " '86.html',\n",
        " '85.html',\n",
        " '84.html',\n",
        " '83.html',\n",
        " '82.html',\n",
        " '81.html',\n",
        " '80.html',\n",
        " '79.html',\n",
        " '78.html',\n",
        " '77.html',\n",
        " '76.html',\n",
        " '75.html',\n",
        " '74.html',\n",
        " '73.html',\n",
        " '72.html']"
       ]
      }
     ],
     "prompt_number": 3
    },
    {
     "cell_type": "code",
     "collapsed": false,
     "input": [
      "year_urls = []\n",
      "\n",
      "for href in hrefs[3:]:\n",
      "    year_urls.append(\"http://www.cs.cmu.edu/~./gdead/\" + str(href))\n",
      "\n",
      "year_urls"
     ],
     "language": "python",
     "metadata": {},
     "outputs": [
      {
       "ename": "NameError",
       "evalue": "name 'hrefs' is not defined",
       "output_type": "pyerr",
       "traceback": [
        "\u001b[0;31m---------------------------------------------------------------------------\u001b[0m\n\u001b[0;31mNameError\u001b[0m                                 Traceback (most recent call last)",
        "\u001b[0;32m<ipython-input-4-9e70586206a0>\u001b[0m in \u001b[0;36m<module>\u001b[0;34m()\u001b[0m\n\u001b[1;32m      1\u001b[0m \u001b[0myear_urls\u001b[0m \u001b[0;34m=\u001b[0m \u001b[0;34m[\u001b[0m\u001b[0;34m]\u001b[0m\u001b[0;34m\u001b[0m\u001b[0m\n\u001b[1;32m      2\u001b[0m \u001b[0;34m\u001b[0m\u001b[0m\n\u001b[0;32m----> 3\u001b[0;31m \u001b[0;32mfor\u001b[0m \u001b[0mhref\u001b[0m \u001b[0;32min\u001b[0m \u001b[0mhrefs\u001b[0m\u001b[0;34m[\u001b[0m\u001b[0;36m3\u001b[0m\u001b[0;34m:\u001b[0m\u001b[0;34m]\u001b[0m\u001b[0;34m:\u001b[0m\u001b[0;34m\u001b[0m\u001b[0m\n\u001b[0m\u001b[1;32m      4\u001b[0m     \u001b[0myear_urls\u001b[0m\u001b[0;34m.\u001b[0m\u001b[0mappend\u001b[0m\u001b[0;34m(\u001b[0m\u001b[0;34m\"http://www.cs.cmu.edu/~./gdead/\"\u001b[0m \u001b[0;34m+\u001b[0m \u001b[0mstr\u001b[0m\u001b[0;34m(\u001b[0m\u001b[0mhref\u001b[0m\u001b[0;34m)\u001b[0m\u001b[0;34m)\u001b[0m\u001b[0;34m\u001b[0m\u001b[0m\n\u001b[1;32m      5\u001b[0m \u001b[0;34m\u001b[0m\u001b[0m\n",
        "\u001b[0;31mNameError\u001b[0m: name 'hrefs' is not defined"
       ]
      }
     ],
     "prompt_number": 4
    },
    {
     "cell_type": "markdown",
     "metadata": {},
     "source": [
      "### Get links for each concert from individual year page"
     ]
    },
    {
     "cell_type": "code",
     "collapsed": false,
     "input": [
      "def get_concert_urls(url):\n",
      "    r = requests.get(url)\n",
      "    soup = BeautifulSoup(r.content)\n",
      "    \n",
      "    concert_urls = []\n",
      "    for anchor in soup.find_all(\"a\"):\n",
      "        if anchor[\"href\"][-4:] == \".txt\":\n",
      "            concert_urls.append(\"http://www.cs.cmu.edu/~./gdead/\" + str(anchor[\"href\"]))\n",
      "    \n",
      "    return concert_urls"
     ],
     "language": "python",
     "metadata": {},
     "outputs": []
    },
    {
     "cell_type": "code",
     "collapsed": false,
     "input": [
      "year_urls\n",
      "\n",
      "concert_urls = get_concert_urls(year_urls[0])\n",
      "\n",
      "concert_urls[:5]"
     ],
     "language": "python",
     "metadata": {},
     "outputs": []
    },
    {
     "cell_type": "markdown",
     "metadata": {},
     "source": [
      "### Get setlist data"
     ]
    },
    {
     "cell_type": "code",
     "collapsed": false,
     "input": [
      "def get_setlist_data(url):\n",
      "    r = requests.get(url)\n",
      "    return r.content"
     ],
     "language": "python",
     "metadata": {},
     "outputs": []
    },
    {
     "cell_type": "code",
     "collapsed": false,
     "input": [
      "concert_urls[0]\n",
      "\n",
      "raw_setlist_data = get_setlist_data(concert_urls[0])\n",
      "\n",
      "raw_setlist_data"
     ],
     "language": "python",
     "metadata": {},
     "outputs": []
    },
    {
     "cell_type": "markdown",
     "metadata": {},
     "source": [
      "### Parse setlist data"
     ]
    },
    {
     "cell_type": "code",
     "collapsed": false,
     "input": [
      "# output format: [year, song1, song2, etc.]\n",
      "def parse_setlist_data(data):\n",
      "    split_data = data.split(\"\\n\")\n",
      "    year = parse_date(split_data[0])\n",
      "    songs = parse_songs(split_data[1:])\n",
      "    songs.insert(0, year)\n",
      "    return songs\n",
      "\n",
      "def parse_date(raw_data):\n",
      "    match = re.search(r'(\\d+/\\d+/\\d+)', raw_data)\n",
      "    raw_date_string = match.group(1)\n",
      "    try:\n",
      "        date = datetime.datetime.strptime(raw_date_string, \"%m/%d/%y\")\n",
      "        return date.year\n",
      "    except ValueError as err:\n",
      "        print(err)\n",
      "\n",
      "def parse_songs(raw_data):\n",
      "    formatted = []\n",
      "    for row in raw_data:\n",
      "        if (len(row) > 0 and row[0] != \"*\"): \n",
      "            \n",
      "            formatted.append(row)\n",
      "\n",
      "    return formatted"
     ],
     "language": "python",
     "metadata": {},
     "outputs": []
    },
    {
     "cell_type": "code",
     "collapsed": false,
     "input": [
      "formatted = parse_setlist_data(raw_setlist_data)\n",
      "print formatted"
     ],
     "language": "python",
     "metadata": {},
     "outputs": []
    },
    {
     "cell_type": "markdown",
     "metadata": {},
     "source": [
      "####Todo: strip out *, ->, and E:"
     ]
    },
    {
     "cell_type": "markdown",
     "metadata": {},
     "source": [
      "### Modeling the data"
     ]
    },
    {
     "cell_type": "code",
     "collapsed": false,
     "input": [
      "import pandas as pd\n",
      "import numpy as np\n"
     ],
     "language": "python",
     "metadata": {},
     "outputs": []
    },
    {
     "cell_type": "code",
     "collapsed": false,
     "input": [
      "df = pd.read_csv(\"/ga_fall_2014/fall_2014_lessons/dataexplor06/GDsetlists.csv\")"
     ],
     "language": "python",
     "metadata": {},
     "outputs": []
    },
    {
     "cell_type": "code",
     "collapsed": false,
     "input": [
      "df.head()"
     ],
     "language": "python",
     "metadata": {},
     "outputs": []
    },
    {
     "cell_type": "markdown",
     "metadata": {},
     "source": [
      "### Add a decades column"
     ]
    },
    {
     "cell_type": "code",
     "collapsed": false,
     "input": [
      "df.year.min()"
     ],
     "language": "python",
     "metadata": {},
     "outputs": []
    },
    {
     "cell_type": "code",
     "collapsed": false,
     "input": [
      "df.year.max()"
     ],
     "language": "python",
     "metadata": {},
     "outputs": []
    },
    {
     "cell_type": "code",
     "collapsed": false,
     "input": [
      "def convert_to_decade(year):\n",
      "  if year >= 1970 and year < 1980:\n",
      "    return \"1970-1980\"\n",
      "  elif year >= 1980 and year < 1990:\n",
      "    return \"1980-1990\"\n",
      "  elif year >= 1990:\n",
      "    return \"1990-2000\"\n",
      "  else:\n",
      "    return np.nan\n",
      "\n",
      "df['decade'] = df.year.apply(lambda x: convert_to_decade(x))"
     ],
     "language": "python",
     "metadata": {},
     "outputs": []
    },
    {
     "cell_type": "code",
     "collapsed": false,
     "input": [
      "df.head()"
     ],
     "language": "python",
     "metadata": {},
     "outputs": []
    },
    {
     "cell_type": "code",
     "collapsed": false,
     "input": [
      "predictors = [col for col in df.columns if col != \"year\" and col != \"decade\"]"
     ],
     "language": "python",
     "metadata": {},
     "outputs": []
    },
    {
     "cell_type": "code",
     "collapsed": false,
     "input": [
      "X = df[predictors].values\n",
      "y = df[\"decade\"].values"
     ],
     "language": "python",
     "metadata": {},
     "outputs": []
    },
    {
     "cell_type": "code",
     "collapsed": false,
     "input": [
      "def accuracy_report(_clf):\n",
      "    kfold = KFold(len(df), n_folds=10)\n",
      "    accuracy_scores = []\n",
      "    for train, test in kfold:\n",
      "        Xtrain, ytrain, Xtest, ytest = X[train], y[train], X[test], y[test]   \n",
      "        clf = _clf.fit(Xtrain, ytrain)\n",
      "\n",
      "        test_accuracy = clf.score(Xtest, ytest)\n",
      "        accuracy_scores.append(test_accuracy)\n",
      "\n",
      "    print \"Accuracy on test data: %0.2f\" % (np.mean(accuracy_scores))"
     ],
     "language": "python",
     "metadata": {},
     "outputs": []
    },
    {
     "cell_type": "code",
     "collapsed": false,
     "input": [
      "print \"MultinomialNB\"\n",
      "clf_mn = MultinomialNB()\n",
      "accuracy_report(clf_mn)"
     ],
     "language": "python",
     "metadata": {},
     "outputs": []
    },
    {
     "cell_type": "code",
     "collapsed": false,
     "input": [
      "print \"BernoulliNB:\"\n",
      "clf_b = BernoulliNB()\n",
      "accuracy_report(clf_b)"
     ],
     "language": "python",
     "metadata": {},
     "outputs": []
    },
    {
     "cell_type": "code",
     "collapsed": false,
     "input": [
      "print \"LogisticReg\"\n",
      "clf_lr = LogisticRegression()\n",
      "accuracy_report(clf_lr)"
     ],
     "language": "python",
     "metadata": {},
     "outputs": []
    },
    {
     "cell_type": "code",
     "collapsed": false,
     "input": [
      "clf_lr.predict([\"All Along The Watchtower\"]) # whats shape should the argument be when passing into predict?"
     ],
     "language": "python",
     "metadata": {},
     "outputs": []
    },
    {
     "cell_type": "markdown",
     "metadata": {},
     "source": [
      "### ROC plot"
     ]
    },
    {
     "cell_type": "code",
     "collapsed": false,
     "input": [
      "ytest[:5]"
     ],
     "language": "python",
     "metadata": {},
     "outputs": []
    },
    {
     "cell_type": "code",
     "collapsed": false,
     "input": [
      "probas_ = clf_lr.predict_proba(Xtest)"
     ],
     "language": "python",
     "metadata": {},
     "outputs": []
    },
    {
     "cell_type": "code",
     "collapsed": false,
     "input": [
      "# this error is because the format of ytest is wrong;\n",
      "# the sklearn doc says: \"True binary labels in range {0, 1} or {-1, 1}. \n",
      "# If labels are not binary, pos_label should be explicitly given.\"\n",
      "# does this mean ROC is only used when the predicted outcome is binary?\n",
      "false_pos_rate, true_pos_rate, thresholds = roc_curve(ytest, probas_[:, 1])\n",
      "roc_auc = auc(false_pos_rate, true_pos_rate)\n",
      "print \"Area under the ROC curve : %f\" % roc_auc"
     ],
     "language": "python",
     "metadata": {},
     "outputs": []
    },
    {
     "cell_type": "code",
     "collapsed": false,
     "input": [],
     "language": "python",
     "metadata": {},
     "outputs": []
    }
   ],
   "metadata": {}
  }
 ]
}