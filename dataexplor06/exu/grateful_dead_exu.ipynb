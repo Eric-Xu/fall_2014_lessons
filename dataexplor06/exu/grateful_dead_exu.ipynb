{
 "metadata": {
  "name": "",
  "signature": "sha256:021b40f255d1388001857ed6d6bed2e6be6945ba83ebba49596de43702c4e3b6"
 },
 "nbformat": 3,
 "nbformat_minor": 0,
 "worksheets": [
  {
   "cells": [
    {
     "cell_type": "markdown",
     "metadata": {},
     "source": [
      "## Web Scraping with Requests and BeautifulSoup4"
     ]
    },
    {
     "cell_type": "code",
     "collapsed": false,
     "input": [
      "import requests\n",
      "from bs4 import BeautifulSoup"
     ],
     "language": "python",
     "metadata": {},
     "outputs": [],
     "prompt_number": 164
    },
    {
     "cell_type": "markdown",
     "metadata": {},
     "source": [
      "### Get links for each year from full setlist page"
     ]
    },
    {
     "cell_type": "code",
     "collapsed": false,
     "input": [
      "setlists_url = \"http://www.cs.cmu.edu/~./gdead/setlists.html\"\n",
      "r = requests.get(setlists_url)\n",
      "\n",
      "soup = BeautifulSoup(r.content)"
     ],
     "language": "python",
     "metadata": {},
     "outputs": [],
     "prompt_number": 165
    },
    {
     "cell_type": "code",
     "collapsed": false,
     "input": [
      "year_hrefs = []\n",
      "\n",
      "for anchor in soup.find_all(\"a\"):\n",
      "    if anchor.parent.name == \"li\":\n",
      "        year_hrefs.append(str(anchor[\"href\"]))\n",
      "\n",
      "year_hrefs"
     ],
     "language": "python",
     "metadata": {},
     "outputs": [
      {
       "metadata": {},
       "output_type": "pyout",
       "prompt_number": 166,
       "text": [
        "['http://www2.southwind.net/~tjb9d/tbt/',\n",
        " 'http://www.deadbase.com/',\n",
        " 'http://www.tiedrich.com/tapelist/',\n",
        " '95.html',\n",
        " '94.html',\n",
        " '93.html',\n",
        " '92.html',\n",
        " '91.html',\n",
        " '90.html',\n",
        " '89.html',\n",
        " '88.html',\n",
        " '87.html',\n",
        " '86.html',\n",
        " '85.html',\n",
        " '84.html',\n",
        " '83.html',\n",
        " '82.html',\n",
        " '81.html',\n",
        " '80.html',\n",
        " '79.html',\n",
        " '78.html',\n",
        " '77.html',\n",
        " '76.html',\n",
        " '75.html',\n",
        " '74.html',\n",
        " '73.html',\n",
        " '72.html']"
       ]
      }
     ],
     "prompt_number": 166
    },
    {
     "cell_type": "code",
     "collapsed": false,
     "input": [
      "year_urls = []\n",
      "\n",
      "for href in hrefs[3:]:\n",
      "    year_urls.append(\"http://www.cs.cmu.edu/~./gdead/\" + str(href))\n",
      "\n",
      "year_urls"
     ],
     "language": "python",
     "metadata": {},
     "outputs": [
      {
       "metadata": {},
       "output_type": "pyout",
       "prompt_number": 167,
       "text": [
        "['http://www.cs.cmu.edu/~./gdead/95.html',\n",
        " 'http://www.cs.cmu.edu/~./gdead/94.html',\n",
        " 'http://www.cs.cmu.edu/~./gdead/93.html',\n",
        " 'http://www.cs.cmu.edu/~./gdead/92.html',\n",
        " 'http://www.cs.cmu.edu/~./gdead/91.html',\n",
        " 'http://www.cs.cmu.edu/~./gdead/90.html',\n",
        " 'http://www.cs.cmu.edu/~./gdead/89.html',\n",
        " 'http://www.cs.cmu.edu/~./gdead/88.html',\n",
        " 'http://www.cs.cmu.edu/~./gdead/87.html',\n",
        " 'http://www.cs.cmu.edu/~./gdead/86.html',\n",
        " 'http://www.cs.cmu.edu/~./gdead/85.html',\n",
        " 'http://www.cs.cmu.edu/~./gdead/84.html',\n",
        " 'http://www.cs.cmu.edu/~./gdead/83.html',\n",
        " 'http://www.cs.cmu.edu/~./gdead/82.html',\n",
        " 'http://www.cs.cmu.edu/~./gdead/81.html',\n",
        " 'http://www.cs.cmu.edu/~./gdead/80.html',\n",
        " 'http://www.cs.cmu.edu/~./gdead/79.html',\n",
        " 'http://www.cs.cmu.edu/~./gdead/78.html',\n",
        " 'http://www.cs.cmu.edu/~./gdead/77.html',\n",
        " 'http://www.cs.cmu.edu/~./gdead/76.html',\n",
        " 'http://www.cs.cmu.edu/~./gdead/75.html',\n",
        " 'http://www.cs.cmu.edu/~./gdead/74.html',\n",
        " 'http://www.cs.cmu.edu/~./gdead/73.html',\n",
        " 'http://www.cs.cmu.edu/~./gdead/72.html']"
       ]
      }
     ],
     "prompt_number": 167
    },
    {
     "cell_type": "markdown",
     "metadata": {},
     "source": [
      "### Get links for each concert from individual year page"
     ]
    },
    {
     "cell_type": "code",
     "collapsed": false,
     "input": [
      "def get_concert_urls(url):\n",
      "    r = requests.get(url)\n",
      "    soup = BeautifulSoup(r.content)\n",
      "    \n",
      "    concert_urls = []\n",
      "    for anchor in soup.find_all(\"a\"):\n",
      "        if anchor[\"href\"][-4:] == \".txt\":\n",
      "            concert_urls.append(\"http://www.cs.cmu.edu/~./gdead/\" + str(anchor[\"href\"]))\n",
      "    \n",
      "    return concert_urls"
     ],
     "language": "python",
     "metadata": {},
     "outputs": [],
     "prompt_number": 168
    },
    {
     "cell_type": "code",
     "collapsed": false,
     "input": [
      "year_urls\n",
      "\n",
      "concert_urls = get_concert_urls(year_urls[0])\n",
      "\n",
      "concert_urls[:5]"
     ],
     "language": "python",
     "metadata": {},
     "outputs": [
      {
       "metadata": {},
       "output_type": "pyout",
       "prompt_number": 169,
       "text": [
        "['http://www.cs.cmu.edu/~./gdead/dead-sets/95/2-19-95.txt',\n",
        " 'http://www.cs.cmu.edu/~./gdead/dead-sets/95/2-20-95.txt',\n",
        " 'http://www.cs.cmu.edu/~./gdead/dead-sets/95/2-21-95.txt',\n",
        " 'http://www.cs.cmu.edu/~./gdead/dead-sets/95/2-24-95.txt',\n",
        " 'http://www.cs.cmu.edu/~./gdead/dead-sets/95/2-25-95.txt']"
       ]
      }
     ],
     "prompt_number": 169
    },
    {
     "cell_type": "markdown",
     "metadata": {},
     "source": [
      "### Get setlist data"
     ]
    },
    {
     "cell_type": "code",
     "collapsed": false,
     "input": [
      "def get_setlist_data(url):\n",
      "    r = requests.get(url)\n",
      "    return r.content"
     ],
     "language": "python",
     "metadata": {},
     "outputs": [],
     "prompt_number": 170
    },
    {
     "cell_type": "code",
     "collapsed": false,
     "input": [
      "concert_urls[0]\n",
      "\n",
      "raw_setlist_data = get_setlist_data(concert_urls[0])\n",
      "\n",
      "raw_setlist_data"
     ],
     "language": "python",
     "metadata": {},
     "outputs": [
      {
       "metadata": {},
       "output_type": "pyout",
       "prompt_number": 171,
       "text": [
        "\"Delta Center, Salt Lake City, UT (Sunday, 2/19/95)\\n\\nJack Straw\\nSugaree\\nWalkin' Blues\\nAlabama Getaway\\nMe & My Uncle* ->\\nBig River*\\nDon't Ease Me In*\\n\\nChina Cat Sunflower ->\\nI Know You Rider\\nSamson and Delilah\\nIf the Shoe Fits\\nNew Speedway Boogie ->\\nEstimated Prophet ->\\nDrums ->\\nSpace ->\\nI Need A Miracle ->\\nAttics of my Life ->\\nJohnny B. Goode\\n\\nE: Baby Blue\\n\\n*Bobby Acoustic\\n*(first Alabama Getaway since 6/18/89)*\\n*(soundcheck included Alabama Getaway, Attics, Schoolgirl, \\nand It's a Man's World)*\\n\""
       ]
      }
     ],
     "prompt_number": 171
    },
    {
     "cell_type": "markdown",
     "metadata": {},
     "source": [
      "### Parse setlist data"
     ]
    },
    {
     "cell_type": "code",
     "collapsed": false,
     "input": [
      "import re\n",
      "import datetime\n",
      "\n",
      "# output format: [year, song1, song2, etc.]\n",
      "def parse_setlist_data(data):\n",
      "    split_data = data.split(\"\\n\")\n",
      "    year = parse_date(split_data[0])\n",
      "    songs = parse_songs(split_data[1:])\n",
      "    songs.insert(0, year)\n",
      "    return songs\n",
      "\n",
      "def parse_date(raw_data):\n",
      "    match = re.search(r'(\\d+/\\d+/\\d+)', raw_data)\n",
      "    raw_date_string = match.group(1)\n",
      "    try:\n",
      "        date = datetime.datetime.strptime(raw_date_string, \"%m/%d/%y\")\n",
      "        return date.year\n",
      "    except ValueError as err:\n",
      "        print(err)\n",
      "\n",
      "def parse_songs(raw_data):\n",
      "    cleaned = []\n",
      "    for row in raw_data:\n",
      "        if (len(row) > 0 and row[0] != \"*\"): \n",
      "            \n",
      "            cleaned.append(row)\n",
      "\n",
      "    return cleaned"
     ],
     "language": "python",
     "metadata": {},
     "outputs": [],
     "prompt_number": 220
    },
    {
     "cell_type": "code",
     "collapsed": false,
     "input": [
      "formatted = parse_setlist_data(raw_setlist_data)\n",
      "print formatted"
     ],
     "language": "python",
     "metadata": {},
     "outputs": [
      {
       "output_type": "stream",
       "stream": "stdout",
       "text": [
        "\n",
        "Jack Straw\n",
        "Sugaree\n",
        "Walkin' Blues\n",
        "Alabama Getaway\n",
        "Me & My Uncle* ->\n",
        "Big River*\n",
        "Don't Ease Me In*\n",
        "\n",
        "China Cat Sunflower ->\n",
        "I Know You Rider\n",
        "Samson and Delilah\n",
        "If the Shoe Fits\n",
        "New Speedway Boogie ->\n",
        "Estimated Prophet ->\n",
        "Drums ->\n",
        "Space ->\n",
        "I Need A Miracle ->\n",
        "Attics of my Life ->\n",
        "Johnny B. Goode\n",
        "\n",
        "E: Baby Blue\n",
        "\n",
        "*Bobby Acoustic\n",
        "*(first Alabama Getaway since 6/18/89)*\n",
        "*(soundcheck included Alabama Getaway, Attics, Schoolgirl, \n",
        "and It's a Man's World)*\n",
        "\n",
        "[1995, 'Jack Straw', 'Sugaree', \"Walkin' Blues\", 'Alabama Getaway', 'Me & My Uncle* ->', 'Big River*', \"Don't Ease Me In*\", 'China Cat Sunflower ->', 'I Know You Rider', 'Samson and Delilah', 'If the Shoe Fits', 'New Speedway Boogie ->', 'Estimated Prophet ->', 'Drums ->', 'Space ->', 'I Need A Miracle ->', 'Attics of my Life ->', 'Johnny B. Goode', 'E: Baby Blue', \"and It's a Man's World)*\"]\n"
       ]
      }
     ],
     "prompt_number": 219
    },
    {
     "cell_type": "code",
     "collapsed": false,
     "input": [],
     "language": "python",
     "metadata": {},
     "outputs": [],
     "prompt_number": 173
    }
   ],
   "metadata": {}
  }
 ]
}