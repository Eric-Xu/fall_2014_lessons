{
 "metadata": {
  "name": "",
  "signature": "sha256:073767e73c29b5b060b3a331b43b52dbf07f76243f4b1228af40aa9f2cd15f0d"
 },
 "nbformat": 3,
 "nbformat_minor": 0,
 "worksheets": [
  {
   "cells": [
    {
     "cell_type": "code",
     "collapsed": false,
     "input": [
      "from IPython.display import Image"
     ],
     "language": "python",
     "metadata": {},
     "outputs": [],
     "prompt_number": 1
    },
    {
     "cell_type": "code",
     "collapsed": false,
     "input": [
      "Image(url=\"https://www.movieposter.com/posters/archive/main/107/MPW-53648\")"
     ],
     "language": "python",
     "metadata": {},
     "outputs": [
      {
       "html": [
        "<img src=\"https://www.movieposter.com/posters/archive/main/107/MPW-53648\"/>"
       ],
       "metadata": {},
       "output_type": "pyout",
       "prompt_number": 2,
       "text": [
        "<IPython.core.display.Image at 0x36886d0>"
       ]
      }
     ],
     "prompt_number": 2
    },
    {
     "cell_type": "code",
     "collapsed": false,
     "input": [
      "from bs4 import BeautifulSoup\n",
      "import requests\n",
      "url=\"http://www.cs.cmu.edu/~./gdead/72.html\"\n",
      "website = requests.get(url)\n",
      "soup=BeautifulSoup(website.text)"
     ],
     "language": "python",
     "metadata": {},
     "outputs": [],
     "prompt_number": 3
    },
    {
     "cell_type": "code",
     "collapsed": false,
     "input": [
      "soup.prettify()"
     ],
     "language": "python",
     "metadata": {},
     "outputs": [
      {
       "metadata": {},
       "output_type": "pyout",
       "prompt_number": 4,
       "text": [
        "u'<html>\\n <head>\\n  <title>\\n   Grateful Dead Setlists: 1972\\n  </title>\\n </head>\\n <body>\\n  <h1>\\n   Grateful Dead Setlists: 1972\\n  </h1>\\n  <ul>\\n   <li>\\n    <a href=\"dead-sets/72/1-2-72.txt\">\\n     Winterland Arena, San Francisco, CA (1/2/72)\\n    </a>\\n   </li>\\n   <li>\\n    <a href=\"dead-sets/72/3-5-72.txt\">\\n     Winteriand Arena, San Francisco, CA (3/5/72)\\n    </a>\\n   </li>\\n   <li>\\n    <a href=\"dead-sets/72/3-21-72.txt\">\\n     Academy of Music, New York, NY (3/21/72)\\n    </a>\\n   </li>\\n   <li>\\n    <a href=\"dead-sets/72/3-22-72.txt\">\\n     Academy of Music, New York, NY (3/22/72)\\n    </a>\\n   </li>\\n   <li>\\n    <a href=\"dead-sets/72/3-23-72.txt\">\\n     Academy of Music, New York, NY (3/23/72)\\n    </a>\\n   </li>\\n   <li>\\n    <a href=\"dead-sets/72/3-25-72.txt\">\\n     Academy of Music, New York, NY (3/25/72)\\n    </a>\\n   </li>\\n   <li>\\n    <a href=\"dead-sets/72/3-26-72.txt\">\\n     Academy of Music, New York, NY (3/26/72)\\n    </a>\\n   </li>\\n   <li>\\n    <a href=\"dead-sets/72/3-27-72.txt\">\\n     Academy of Music, New York, NY (3/27/72)\\n    </a>\\n   </li>\\n   <li>\\n    <a href=\"dead-sets/72/3-28-72.txt\">\\n     Academy of Music, New York, NY (3/28/72)\\n    </a>\\n   </li>\\n   <li>\\n    <a href=\"dead-sets/72/4-7-72.txt\">\\n     Empire Pool, Wembley, XENG (4/7/72)\\n    </a>\\n   </li>\\n   <li>\\n    <a href=\"dead-sets/72/4-8-72.txt\">\\n     Empire Pool, Wembley, XENG (4/8/72)\\n    </a>\\n   </li>\\n   <li>\\n    <a href=\"dead-sets/72/4-11-72.txt\">\\n     City Hall, Newcastle, XENG (4/11/72)\\n    </a>\\n   </li>\\n   <li>\\n    <a href=\"dead-sets/72/4-14-72.txt\">\\n     Tivoii Theater, Copenhagen, XDEN (4/14/72)\\n    </a>\\n   </li>\\n   <li>\\n    <a href=\"dead-sets/72/4-15-72.txt\">\\n     Tivoli Theater, Copenhagen, XDEN (4/15/72)\\n    </a>\\n   </li>\\n   <li>\\n    <a href=\"dead-sets/72/4-16-72.txt\">\\n     Aarhus University, Aarhus, XDEN (4/16/72)\\n    </a>\\n   </li>\\n   <li>\\n    <a href=\"dead-sets/72/4-17-72.txt\">\\n     Tivoii Gardens, Copenhagen, XDEN (4/17/72)\\n    </a>\\n   </li>\\n   <li>\\n    <a href=\"dead-sets/72/4-21-72.txt\">\\n     Beat Club, Bremen, XWGER (4/21/72)\\n    </a>\\n   </li>\\n   <li>\\n    <a href=\"dead-sets/72/4-24-72.txt\">\\n     Rheinhalle, Dusseldorf, XWGER (4/24/72)\\n    </a>\\n   </li>\\n   <li>\\n    <a href=\"dead-sets/72/4-26-72.txt\">\\n     Jahrhundert Halle, Frankfurt, XWGER (4/26/72)\\n    </a>\\n   </li>\\n   <li>\\n    <a href=\"dead-sets/72/4-29-72.txt\">\\n     Musikhalle, Hamburg, XWGER (4/29/72)\\n    </a>\\n   </li>\\n   <li>\\n    <a href=\"dead-sets/72/5-3-72.txt\">\\n     Olympia Theater, Paris, XFRA (5/3/72)\\n    </a>\\n   </li>\\n   <li>\\n    <a href=\"dead-sets/72/5-4-72.txt\">\\n     Olympia Theater, Paris, XFRA (5/4/72)\\n    </a>\\n   </li>\\n   <li>\\n    <a href=\"dead-sets/72/5-7-72.txt\">\\n     Bickershaw Festival, Wigan, XENG (5/7/72)\\n    </a>\\n   </li>\\n   <li>\\n    <a href=\"dead-sets/72/5-10-72.txt\">\\n     Concertgebouw, Amsterdam, XNETHER (5/10/72)\\n    </a>\\n   </li>\\n   <li>\\n    <a href=\"dead-sets/72/5-11-72.txt\">\\n     Civic Hall, Rotterdam, XNETHER (5/11/72)\\n    </a>\\n   </li>\\n   <li>\\n    <a href=\"dead-sets/72/5-13-72.txt\">\\n     Fairgrounds, Lille, XFRA (5/13/72)\\n    </a>\\n   </li>\\n   <li>\\n    <a href=\"dead-sets/72/5-16-72.txt\">\\n     Radio Luxembourg, XLUX (5/16/72)\\n    </a>\\n   </li>\\n   <li>\\n    <a href=\"dead-sets/72/5-18-72.txt\">\\n     Deutsches Museum Halle, Munich, XWGER (5/18/72)\\n    </a>\\n   </li>\\n   <li>\\n    <a href=\"dead-sets/72/5-23-72.txt\">\\n     The Strand Lyceum, London, XENG (5/23/72)\\n    </a>\\n   </li>\\n   <li>\\n    <a href=\"dead-sets/72/5-24-72.txt\">\\n     The Strand Lyceum, London, XENG (5/24/72)\\n    </a>\\n   </li>\\n   <li>\\n    <a href=\"dead-sets/72/5-25-72.txt\">\\n     The Strand Lyceum, London, XENG (5/25/72)\\n    </a>\\n   </li>\\n   <li>\\n    <a href=\"dead-sets/72/5-26-72.txt\">\\n     The Strand Lyceum, London, XENG (5/26/72)\\n    </a>\\n   </li>\\n   <li>\\n    <a href=\"dead-sets/72/6-17-72.txt\">\\n     Hollywood Bowl, Hollywood, CA (6/17/72)\\n    </a>\\n   </li>\\n   <li>\\n    <a href=\"dead-sets/72/7-10-72.txt\">\\n     Roosevelt Stadium, Jersey City, NJ (7/10/72)\\n    </a>\\n   </li>\\n   <li>\\n    <a href=\"dead-sets/72/7-16-72.txt\">\\n     Dillon Stadium, Hartford, CT (7/16/72)\\n    </a>\\n   </li>\\n   <li>\\n    <a href=\"dead-sets/72/7-21-72.txt\">\\n     Paramount Northwest Theatre, Seattle, WA (7/21/72)\\n    </a>\\n   </li>\\n   <li>\\n    <a href=\"dead-sets/72/7-22-72.txt\">\\n     Paramount Northwest Theatre, Seattle, WA (7/22/72)\\n    </a>\\n   </li>\\n   <li>\\n    <a href=\"dead-sets/72/7-25-72.txt\">\\n     Paramount Theater, Portland, OR (7/25/72)\\n    </a>\\n   </li>\\n   <li>\\n    <a href=\"dead-sets/72/7-26-72.txt\">\\n     Paramount Theater, Portland, OR (7/26/72)\\n    </a>\\n   </li>\\n   <li>\\n    <a href=\"dead-sets/72/8-12-72.txt\">\\n     Memorial Auditorium, Sacramento, CA (8/12/72)\\n    </a>\\n   </li>\\n   <li>\\n    <a href=\"dead-sets/72/8-20-72.txt\">\\n     Civic Auditorium, San Jose, CA (8/20/72)\\n    </a>\\n   </li>\\n   <li>\\n    <a href=\"dead-sets/72/8-21-72.txt\">\\n     Berkeley Community Theatre, Berkeley, CA (8/21/72)\\n    </a>\\n   </li>\\n   <li>\\n    <a href=\"dead-sets/72/8-22-72.txt\">\\n     Berkeley Community Theatre, Berkeley, CA (8/22/72)\\n    </a>\\n   </li>\\n   <li>\\n    <a href=\"dead-sets/72/8-24-72.txt\">\\n     Berkeley Community Theatre, Berkeley, CA (8/24/72)\\n    </a>\\n   </li>\\n   <li>\\n    <a href=\"dead-sets/72/8-25-72.txt\">\\n     Berkeley Community Theatre, Berkeley, CA (8/25/72)\\n    </a>\\n   </li>\\n   <li>\\n    <a href=\"dead-sets/72/8-27-72.txt\">\\n     Old Renaissance Faire Grounds, Veneta, OR (8/27/72)\\n    </a>\\n   </li>\\n   <li>\\n    <a href=\"dead-sets/72/9-3-72.txt\">\\n     Folsom Field, University of Colorado, Boulder, CO (9/3/72)\\n    </a>\\n   </li>\\n   <li>\\n    <a href=\"dead-sets/72/9-9-72.txt\">\\n     Hollywood Palladium, Hollywood, CA (9/9/72)\\n    </a>\\n   </li>\\n   <li>\\n    <a href=\"dead-sets/72/9-10-72.txt\">\\n     Hollywood Palladium, Hollywood, CA (9/10/72)\\n    </a>\\n   </li>\\n   <li>\\n    <a href=\"dead-sets/72/9-15-72.txt\">\\n     Boston Music Hail, Boston, MA (9/15/72)\\n    </a>\\n   </li>\\n   <li>\\n    <a href=\"dead-sets/72/9-16-72.txt\">\\n     Boston Music Hail, Boston, MA (9/16/72)\\n    </a>\\n   </li>\\n   <li>\\n    <a href=\"dead-sets/72/9-17-72.txt\">\\n     Civic Center, Baltimore, MD (9/17/72)\\n    </a>\\n   </li>\\n   <li>\\n    <a href=\"dead-sets/72/9-19-72.txt\">\\n     Roosevelt Stadium, Jersey City, NJ (9/19/72)\\n    </a>\\n   </li>\\n   <li>\\n    <a href=\"dead-sets/72/9-21-72.txt\">\\n     The Spectrum, Philadelphia, PA (9/21/72)\\n    </a>\\n   </li>\\n   <li>\\n    <a href=\"dead-sets/72/9-23-72.txt\">\\n     The Palace Theater, Waterbury, CT (9/23/72)\\n    </a>\\n   </li>\\n   <li>\\n    <a href=\"dead-sets/72/9-24-72.txt\">\\n     The Palace Theater, Waterbury, CT (9/24/72)\\n    </a>\\n   </li>\\n   <li>\\n    <a href=\"dead-sets/72/9-26-72.txt\">\\n     Stanley Theatre, Jersey City, NJ (9/26/72)\\n    </a>\\n   </li>\\n   <li>\\n    <a href=\"dead-sets/72/9-27-72.txt\">\\n     Stanley Theatre, Jersey City, NJ (9/27/72)\\n    </a>\\n   </li>\\n   <li>\\n    <a href=\"dead-sets/72/9-28-72.txt\">\\n     Stanley Theatre, Jersey City, NJ (9/28/72)\\n    </a>\\n   </li>\\n   <li>\\n    <a href=\"dead-sets/72/9-30-72.txt\">\\n     American University, Washington, DC (9/30/72)\\n    </a>\\n   </li>\\n   <li>\\n    <a href=\"dead-sets/72/10-2-72.txt\">\\n     Civic Center Arena, Springfield, MA (10/2/72)\\n    </a>\\n   </li>\\n   <li>\\n    <a href=\"dead-sets/72/10-9-72.txt\">\\n     Winterland Arena, San Francisco, CA (10/9/72)\\n    </a>\\n   </li>\\n   <li>\\n    <a href=\"dead-sets/72/10-17-72.txt\">\\n     Fox Theatre, St. Louis, MO (10/17/72)\\n    </a>\\n   </li>\\n   <li>\\n    <a href=\"dead-sets/72/10-18-72.txt\">\\n     Fox Theatre, St. Louis, MO (10/18/72)\\n    </a>\\n   </li>\\n   <li>\\n    <a href=\"dead-sets/72/10-19-72.txt\">\\n     Fox Theatre, St. Louis, MO (10/19/72)\\n    </a>\\n   </li>\\n   <li>\\n    <a href=\"dead-sets/72/10-21-72.txt\">\\n     Vanderbilt University, Nashville, TN (10/21/72)\\n    </a>\\n   </li>\\n   <li>\\n    <a href=\"dead-sets/72/10-23-72.txt\">\\n     Performing Arts Center, Milwaukee, WI (10/23/72)\\n    </a>\\n   </li>\\n   <li>\\n    <a href=\"dead-sets/72/10-24-72.txt\">\\n     Performing Arts Center, Milwaukee, WI (10/24/72)\\n    </a>\\n   </li>\\n   <li>\\n    <a href=\"dead-sets/72/10-26-72.txt\">\\n     Music Mall, Cincinnati, OH (10/26/72)\\n    </a>\\n   </li>\\n   <li>\\n    <a href=\"dead-sets/72/10-27-72.txt\">\\n     Veterans Memorial Auditorium, Columbus, OH (10/27/72)\\n    </a>\\n   </li>\\n   <li>\\n    <a href=\"dead-sets/72/10-28-72.txt\">\\n     Public Hall, Cleveland, OH (10/28/72)\\n    </a>\\n   </li>\\n   <li>\\n    <a href=\"dead-sets/72/10-30-72.txt\">\\n     Ford Auditorium, Detroit, MI (10/30/72)\\n    </a>\\n   </li>\\n   <li>\\n    <a href=\"dead-sets/72/11-12-72.txt\">\\n     Memorial Hall, Kansas City, MO (11/12/72)\\n    </a>\\n   </li>\\n   <li>\\n    <a href=\"dead-sets/72/11-13-72.txt\">\\n     Memorial Hall, Kansas City, MO (11/13/72)\\n    </a>\\n   </li>\\n   <li>\\n    <a href=\"dead-sets/72/11-14-72.txt\">\\n     Oklahoma City Music Hall, Oklahoma City, OK (11/14/72)\\n    </a>\\n   </li>\\n   <li>\\n    <a href=\"dead-sets/72/11-15-72.txt\">\\n     Oklahoma City Music Hall, Oklahoma City, OK (11/15/72)\\n    </a>\\n   </li>\\n   <li>\\n    <a href=\"dead-sets/72/11-17-72.txt\">\\n     Wichita, KS (11/17/72)\\n    </a>\\n   </li>\\n   <li>\\n    <a href=\"dead-sets/72/11-18-72.txt\">\\n     Hofheinz Pavilion, Houston, TX (11/18/72)\\n    </a>\\n   </li>\\n   <li>\\n    <a href=\"dead-sets/72/11-19-72.txt\">\\n     Hofheinz Pavilion, Houston, TX (11/19/72)\\n    </a>\\n   </li>\\n   <li>\\n    <a href=\"dead-sets/72/11-22-72.txt\">\\n     Municipal Auditorium, Austin, TX (11/22/72)\\n    </a>\\n   </li>\\n   <li>\\n    <a href=\"dead-sets/72/11-24-72.txt\">\\n     Memorial Auditorium, Dallas, TX (11/24/72)\\n    </a>\\n   </li>\\n   <li>\\n    <a href=\"dead-sets/72/11-26-72.txt\">\\n     Civic Auditorium, SanAntonio, TX (11/26/72)\\n    </a>\\n   </li>\\n   <li>\\n    <a href=\"dead-sets/72/12-10-72.txt\">\\n     Winterland Arena, San Francisco, CA (12/10/72)\\n    </a>\\n   </li>\\n   <li>\\n    <a href=\"dead-sets/72/12-11-72.txt\">\\n     Winterland Arena, San Francisco, CA (12/11/72)\\n    </a>\\n   </li>\\n   <li>\\n    <a href=\"dead-sets/72/12-12-72.txt\">\\n     Winterland Arena, San Francisco, CA (12/12/72)\\n    </a>\\n   </li>\\n   <li>\\n    <a href=\"dead-sets/72/12-15-72.txt\">\\n     Long Beach Arena, Long Beach, CA (12/15/72)\\n    </a>\\n   </li>\\n   <li>\\n    <a href=\"dead-sets/72/12-31-72.txt\">\\n     Winterland Arena, San Francisco, CA (12/31/72)\\n    </a>\\n   </li>\\n  </ul>\\n </body>\\n</html>'"
       ]
      }
     ],
     "prompt_number": 4
    },
    {
     "cell_type": "code",
     "collapsed": false,
     "input": [
      "for link in soup.find_all('a'):\n",
      "    print(link.get('href'))"
     ],
     "language": "python",
     "metadata": {},
     "outputs": [
      {
       "output_type": "stream",
       "stream": "stdout",
       "text": [
        "dead-sets/72/1-2-72.txt\n",
        "dead-sets/72/3-5-72.txt\n",
        "dead-sets/72/3-21-72.txt\n",
        "dead-sets/72/3-22-72.txt\n",
        "dead-sets/72/3-23-72.txt\n",
        "dead-sets/72/3-25-72.txt\n",
        "dead-sets/72/3-26-72.txt\n",
        "dead-sets/72/3-27-72.txt\n",
        "dead-sets/72/3-28-72.txt\n",
        "dead-sets/72/4-7-72.txt\n",
        "dead-sets/72/4-8-72.txt\n",
        "dead-sets/72/4-11-72.txt\n",
        "dead-sets/72/4-14-72.txt\n",
        "dead-sets/72/4-15-72.txt\n",
        "dead-sets/72/4-16-72.txt\n",
        "dead-sets/72/4-17-72.txt\n",
        "dead-sets/72/4-21-72.txt\n",
        "dead-sets/72/4-24-72.txt\n",
        "dead-sets/72/4-26-72.txt\n",
        "dead-sets/72/4-29-72.txt\n",
        "dead-sets/72/5-3-72.txt\n",
        "dead-sets/72/5-4-72.txt\n",
        "dead-sets/72/5-7-72.txt\n",
        "dead-sets/72/5-10-72.txt\n",
        "dead-sets/72/5-11-72.txt\n",
        "dead-sets/72/5-13-72.txt\n",
        "dead-sets/72/5-16-72.txt\n",
        "dead-sets/72/5-18-72.txt\n",
        "dead-sets/72/5-23-72.txt\n",
        "dead-sets/72/5-24-72.txt\n",
        "dead-sets/72/5-25-72.txt\n",
        "dead-sets/72/5-26-72.txt\n",
        "dead-sets/72/6-17-72.txt\n",
        "dead-sets/72/7-10-72.txt\n",
        "dead-sets/72/7-16-72.txt\n",
        "dead-sets/72/7-21-72.txt\n",
        "dead-sets/72/7-22-72.txt\n",
        "dead-sets/72/7-25-72.txt\n",
        "dead-sets/72/7-26-72.txt\n",
        "dead-sets/72/8-12-72.txt\n",
        "dead-sets/72/8-20-72.txt\n",
        "dead-sets/72/8-21-72.txt\n",
        "dead-sets/72/8-22-72.txt\n",
        "dead-sets/72/8-24-72.txt\n",
        "dead-sets/72/8-25-72.txt\n",
        "dead-sets/72/8-27-72.txt\n",
        "dead-sets/72/9-3-72.txt\n",
        "dead-sets/72/9-9-72.txt\n",
        "dead-sets/72/9-10-72.txt\n",
        "dead-sets/72/9-15-72.txt\n",
        "dead-sets/72/9-16-72.txt\n",
        "dead-sets/72/9-17-72.txt\n",
        "dead-sets/72/9-19-72.txt\n",
        "dead-sets/72/9-21-72.txt\n",
        "dead-sets/72/9-23-72.txt\n",
        "dead-sets/72/9-24-72.txt\n",
        "dead-sets/72/9-26-72.txt\n",
        "dead-sets/72/9-27-72.txt\n",
        "dead-sets/72/9-28-72.txt\n",
        "dead-sets/72/9-30-72.txt\n",
        "dead-sets/72/10-2-72.txt\n",
        "dead-sets/72/10-9-72.txt\n",
        "dead-sets/72/10-17-72.txt\n",
        "dead-sets/72/10-18-72.txt\n",
        "dead-sets/72/10-19-72.txt\n",
        "dead-sets/72/10-21-72.txt\n",
        "dead-sets/72/10-23-72.txt\n",
        "dead-sets/72/10-24-72.txt\n",
        "dead-sets/72/10-26-72.txt\n",
        "dead-sets/72/10-27-72.txt\n",
        "dead-sets/72/10-28-72.txt\n",
        "dead-sets/72/10-30-72.txt\n",
        "dead-sets/72/11-12-72.txt\n",
        "dead-sets/72/11-13-72.txt\n",
        "dead-sets/72/11-14-72.txt\n",
        "dead-sets/72/11-15-72.txt\n",
        "dead-sets/72/11-17-72.txt\n",
        "dead-sets/72/11-18-72.txt\n",
        "dead-sets/72/11-19-72.txt\n",
        "dead-sets/72/11-22-72.txt\n",
        "dead-sets/72/11-24-72.txt\n",
        "dead-sets/72/11-26-72.txt\n",
        "dead-sets/72/12-10-72.txt\n",
        "dead-sets/72/12-11-72.txt\n",
        "dead-sets/72/12-12-72.txt\n",
        "dead-sets/72/12-15-72.txt\n",
        "dead-sets/72/12-31-72.txt\n"
       ]
      }
     ],
     "prompt_number": 5
    },
    {
     "cell_type": "code",
     "collapsed": false,
     "input": [
      "data = {}\n",
      "for year in range(72,95):\n",
      "    print year\n",
      "    top_url = \"http://www.cs.cmu.edu/~./gdead/%d.html\"%year\n",
      "    raw_text = requests.get(top_url)\n",
      "    soup= BeautifulSoup(raw_text.text)\n",
      "    for show_link in soup.find_all('a'):\n",
      "        show_url = \"http://www.cs.cmu.edu/~./gdead/%s\"%show_link.get('href')\n",
      "        raw_text = requests.get(show_url)\n",
      "        soup2 = BeautifulSoup(raw_text.text)\n",
      "        lines = soup2.text.split('\\n')\n",
      "        date = lines[0].split('(')[1].split(')')[0]\n",
      "        uniquelines=[h for h in lines[2:] if h!='']\n",
      "        results={}\n",
      "        results['year']=\"19%0.2d\"%year\n",
      "        for h in uniquelines:\n",
      "            num=len(h)\n",
      "            try:\n",
      "                num = h.index('-')\n",
      "            except:\n",
      "                pass\n",
      "            cleaned = h[0:num].strip()\n",
      "            results[cleaned]=1\n",
      "        data[show_link.get('href')]=results\n",
      "        \n",
      "        \n",
      "        \n",
      "    \n",
      "    "
     ],
     "language": "python",
     "metadata": {},
     "outputs": [
      {
       "output_type": "stream",
       "stream": "stdout",
       "text": [
        "72\n"
       ]
      },
      {
       "ename": "KeyboardInterrupt",
       "evalue": "",
       "output_type": "pyerr",
       "traceback": [
        "\u001b[1;31m---------------------------------------------------------------------------\u001b[0m\n\u001b[1;31mKeyboardInterrupt\u001b[0m                         Traceback (most recent call last)",
        "\u001b[1;32m<ipython-input-6-f52fab66aea3>\u001b[0m in \u001b[0;36m<module>\u001b[1;34m()\u001b[0m\n\u001b[0;32m      7\u001b[0m     \u001b[1;32mfor\u001b[0m \u001b[0mshow_link\u001b[0m \u001b[1;32min\u001b[0m \u001b[0msoup\u001b[0m\u001b[1;33m.\u001b[0m\u001b[0mfind_all\u001b[0m\u001b[1;33m(\u001b[0m\u001b[1;34m'a'\u001b[0m\u001b[1;33m)\u001b[0m\u001b[1;33m:\u001b[0m\u001b[1;33m\u001b[0m\u001b[0m\n\u001b[0;32m      8\u001b[0m         \u001b[0mshow_url\u001b[0m \u001b[1;33m=\u001b[0m \u001b[1;34m\"http://www.cs.cmu.edu/~./gdead/%s\"\u001b[0m\u001b[1;33m%\u001b[0m\u001b[0mshow_link\u001b[0m\u001b[1;33m.\u001b[0m\u001b[0mget\u001b[0m\u001b[1;33m(\u001b[0m\u001b[1;34m'href'\u001b[0m\u001b[1;33m)\u001b[0m\u001b[1;33m\u001b[0m\u001b[0m\n\u001b[1;32m----> 9\u001b[1;33m         \u001b[0mraw_text\u001b[0m \u001b[1;33m=\u001b[0m \u001b[0mrequests\u001b[0m\u001b[1;33m.\u001b[0m\u001b[0mget\u001b[0m\u001b[1;33m(\u001b[0m\u001b[0mshow_url\u001b[0m\u001b[1;33m)\u001b[0m\u001b[1;33m\u001b[0m\u001b[0m\n\u001b[0m\u001b[0;32m     10\u001b[0m         \u001b[0msoup2\u001b[0m \u001b[1;33m=\u001b[0m \u001b[0mBeautifulSoup\u001b[0m\u001b[1;33m(\u001b[0m\u001b[0mraw_text\u001b[0m\u001b[1;33m.\u001b[0m\u001b[0mtext\u001b[0m\u001b[1;33m)\u001b[0m\u001b[1;33m\u001b[0m\u001b[0m\n\u001b[0;32m     11\u001b[0m         \u001b[0mlines\u001b[0m \u001b[1;33m=\u001b[0m \u001b[0msoup2\u001b[0m\u001b[1;33m.\u001b[0m\u001b[0mtext\u001b[0m\u001b[1;33m.\u001b[0m\u001b[0msplit\u001b[0m\u001b[1;33m(\u001b[0m\u001b[1;34m'\\n'\u001b[0m\u001b[1;33m)\u001b[0m\u001b[1;33m\u001b[0m\u001b[0m\n",
        "\u001b[1;32m/usr/lib/python2.7/dist-packages/requests/api.pyc\u001b[0m in \u001b[0;36mget\u001b[1;34m(url, **kwargs)\u001b[0m\n\u001b[0;32m     53\u001b[0m \u001b[1;33m\u001b[0m\u001b[0m\n\u001b[0;32m     54\u001b[0m     \u001b[0mkwargs\u001b[0m\u001b[1;33m.\u001b[0m\u001b[0msetdefault\u001b[0m\u001b[1;33m(\u001b[0m\u001b[1;34m'allow_redirects'\u001b[0m\u001b[1;33m,\u001b[0m \u001b[0mTrue\u001b[0m\u001b[1;33m)\u001b[0m\u001b[1;33m\u001b[0m\u001b[0m\n\u001b[1;32m---> 55\u001b[1;33m     \u001b[1;32mreturn\u001b[0m \u001b[0mrequest\u001b[0m\u001b[1;33m(\u001b[0m\u001b[1;34m'get'\u001b[0m\u001b[1;33m,\u001b[0m \u001b[0murl\u001b[0m\u001b[1;33m,\u001b[0m \u001b[1;33m**\u001b[0m\u001b[0mkwargs\u001b[0m\u001b[1;33m)\u001b[0m\u001b[1;33m\u001b[0m\u001b[0m\n\u001b[0m\u001b[0;32m     56\u001b[0m \u001b[1;33m\u001b[0m\u001b[0m\n\u001b[0;32m     57\u001b[0m \u001b[1;33m\u001b[0m\u001b[0m\n",
        "\u001b[1;32m/usr/lib/python2.7/dist-packages/requests/api.pyc\u001b[0m in \u001b[0;36mrequest\u001b[1;34m(method, url, **kwargs)\u001b[0m\n\u001b[0;32m     42\u001b[0m \u001b[1;33m\u001b[0m\u001b[0m\n\u001b[0;32m     43\u001b[0m     \u001b[0msession\u001b[0m \u001b[1;33m=\u001b[0m \u001b[0msessions\u001b[0m\u001b[1;33m.\u001b[0m\u001b[0mSession\u001b[0m\u001b[1;33m(\u001b[0m\u001b[1;33m)\u001b[0m\u001b[1;33m\u001b[0m\u001b[0m\n\u001b[1;32m---> 44\u001b[1;33m     \u001b[1;32mreturn\u001b[0m \u001b[0msession\u001b[0m\u001b[1;33m.\u001b[0m\u001b[0mrequest\u001b[0m\u001b[1;33m(\u001b[0m\u001b[0mmethod\u001b[0m\u001b[1;33m=\u001b[0m\u001b[0mmethod\u001b[0m\u001b[1;33m,\u001b[0m \u001b[0murl\u001b[0m\u001b[1;33m=\u001b[0m\u001b[0murl\u001b[0m\u001b[1;33m,\u001b[0m \u001b[1;33m**\u001b[0m\u001b[0mkwargs\u001b[0m\u001b[1;33m)\u001b[0m\u001b[1;33m\u001b[0m\u001b[0m\n\u001b[0m\u001b[0;32m     45\u001b[0m \u001b[1;33m\u001b[0m\u001b[0m\n\u001b[0;32m     46\u001b[0m \u001b[1;33m\u001b[0m\u001b[0m\n",
        "\u001b[1;32m/usr/lib/python2.7/dist-packages/requests/sessions.pyc\u001b[0m in \u001b[0;36mrequest\u001b[1;34m(self, method, url, params, data, headers, cookies, files, auth, timeout, allow_redirects, proxies, hooks, stream, verify, cert)\u001b[0m\n\u001b[0;32m    333\u001b[0m             \u001b[1;34m'allow_redirects'\u001b[0m\u001b[1;33m:\u001b[0m \u001b[0mallow_redirects\u001b[0m\u001b[1;33m,\u001b[0m\u001b[1;33m\u001b[0m\u001b[0m\n\u001b[0;32m    334\u001b[0m         }\n\u001b[1;32m--> 335\u001b[1;33m         \u001b[0mresp\u001b[0m \u001b[1;33m=\u001b[0m \u001b[0mself\u001b[0m\u001b[1;33m.\u001b[0m\u001b[0msend\u001b[0m\u001b[1;33m(\u001b[0m\u001b[0mprep\u001b[0m\u001b[1;33m,\u001b[0m \u001b[1;33m**\u001b[0m\u001b[0msend_kwargs\u001b[0m\u001b[1;33m)\u001b[0m\u001b[1;33m\u001b[0m\u001b[0m\n\u001b[0m\u001b[0;32m    336\u001b[0m \u001b[1;33m\u001b[0m\u001b[0m\n\u001b[0;32m    337\u001b[0m         \u001b[1;32mreturn\u001b[0m \u001b[0mresp\u001b[0m\u001b[1;33m\u001b[0m\u001b[0m\n",
        "\u001b[1;32m/usr/lib/python2.7/dist-packages/requests/sessions.pyc\u001b[0m in \u001b[0;36msend\u001b[1;34m(self, request, **kwargs)\u001b[0m\n\u001b[0;32m    436\u001b[0m         \u001b[0mstart\u001b[0m \u001b[1;33m=\u001b[0m \u001b[0mdatetime\u001b[0m\u001b[1;33m.\u001b[0m\u001b[0mutcnow\u001b[0m\u001b[1;33m(\u001b[0m\u001b[1;33m)\u001b[0m\u001b[1;33m\u001b[0m\u001b[0m\n\u001b[0;32m    437\u001b[0m         \u001b[1;31m# Send the request\u001b[0m\u001b[1;33m\u001b[0m\u001b[1;33m\u001b[0m\u001b[0m\n\u001b[1;32m--> 438\u001b[1;33m         \u001b[0mr\u001b[0m \u001b[1;33m=\u001b[0m \u001b[0madapter\u001b[0m\u001b[1;33m.\u001b[0m\u001b[0msend\u001b[0m\u001b[1;33m(\u001b[0m\u001b[0mrequest\u001b[0m\u001b[1;33m,\u001b[0m \u001b[1;33m**\u001b[0m\u001b[0mkwargs\u001b[0m\u001b[1;33m)\u001b[0m\u001b[1;33m\u001b[0m\u001b[0m\n\u001b[0m\u001b[0;32m    439\u001b[0m         \u001b[1;31m# Total elapsed time of the request (approximately)\u001b[0m\u001b[1;33m\u001b[0m\u001b[1;33m\u001b[0m\u001b[0m\n\u001b[0;32m    440\u001b[0m         \u001b[0mr\u001b[0m\u001b[1;33m.\u001b[0m\u001b[0melapsed\u001b[0m \u001b[1;33m=\u001b[0m \u001b[0mdatetime\u001b[0m\u001b[1;33m.\u001b[0m\u001b[0mutcnow\u001b[0m\u001b[1;33m(\u001b[0m\u001b[1;33m)\u001b[0m \u001b[1;33m-\u001b[0m \u001b[0mstart\u001b[0m\u001b[1;33m\u001b[0m\u001b[0m\n",
        "\u001b[1;32m/usr/lib/python2.7/dist-packages/requests/adapters.pyc\u001b[0m in \u001b[0;36msend\u001b[1;34m(self, request, stream, timeout, verify, cert, proxies)\u001b[0m\n\u001b[0;32m    290\u001b[0m                     \u001b[0mdecode_content\u001b[0m\u001b[1;33m=\u001b[0m\u001b[0mFalse\u001b[0m\u001b[1;33m,\u001b[0m\u001b[1;33m\u001b[0m\u001b[0m\n\u001b[0;32m    291\u001b[0m                     \u001b[0mretries\u001b[0m\u001b[1;33m=\u001b[0m\u001b[0mself\u001b[0m\u001b[1;33m.\u001b[0m\u001b[0mmax_retries\u001b[0m\u001b[1;33m,\u001b[0m\u001b[1;33m\u001b[0m\u001b[0m\n\u001b[1;32m--> 292\u001b[1;33m                     \u001b[0mtimeout\u001b[0m\u001b[1;33m=\u001b[0m\u001b[0mtimeout\u001b[0m\u001b[1;33m\u001b[0m\u001b[0m\n\u001b[0m\u001b[0;32m    293\u001b[0m                 )\n\u001b[0;32m    294\u001b[0m \u001b[1;33m\u001b[0m\u001b[0m\n",
        "\u001b[1;32m/usr/lib/python2.7/dist-packages/urllib3/connectionpool.pyc\u001b[0m in \u001b[0;36murlopen\u001b[1;34m(self, method, url, body, headers, retries, redirect, assert_same_host, timeout, pool_timeout, release_conn, **response_kw)\u001b[0m\n\u001b[0;32m    426\u001b[0m             httplib_response = self._make_request(conn, method, url,\n\u001b[0;32m    427\u001b[0m                                                   \u001b[0mtimeout\u001b[0m\u001b[1;33m=\u001b[0m\u001b[0mtimeout\u001b[0m\u001b[1;33m,\u001b[0m\u001b[1;33m\u001b[0m\u001b[0m\n\u001b[1;32m--> 428\u001b[1;33m                                                   body=body, headers=headers)\n\u001b[0m\u001b[0;32m    429\u001b[0m \u001b[1;33m\u001b[0m\u001b[0m\n\u001b[0;32m    430\u001b[0m             \u001b[1;31m# If we're going to release the connection in ``finally:``, then\u001b[0m\u001b[1;33m\u001b[0m\u001b[1;33m\u001b[0m\u001b[0m\n",
        "\u001b[1;32m/usr/lib/python2.7/dist-packages/urllib3/connectionpool.pyc\u001b[0m in \u001b[0;36m_make_request\u001b[1;34m(self, conn, method, url, timeout, **httplib_request_kw)\u001b[0m\n\u001b[0;32m    278\u001b[0m \u001b[1;33m\u001b[0m\u001b[0m\n\u001b[0;32m    279\u001b[0m         \u001b[0mconn\u001b[0m\u001b[1;33m.\u001b[0m\u001b[0mtimeout\u001b[0m \u001b[1;33m=\u001b[0m \u001b[0mtimeout\u001b[0m \u001b[1;31m# This only does anything in Py26+\u001b[0m\u001b[1;33m\u001b[0m\u001b[0m\n\u001b[1;32m--> 280\u001b[1;33m         \u001b[0mconn\u001b[0m\u001b[1;33m.\u001b[0m\u001b[0mrequest\u001b[0m\u001b[1;33m(\u001b[0m\u001b[0mmethod\u001b[0m\u001b[1;33m,\u001b[0m \u001b[0murl\u001b[0m\u001b[1;33m,\u001b[0m \u001b[1;33m**\u001b[0m\u001b[0mhttplib_request_kw\u001b[0m\u001b[1;33m)\u001b[0m\u001b[1;33m\u001b[0m\u001b[0m\n\u001b[0m\u001b[0;32m    281\u001b[0m \u001b[1;33m\u001b[0m\u001b[0m\n\u001b[0;32m    282\u001b[0m         \u001b[1;31m# Set timeout\u001b[0m\u001b[1;33m\u001b[0m\u001b[1;33m\u001b[0m\u001b[0m\n",
        "\u001b[1;32m/usr/lib/python2.7/httplib.pyc\u001b[0m in \u001b[0;36mrequest\u001b[1;34m(self, method, url, body, headers)\u001b[0m\n\u001b[0;32m    971\u001b[0m     \u001b[1;32mdef\u001b[0m \u001b[0mrequest\u001b[0m\u001b[1;33m(\u001b[0m\u001b[0mself\u001b[0m\u001b[1;33m,\u001b[0m \u001b[0mmethod\u001b[0m\u001b[1;33m,\u001b[0m \u001b[0murl\u001b[0m\u001b[1;33m,\u001b[0m \u001b[0mbody\u001b[0m\u001b[1;33m=\u001b[0m\u001b[0mNone\u001b[0m\u001b[1;33m,\u001b[0m \u001b[0mheaders\u001b[0m\u001b[1;33m=\u001b[0m\u001b[1;33m{\u001b[0m\u001b[1;33m}\u001b[0m\u001b[1;33m)\u001b[0m\u001b[1;33m:\u001b[0m\u001b[1;33m\u001b[0m\u001b[0m\n\u001b[0;32m    972\u001b[0m         \u001b[1;34m\"\"\"Send a complete request to the server.\"\"\"\u001b[0m\u001b[1;33m\u001b[0m\u001b[0m\n\u001b[1;32m--> 973\u001b[1;33m         \u001b[0mself\u001b[0m\u001b[1;33m.\u001b[0m\u001b[0m_send_request\u001b[0m\u001b[1;33m(\u001b[0m\u001b[0mmethod\u001b[0m\u001b[1;33m,\u001b[0m \u001b[0murl\u001b[0m\u001b[1;33m,\u001b[0m \u001b[0mbody\u001b[0m\u001b[1;33m,\u001b[0m \u001b[0mheaders\u001b[0m\u001b[1;33m)\u001b[0m\u001b[1;33m\u001b[0m\u001b[0m\n\u001b[0m\u001b[0;32m    974\u001b[0m \u001b[1;33m\u001b[0m\u001b[0m\n\u001b[0;32m    975\u001b[0m     \u001b[1;32mdef\u001b[0m \u001b[0m_set_content_length\u001b[0m\u001b[1;33m(\u001b[0m\u001b[0mself\u001b[0m\u001b[1;33m,\u001b[0m \u001b[0mbody\u001b[0m\u001b[1;33m)\u001b[0m\u001b[1;33m:\u001b[0m\u001b[1;33m\u001b[0m\u001b[0m\n",
        "\u001b[1;32m/usr/lib/python2.7/httplib.pyc\u001b[0m in \u001b[0;36m_send_request\u001b[1;34m(self, method, url, body, headers)\u001b[0m\n\u001b[0;32m   1005\u001b[0m         \u001b[1;32mfor\u001b[0m \u001b[0mhdr\u001b[0m\u001b[1;33m,\u001b[0m \u001b[0mvalue\u001b[0m \u001b[1;32min\u001b[0m \u001b[0mheaders\u001b[0m\u001b[1;33m.\u001b[0m\u001b[0miteritems\u001b[0m\u001b[1;33m(\u001b[0m\u001b[1;33m)\u001b[0m\u001b[1;33m:\u001b[0m\u001b[1;33m\u001b[0m\u001b[0m\n\u001b[0;32m   1006\u001b[0m             \u001b[0mself\u001b[0m\u001b[1;33m.\u001b[0m\u001b[0mputheader\u001b[0m\u001b[1;33m(\u001b[0m\u001b[0mhdr\u001b[0m\u001b[1;33m,\u001b[0m \u001b[0mvalue\u001b[0m\u001b[1;33m)\u001b[0m\u001b[1;33m\u001b[0m\u001b[0m\n\u001b[1;32m-> 1007\u001b[1;33m         \u001b[0mself\u001b[0m\u001b[1;33m.\u001b[0m\u001b[0mendheaders\u001b[0m\u001b[1;33m(\u001b[0m\u001b[0mbody\u001b[0m\u001b[1;33m)\u001b[0m\u001b[1;33m\u001b[0m\u001b[0m\n\u001b[0m\u001b[0;32m   1008\u001b[0m \u001b[1;33m\u001b[0m\u001b[0m\n\u001b[0;32m   1009\u001b[0m     \u001b[1;32mdef\u001b[0m \u001b[0mgetresponse\u001b[0m\u001b[1;33m(\u001b[0m\u001b[0mself\u001b[0m\u001b[1;33m,\u001b[0m \u001b[0mbuffering\u001b[0m\u001b[1;33m=\u001b[0m\u001b[0mFalse\u001b[0m\u001b[1;33m)\u001b[0m\u001b[1;33m:\u001b[0m\u001b[1;33m\u001b[0m\u001b[0m\n",
        "\u001b[1;32m/usr/lib/python2.7/httplib.pyc\u001b[0m in \u001b[0;36mendheaders\u001b[1;34m(self, message_body)\u001b[0m\n\u001b[0;32m    967\u001b[0m         \u001b[1;32melse\u001b[0m\u001b[1;33m:\u001b[0m\u001b[1;33m\u001b[0m\u001b[0m\n\u001b[0;32m    968\u001b[0m             \u001b[1;32mraise\u001b[0m \u001b[0mCannotSendHeader\u001b[0m\u001b[1;33m(\u001b[0m\u001b[1;33m)\u001b[0m\u001b[1;33m\u001b[0m\u001b[0m\n\u001b[1;32m--> 969\u001b[1;33m         \u001b[0mself\u001b[0m\u001b[1;33m.\u001b[0m\u001b[0m_send_output\u001b[0m\u001b[1;33m(\u001b[0m\u001b[0mmessage_body\u001b[0m\u001b[1;33m)\u001b[0m\u001b[1;33m\u001b[0m\u001b[0m\n\u001b[0m\u001b[0;32m    970\u001b[0m \u001b[1;33m\u001b[0m\u001b[0m\n\u001b[0;32m    971\u001b[0m     \u001b[1;32mdef\u001b[0m \u001b[0mrequest\u001b[0m\u001b[1;33m(\u001b[0m\u001b[0mself\u001b[0m\u001b[1;33m,\u001b[0m \u001b[0mmethod\u001b[0m\u001b[1;33m,\u001b[0m \u001b[0murl\u001b[0m\u001b[1;33m,\u001b[0m \u001b[0mbody\u001b[0m\u001b[1;33m=\u001b[0m\u001b[0mNone\u001b[0m\u001b[1;33m,\u001b[0m \u001b[0mheaders\u001b[0m\u001b[1;33m=\u001b[0m\u001b[1;33m{\u001b[0m\u001b[1;33m}\u001b[0m\u001b[1;33m)\u001b[0m\u001b[1;33m:\u001b[0m\u001b[1;33m\u001b[0m\u001b[0m\n",
        "\u001b[1;32m/usr/lib/python2.7/httplib.pyc\u001b[0m in \u001b[0;36m_send_output\u001b[1;34m(self, message_body)\u001b[0m\n\u001b[0;32m    827\u001b[0m             \u001b[0mmsg\u001b[0m \u001b[1;33m+=\u001b[0m \u001b[0mmessage_body\u001b[0m\u001b[1;33m\u001b[0m\u001b[0m\n\u001b[0;32m    828\u001b[0m             \u001b[0mmessage_body\u001b[0m \u001b[1;33m=\u001b[0m \u001b[0mNone\u001b[0m\u001b[1;33m\u001b[0m\u001b[0m\n\u001b[1;32m--> 829\u001b[1;33m         \u001b[0mself\u001b[0m\u001b[1;33m.\u001b[0m\u001b[0msend\u001b[0m\u001b[1;33m(\u001b[0m\u001b[0mmsg\u001b[0m\u001b[1;33m)\u001b[0m\u001b[1;33m\u001b[0m\u001b[0m\n\u001b[0m\u001b[0;32m    830\u001b[0m         \u001b[1;32mif\u001b[0m \u001b[0mmessage_body\u001b[0m \u001b[1;32mis\u001b[0m \u001b[1;32mnot\u001b[0m \u001b[0mNone\u001b[0m\u001b[1;33m:\u001b[0m\u001b[1;33m\u001b[0m\u001b[0m\n\u001b[0;32m    831\u001b[0m             \u001b[1;31m#message_body was not a string (i.e. it is a file) and\u001b[0m\u001b[1;33m\u001b[0m\u001b[1;33m\u001b[0m\u001b[0m\n",
        "\u001b[1;32m/usr/lib/python2.7/httplib.pyc\u001b[0m in \u001b[0;36msend\u001b[1;34m(self, data)\u001b[0m\n\u001b[0;32m    789\u001b[0m         \u001b[1;32mif\u001b[0m \u001b[0mself\u001b[0m\u001b[1;33m.\u001b[0m\u001b[0msock\u001b[0m \u001b[1;32mis\u001b[0m \u001b[0mNone\u001b[0m\u001b[1;33m:\u001b[0m\u001b[1;33m\u001b[0m\u001b[0m\n\u001b[0;32m    790\u001b[0m             \u001b[1;32mif\u001b[0m \u001b[0mself\u001b[0m\u001b[1;33m.\u001b[0m\u001b[0mauto_open\u001b[0m\u001b[1;33m:\u001b[0m\u001b[1;33m\u001b[0m\u001b[0m\n\u001b[1;32m--> 791\u001b[1;33m                 \u001b[0mself\u001b[0m\u001b[1;33m.\u001b[0m\u001b[0mconnect\u001b[0m\u001b[1;33m(\u001b[0m\u001b[1;33m)\u001b[0m\u001b[1;33m\u001b[0m\u001b[0m\n\u001b[0m\u001b[0;32m    792\u001b[0m             \u001b[1;32melse\u001b[0m\u001b[1;33m:\u001b[0m\u001b[1;33m\u001b[0m\u001b[0m\n\u001b[0;32m    793\u001b[0m                 \u001b[1;32mraise\u001b[0m \u001b[0mNotConnected\u001b[0m\u001b[1;33m(\u001b[0m\u001b[1;33m)\u001b[0m\u001b[1;33m\u001b[0m\u001b[0m\n",
        "\u001b[1;32m/usr/lib/python2.7/httplib.pyc\u001b[0m in \u001b[0;36mconnect\u001b[1;34m(self)\u001b[0m\n\u001b[0;32m    770\u001b[0m         \u001b[1;34m\"\"\"Connect to the host and port specified in __init__.\"\"\"\u001b[0m\u001b[1;33m\u001b[0m\u001b[0m\n\u001b[0;32m    771\u001b[0m         self.sock = socket.create_connection((self.host,self.port),\n\u001b[1;32m--> 772\u001b[1;33m                                              self.timeout, self.source_address)\n\u001b[0m\u001b[0;32m    773\u001b[0m \u001b[1;33m\u001b[0m\u001b[0m\n\u001b[0;32m    774\u001b[0m         \u001b[1;32mif\u001b[0m \u001b[0mself\u001b[0m\u001b[1;33m.\u001b[0m\u001b[0m_tunnel_host\u001b[0m\u001b[1;33m:\u001b[0m\u001b[1;33m\u001b[0m\u001b[0m\n",
        "\u001b[1;32m/usr/lib/python2.7/socket.pyc\u001b[0m in \u001b[0;36mcreate_connection\u001b[1;34m(address, timeout, source_address)\u001b[0m\n\u001b[0;32m    560\u001b[0m             \u001b[1;32mif\u001b[0m \u001b[0msource_address\u001b[0m\u001b[1;33m:\u001b[0m\u001b[1;33m\u001b[0m\u001b[0m\n\u001b[0;32m    561\u001b[0m                 \u001b[0msock\u001b[0m\u001b[1;33m.\u001b[0m\u001b[0mbind\u001b[0m\u001b[1;33m(\u001b[0m\u001b[0msource_address\u001b[0m\u001b[1;33m)\u001b[0m\u001b[1;33m\u001b[0m\u001b[0m\n\u001b[1;32m--> 562\u001b[1;33m             \u001b[0msock\u001b[0m\u001b[1;33m.\u001b[0m\u001b[0mconnect\u001b[0m\u001b[1;33m(\u001b[0m\u001b[0msa\u001b[0m\u001b[1;33m)\u001b[0m\u001b[1;33m\u001b[0m\u001b[0m\n\u001b[0m\u001b[0;32m    563\u001b[0m             \u001b[1;32mreturn\u001b[0m \u001b[0msock\u001b[0m\u001b[1;33m\u001b[0m\u001b[0m\n\u001b[0;32m    564\u001b[0m \u001b[1;33m\u001b[0m\u001b[0m\n",
        "\u001b[1;32m/usr/lib/python2.7/socket.pyc\u001b[0m in \u001b[0;36mmeth\u001b[1;34m(name, self, *args)\u001b[0m\n\u001b[0;32m    222\u001b[0m \u001b[1;33m\u001b[0m\u001b[0m\n\u001b[0;32m    223\u001b[0m \u001b[1;32mdef\u001b[0m \u001b[0mmeth\u001b[0m\u001b[1;33m(\u001b[0m\u001b[0mname\u001b[0m\u001b[1;33m,\u001b[0m\u001b[0mself\u001b[0m\u001b[1;33m,\u001b[0m\u001b[1;33m*\u001b[0m\u001b[0margs\u001b[0m\u001b[1;33m)\u001b[0m\u001b[1;33m:\u001b[0m\u001b[1;33m\u001b[0m\u001b[0m\n\u001b[1;32m--> 224\u001b[1;33m     \u001b[1;32mreturn\u001b[0m \u001b[0mgetattr\u001b[0m\u001b[1;33m(\u001b[0m\u001b[0mself\u001b[0m\u001b[1;33m.\u001b[0m\u001b[0m_sock\u001b[0m\u001b[1;33m,\u001b[0m\u001b[0mname\u001b[0m\u001b[1;33m)\u001b[0m\u001b[1;33m(\u001b[0m\u001b[1;33m*\u001b[0m\u001b[0margs\u001b[0m\u001b[1;33m)\u001b[0m\u001b[1;33m\u001b[0m\u001b[0m\n\u001b[0m\u001b[0;32m    225\u001b[0m \u001b[1;33m\u001b[0m\u001b[0m\n\u001b[0;32m    226\u001b[0m \u001b[1;32mfor\u001b[0m \u001b[0m_m\u001b[0m \u001b[1;32min\u001b[0m \u001b[0m_socketmethods\u001b[0m\u001b[1;33m:\u001b[0m\u001b[1;33m\u001b[0m\u001b[0m\n",
        "\u001b[1;31mKeyboardInterrupt\u001b[0m: "
       ]
      }
     ],
     "prompt_number": 6
    },
    {
     "cell_type": "code",
     "collapsed": false,
     "input": [
      "import pandas as pd\n",
      "df=pd.DataFrame.from_dict(data.values())\n",
      "df['Around and Around']\n"
     ],
     "language": "python",
     "metadata": {},
     "outputs": []
    },
    {
     "cell_type": "code",
     "collapsed": false,
     "input": [
      "h=\"dead -\"\n",
      "h.index('-')\n",
      "h[0:5]"
     ],
     "language": "python",
     "metadata": {},
     "outputs": []
    },
    {
     "cell_type": "code",
     "collapsed": false,
     "input": [
      "for column in df.columns:\n",
      "    if column != 'year':\n",
      "        df[column]=df[column].notnull()"
     ],
     "language": "python",
     "metadata": {},
     "outputs": []
    },
    {
     "cell_type": "code",
     "collapsed": false,
     "input": [
      "songnames = [h for h in df.columns if h!='year']"
     ],
     "language": "python",
     "metadata": {},
     "outputs": []
    },
    {
     "cell_type": "code",
     "collapsed": false,
     "input": [],
     "language": "python",
     "metadata": {},
     "outputs": []
    },
    {
     "cell_type": "code",
     "collapsed": false,
     "input": [
      "df.to_csv('/home/vagrant/notebooks/fall_2014_lessons/dataexplor06/GDsetlists.csv', index=False)"
     ],
     "language": "python",
     "metadata": {},
     "outputs": []
    },
    {
     "cell_type": "code",
     "collapsed": false,
     "input": [
      "songmeans = [(h, df.describe()[h].mean) for h in df.columns]"
     ],
     "language": "python",
     "metadata": {},
     "outputs": []
    },
    {
     "cell_type": "code",
     "collapsed": false,
     "input": [
      "data2"
     ],
     "language": "python",
     "metadata": {},
     "outputs": []
    },
    {
     "cell_type": "code",
     "collapsed": false,
     "input": [
      "darkstars = data2['Dark Star'].count()"
     ],
     "language": "python",
     "metadata": {},
     "outputs": []
    },
    {
     "cell_type": "code",
     "collapsed": false,
     "input": [
      "import matplotlib.pyplot as plt"
     ],
     "language": "python",
     "metadata": {},
     "outputs": []
    },
    {
     "cell_type": "code",
     "collapsed": false,
     "input": [
      "plt.plot(darkstars)"
     ],
     "language": "python",
     "metadata": {},
     "outputs": []
    },
    {
     "cell_type": "code",
     "collapsed": false,
     "input": [],
     "language": "python",
     "metadata": {},
     "outputs": []
    }
   ],
   "metadata": {}
  }
 ]
}