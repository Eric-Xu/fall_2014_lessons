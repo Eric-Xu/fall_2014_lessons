{
 "metadata": {
  "name": "",
  "signature": "sha256:073767e73c29b5b060b3a331b43b52dbf07f76243f4b1228af40aa9f2cd15f0d"
 },
 "nbformat": 3,
 "nbformat_minor": 0,
 "worksheets": [
  {
   "cells": [
    {
     "cell_type": "code",
     "collapsed": false,
     "input": [
      "from bs4 import BeautifulSoup\n",
      "import requests\n",
      "from IPython.display import Image"
     ],
     "language": "python",
     "metadata": {},
     "outputs": [],
     "prompt_number": 19
    },
    {
     "cell_type": "code",
     "collapsed": false,
     "input": [
      "Image(url=\"https://www.movieposter.com/posters/archive/main/107/MPW-53648\")"
     ],
     "language": "python",
     "metadata": {},
     "outputs": [
      {
       "html": [
        "<img src=\"https://www.movieposter.com/posters/archive/main/107/MPW-53648\"/>"
       ],
       "metadata": {},
       "output_type": "pyout",
       "prompt_number": 2,
       "text": [
        "<IPython.core.display.Image at 0x36886d0>"
       ]
      }
     ],
     "prompt_number": 2
    },
    {
     "cell_type": "code",
     "collapsed": false,
     "input": [
      "url=\"http://www.cs.cmu.edu/~./gdead/72.html\"\n",
      "website = requests.get(url)\n",
      "soup=BeautifulSoup(website.text)"
     ],
     "language": "python",
     "metadata": {},
     "outputs": [],
     "prompt_number": 3
    },
    {
     "cell_type": "code",
     "collapsed": false,
     "input": [
      "soup.prettify()"
     ],
     "language": "python",
     "metadata": {},
     "outputs": [
      {
       "metadata": {},
       "output_type": "pyout",
       "prompt_number": 4,
       "text": [
        "u'<html>\\n <head>\\n  <title>\\n   Grateful Dead Setlists: 1972\\n  </title>\\n </head>\\n <body>\\n  <h1>\\n   Grateful Dead Setlists: 1972\\n  </h1>\\n  <ul>\\n   <li>\\n    <a href=\"dead-sets/72/1-2-72.txt\">\\n     Winterland Arena, San Francisco, CA (1/2/72)\\n    </a>\\n   </li>\\n   <li>\\n    <a href=\"dead-sets/72/3-5-72.txt\">\\n     Winteriand Arena, San Francisco, CA (3/5/72)\\n    </a>\\n   </li>\\n   <li>\\n    <a href=\"dead-sets/72/3-21-72.txt\">\\n     Academy of Music, New York, NY (3/21/72)\\n    </a>\\n   </li>\\n   <li>\\n    <a href=\"dead-sets/72/3-22-72.txt\">\\n     Academy of Music, New York, NY (3/22/72)\\n    </a>\\n   </li>\\n   <li>\\n    <a href=\"dead-sets/72/3-23-72.txt\">\\n     Academy of Music, New York, NY (3/23/72)\\n    </a>\\n   </li>\\n   <li>\\n    <a href=\"dead-sets/72/3-25-72.txt\">\\n     Academy of Music, New York, NY (3/25/72)\\n    </a>\\n   </li>\\n   <li>\\n    <a href=\"dead-sets/72/3-26-72.txt\">\\n     Academy of Music, New York, NY (3/26/72)\\n    </a>\\n   </li>\\n   <li>\\n    <a href=\"dead-sets/72/3-27-72.txt\">\\n     Academy of Music, New York, NY (3/27/72)\\n    </a>\\n   </li>\\n   <li>\\n    <a href=\"dead-sets/72/3-28-72.txt\">\\n     Academy of Music, New York, NY (3/28/72)\\n    </a>\\n   </li>\\n   <li>\\n    <a href=\"dead-sets/72/4-7-72.txt\">\\n     Empire Pool, Wembley, XENG (4/7/72)\\n    </a>\\n   </li>\\n   <li>\\n    <a href=\"dead-sets/72/4-8-72.txt\">\\n     Empire Pool, Wembley, XENG (4/8/72)\\n    </a>\\n   </li>\\n   <li>\\n    <a href=\"dead-sets/72/4-11-72.txt\">\\n     City Hall, Newcastle, XENG (4/11/72)\\n    </a>\\n   </li>\\n   <li>\\n    <a href=\"dead-sets/72/4-14-72.txt\">\\n     Tivoii Theater, Copenhagen, XDEN (4/14/72)\\n    </a>\\n   </li>\\n   <li>\\n    <a href=\"dead-sets/72/4-15-72.txt\">\\n     Tivoli Theater, Copenhagen, XDEN (4/15/72)\\n    </a>\\n   </li>\\n   <li>\\n    <a href=\"dead-sets/72/4-16-72.txt\">\\n     Aarhus University, Aarhus, XDEN (4/16/72)\\n    </a>\\n   </li>\\n   <li>\\n    <a href=\"dead-sets/72/4-17-72.txt\">\\n     Tivoii Gardens, Copenhagen, XDEN (4/17/72)\\n    </a>\\n   </li>\\n   <li>\\n    <a href=\"dead-sets/72/4-21-72.txt\">\\n     Beat Club, Bremen, XWGER (4/21/72)\\n    </a>\\n   </li>\\n   <li>\\n    <a href=\"dead-sets/72/4-24-72.txt\">\\n     Rheinhalle, Dusseldorf, XWGER (4/24/72)\\n    </a>\\n   </li>\\n   <li>\\n    <a href=\"dead-sets/72/4-26-72.txt\">\\n     Jahrhundert Halle, Frankfurt, XWGER (4/26/72)\\n    </a>\\n   </li>\\n   <li>\\n    <a href=\"dead-sets/72/4-29-72.txt\">\\n     Musikhalle, Hamburg, XWGER (4/29/72)\\n    </a>\\n   </li>\\n   <li>\\n    <a href=\"dead-sets/72/5-3-72.txt\">\\n     Olympia Theater, Paris, XFRA (5/3/72)\\n    </a>\\n   </li>\\n   <li>\\n    <a href=\"dead-sets/72/5-4-72.txt\">\\n     Olympia Theater, Paris, XFRA (5/4/72)\\n    </a>\\n   </li>\\n   <li>\\n    <a href=\"dead-sets/72/5-7-72.txt\">\\n     Bickershaw Festival, Wigan, XENG (5/7/72)\\n    </a>\\n   </li>\\n   <li>\\n    <a href=\"dead-sets/72/5-10-72.txt\">\\n     Concertgebouw, Amsterdam, XNETHER (5/10/72)\\n    </a>\\n   </li>\\n   <li>\\n    <a href=\"dead-sets/72/5-11-72.txt\">\\n     Civic Hall, Rotterdam, XNETHER (5/11/72)\\n    </a>\\n   </li>\\n   <li>\\n    <a href=\"dead-sets/72/5-13-72.txt\">\\n     Fairgrounds, Lille, XFRA (5/13/72)\\n    </a>\\n   </li>\\n   <li>\\n    <a href=\"dead-sets/72/5-16-72.txt\">\\n     Radio Luxembourg, XLUX (5/16/72)\\n    </a>\\n   </li>\\n   <li>\\n    <a href=\"dead-sets/72/5-18-72.txt\">\\n     Deutsches Museum Halle, Munich, XWGER (5/18/72)\\n    </a>\\n   </li>\\n   <li>\\n    <a href=\"dead-sets/72/5-23-72.txt\">\\n     The Strand Lyceum, London, XENG (5/23/72)\\n    </a>\\n   </li>\\n   <li>\\n    <a href=\"dead-sets/72/5-24-72.txt\">\\n     The Strand Lyceum, London, XENG (5/24/72)\\n    </a>\\n   </li>\\n   <li>\\n    <a href=\"dead-sets/72/5-25-72.txt\">\\n     The Strand Lyceum, London, XENG (5/25/72)\\n    </a>\\n   </li>\\n   <li>\\n    <a href=\"dead-sets/72/5-26-72.txt\">\\n     The Strand Lyceum, London, XENG (5/26/72)\\n    </a>\\n   </li>\\n   <li>\\n    <a href=\"dead-sets/72/6-17-72.txt\">\\n     Hollywood Bowl, Hollywood, CA (6/17/72)\\n    </a>\\n   </li>\\n   <li>\\n    <a href=\"dead-sets/72/7-10-72.txt\">\\n     Roosevelt Stadium, Jersey City, NJ (7/10/72)\\n    </a>\\n   </li>\\n   <li>\\n    <a href=\"dead-sets/72/7-16-72.txt\">\\n     Dillon Stadium, Hartford, CT (7/16/72)\\n    </a>\\n   </li>\\n   <li>\\n    <a href=\"dead-sets/72/7-21-72.txt\">\\n     Paramount Northwest Theatre, Seattle, WA (7/21/72)\\n    </a>\\n   </li>\\n   <li>\\n    <a href=\"dead-sets/72/7-22-72.txt\">\\n     Paramount Northwest Theatre, Seattle, WA (7/22/72)\\n    </a>\\n   </li>\\n   <li>\\n    <a href=\"dead-sets/72/7-25-72.txt\">\\n     Paramount Theater, Portland, OR (7/25/72)\\n    </a>\\n   </li>\\n   <li>\\n    <a href=\"dead-sets/72/7-26-72.txt\">\\n     Paramount Theater, Portland, OR (7/26/72)\\n    </a>\\n   </li>\\n   <li>\\n    <a href=\"dead-sets/72/8-12-72.txt\">\\n     Memorial Auditorium, Sacramento, CA (8/12/72)\\n    </a>\\n   </li>\\n   <li>\\n    <a href=\"dead-sets/72/8-20-72.txt\">\\n     Civic Auditorium, San Jose, CA (8/20/72)\\n    </a>\\n   </li>\\n   <li>\\n    <a href=\"dead-sets/72/8-21-72.txt\">\\n     Berkeley Community Theatre, Berkeley, CA (8/21/72)\\n    </a>\\n   </li>\\n   <li>\\n    <a href=\"dead-sets/72/8-22-72.txt\">\\n     Berkeley Community Theatre, Berkeley, CA (8/22/72)\\n    </a>\\n   </li>\\n   <li>\\n    <a href=\"dead-sets/72/8-24-72.txt\">\\n     Berkeley Community Theatre, Berkeley, CA (8/24/72)\\n    </a>\\n   </li>\\n   <li>\\n    <a href=\"dead-sets/72/8-25-72.txt\">\\n     Berkeley Community Theatre, Berkeley, CA (8/25/72)\\n    </a>\\n   </li>\\n   <li>\\n    <a href=\"dead-sets/72/8-27-72.txt\">\\n     Old Renaissance Faire Grounds, Veneta, OR (8/27/72)\\n    </a>\\n   </li>\\n   <li>\\n    <a href=\"dead-sets/72/9-3-72.txt\">\\n     Folsom Field, University of Colorado, Boulder, CO (9/3/72)\\n    </a>\\n   </li>\\n   <li>\\n    <a href=\"dead-sets/72/9-9-72.txt\">\\n     Hollywood Palladium, Hollywood, CA (9/9/72)\\n    </a>\\n   </li>\\n   <li>\\n    <a href=\"dead-sets/72/9-10-72.txt\">\\n     Hollywood Palladium, Hollywood, CA (9/10/72)\\n    </a>\\n   </li>\\n   <li>\\n    <a href=\"dead-sets/72/9-15-72.txt\">\\n     Boston Music Hail, Boston, MA (9/15/72)\\n    </a>\\n   </li>\\n   <li>\\n    <a href=\"dead-sets/72/9-16-72.txt\">\\n     Boston Music Hail, Boston, MA (9/16/72)\\n    </a>\\n   </li>\\n   <li>\\n    <a href=\"dead-sets/72/9-17-72.txt\">\\n     Civic Center, Baltimore, MD (9/17/72)\\n    </a>\\n   </li>\\n   <li>\\n    <a href=\"dead-sets/72/9-19-72.txt\">\\n     Roosevelt Stadium, Jersey City, NJ (9/19/72)\\n    </a>\\n   </li>\\n   <li>\\n    <a href=\"dead-sets/72/9-21-72.txt\">\\n     The Spectrum, Philadelphia, PA (9/21/72)\\n    </a>\\n   </li>\\n   <li>\\n    <a href=\"dead-sets/72/9-23-72.txt\">\\n     The Palace Theater, Waterbury, CT (9/23/72)\\n    </a>\\n   </li>\\n   <li>\\n    <a href=\"dead-sets/72/9-24-72.txt\">\\n     The Palace Theater, Waterbury, CT (9/24/72)\\n    </a>\\n   </li>\\n   <li>\\n    <a href=\"dead-sets/72/9-26-72.txt\">\\n     Stanley Theatre, Jersey City, NJ (9/26/72)\\n    </a>\\n   </li>\\n   <li>\\n    <a href=\"dead-sets/72/9-27-72.txt\">\\n     Stanley Theatre, Jersey City, NJ (9/27/72)\\n    </a>\\n   </li>\\n   <li>\\n    <a href=\"dead-sets/72/9-28-72.txt\">\\n     Stanley Theatre, Jersey City, NJ (9/28/72)\\n    </a>\\n   </li>\\n   <li>\\n    <a href=\"dead-sets/72/9-30-72.txt\">\\n     American University, Washington, DC (9/30/72)\\n    </a>\\n   </li>\\n   <li>\\n    <a href=\"dead-sets/72/10-2-72.txt\">\\n     Civic Center Arena, Springfield, MA (10/2/72)\\n    </a>\\n   </li>\\n   <li>\\n    <a href=\"dead-sets/72/10-9-72.txt\">\\n     Winterland Arena, San Francisco, CA (10/9/72)\\n    </a>\\n   </li>\\n   <li>\\n    <a href=\"dead-sets/72/10-17-72.txt\">\\n     Fox Theatre, St. Louis, MO (10/17/72)\\n    </a>\\n   </li>\\n   <li>\\n    <a href=\"dead-sets/72/10-18-72.txt\">\\n     Fox Theatre, St. Louis, MO (10/18/72)\\n    </a>\\n   </li>\\n   <li>\\n    <a href=\"dead-sets/72/10-19-72.txt\">\\n     Fox Theatre, St. Louis, MO (10/19/72)\\n    </a>\\n   </li>\\n   <li>\\n    <a href=\"dead-sets/72/10-21-72.txt\">\\n     Vanderbilt University, Nashville, TN (10/21/72)\\n    </a>\\n   </li>\\n   <li>\\n    <a href=\"dead-sets/72/10-23-72.txt\">\\n     Performing Arts Center, Milwaukee, WI (10/23/72)\\n    </a>\\n   </li>\\n   <li>\\n    <a href=\"dead-sets/72/10-24-72.txt\">\\n     Performing Arts Center, Milwaukee, WI (10/24/72)\\n    </a>\\n   </li>\\n   <li>\\n    <a href=\"dead-sets/72/10-26-72.txt\">\\n     Music Mall, Cincinnati, OH (10/26/72)\\n    </a>\\n   </li>\\n   <li>\\n    <a href=\"dead-sets/72/10-27-72.txt\">\\n     Veterans Memorial Auditorium, Columbus, OH (10/27/72)\\n    </a>\\n   </li>\\n   <li>\\n    <a href=\"dead-sets/72/10-28-72.txt\">\\n     Public Hall, Cleveland, OH (10/28/72)\\n    </a>\\n   </li>\\n   <li>\\n    <a href=\"dead-sets/72/10-30-72.txt\">\\n     Ford Auditorium, Detroit, MI (10/30/72)\\n    </a>\\n   </li>\\n   <li>\\n    <a href=\"dead-sets/72/11-12-72.txt\">\\n     Memorial Hall, Kansas City, MO (11/12/72)\\n    </a>\\n   </li>\\n   <li>\\n    <a href=\"dead-sets/72/11-13-72.txt\">\\n     Memorial Hall, Kansas City, MO (11/13/72)\\n    </a>\\n   </li>\\n   <li>\\n    <a href=\"dead-sets/72/11-14-72.txt\">\\n     Oklahoma City Music Hall, Oklahoma City, OK (11/14/72)\\n    </a>\\n   </li>\\n   <li>\\n    <a href=\"dead-sets/72/11-15-72.txt\">\\n     Oklahoma City Music Hall, Oklahoma City, OK (11/15/72)\\n    </a>\\n   </li>\\n   <li>\\n    <a href=\"dead-sets/72/11-17-72.txt\">\\n     Wichita, KS (11/17/72)\\n    </a>\\n   </li>\\n   <li>\\n    <a href=\"dead-sets/72/11-18-72.txt\">\\n     Hofheinz Pavilion, Houston, TX (11/18/72)\\n    </a>\\n   </li>\\n   <li>\\n    <a href=\"dead-sets/72/11-19-72.txt\">\\n     Hofheinz Pavilion, Houston, TX (11/19/72)\\n    </a>\\n   </li>\\n   <li>\\n    <a href=\"dead-sets/72/11-22-72.txt\">\\n     Municipal Auditorium, Austin, TX (11/22/72)\\n    </a>\\n   </li>\\n   <li>\\n    <a href=\"dead-sets/72/11-24-72.txt\">\\n     Memorial Auditorium, Dallas, TX (11/24/72)\\n    </a>\\n   </li>\\n   <li>\\n    <a href=\"dead-sets/72/11-26-72.txt\">\\n     Civic Auditorium, SanAntonio, TX (11/26/72)\\n    </a>\\n   </li>\\n   <li>\\n    <a href=\"dead-sets/72/12-10-72.txt\">\\n     Winterland Arena, San Francisco, CA (12/10/72)\\n    </a>\\n   </li>\\n   <li>\\n    <a href=\"dead-sets/72/12-11-72.txt\">\\n     Winterland Arena, San Francisco, CA (12/11/72)\\n    </a>\\n   </li>\\n   <li>\\n    <a href=\"dead-sets/72/12-12-72.txt\">\\n     Winterland Arena, San Francisco, CA (12/12/72)\\n    </a>\\n   </li>\\n   <li>\\n    <a href=\"dead-sets/72/12-15-72.txt\">\\n     Long Beach Arena, Long Beach, CA (12/15/72)\\n    </a>\\n   </li>\\n   <li>\\n    <a href=\"dead-sets/72/12-31-72.txt\">\\n     Winterland Arena, San Francisco, CA (12/31/72)\\n    </a>\\n   </li>\\n  </ul>\\n </body>\\n</html>'"
       ]
      }
     ],
     "prompt_number": 4
    },
    {
     "cell_type": "code",
     "collapsed": false,
     "input": [
      "for link in soup.find_all('a'):\n",
      "    print(link.get('href'))"
     ],
     "language": "python",
     "metadata": {},
     "outputs": [
      {
       "output_type": "stream",
       "stream": "stdout",
       "text": [
        "dead-sets/72/1-2-72.txt\n",
        "dead-sets/72/3-5-72.txt\n",
        "dead-sets/72/3-21-72.txt\n",
        "dead-sets/72/3-22-72.txt\n",
        "dead-sets/72/3-23-72.txt\n",
        "dead-sets/72/3-25-72.txt\n",
        "dead-sets/72/3-26-72.txt\n",
        "dead-sets/72/3-27-72.txt\n",
        "dead-sets/72/3-28-72.txt\n",
        "dead-sets/72/4-7-72.txt\n",
        "dead-sets/72/4-8-72.txt\n",
        "dead-sets/72/4-11-72.txt\n",
        "dead-sets/72/4-14-72.txt\n",
        "dead-sets/72/4-15-72.txt\n",
        "dead-sets/72/4-16-72.txt\n",
        "dead-sets/72/4-17-72.txt\n",
        "dead-sets/72/4-21-72.txt\n",
        "dead-sets/72/4-24-72.txt\n",
        "dead-sets/72/4-26-72.txt\n",
        "dead-sets/72/4-29-72.txt\n",
        "dead-sets/72/5-3-72.txt\n",
        "dead-sets/72/5-4-72.txt\n",
        "dead-sets/72/5-7-72.txt\n",
        "dead-sets/72/5-10-72.txt\n",
        "dead-sets/72/5-11-72.txt\n",
        "dead-sets/72/5-13-72.txt\n",
        "dead-sets/72/5-16-72.txt\n",
        "dead-sets/72/5-18-72.txt\n",
        "dead-sets/72/5-23-72.txt\n",
        "dead-sets/72/5-24-72.txt\n",
        "dead-sets/72/5-25-72.txt\n",
        "dead-sets/72/5-26-72.txt\n",
        "dead-sets/72/6-17-72.txt\n",
        "dead-sets/72/7-10-72.txt\n",
        "dead-sets/72/7-16-72.txt\n",
        "dead-sets/72/7-21-72.txt\n",
        "dead-sets/72/7-22-72.txt\n",
        "dead-sets/72/7-25-72.txt\n",
        "dead-sets/72/7-26-72.txt\n",
        "dead-sets/72/8-12-72.txt\n",
        "dead-sets/72/8-20-72.txt\n",
        "dead-sets/72/8-21-72.txt\n",
        "dead-sets/72/8-22-72.txt\n",
        "dead-sets/72/8-24-72.txt\n",
        "dead-sets/72/8-25-72.txt\n",
        "dead-sets/72/8-27-72.txt\n",
        "dead-sets/72/9-3-72.txt\n",
        "dead-sets/72/9-9-72.txt\n",
        "dead-sets/72/9-10-72.txt\n",
        "dead-sets/72/9-15-72.txt\n",
        "dead-sets/72/9-16-72.txt\n",
        "dead-sets/72/9-17-72.txt\n",
        "dead-sets/72/9-19-72.txt\n",
        "dead-sets/72/9-21-72.txt\n",
        "dead-sets/72/9-23-72.txt\n",
        "dead-sets/72/9-24-72.txt\n",
        "dead-sets/72/9-26-72.txt\n",
        "dead-sets/72/9-27-72.txt\n",
        "dead-sets/72/9-28-72.txt\n",
        "dead-sets/72/9-30-72.txt\n",
        "dead-sets/72/10-2-72.txt\n",
        "dead-sets/72/10-9-72.txt\n",
        "dead-sets/72/10-17-72.txt\n",
        "dead-sets/72/10-18-72.txt\n",
        "dead-sets/72/10-19-72.txt\n",
        "dead-sets/72/10-21-72.txt\n",
        "dead-sets/72/10-23-72.txt\n",
        "dead-sets/72/10-24-72.txt\n",
        "dead-sets/72/10-26-72.txt\n",
        "dead-sets/72/10-27-72.txt\n",
        "dead-sets/72/10-28-72.txt\n",
        "dead-sets/72/10-30-72.txt\n",
        "dead-sets/72/11-12-72.txt\n",
        "dead-sets/72/11-13-72.txt\n",
        "dead-sets/72/11-14-72.txt\n",
        "dead-sets/72/11-15-72.txt\n",
        "dead-sets/72/11-17-72.txt\n",
        "dead-sets/72/11-18-72.txt\n",
        "dead-sets/72/11-19-72.txt\n",
        "dead-sets/72/11-22-72.txt\n",
        "dead-sets/72/11-24-72.txt\n",
        "dead-sets/72/11-26-72.txt\n",
        "dead-sets/72/12-10-72.txt\n",
        "dead-sets/72/12-11-72.txt\n",
        "dead-sets/72/12-12-72.txt\n",
        "dead-sets/72/12-15-72.txt\n",
        "dead-sets/72/12-31-72.txt\n"
       ]
      }
     ],
     "prompt_number": 5
    },
    {
     "cell_type": "code",
     "collapsed": false,
     "input": [
      "data = {}\n",
      "for year in range(94,95):\n",
      "    print year\n",
      "    top_url = \"http://www.cs.cmu.edu/~./gdead/%d.html\"%year\n",
      "    raw_text = requests.get(top_url)\n",
      "    soup= BeautifulSoup(raw_text.text)\n",
      "    for show_link in soup.find_all('a'):\n",
      "        show_url = \"http://www.cs.cmu.edu/~./gdead/%s\"%show_link.get('href')\n",
      "        raw_text = requests.get(show_url)\n",
      "        soup2 = BeautifulSoup(raw_text.text)\n",
      "        lines = soup2.text.split('\\n')\n",
      "        date = lines[0].split('(')[1].split(')')[0]\n",
      "        uniquelines=[h for h in lines[2:] if h!='']\n",
      "        results={}\n",
      "        results['year']=\"19%0.2d\"%year\n",
      "        for h in uniquelines:\n",
      "            num=len(h)\n",
      "            try:\n",
      "                num = h.index('-')\n",
      "            except:\n",
      "                pass\n",
      "            cleaned = h[0:num].strip()\n",
      "            results[cleaned]=1\n",
      "        data[show_link.get('href')]=results\n"
     ],
     "language": "python",
     "metadata": {},
     "outputs": [
      {
       "output_type": "stream",
       "stream": "stdout",
       "text": [
        "94\n"
       ]
      },
      {
       "ename": "IndexError",
       "evalue": "list index out of range",
       "output_type": "pyerr",
       "traceback": [
        "\u001b[0;31m---------------------------------------------------------------------------\u001b[0m\n\u001b[0;31mIndexError\u001b[0m                                Traceback (most recent call last)",
        "\u001b[0;32m<ipython-input-22-88c03d2db98e>\u001b[0m in \u001b[0;36m<module>\u001b[0;34m()\u001b[0m\n\u001b[1;32m     10\u001b[0m         \u001b[0msoup2\u001b[0m \u001b[0;34m=\u001b[0m \u001b[0mBeautifulSoup\u001b[0m\u001b[0;34m(\u001b[0m\u001b[0mraw_text\u001b[0m\u001b[0;34m.\u001b[0m\u001b[0mtext\u001b[0m\u001b[0;34m)\u001b[0m\u001b[0;34m\u001b[0m\u001b[0m\n\u001b[1;32m     11\u001b[0m         \u001b[0mlines\u001b[0m \u001b[0;34m=\u001b[0m \u001b[0msoup2\u001b[0m\u001b[0;34m.\u001b[0m\u001b[0mtext\u001b[0m\u001b[0;34m.\u001b[0m\u001b[0msplit\u001b[0m\u001b[0;34m(\u001b[0m\u001b[0;34m'\\n'\u001b[0m\u001b[0;34m)\u001b[0m\u001b[0;34m\u001b[0m\u001b[0m\n\u001b[0;32m---> 12\u001b[0;31m         \u001b[0mdate\u001b[0m \u001b[0;34m=\u001b[0m \u001b[0mlines\u001b[0m\u001b[0;34m[\u001b[0m\u001b[0;36m0\u001b[0m\u001b[0;34m]\u001b[0m\u001b[0;34m.\u001b[0m\u001b[0msplit\u001b[0m\u001b[0;34m(\u001b[0m\u001b[0;34m'('\u001b[0m\u001b[0;34m)\u001b[0m\u001b[0;34m[\u001b[0m\u001b[0;36m1\u001b[0m\u001b[0;34m]\u001b[0m\u001b[0;34m.\u001b[0m\u001b[0msplit\u001b[0m\u001b[0;34m(\u001b[0m\u001b[0;34m')'\u001b[0m\u001b[0;34m)\u001b[0m\u001b[0;34m[\u001b[0m\u001b[0;36m0\u001b[0m\u001b[0;34m]\u001b[0m\u001b[0;34m\u001b[0m\u001b[0m\n\u001b[0m\u001b[1;32m     13\u001b[0m         \u001b[0muniquelines\u001b[0m\u001b[0;34m=\u001b[0m\u001b[0;34m[\u001b[0m\u001b[0mh\u001b[0m \u001b[0;32mfor\u001b[0m \u001b[0mh\u001b[0m \u001b[0;32min\u001b[0m \u001b[0mlines\u001b[0m\u001b[0;34m[\u001b[0m\u001b[0;36m2\u001b[0m\u001b[0;34m:\u001b[0m\u001b[0;34m]\u001b[0m \u001b[0;32mif\u001b[0m \u001b[0mh\u001b[0m\u001b[0;34m!=\u001b[0m\u001b[0;34m''\u001b[0m\u001b[0;34m]\u001b[0m\u001b[0;34m\u001b[0m\u001b[0m\n\u001b[1;32m     14\u001b[0m         \u001b[0mresults\u001b[0m\u001b[0;34m=\u001b[0m\u001b[0;34m{\u001b[0m\u001b[0;34m}\u001b[0m\u001b[0;34m\u001b[0m\u001b[0m\n",
        "\u001b[0;31mIndexError\u001b[0m: list index out of range"
       ]
      }
     ],
     "prompt_number": 22
    },
    {
     "cell_type": "code",
     "collapsed": false,
     "input": [
      "data"
     ],
     "language": "python",
     "metadata": {},
     "outputs": [
      {
       "metadata": {},
       "output_type": "pyout",
       "prompt_number": 23,
       "text": [
        "{}"
       ]
      }
     ],
     "prompt_number": 23
    },
    {
     "cell_type": "code",
     "collapsed": false,
     "input": [
      "import pandas as pd\n",
      "df=pd.DataFrame.from_dict(data.values())\n",
      "df['Around and Around']\n"
     ],
     "language": "python",
     "metadata": {},
     "outputs": [
      {
       "ename": "NameError",
       "evalue": "name 'data' is not defined",
       "output_type": "pyerr",
       "traceback": [
        "\u001b[0;31m---------------------------------------------------------------------------\u001b[0m\n\u001b[0;31mNameError\u001b[0m                                 Traceback (most recent call last)",
        "\u001b[0;32m<ipython-input-2-e81b98d75dcf>\u001b[0m in \u001b[0;36m<module>\u001b[0;34m()\u001b[0m\n\u001b[1;32m      1\u001b[0m \u001b[0;32mimport\u001b[0m \u001b[0mpandas\u001b[0m \u001b[0;32mas\u001b[0m \u001b[0mpd\u001b[0m\u001b[0;34m\u001b[0m\u001b[0m\n\u001b[0;32m----> 2\u001b[0;31m \u001b[0mdf\u001b[0m\u001b[0;34m=\u001b[0m\u001b[0mpd\u001b[0m\u001b[0;34m.\u001b[0m\u001b[0mDataFrame\u001b[0m\u001b[0;34m.\u001b[0m\u001b[0mfrom_dict\u001b[0m\u001b[0;34m(\u001b[0m\u001b[0mdata\u001b[0m\u001b[0;34m.\u001b[0m\u001b[0mvalues\u001b[0m\u001b[0;34m(\u001b[0m\u001b[0;34m)\u001b[0m\u001b[0;34m)\u001b[0m\u001b[0;34m\u001b[0m\u001b[0m\n\u001b[0m\u001b[1;32m      3\u001b[0m \u001b[0mdf\u001b[0m\u001b[0;34m[\u001b[0m\u001b[0;34m'Around and Around'\u001b[0m\u001b[0;34m]\u001b[0m\u001b[0;34m\u001b[0m\u001b[0m\n",
        "\u001b[0;31mNameError\u001b[0m: name 'data' is not defined"
       ]
      }
     ],
     "prompt_number": 2
    },
    {
     "cell_type": "code",
     "collapsed": false,
     "input": [
      "h=\"dead -\"\n",
      "h.index('-')\n",
      "h[0:5]"
     ],
     "language": "python",
     "metadata": {},
     "outputs": []
    },
    {
     "cell_type": "code",
     "collapsed": false,
     "input": [
      "for column in df.columns:\n",
      "    if column != 'year':\n",
      "        df[column]=df[column].notnull()"
     ],
     "language": "python",
     "metadata": {},
     "outputs": []
    },
    {
     "cell_type": "code",
     "collapsed": false,
     "input": [
      "songnames = [h for h in df.columns if h!='year']"
     ],
     "language": "python",
     "metadata": {},
     "outputs": []
    },
    {
     "cell_type": "code",
     "collapsed": false,
     "input": [],
     "language": "python",
     "metadata": {},
     "outputs": []
    },
    {
     "cell_type": "code",
     "collapsed": false,
     "input": [
      "df.to_csv('/home/vagrant/notebooks/fall_2014_lessons/dataexplor06/GDsetlists.csv', index=False)"
     ],
     "language": "python",
     "metadata": {},
     "outputs": []
    },
    {
     "cell_type": "code",
     "collapsed": false,
     "input": [
      "songmeans = [(h, df.describe()[h].mean) for h in df.columns]"
     ],
     "language": "python",
     "metadata": {},
     "outputs": []
    },
    {
     "cell_type": "code",
     "collapsed": false,
     "input": [
      "data2"
     ],
     "language": "python",
     "metadata": {},
     "outputs": []
    },
    {
     "cell_type": "code",
     "collapsed": false,
     "input": [
      "darkstars = data2['Dark Star'].count()"
     ],
     "language": "python",
     "metadata": {},
     "outputs": []
    },
    {
     "cell_type": "code",
     "collapsed": false,
     "input": [
      "import matplotlib.pyplot as plt"
     ],
     "language": "python",
     "metadata": {},
     "outputs": []
    },
    {
     "cell_type": "code",
     "collapsed": false,
     "input": [
      "plt.plot(darkstars)"
     ],
     "language": "python",
     "metadata": {},
     "outputs": []
    },
    {
     "cell_type": "code",
     "collapsed": false,
     "input": [
      "new_dict={\"d1\": {\"a\":1, \"b\":2}, \"d2\": {\"a\":1, \"b\":2}}"
     ],
     "language": "python",
     "metadata": {},
     "outputs": [],
     "prompt_number": 14
    },
    {
     "cell_type": "code",
     "collapsed": false,
     "input": [
      "pd.DataFrame(new_dict.values())"
     ],
     "language": "python",
     "metadata": {},
     "outputs": [
      {
       "html": [
        "<div style=\"max-height:1000px;max-width:1500px;overflow:auto;\">\n",
        "<table border=\"1\" class=\"dataframe\">\n",
        "  <thead>\n",
        "    <tr style=\"text-align: right;\">\n",
        "      <th></th>\n",
        "      <th>a</th>\n",
        "      <th>b</th>\n",
        "    </tr>\n",
        "  </thead>\n",
        "  <tbody>\n",
        "    <tr>\n",
        "      <th>0</th>\n",
        "      <td> 1</td>\n",
        "      <td> 2</td>\n",
        "    </tr>\n",
        "    <tr>\n",
        "      <th>1</th>\n",
        "      <td> 1</td>\n",
        "      <td> 2</td>\n",
        "    </tr>\n",
        "  </tbody>\n",
        "</table>\n",
        "</div>"
       ],
       "metadata": {},
       "output_type": "pyout",
       "prompt_number": 15,
       "text": [
        "   a  b\n",
        "0  1  2\n",
        "1  1  2"
       ]
      }
     ],
     "prompt_number": 15
    },
    {
     "cell_type": "code",
     "collapsed": false,
     "input": [],
     "language": "python",
     "metadata": {},
     "outputs": []
    }
   ],
   "metadata": {}
  }
 ]
}