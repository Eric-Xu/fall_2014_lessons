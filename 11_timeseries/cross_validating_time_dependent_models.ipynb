{
 "metadata": {
  "name": "",
  "signature": "sha256:43edde91f65fd7eb2c6050cd78eed53dce74b1bc045dd6a2cbd463cbb760c6d1"
 },
 "nbformat": 3,
 "nbformat_minor": 0,
 "worksheets": [
  {
   "cells": [
    {
     "cell_type": "code",
     "collapsed": false,
     "input": [
      "from IPython.display import Image\n",
      "Image(url=\"http://www.sqlserverdatamining.com/ssdm/Portals/1/DataMining/MasterCardPrediction.jpg\")"
     ],
     "language": "python",
     "metadata": {},
     "outputs": [
      {
       "html": [
        "<img src=\"http://www.sqlserverdatamining.com/ssdm/Portals/1/DataMining/MasterCardPrediction.jpg\"/>"
       ],
       "metadata": {},
       "output_type": "pyout",
       "prompt_number": 193,
       "text": [
        "<IPython.core.display.Image at 0x50db550>"
       ]
      }
     ],
     "prompt_number": 193
    },
    {
     "cell_type": "code",
     "collapsed": false,
     "input": [
      "import numpy as np\n",
      "import pandas as pd\n",
      "\n",
      "df = pd.read_csv('/home/vagrant/notebooks/fall_2014_lessons/11_timeseries/SuperHappyFunDataSet.csv')"
     ],
     "language": "python",
     "metadata": {},
     "outputs": [],
     "prompt_number": 9
    },
    {
     "cell_type": "code",
     "collapsed": false,
     "input": [
      "ust = df[['US10Y_yield','US10Y_date']].dropna()\n",
      "ust['date'] = pd.to_datetime(ust['US10Y_date'])\n",
      "ust.head()"
     ],
     "language": "python",
     "metadata": {},
     "outputs": [
      {
       "html": [
        "<div style=\"max-height:1000px;max-width:1500px;overflow:auto;\">\n",
        "<table border=\"1\" class=\"dataframe\">\n",
        "  <thead>\n",
        "    <tr style=\"text-align: right;\">\n",
        "      <th></th>\n",
        "      <th>US10Y_yield</th>\n",
        "      <th>US10Y_date</th>\n",
        "      <th>date</th>\n",
        "    </tr>\n",
        "  </thead>\n",
        "  <tbody>\n",
        "    <tr>\n",
        "      <th>0</th>\n",
        "      <td> 3.8175</td>\n",
        "      <td> 1/1/2003</td>\n",
        "      <td>2003-01-01 00:00:00</td>\n",
        "    </tr>\n",
        "    <tr>\n",
        "      <th>1</th>\n",
        "      <td> 4.0305</td>\n",
        "      <td> 1/2/2003</td>\n",
        "      <td>2003-01-02 00:00:00</td>\n",
        "    </tr>\n",
        "    <tr>\n",
        "      <th>2</th>\n",
        "      <td> 4.0169</td>\n",
        "      <td> 1/3/2003</td>\n",
        "      <td>2003-01-03 00:00:00</td>\n",
        "    </tr>\n",
        "    <tr>\n",
        "      <th>3</th>\n",
        "      <td> 4.0518</td>\n",
        "      <td> 1/6/2003</td>\n",
        "      <td>2003-01-06 00:00:00</td>\n",
        "    </tr>\n",
        "    <tr>\n",
        "      <th>4</th>\n",
        "      <td> 4.0053</td>\n",
        "      <td> 1/7/2003</td>\n",
        "      <td>2003-01-07 00:00:00</td>\n",
        "    </tr>\n",
        "  </tbody>\n",
        "</table>\n",
        "</div>"
       ],
       "metadata": {},
       "output_type": "pyout",
       "prompt_number": 10,
       "text": [
        "   US10Y_yield US10Y_date                date\n",
        "0       3.8175   1/1/2003 2003-01-01 00:00:00\n",
        "1       4.0305   1/2/2003 2003-01-02 00:00:00\n",
        "2       4.0169   1/3/2003 2003-01-03 00:00:00\n",
        "3       4.0518   1/6/2003 2003-01-06 00:00:00\n",
        "4       4.0053   1/7/2003 2003-01-07 00:00:00"
       ]
      }
     ],
     "prompt_number": 10
    },
    {
     "cell_type": "code",
     "collapsed": false,
     "input": [
      "ust.set_index('date', inplace=True)\n",
      "ust.head()\n",
      "ust=ust.drop('US10Y_date', axis=1)\n",
      "ust.head()\n"
     ],
     "language": "python",
     "metadata": {},
     "outputs": [
      {
       "html": [
        "<div style=\"max-height:1000px;max-width:1500px;overflow:auto;\">\n",
        "<table border=\"1\" class=\"dataframe\">\n",
        "  <thead>\n",
        "    <tr style=\"text-align: right;\">\n",
        "      <th></th>\n",
        "      <th>US10Y_yield</th>\n",
        "    </tr>\n",
        "    <tr>\n",
        "      <th>date</th>\n",
        "      <th></th>\n",
        "    </tr>\n",
        "  </thead>\n",
        "  <tbody>\n",
        "    <tr>\n",
        "      <th>2003-01-01</th>\n",
        "      <td> 3.8175</td>\n",
        "    </tr>\n",
        "    <tr>\n",
        "      <th>2003-01-02</th>\n",
        "      <td> 4.0305</td>\n",
        "    </tr>\n",
        "    <tr>\n",
        "      <th>2003-01-03</th>\n",
        "      <td> 4.0169</td>\n",
        "    </tr>\n",
        "    <tr>\n",
        "      <th>2003-01-06</th>\n",
        "      <td> 4.0518</td>\n",
        "    </tr>\n",
        "    <tr>\n",
        "      <th>2003-01-07</th>\n",
        "      <td> 4.0053</td>\n",
        "    </tr>\n",
        "  </tbody>\n",
        "</table>\n",
        "</div>"
       ],
       "metadata": {},
       "output_type": "pyout",
       "prompt_number": 11,
       "text": [
        "            US10Y_yield\n",
        "date                   \n",
        "2003-01-01       3.8175\n",
        "2003-01-02       4.0305\n",
        "2003-01-03       4.0169\n",
        "2003-01-06       4.0518\n",
        "2003-01-07       4.0053"
       ]
      }
     ],
     "prompt_number": 11
    },
    {
     "cell_type": "code",
     "collapsed": false,
     "input": [
      "from random import choice\n",
      "from sklearn.linear_model import LinearRegression\n",
      "from sklearn.metrics import mean_squared_error\n",
      "\n",
      "train_length = 200\n",
      "test_length = 1\n",
      "min_dist = 10\n",
      "model = LinearRegression()\n",
      "\n",
      "Y = ust['US10Y_yield']\n",
      "\n",
      "results = {}\n",
      "for k in range(1,10):\n",
      "    modelsize = k\n",
      "    errors = []\n",
      "    for i in range(5):\n",
      "        train_begin = choice(range(10,len(ust.index)-(train_length+test_length+min_dist)))\n",
      "        test_begin = choice(range(train_begin+min_dist,len(ust.index)-test_length))\n",
      "        train = ust.index[train_begin:train_begin+train_length]\n",
      "        test = ust.index[test_begin:test_begin+test_length]\n",
      "\n",
      "        y_train = Y.ix[train]\n",
      "        X = pd.concat([Y.shift(i) for i in range(1,k+1)], axis=1)\n",
      "        x_train = X.ix[train]\n",
      "        model.fit(x_train,y_train)\n",
      "        y_test = Y.ix[test]\n",
      "        x_test = X.ix[test]\n",
      "        y_hat = model.predict(x_test)\n",
      "        percent_error = (y_hat[0]/y_test.ix[0]-1)\n",
      "        print percent_error\n",
      "        errors.append(percent_error)\n",
      "    results[modelsize]=sum(errors)/5\n",
      "        \n",
      "        \n",
      "    \n",
      "\n",
      "    \n",
      "    "
     ],
     "language": "python",
     "metadata": {},
     "outputs": [
      {
       "output_type": "stream",
       "stream": "stdout",
       "text": [
        "0.0329005507876\n",
        "0.00103240335335\n",
        "-0.00519346185287\n",
        "0.0229311161973\n",
        "0.00676539971184\n",
        "-0.00883986058654\n",
        "0.0270520068372\n",
        "-0.0401553459432\n",
        "-0.0218446533611\n",
        "0.00826895339308\n",
        "0.030319364065"
       ]
      },
      {
       "output_type": "stream",
       "stream": "stdout",
       "text": [
        "\n",
        "0.0628069773366\n",
        "-0.0123529963155\n",
        "-0.00829226696468\n",
        "-0.000820153911186\n",
        "0.0310038552867\n",
        "0.0118926683596\n",
        "0.0198181157583\n",
        "0.0159737391614\n",
        "0.0207194560163"
       ]
      },
      {
       "output_type": "stream",
       "stream": "stdout",
       "text": [
        "\n",
        "-0.0135046066404\n",
        "0.0100184037991\n",
        "0.0458579886771\n",
        "0.00706135320559\n",
        "0.0040525923882\n",
        "-0.015866061118\n",
        "0.0811931287734\n",
        "0.0165041305864\n",
        "0.0631662029523"
       ]
      },
      {
       "output_type": "stream",
       "stream": "stdout",
       "text": [
        "\n",
        "0.0106998540569\n",
        "0.00204159596861\n",
        "-0.017921649248\n",
        "-0.00313956939469\n",
        "-0.0239275933315\n",
        "0.00271251459746\n",
        "-0.0132947905655\n",
        "0.00913903767917\n",
        "-0.00984407679758"
       ]
      },
      {
       "output_type": "stream",
       "stream": "stdout",
       "text": [
        "\n",
        "0.0252703974991\n",
        "0.0420066399331\n",
        "-0.0158078377477\n",
        "0.0110135787486\n",
        "0.00937176686782\n",
        "-0.00961644253783\n",
        "0.0236567151418\n"
       ]
      }
     ],
     "prompt_number": 12
    },
    {
     "cell_type": "code",
     "collapsed": false,
     "input": [
      "from sklearn.linear_model import LinearRegression \n",
      "from sklearn.metrics import mean_squared_error\n",
      "\n",
      "class TimeSeriesModeller:\n",
      "    def __init__(self):\n",
      "        self.model = LinearRegression()\n",
      "        \n",
      "    def fit(self,y):\n",
      "        for ar_size in range(1,10):\n",
      "            train_start = int(len(y)/2)\n",
      "            lagged = pd.concat([Y.shift(i) for i in range(1,ar_size+1)], axis=1)\n",
      "            self.model.fit(lagged.ix[11:train_start],y.ix[11:train_start])\n",
      "            predictions = []\n",
      "            for t in range(train_start, len(y)):\n",
      "                prediction = self.model.predict(lagged.ix[t])\n",
      "                predictions.append(prediction/y.ix[t]-1)\n",
      "            error = mean(predictions)\n",
      "            print \"model size: %s\"%(ar_size)\n",
      "            print \"meansquarederror %f\"%(error)\n",
      "            \n",
      "            "
     ],
     "language": "python",
     "metadata": {},
     "outputs": [],
     "prompt_number": 30
    },
    {
     "cell_type": "code",
     "collapsed": false,
     "input": [
      "modeller = TimeSeriesModeller()"
     ],
     "language": "python",
     "metadata": {},
     "outputs": [],
     "prompt_number": 31
    },
    {
     "cell_type": "code",
     "collapsed": false,
     "input": [
      "modeller.fit(Y)"
     ],
     "language": "python",
     "metadata": {},
     "outputs": [
      {
       "output_type": "stream",
       "stream": "stdout",
       "text": [
        "model size: 1\n",
        "meansquarederror 0.006256\n",
        "model size: 2"
       ]
      },
      {
       "output_type": "stream",
       "stream": "stdout",
       "text": [
        "\n",
        "meansquarederror 0.005973\n",
        "model size: 3"
       ]
      },
      {
       "output_type": "stream",
       "stream": "stdout",
       "text": [
        "\n",
        "meansquarederror 0.005837\n",
        "model size: 4"
       ]
      },
      {
       "output_type": "stream",
       "stream": "stdout",
       "text": [
        "\n",
        "meansquarederror 0.005877\n",
        "model size: 5"
       ]
      },
      {
       "output_type": "stream",
       "stream": "stdout",
       "text": [
        "\n",
        "meansquarederror 0.006090\n",
        "model size: 6"
       ]
      },
      {
       "output_type": "stream",
       "stream": "stdout",
       "text": [
        "\n",
        "meansquarederror 0.006157\n",
        "model size: 7"
       ]
      },
      {
       "output_type": "stream",
       "stream": "stdout",
       "text": [
        "\n",
        "meansquarederror 0.006324\n",
        "model size: 8"
       ]
      },
      {
       "output_type": "stream",
       "stream": "stdout",
       "text": [
        "\n",
        "meansquarederror 0.006512\n",
        "model size: 9"
       ]
      },
      {
       "output_type": "stream",
       "stream": "stdout",
       "text": [
        "\n",
        "meansquarederror 0.006465\n"
       ]
      }
     ],
     "prompt_number": 32
    },
    {
     "cell_type": "code",
     "collapsed": false,
     "input": [],
     "language": "python",
     "metadata": {},
     "outputs": []
    }
   ],
   "metadata": {}
  }
 ]
}