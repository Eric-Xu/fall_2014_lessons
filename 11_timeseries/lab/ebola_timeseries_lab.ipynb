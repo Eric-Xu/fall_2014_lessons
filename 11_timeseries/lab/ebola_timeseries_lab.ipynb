{
 "metadata": {
  "name": "",
  "signature": "sha256:db3e9650237dfbacf0b1e2bae6b560fbf385dc53c8a67e859d492945080c733c"
 },
 "nbformat": 3,
 "nbformat_minor": 0,
 "worksheets": [
  {
   "cells": [
    {
     "cell_type": "code",
     "collapsed": false,
     "input": [
      "import pandas as pd\n",
      "df = pd.DataFrame.from_csv('https://raw.githubusercontent.com/cmrivers/ebola/master/country_timeseries.csv',\n",
      "                 index_col=0)"
     ],
     "language": "python",
     "metadata": {},
     "outputs": [],
     "prompt_number": 3
    },
    {
     "cell_type": "code",
     "collapsed": false,
     "input": [
      "#reproduce epidemic curves for each county"
     ],
     "language": "python",
     "metadata": {},
     "outputs": []
    }
   ],
   "metadata": {}
  }
 ]
}