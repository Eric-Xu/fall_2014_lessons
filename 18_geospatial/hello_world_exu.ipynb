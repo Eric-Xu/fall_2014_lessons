{
 "metadata": {
  "name": "",
  "signature": "sha256:a47fb934b9041ecb3ec3af94df9a0a938cbba1fa97f4928c30b2bafed3a3d168"
 },
 "nbformat": 3,
 "nbformat_minor": 0,
 "worksheets": [
  {
   "cells": [
    {
     "cell_type": "heading",
     "level": 1,
     "metadata": {},
     "source": [
      "Hello, World!"
     ]
    },
    {
     "cell_type": "heading",
     "level": 2,
     "metadata": {},
     "source": [
      "Outline"
     ]
    },
    {
     "cell_type": "code",
     "collapsed": false,
     "input": [],
     "language": "python",
     "metadata": {},
     "outputs": []
    },
    {
     "cell_type": "heading",
     "level": 2,
     "metadata": {},
     "source": [
      "An introduction to GeoJSON"
     ]
    },
    {
     "cell_type": "markdown",
     "metadata": {},
     "source": [
      "Before we can generate a geographic map, we need the data for the contour map (the outlines)"
     ]
    },
    {
     "cell_type": "markdown",
     "metadata": {},
     "source": [
      "link: http://chimera.labs.oreilly.com/books/1230000000345/ch12.html"
     ]
    },
    {
     "cell_type": "code",
     "collapsed": false,
     "input": [
      "# usstates_json = \"/home/vagrant/notebooks/fall_2014_lessons/datasets/geospatial/us-states.json\"\n",
      "usstates_json = \"../datasets/geospatial/us-states.json\""
     ],
     "language": "python",
     "metadata": {},
     "outputs": [],
     "prompt_number": 3
    },
    {
     "cell_type": "code",
     "collapsed": false,
     "input": [
      "#load and parse geoJSON data\n",
      "import json\n",
      "with open(usstates_json) as json_file:\n",
      "    json_data = json.load(json_file)"
     ],
     "language": "python",
     "metadata": {},
     "outputs": [],
     "prompt_number": 4
    },
    {
     "cell_type": "markdown",
     "metadata": {},
     "source": [
      "GeoJSON organization hierarchy:\n",
      " - features (list)\n",
      " - each feature has a geometry\n",
      " - each geometry has a list of coordinates\n",
      " - each coordinate is a lon/lat tuple"
     ]
    },
    {
     "cell_type": "code",
     "collapsed": false,
     "input": [
      "print json_data['features'][6]['properties']"
     ],
     "language": "python",
     "metadata": {},
     "outputs": [
      {
       "output_type": "stream",
       "stream": "stdout",
       "text": [
        "{u'name': u'Connecticut'}\n"
       ]
      }
     ],
     "prompt_number": 20
    },
    {
     "cell_type": "code",
     "collapsed": false,
     "input": [
      "print json_data['features'][6]['geometry'] # contour of entire state"
     ],
     "language": "python",
     "metadata": {},
     "outputs": [
      {
       "output_type": "stream",
       "stream": "stdout",
       "text": [
        "{u'type': u'Polygon', u'coordinates': [[[-73.053528, 42.039048], [-71.799309, 42.022617], [-71.799309, 42.006186], [-71.799309, 41.414677], [-71.859555, 41.321569], [-71.947186, 41.338], [-72.385341, 41.261322], [-72.905651, 41.28323], [-73.130205, 41.146307], [-73.371191, 41.102491], [-73.655992, 40.987475], [-73.727192, 41.102491], [-73.48073, 41.21203], [-73.55193, 41.294184], [-73.486206, 42.050002], [-73.053528, 42.039048]]]}\n"
       ]
      }
     ],
     "prompt_number": 31
    },
    {
     "cell_type": "heading",
     "level": 2,
     "metadata": {},
     "source": [
      "Plotting Connecticut"
     ]
    },
    {
     "cell_type": "markdown",
     "metadata": {},
     "source": [
      "link: http://gis.stackexchange.com/questions/93136/how-to-plot-geo-data-using-matplotlib-python"
     ]
    },
    {
     "cell_type": "code",
     "collapsed": false,
     "input": [
      "#load required packages\n",
      "import matplotlib.pyplot as plt \n",
      "from matplotlib.patches import Polygon\n",
      "%matplotlib inline"
     ],
     "language": "python",
     "metadata": {},
     "outputs": [],
     "prompt_number": 7
    },
    {
     "cell_type": "code",
     "collapsed": false,
     "input": [
      "ct = json_data['features'][6]"
     ],
     "language": "python",
     "metadata": {},
     "outputs": [],
     "prompt_number": 8
    },
    {
     "cell_type": "code",
     "collapsed": false,
     "input": [
      "ct_geometry = json_data['features'][6]['geometry']"
     ],
     "language": "python",
     "metadata": {},
     "outputs": [],
     "prompt_number": 9
    },
    {
     "cell_type": "code",
     "collapsed": false,
     "input": [
      "print ct_geometry"
     ],
     "language": "python",
     "metadata": {},
     "outputs": [
      {
       "output_type": "stream",
       "stream": "stdout",
       "text": [
        "{u'type': u'Polygon', u'coordinates': [[[-73.053528, 42.039048], [-71.799309, 42.022617], [-71.799309, 42.006186], [-71.799309, 41.414677], [-71.859555, 41.321569], [-71.947186, 41.338], [-72.385341, 41.261322], [-72.905651, 41.28323], [-73.130205, 41.146307], [-73.371191, 41.102491], [-73.655992, 40.987475], [-73.727192, 41.102491], [-73.48073, 41.21203], [-73.55193, 41.294184], [-73.486206, 42.050002], [-73.053528, 42.039048]]]}\n"
       ]
      }
     ],
     "prompt_number": 10
    },
    {
     "cell_type": "code",
     "collapsed": false,
     "input": [
      "#Polygon converts raw coordinate data into something that can be \n",
      "#read by pyplot\n",
      "print Polygon(ct_geometry['coordinates'][0]) # the [0] means there's only one shape saved for CT; Hawaii would have several"
     ],
     "language": "python",
     "metadata": {},
     "outputs": [
      {
       "output_type": "stream",
       "stream": "stdout",
       "text": [
        "Poly((-73.0535, 42.039) ...)\n"
       ]
      }
     ],
     "prompt_number": 11
    },
    {
     "cell_type": "code",
     "collapsed": false,
     "input": [
      "BLUE = '#6699cc'\n",
      "fig = plt.figure() \n",
      "ax = fig.gca() \n",
      "patch = Polygon(ct_geometry['coordinates'][0], fc=BLUE, ec='black', alpha=1.0)\n",
      "ax.add_patch(patch)\n",
      "ax.axis('scaled')\n",
      "plt.title('Connecticut')\n",
      "plt.show()"
     ],
     "language": "python",
     "metadata": {},
     "outputs": [
      {
       "metadata": {},
       "output_type": "display_data",
       "png": "[encoded data removed]",
       "text": [
        "<matplotlib.figure.Figure at 0x1049c0990>"
       ]
      }
     ],
     "prompt_number": 12
    },
    {
     "cell_type": "code",
     "collapsed": false,
     "input": [
      "al_geo = json_data['features'][0]['geometry']"
     ],
     "language": "python",
     "metadata": {},
     "outputs": [],
     "prompt_number": 13
    },
    {
     "cell_type": "code",
     "collapsed": false,
     "input": [
      "az_geo = json_data['features'][2]['geometry']"
     ],
     "language": "python",
     "metadata": {},
     "outputs": [],
     "prompt_number": 17
    },
    {
     "cell_type": "code",
     "collapsed": false,
     "input": [
      "fig = plt.figure() \n",
      "ax = fig.gca()\n",
      "patch1 = Polygon(ct_geometry['coordinates'][0], fc='blue', ec=\"black\",alpha=1.0)\n",
      "ax.add_patch(patch1)\n",
      "patch2 = Polygon(al_geo['coordinates'][0], fc='red', ec='black', alpha=1.0)\n",
      "ax.add_patch(patch2)\n",
      "patch3 = Polygon(az_geo['coordinates'][0], fc='orange', ec='black', alpha=1.0)\n",
      "ax.add_patch(patch3)\n",
      "ax.axis('scaled')\n",
      "plt.annotate('Alabama', xy=(-85.5, 35), xytext=(-84,37),\n",
      "            arrowprops=dict(facecolor='black'),\n",
      "            )\n",
      "plt.show()"
     ],
     "language": "python",
     "metadata": {},
     "outputs": [
      {
       "metadata": {},
       "output_type": "display_data",
       "png": "[encoded data removed]",
       "text": [
        "<matplotlib.figure.Figure at 0x104cf29d0>"
       ]
      }
     ],
     "prompt_number": 22
    },
    {
     "cell_type": "heading",
     "level": 2,
     "metadata": {},
     "source": [
      "Plotting every state"
     ]
    },
    {
     "cell_type": "code",
     "collapsed": false,
     "input": [
      "example_1 = json_data['features'][0]['geometry']\n",
      "example_2 = json_data['features'][1]['geometry']\n",
      "print example_1['type']\n",
      "print example_2['type']"
     ],
     "language": "python",
     "metadata": {},
     "outputs": [
      {
       "output_type": "stream",
       "stream": "stdout",
       "text": [
        "Polygon\n",
        "MultiPolygon\n"
       ]
      }
     ],
     "prompt_number": 23
    },
    {
     "cell_type": "code",
     "collapsed": false,
     "input": [
      "Polygon(example_1['coordinates'][0])"
     ],
     "language": "python",
     "metadata": {},
     "outputs": [
      {
       "metadata": {},
       "output_type": "pyout",
       "prompt_number": 24,
       "text": [
        "<matplotlib.patches.Polygon at 0x104bb2390>"
       ]
      }
     ],
     "prompt_number": 24
    },
    {
     "cell_type": "code",
     "collapsed": false,
     "input": [
      "Polygon(example_2['coordinates'][0][0])"
     ],
     "language": "python",
     "metadata": {},
     "outputs": [
      {
       "metadata": {},
       "output_type": "pyout",
       "prompt_number": 25,
       "text": [
        "<matplotlib.patches.Polygon at 0x104a69dd0>"
       ]
      }
     ],
     "prompt_number": 25
    },
    {
     "cell_type": "code",
     "collapsed": false,
     "input": [
      "fig = plt.figure()\n",
      "ax = fig.gca()  \n",
      "for i in range(51):\n",
      "    state_geo = json_data['features'][i]['geometry']\n",
      "    geo_type = state_geo['type']\n",
      "    if geo_type == 'Polygon': # need additional code to account for MultiPolygon\n",
      "        patch = Polygon(state_geo['coordinates'][0], fc='blue', ec='black')\n",
      "    ax.add_patch(patch)\n",
      "ax.axis('scaled')\n",
      "plt.show()"
     ],
     "language": "python",
     "metadata": {},
     "outputs": [
      {
       "metadata": {},
       "output_type": "display_data",
       "png": "[encoded data removed]",
       "text": [
        "<matplotlib.figure.Figure at 0x104a5bfd0>"
       ]
      }
     ],
     "prompt_number": 27
    },
    {
     "cell_type": "code",
     "collapsed": false,
     "input": [
      "fig = plt.figure()\n",
      "ax = fig.gca()\n",
      "for i in range(51):\n",
      "    state_geo = json_data['features'][i]['geometry']\n",
      "    geo_type = state_geo['type']\n",
      "    if geo_type == 'Polygon':\n",
      "        patches = [Polygon(state_geo['coordinates'][0], fc='blue', ec='black')]\n",
      "    elif geo_type == 'MultiPolygon':\n",
      "        patches = [Polygon(geo[0], fc='blue', ec='black') for geo in state_geo['coordinates']]\n",
      "    for patch in patches:\n",
      "        ax.add_patch(patch)\n",
      "ax.axis('scaled')\n",
      "plt.show()"
     ],
     "language": "python",
     "metadata": {},
     "outputs": [
      {
       "metadata": {},
       "output_type": "display_data",
       "png": "[encoded data removed]",
       "text": [
        "<matplotlib.figure.Figure at 0x104d8e750>"
       ]
      }
     ],
     "prompt_number": 28
    },
    {
     "cell_type": "code",
     "collapsed": false,
     "input": [],
     "language": "python",
     "metadata": {},
     "outputs": []
    }
   ],
   "metadata": {}
  }
 ]
}