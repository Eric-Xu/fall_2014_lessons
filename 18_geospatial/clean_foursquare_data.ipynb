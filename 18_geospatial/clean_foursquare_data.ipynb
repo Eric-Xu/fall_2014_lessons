{
 "metadata": {
  "name": "",
  "signature": "sha256:8bb36a5bad6a21da568e7affdafb938f1c0a2c0108764cba678e716a778a4cc1"
 },
 "nbformat": 3,
 "nbformat_minor": 0,
 "worksheets": [
  {
   "cells": [
    {
     "cell_type": "heading",
     "level": 1,
     "metadata": {},
     "source": [
      "Processing Large Data Files"
     ]
    },
    {
     "cell_type": "heading",
     "level": 2,
     "metadata": {},
     "source": [
      "Cleaning Four Square Check-in Dataset"
     ]
    },
    {
     "cell_type": "markdown",
     "metadata": {},
     "source": [
      "This data set contains 2153471 users, 1143092 venues, 1021970 check-ins, 27098490 social connections, and 2809581 ratings that users assigned to venues; all extracted from the Foursquare application through the public API. All users information have been anonymized."
     ]
    },
    {
     "cell_type": "markdown",
     "metadata": {},
     "source": [
      "Link: https://archive.org/details/201309_foursquare_dataset_umn"
     ]
    },
    {
     "cell_type": "heading",
     "level": 2,
     "metadata": {},
     "source": [
      "Outline"
     ]
    },
    {
     "cell_type": "markdown",
     "metadata": {},
     "source": [
      "Goal: extract only check-ins/venues in Manhattan"
     ]
    },
    {
     "cell_type": "markdown",
     "metadata": {},
     "source": [
      "Problem: dataset is too large to load in memory"
     ]
    },
    {
     "cell_type": "markdown",
     "metadata": {},
     "source": [
      "Solution: use readlines buffer_size to load only 1,000 lines at a time"
     ]
    },
    {
     "cell_type": "code",
     "collapsed": false,
     "input": [
      "import numpy as np\n",
      "import pandas as pd\n",
      "location = '/home/vagrant/notebooks/fall_2014_lessons/datasets/foursquare/original/venues.dat'"
     ],
     "language": "python",
     "metadata": {},
     "outputs": [],
     "prompt_number": 3
    },
    {
     "cell_type": "code",
     "collapsed": false,
     "input": [
      "#Manhattan's lat/lon coordinates\n",
      "upperleft_lat_lon = (40.767932,-74.008026)\n",
      "bottomright_lat_lon = (40.710182, -73.973522)"
     ],
     "language": "python",
     "metadata": {},
     "outputs": [],
     "prompt_number": 4
    },
    {
     "cell_type": "code",
     "collapsed": false,
     "input": [
      "#open file as bigfile\n",
      "#only keep if within Manhattan\n",
      "manhattan_venues = {}\n",
      "\n",
      "BUF_SIZE = 1000\n",
      "bigfile = open(location,'r')\n",
      "tmp_lines = bigfile.readlines(BUF_SIZE)\n",
      "while tmp_lines:\n",
      "    for line in tmp_lines:\n",
      "        split = line.split(\" | \")\n",
      "        try:\n",
      "            lat = float(split[1])\n",
      "            lon = float(split[2])\n",
      "            id = int(split[0])\n",
      "        except:\n",
      "            lat, lon, id = -999999,-999999, -999999\n",
      "        if (lat <= upperleft_lat_lon[0] and\n",
      "               lat >= bottomright_lat_lon[0] and \n",
      "               lon >= upperleft_lat_lon[1] and\n",
      "               lon <= bottomright_lat_lon[1]):\n",
      "            manhattan_venues[id]={'lat':lat, 'lon': lon}\n",
      "    tmp_lines = bigfile.readlines(BUF_SIZE)"
     ],
     "language": "python",
     "metadata": {},
     "outputs": [],
     "prompt_number": 5
    },
    {
     "cell_type": "code",
     "collapsed": false,
     "input": [
      "venues = pd.DataFrame.from_dict(manhattan_venues, orient='index')\n",
      "venues.head(5)"
     ],
     "language": "python",
     "metadata": {},
     "outputs": [
      {
       "html": [
        "<div style=\"max-height:1000px;max-width:1500px;overflow:auto;\">\n",
        "<table border=\"1\" class=\"dataframe\">\n",
        "  <thead>\n",
        "    <tr style=\"text-align: right;\">\n",
        "      <th></th>\n",
        "      <th>lat</th>\n",
        "      <th>lon</th>\n",
        "    </tr>\n",
        "  </thead>\n",
        "  <tbody>\n",
        "    <tr>\n",
        "      <th>273</th>\n",
        "      <td> 40.765100</td>\n",
        "      <td>-73.982100</td>\n",
        "    </tr>\n",
        "    <tr>\n",
        "      <th>409</th>\n",
        "      <td> 40.719545</td>\n",
        "      <td>-73.990466</td>\n",
        "    </tr>\n",
        "    <tr>\n",
        "      <th>410</th>\n",
        "      <td> 40.745987</td>\n",
        "      <td>-73.988571</td>\n",
        "    </tr>\n",
        "    <tr>\n",
        "      <th>415</th>\n",
        "      <td> 40.762000</td>\n",
        "      <td>-73.985925</td>\n",
        "    </tr>\n",
        "    <tr>\n",
        "      <th>416</th>\n",
        "      <td> 40.716851</td>\n",
        "      <td>-74.007983</td>\n",
        "    </tr>\n",
        "  </tbody>\n",
        "</table>\n",
        "</div>"
       ],
       "metadata": {},
       "output_type": "pyout",
       "prompt_number": 6,
       "text": [
        "           lat        lon\n",
        "273  40.765100 -73.982100\n",
        "409  40.719545 -73.990466\n",
        "410  40.745987 -73.988571\n",
        "415  40.762000 -73.985925\n",
        "416  40.716851 -74.007983"
       ]
      }
     ],
     "prompt_number": 6
    },
    {
     "cell_type": "code",
     "collapsed": false,
     "input": [
      "venues.to_csv('/home/vagrant/notebooks/fall_2014_lessons/datasets/foursquare/cleaned/venues.csv')"
     ],
     "language": "python",
     "metadata": {},
     "outputs": [],
     "prompt_number": 14
    },
    {
     "cell_type": "code",
     "collapsed": false,
     "input": [
      "#repeat for checkin data"
     ],
     "language": "python",
     "metadata": {},
     "outputs": [],
     "prompt_number": 8
    },
    {
     "cell_type": "code",
     "collapsed": false,
     "input": [
      "checkin_loc = '/home/vagrant/notebooks/fall_2014_lessons/datasets/foursquare/original/checkins.dat'"
     ],
     "language": "python",
     "metadata": {},
     "outputs": [],
     "prompt_number": 9
    },
    {
     "cell_type": "code",
     "collapsed": false,
     "input": [
      "manhattan_checkins = {}\n",
      "\n",
      "#for each check-in, check if it's in our list of Manhattan venues\n",
      "man_venues = set(manhattan_venues.keys())\n",
      "\n",
      "BUF_SIZE = 1000\n",
      "checkinfile = open(checkin_loc,'r')\n",
      "tmp_lines = checkinfile.readlines(BUF_SIZE)\n",
      "while tmp_lines:\n",
      "    for line in tmp_lines:\n",
      "        split = line.split(\" | \")\n",
      "        try:\n",
      "            id = int(split[0])\n",
      "            user_id = int(split[1])\n",
      "            venue_id = int(split[2])\n",
      "            time = pd.to_datetime(split[5])\n",
      "        except:\n",
      "            user_id = \"NA\"\n",
      "            venue_id = \"NA\"\n",
      "            time = \"NA\"\n",
      "        if venue_id in man_venues:\n",
      "            manhattan_checkins[id]={'user':user_id, 'venue':venue_id,\n",
      "                                    'time': time}\n",
      "    tmp_lines = checkinfile.readlines(BUF_SIZE)"
     ],
     "language": "python",
     "metadata": {},
     "outputs": [],
     "prompt_number": 10
    },
    {
     "cell_type": "code",
     "collapsed": false,
     "input": [
      "#resave dataset\n",
      "checkins = pd.DataFrame.from_dict(manhattan_checkins, orient='index')\n",
      "checkins.head(5)"
     ],
     "language": "python",
     "metadata": {},
     "outputs": [
      {
       "html": [
        "<div style=\"max-height:1000px;max-width:1500px;overflow:auto;\">\n",
        "<table border=\"1\" class=\"dataframe\">\n",
        "  <thead>\n",
        "    <tr style=\"text-align: right;\">\n",
        "      <th></th>\n",
        "      <th>venue</th>\n",
        "      <th>user</th>\n",
        "      <th>time</th>\n",
        "    </tr>\n",
        "  </thead>\n",
        "  <tbody>\n",
        "    <tr>\n",
        "      <th>246</th>\n",
        "      <td> 107779</td>\n",
        "      <td> 1335006</td>\n",
        "      <td>2011-12-08 21:38:44</td>\n",
        "    </tr>\n",
        "    <tr>\n",
        "      <th>312</th>\n",
        "      <td>   1023</td>\n",
        "      <td> 1335039</td>\n",
        "      <td>2011-12-08 22:49:52</td>\n",
        "    </tr>\n",
        "    <tr>\n",
        "      <th>313</th>\n",
        "      <td>   1023</td>\n",
        "      <td> 1335040</td>\n",
        "      <td>2011-12-08 22:43:47</td>\n",
        "    </tr>\n",
        "    <tr>\n",
        "      <th>314</th>\n",
        "      <td>   1023</td>\n",
        "      <td> 1335041</td>\n",
        "      <td>2011-12-08 22:26:10</td>\n",
        "    </tr>\n",
        "    <tr>\n",
        "      <th>315</th>\n",
        "      <td>   1023</td>\n",
        "      <td>  277631</td>\n",
        "      <td>2011-12-08 21:54:53</td>\n",
        "    </tr>\n",
        "  </tbody>\n",
        "</table>\n",
        "</div>"
       ],
       "metadata": {},
       "output_type": "pyout",
       "prompt_number": 11,
       "text": [
        "      venue     user                time\n",
        "246  107779  1335006 2011-12-08 21:38:44\n",
        "312    1023  1335039 2011-12-08 22:49:52\n",
        "313    1023  1335040 2011-12-08 22:43:47\n",
        "314    1023  1335041 2011-12-08 22:26:10\n",
        "315    1023   277631 2011-12-08 21:54:53"
       ]
      }
     ],
     "prompt_number": 11
    },
    {
     "cell_type": "code",
     "collapsed": false,
     "input": [
      "checkins.to_csv('/home/vagrant/notebooks/fall_2014_lessons/datasets/foursquare/cleaned/checkins.csv', index=False)"
     ],
     "language": "python",
     "metadata": {},
     "outputs": [],
     "prompt_number": 12
    }
   ],
   "metadata": {}
  }
 ]
}