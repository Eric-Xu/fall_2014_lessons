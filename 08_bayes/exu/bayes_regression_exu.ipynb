{
 "metadata": {
  "name": "",
  "signature": "sha256:c528f9a150993bed32b65141b5b11ba6f82ed4e9704ebfdd83124c46a19b4366"
 },
 "nbformat": 3,
 "nbformat_minor": 0,
 "worksheets": [
  {
   "cells": [
    {
     "cell_type": "code",
     "collapsed": false,
     "input": [
      "import matplotlib.pyplot as plt\n",
      "import numpy as np\n",
      "import pandas as pd\n",
      "from scipy import stats\n",
      "from sklearn.linear_model import LinearRegression\n",
      "from sklearn.linear_model import BayesianRidge\n",
      "%matplotlib inline"
     ],
     "language": "python",
     "metadata": {},
     "outputs": [],
     "prompt_number": 21
    },
    {
     "cell_type": "code",
     "collapsed": false,
     "input": [
      "# df = pd.read_csv('/home/vagrant/notebooks/fall_2014_lessons/datasets/africa_ph.csv')\n",
      "df = pd.read_csv('../../datasets/africa_ph.csv')\n",
      "df = df.dropna()\n",
      "predictors = ['ELEV', 'REF2', 'BSAN', 'LSTN', 'Infrared01', 'Infrared02', 'Infrared03', 'Infrared04', 'Infrared05']"
     ],
     "language": "python",
     "metadata": {},
     "outputs": [],
     "prompt_number": 4
    },
    {
     "cell_type": "code",
     "collapsed": false,
     "input": [
      "df.head()"
     ],
     "language": "python",
     "metadata": {},
     "outputs": [
      {
       "html": [
        "<div style=\"max-height:1000px;max-width:1500px;overflow:auto;\">\n",
        "<table border=\"1\" class=\"dataframe\">\n",
        "  <thead>\n",
        "    <tr style=\"text-align: right;\">\n",
        "      <th></th>\n",
        "      <th>Unnamed: 0</th>\n",
        "      <th>PIDN</th>\n",
        "      <th>pH</th>\n",
        "      <th>ELEV</th>\n",
        "      <th>REF2</th>\n",
        "      <th>BSAN</th>\n",
        "      <th>LSTN</th>\n",
        "      <th>Infrared01</th>\n",
        "      <th>Infrared02</th>\n",
        "      <th>Infrared03</th>\n",
        "      <th>Infrared04</th>\n",
        "      <th>Infrared05</th>\n",
        "    </tr>\n",
        "  </thead>\n",
        "  <tbody>\n",
        "    <tr>\n",
        "      <th>0</th>\n",
        "      <td> 32</td>\n",
        "      <td> d9u06tdU</td>\n",
        "      <td>-0.044436</td>\n",
        "      <td> 0.904900</td>\n",
        "      <td>-0.352505</td>\n",
        "      <td>-0.710145</td>\n",
        "      <td>-0.371001</td>\n",
        "      <td> 0.378298</td>\n",
        "      <td> 0.056228</td>\n",
        "      <td> 1.349732</td>\n",
        "      <td> 1.81377</td>\n",
        "      <td> 1.65483</td>\n",
        "    </tr>\n",
        "    <tr>\n",
        "      <th>1</th>\n",
        "      <td> 33</td>\n",
        "      <td> qsQFu3ef</td>\n",
        "      <td>-0.455961</td>\n",
        "      <td> 0.904900</td>\n",
        "      <td>-0.352505</td>\n",
        "      <td>-0.710145</td>\n",
        "      <td>-0.371001</td>\n",
        "      <td> 0.374321</td>\n",
        "      <td> 0.072229</td>\n",
        "      <td> 1.459569</td>\n",
        "      <td> 1.78552</td>\n",
        "      <td> 1.62982</td>\n",
        "    </tr>\n",
        "    <tr>\n",
        "      <th>2</th>\n",
        "      <td> 34</td>\n",
        "      <td> C4kj5IMN</td>\n",
        "      <td>-0.549490</td>\n",
        "      <td> 0.971715</td>\n",
        "      <td>-0.352505</td>\n",
        "      <td>-0.702899</td>\n",
        "      <td>-0.399312</td>\n",
        "      <td> 0.390773</td>\n",
        "      <td> 0.048228</td>\n",
        "      <td> 1.555917</td>\n",
        "      <td> 1.73194</td>\n",
        "      <td> 1.63317</td>\n",
        "    </tr>\n",
        "    <tr>\n",
        "      <th>3</th>\n",
        "      <td> 35</td>\n",
        "      <td> p1SCgsM8</td>\n",
        "      <td>-0.951662</td>\n",
        "      <td> 0.971715</td>\n",
        "      <td>-0.352505</td>\n",
        "      <td>-0.702899</td>\n",
        "      <td>-0.399312</td>\n",
        "      <td> 0.385719</td>\n",
        "      <td> 0.047679</td>\n",
        "      <td> 1.662981</td>\n",
        "      <td> 1.68115</td>\n",
        "      <td> 1.69190</td>\n",
        "    </tr>\n",
        "    <tr>\n",
        "      <th>4</th>\n",
        "      <td> 36</td>\n",
        "      <td> UqyLWYTl</td>\n",
        "      <td>-0.427903</td>\n",
        "      <td> 0.929399</td>\n",
        "      <td>-0.506494</td>\n",
        "      <td>-0.695652</td>\n",
        "      <td>-0.543779</td>\n",
        "      <td> 0.411471</td>\n",
        "      <td> 0.043002</td>\n",
        "      <td> 1.522019</td>\n",
        "      <td> 1.71672</td>\n",
        "      <td> 1.68936</td>\n",
        "    </tr>\n",
        "  </tbody>\n",
        "</table>\n",
        "</div>"
       ],
       "metadata": {},
       "output_type": "pyout",
       "prompt_number": 6,
       "text": [
        "   Unnamed: 0      PIDN        pH      ELEV      REF2      BSAN      LSTN  \\\n",
        "0          32  d9u06tdU -0.044436  0.904900 -0.352505 -0.710145 -0.371001   \n",
        "1          33  qsQFu3ef -0.455961  0.904900 -0.352505 -0.710145 -0.371001   \n",
        "2          34  C4kj5IMN -0.549490  0.971715 -0.352505 -0.702899 -0.399312   \n",
        "3          35  p1SCgsM8 -0.951662  0.971715 -0.352505 -0.702899 -0.399312   \n",
        "4          36  UqyLWYTl -0.427903  0.929399 -0.506494 -0.695652 -0.543779   \n",
        "\n",
        "   Infrared01  Infrared02  Infrared03  Infrared04  Infrared05  \n",
        "0    0.378298    0.056228    1.349732     1.81377     1.65483  \n",
        "1    0.374321    0.072229    1.459569     1.78552     1.62982  \n",
        "2    0.390773    0.048228    1.555917     1.73194     1.63317  \n",
        "3    0.385719    0.047679    1.662981     1.68115     1.69190  \n",
        "4    0.411471    0.043002    1.522019     1.71672     1.68936  "
       ]
      }
     ],
     "prompt_number": 6
    },
    {
     "cell_type": "code",
     "collapsed": false,
     "input": [
      "## ph = Ref2 + BSAN + Infrared02 + Infrared03 + Infrared04 \n",
      "##\n",
      "## Elev = 0\n",
      "## LSTN = 0\n",
      "## Infrared01 = 0\n",
      "## Infrared05 = 0"
     ],
     "language": "python",
     "metadata": {},
     "outputs": [],
     "prompt_number": 45
    },
    {
     "cell_type": "code",
     "collapsed": false,
     "input": [
      "bestmodel=['REF2','BSAN','Infrared02','Infrared03','Infrared04']\n",
      "bad_predictors = ['ELEV','LSTN','Infrared01','Infrared05']"
     ],
     "language": "python",
     "metadata": {},
     "outputs": [],
     "prompt_number": 25
    },
    {
     "cell_type": "code",
     "collapsed": false,
     "input": [
      "# provided code contains error\n",
      "\n",
      "plt.scatter(np.linspace(-2*std,2*std,num=100),stats.norm.pdf(np.linspace(-2*std,2*std,num=100)), color=\"orange\")\n",
      "plt.scatter(np.linspace(-2*std,2*std,num=100),stats.norm(0,3).pdf(np.linspace(-2*std,2*std,num=100)))"
     ],
     "language": "python",
     "metadata": {},
     "outputs": [
      {
       "ename": "NameError",
       "evalue": "name 'std' is not defined",
       "output_type": "pyerr",
       "traceback": [
        "\u001b[0;31m---------------------------------------------------------------------------\u001b[0m\n\u001b[0;31mNameError\u001b[0m                                 Traceback (most recent call last)",
        "\u001b[0;32m<ipython-input-26-468d82d0c0b9>\u001b[0m in \u001b[0;36m<module>\u001b[0;34m()\u001b[0m\n\u001b[0;32m----> 1\u001b[0;31m \u001b[0mplt\u001b[0m\u001b[0;34m.\u001b[0m\u001b[0mscatter\u001b[0m\u001b[0;34m(\u001b[0m\u001b[0mnp\u001b[0m\u001b[0;34m.\u001b[0m\u001b[0mlinspace\u001b[0m\u001b[0;34m(\u001b[0m\u001b[0;34m-\u001b[0m\u001b[0;36m2\u001b[0m\u001b[0;34m*\u001b[0m\u001b[0mstd\u001b[0m\u001b[0;34m,\u001b[0m\u001b[0;36m2\u001b[0m\u001b[0;34m*\u001b[0m\u001b[0mstd\u001b[0m\u001b[0;34m,\u001b[0m\u001b[0mnum\u001b[0m\u001b[0;34m=\u001b[0m\u001b[0;36m100\u001b[0m\u001b[0;34m)\u001b[0m\u001b[0;34m,\u001b[0m\u001b[0mstats\u001b[0m\u001b[0;34m.\u001b[0m\u001b[0mnorm\u001b[0m\u001b[0;34m.\u001b[0m\u001b[0mpdf\u001b[0m\u001b[0;34m(\u001b[0m\u001b[0mnp\u001b[0m\u001b[0;34m.\u001b[0m\u001b[0mlinspace\u001b[0m\u001b[0;34m(\u001b[0m\u001b[0;34m-\u001b[0m\u001b[0;36m2\u001b[0m\u001b[0;34m*\u001b[0m\u001b[0mstd\u001b[0m\u001b[0;34m,\u001b[0m\u001b[0;36m2\u001b[0m\u001b[0;34m*\u001b[0m\u001b[0mstd\u001b[0m\u001b[0;34m,\u001b[0m\u001b[0mnum\u001b[0m\u001b[0;34m=\u001b[0m\u001b[0;36m100\u001b[0m\u001b[0;34m)\u001b[0m\u001b[0;34m)\u001b[0m\u001b[0;34m,\u001b[0m \u001b[0mcolor\u001b[0m\u001b[0;34m=\u001b[0m\u001b[0;34m\"orange\"\u001b[0m\u001b[0;34m)\u001b[0m\u001b[0;34m\u001b[0m\u001b[0m\n\u001b[0m\u001b[1;32m      2\u001b[0m \u001b[0mplt\u001b[0m\u001b[0;34m.\u001b[0m\u001b[0mscatter\u001b[0m\u001b[0;34m(\u001b[0m\u001b[0mnp\u001b[0m\u001b[0;34m.\u001b[0m\u001b[0mlinspace\u001b[0m\u001b[0;34m(\u001b[0m\u001b[0;34m-\u001b[0m\u001b[0;36m2\u001b[0m\u001b[0;34m*\u001b[0m\u001b[0mstd\u001b[0m\u001b[0;34m,\u001b[0m\u001b[0;36m2\u001b[0m\u001b[0;34m*\u001b[0m\u001b[0mstd\u001b[0m\u001b[0;34m,\u001b[0m\u001b[0mnum\u001b[0m\u001b[0;34m=\u001b[0m\u001b[0;36m100\u001b[0m\u001b[0;34m)\u001b[0m\u001b[0;34m,\u001b[0m\u001b[0mstats\u001b[0m\u001b[0;34m.\u001b[0m\u001b[0mnorm\u001b[0m\u001b[0;34m(\u001b[0m\u001b[0;36m0\u001b[0m\u001b[0;34m,\u001b[0m\u001b[0;36m3\u001b[0m\u001b[0;34m)\u001b[0m\u001b[0;34m.\u001b[0m\u001b[0mpdf\u001b[0m\u001b[0;34m(\u001b[0m\u001b[0mnp\u001b[0m\u001b[0;34m.\u001b[0m\u001b[0mlinspace\u001b[0m\u001b[0;34m(\u001b[0m\u001b[0;34m-\u001b[0m\u001b[0;36m2\u001b[0m\u001b[0;34m*\u001b[0m\u001b[0mstd\u001b[0m\u001b[0;34m,\u001b[0m\u001b[0;36m2\u001b[0m\u001b[0;34m*\u001b[0m\u001b[0mstd\u001b[0m\u001b[0;34m,\u001b[0m\u001b[0mnum\u001b[0m\u001b[0;34m=\u001b[0m\u001b[0;36m100\u001b[0m\u001b[0;34m)\u001b[0m\u001b[0;34m)\u001b[0m\u001b[0;34m)\u001b[0m\u001b[0;34m\u001b[0m\u001b[0m\n",
        "\u001b[0;31mNameError\u001b[0m: name 'std' is not defined"
       ]
      }
     ],
     "prompt_number": 26
    },
    {
     "cell_type": "code",
     "collapsed": false,
     "input": [
      "ELEV_sigma = 1\n",
      "LSTN_sigma = 2\n",
      "Infrared01_sigma = 2\n",
      "Infrared05_sigma = 2"
     ],
     "language": "python",
     "metadata": {},
     "outputs": [],
     "prompt_number": 23
    },
    {
     "cell_type": "code",
     "collapsed": false,
     "input": [
      "linreg = LinearRegression(fit_intercept=True)\n",
      "y_hat = linreg.fit(df[bestmodel],df['pH']).predict(df[bestmodel])\n",
      "errors = df['pH'] - y_hat"
     ],
     "language": "python",
     "metadata": {},
     "outputs": [],
     "prompt_number": 27
    },
    {
     "cell_type": "code",
     "collapsed": false,
     "input": [
      "results=[]\n",
      "for i in range(1000):\n",
      "    b_elev = stats.norm(0,ELEV_sigma**2).rvs(size=1)[0] # norm = A normal continuous distribution; rvs = random variates\n",
      "    b_lstn = stats.norm(0,LSTN_sigma**2).rvs(size=1)[0]\n",
      "    b_infrared01 = stats.norm(0,Infrared01_sigma**2).rvs(size=1)[0]\n",
      "    b_infrared05 = stats.norm(0,Infrared05_sigma**2).rvs(size=1)[0]\n",
      "    beta = np.array([b_elev, b_lstn, b_infrared01, b_infrared05])\n",
      "    new_errors = errors - np.dot(df[bad_predictors],beta)\n",
      "    results.append(np.std(new_errors))\n",
      "results=np.array(results)"
     ],
     "language": "python",
     "metadata": {},
     "outputs": [],
     "prompt_number": 28
    },
    {
     "cell_type": "code",
     "collapsed": false,
     "input": [
      "results1=results"
     ],
     "language": "python",
     "metadata": {},
     "outputs": [],
     "prompt_number": 29
    },
    {
     "cell_type": "code",
     "collapsed": false,
     "input": [
      "# provided code contains error\n",
      "\n",
      "fig, ax = plt.subplots(figsize=(12, 8))\n",
      "plt.hist(results, bins=50, alpha=1)\n",
      "plt.hist(results1, bins=50, alpha=0.5)\n",
      "plt.show()"
     ],
     "language": "python",
     "metadata": {},
     "outputs": [
      {
       "metadata": {},
       "output_type": "display_data",
       "png": "[encoded data removed]",
       "text": [
        "<matplotlib.figure.Figure at 0x10f9e5610>"
       ]
      }
     ],
     "prompt_number": 30
    },
    {
     "cell_type": "code",
     "collapsed": false,
     "input": [
      "bayes_model = BayesianRidge(compute_score=True)"
     ],
     "language": "python",
     "metadata": {},
     "outputs": [],
     "prompt_number": 205
    },
    {
     "cell_type": "code",
     "collapsed": false,
     "input": [
      "bayes_model.fit(df[predictors],df['pH'])"
     ],
     "language": "python",
     "metadata": {},
     "outputs": [
      {
       "metadata": {},
       "output_type": "pyout",
       "prompt_number": 206,
       "text": [
        "BayesianRidge(alpha_1=1e-06, alpha_2=1e-06, compute_score=True, copy_X=True,\n",
        "       fit_intercept=True, lambda_1=1e-06, lambda_2=1e-06, n_iter=300,\n",
        "       normalize=False, tol=0.001, verbose=False)"
       ]
      }
     ],
     "prompt_number": 206
    },
    {
     "cell_type": "code",
     "collapsed": false,
     "input": [
      "colors = ['#F0F8FF', 'g', 'r', '#8A2BE2', '#FF7F50', 'b', '#F0FFFF']\n",
      "fig, ax = plt.subplots(figsize=(12, 8))\n",
      "plt.plot(bayes_model.coef_, 'o', c=colors[2])\n",
      "ax.set_xticklabels(predictors, fontsize=16, alpha=0.7, rotation=45)\n",
      "ax.set_title(\"Coefficient Weights\", {'fontsize':15})\n",
      "plt.plot([0, linreg.coef_[0], linreg.coef_[1], 0, 0, linreg.coef_[2], linreg.coef_[3], linreg.coef_[4], 0], 'o', c=colors[5])\n",
      "plt.show()"
     ],
     "language": "python",
     "metadata": {},
     "outputs": [
      {
       "metadata": {},
       "output_type": "display_data",
       "png": "[encoded data removed]",
       "text": [
        "<matplotlib.figure.Figure at 0x9daf710>"
       ]
      }
     ],
     "prompt_number": 220
    },
    {
     "cell_type": "code",
     "collapsed": false,
     "input": [],
     "language": "python",
     "metadata": {},
     "outputs": []
    }
   ],
   "metadata": {}
  }
 ]
}