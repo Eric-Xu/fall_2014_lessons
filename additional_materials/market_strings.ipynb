{
 "metadata": {
  "name": "",
  "signature": "sha256:ee52081a4aa79f42a605724f8b6cff2d740f5f245a217b625bd66bfb4fb83c5e"
 },
 "nbformat": 3,
 "nbformat_minor": 0,
 "worksheets": [
  {
   "cells": [
    {
     "cell_type": "code",
     "collapsed": false,
     "input": [
      "import pandas as pd\n",
      "import numpy as np"
     ],
     "language": "python",
     "metadata": {},
     "outputs": [],
     "prompt_number": 37
    },
    {
     "cell_type": "code",
     "collapsed": false,
     "input": [
      "#Products are commodities\n",
      "#wti = Crude Oil, West Texas Intermediate\n",
      "#brent, brt = Crude Oil, North Sea\n",
      "#ho = Heating Oil\n",
      "#go = Gas Oil\n",
      "products = ['wti','ho','go','brent','brt']\n",
      "\n",
      "#Months are when the commodities are to be delivered; often, traders use single-letter months for months\n",
      "#so code 'f' is the same as 'jan'.  \n",
      "months = ['f','g','h','j','k','m','n','q','u','v','x','z','jan','feb','mar','apr','may','jun','jul','aug','sep','oct','nov','dec']\n",
      "\n",
      "#Strategies are based on options which include a call or a put\n",
      "#call, c = Call Option\n",
      "#put, p = Put Option\n",
      "#straddle, strad = Call and Put at the same strike price\n",
      "#putspread, psprd, puts = Two puts at different strikes\n",
      "#callspread, csprd, calls = Two calls at different strikes\n",
      "one_strike_strategies = ['strad','straddle','strd','p','c','call','put']\n",
      "two_strike_strategies = ['putspread','callspread','psprd','csprd', 'puts', 'calls']\n",
      "strategies = one_strike_strategies + two_strike_strategies"
     ],
     "language": "python",
     "metadata": {},
     "outputs": [],
     "prompt_number": 38
    },
    {
     "cell_type": "code",
     "collapsed": false,
     "input": [
      "#Break the string into tokens\n",
      "def simple_tokenizer(s):\n",
      "    strings = s.replace(\"@\",\" \").replace(\"/\",\" \").replace(\",\",\" \").split(\" \")\n",
      "    return strings\n",
      "\n",
      "#Provide numeric labels for tokens\n",
      "def labelizer_code(s):\n",
      "    if s in products:\n",
      "        return 0\n",
      "    elif s in months:\n",
      "        return 1\n",
      "    elif s in strategies:\n",
      "        return 2\n",
      "    elif is_number(s):\n",
      "        if str(s) == \"nan\":\n",
      "            return 5\n",
      "        else:\n",
      "            return 3\n",
      "    else:\n",
      "        return 4"
     ],
     "language": "python",
     "metadata": {},
     "outputs": [],
     "prompt_number": 39
    },
    {
     "cell_type": "code",
     "collapsed": false,
     "input": [
      "#str_df is the input string to be classified\n",
      "str_df = pd.read_csv(\"../datasets/market_strings_input.csv\", sep='\\t')\n",
      "\n",
      "#tokenized_df uses a simple_tokenizer to tokenize the strings to tokens\n",
      "tokenized_df = pd.read_csv(\"../datasets/market_strings_tokenized.csv\", sep='\\t')\n",
      "\n",
      "#labelized_df takes tokenized_df and labels it\n",
      "labelized_df = pd.read_csv(\"../datasets/market_strings_labelized.csv\", sep='\\t')\n",
      "\n",
      "#y_df is the classified output vector, this is what we're trying to achieve\n",
      "#We want to know:\n",
      "#Where the product is located (if there is a product), that is, what token position is the product located\n",
      "#Where is the month located\n",
      "#Where is the first strike located\n",
      "#Where is the second strike located (if there is one)\n",
      "#Where is the strategy located\n",
      "#Where is the bid located (if there is one)\n",
      "#Where is the offer located (if there is one)\n",
      "y_df = pd.read_csv(\"../datasets/market_strings_classified.csv\", sep='\\t')"
     ],
     "language": "python",
     "metadata": {},
     "outputs": [],
     "prompt_number": 40
    },
    {
     "cell_type": "code",
     "collapsed": false,
     "input": [
      "#Objective:  Try to build a classifier that can correctly identify all the key tokens\n",
      "#            If this can be done, the value of the market can be evaluated using some external tool\n",
      "#            which can then help the user determine whether this is a good or bad opportunity"
     ],
     "language": "python",
     "metadata": {},
     "outputs": [],
     "prompt_number": 41
    },
    {
     "cell_type": "code",
     "collapsed": false,
     "input": [
      "\n",
      "\n"
     ],
     "language": "python",
     "metadata": {},
     "outputs": [],
     "prompt_number": 41
    },
    {
     "cell_type": "code",
     "collapsed": false,
     "input": [],
     "language": "python",
     "metadata": {},
     "outputs": [],
     "prompt_number": 41
    },
    {
     "cell_type": "code",
     "collapsed": false,
     "input": [
      "\n",
      "    "
     ],
     "language": "python",
     "metadata": {},
     "outputs": [],
     "prompt_number": 39
    },
    {
     "cell_type": "code",
     "collapsed": false,
     "input": [],
     "language": "python",
     "metadata": {},
     "outputs": [],
     "prompt_number": 39
    },
    {
     "cell_type": "code",
     "collapsed": false,
     "input": [
      "\n",
      "  "
     ],
     "language": "python",
     "metadata": {},
     "outputs": [],
     "prompt_number": 39
    },
    {
     "cell_type": "code",
     "collapsed": false,
     "input": [],
     "language": "python",
     "metadata": {},
     "outputs": [],
     "prompt_number": 39
    },
    {
     "cell_type": "code",
     "collapsed": false,
     "input": [
      "\n",
      "\n",
      "   "
     ],
     "language": "python",
     "metadata": {},
     "outputs": [],
     "prompt_number": 39
    },
    {
     "cell_type": "code",
     "collapsed": false,
     "input": [],
     "language": "python",
     "metadata": {},
     "outputs": [],
     "prompt_number": 39
    },
    {
     "cell_type": "code",
     "collapsed": false,
     "input": [],
     "language": "python",
     "metadata": {},
     "outputs": [],
     "prompt_number": 39
    },
    {
     "cell_type": "code",
     "collapsed": false,
     "input": [],
     "language": "python",
     "metadata": {},
     "outputs": [],
     "prompt_number": 39
    },
    {
     "cell_type": "code",
     "collapsed": false,
     "input": [],
     "language": "python",
     "metadata": {},
     "outputs": [],
     "prompt_number": 39
    },
    {
     "cell_type": "code",
     "collapsed": false,
     "input": [],
     "language": "python",
     "metadata": {},
     "outputs": [],
     "prompt_number": 39
    },
    {
     "cell_type": "code",
     "collapsed": false,
     "input": [],
     "language": "python",
     "metadata": {},
     "outputs": [],
     "prompt_number": 39
    },
    {
     "cell_type": "code",
     "collapsed": false,
     "input": [],
     "language": "python",
     "metadata": {},
     "outputs": [],
     "prompt_number": 39
    },
    {
     "cell_type": "code",
     "collapsed": false,
     "input": [],
     "language": "python",
     "metadata": {},
     "outputs": [],
     "prompt_number": 39
    },
    {
     "cell_type": "code",
     "collapsed": false,
     "input": [],
     "language": "python",
     "metadata": {},
     "outputs": [],
     "prompt_number": 39
    },
    {
     "cell_type": "code",
     "collapsed": false,
     "input": [],
     "language": "python",
     "metadata": {},
     "outputs": [],
     "prompt_number": 39
    },
    {
     "cell_type": "code",
     "collapsed": false,
     "input": [],
     "language": "python",
     "metadata": {},
     "outputs": [],
     "prompt_number": 39
    },
    {
     "cell_type": "code",
     "collapsed": false,
     "input": [],
     "language": "python",
     "metadata": {},
     "outputs": [],
     "prompt_number": 39
    },
    {
     "cell_type": "code",
     "collapsed": false,
     "input": [],
     "language": "python",
     "metadata": {},
     "outputs": [],
     "prompt_number": 39
    },
    {
     "cell_type": "code",
     "collapsed": false,
     "input": [],
     "language": "python",
     "metadata": {},
     "outputs": [],
     "prompt_number": 39
    },
    {
     "cell_type": "code",
     "collapsed": false,
     "input": [],
     "language": "python",
     "metadata": {},
     "outputs": [],
     "prompt_number": 39
    },
    {
     "cell_type": "code",
     "collapsed": false,
     "input": [],
     "language": "python",
     "metadata": {},
     "outputs": [],
     "prompt_number": 39
    },
    {
     "cell_type": "code",
     "collapsed": false,
     "input": [],
     "language": "python",
     "metadata": {},
     "outputs": [],
     "prompt_number": 39
    },
    {
     "cell_type": "code",
     "collapsed": false,
     "input": [],
     "language": "python",
     "metadata": {},
     "outputs": [],
     "prompt_number": 39
    },
    {
     "cell_type": "code",
     "collapsed": false,
     "input": [],
     "language": "python",
     "metadata": {},
     "outputs": [],
     "prompt_number": 39
    },
    {
     "cell_type": "code",
     "collapsed": false,
     "input": [],
     "language": "python",
     "metadata": {},
     "outputs": [],
     "prompt_number": 39
    },
    {
     "cell_type": "code",
     "collapsed": false,
     "input": [],
     "language": "python",
     "metadata": {},
     "outputs": []
    }
   ],
   "metadata": {}
  }
 ]
}