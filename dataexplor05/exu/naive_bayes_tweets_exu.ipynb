{
 "metadata": {
  "name": "",
  "signature": "sha256:df5a9cf991998707e95415fb9d17c24c594423009fb14e89178ea3691aa47798"
 },
 "nbformat": 3,
 "nbformat_minor": 0,
 "worksheets": [
  {
   "cells": [
    {
     "cell_type": "markdown",
     "metadata": {},
     "source": [
      "## Tweet Sentiment Analysis\n",
      "\n",
      "Create a twitter classifier with naive bayes and check the sentiment for a keyword of your choice.\n",
      "Train your classifier with the \"tweet_training.csv\" file\n",
      "\n",
      "Sentiment is described as \"polarity,\" where:\n",
      "\n",
      "- \"0\" = negative\n",
      "- \"4\" = positive"
     ]
    },
    {
     "cell_type": "code",
     "collapsed": false,
     "input": [
      "import pandas as pd\n",
      "import numpy as np\n",
      "from sklearn.cross_validation import train_test_split\n",
      "from sklearn.naive_bayes import MultinomialNB\n",
      "from sklearn.naive_bayes import BernoulliNB\n",
      "from sklearn.linear_model import LogisticRegression\n",
      "from sklearn.feature_extraction.text import CountVectorizer"
     ],
     "language": "python",
     "metadata": {},
     "outputs": [],
     "prompt_number": 1
    },
    {
     "cell_type": "code",
     "collapsed": false,
     "input": [
      "df = pd.read_csv('../../datasets/tweet_training.csv', delimiter=';', index_col='id')"
     ],
     "language": "python",
     "metadata": {},
     "outputs": [],
     "prompt_number": 2
    },
    {
     "cell_type": "code",
     "collapsed": false,
     "input": [
      "df.head()"
     ],
     "language": "python",
     "metadata": {},
     "outputs": [
      {
       "html": [
        "<div style=\"max-height:1000px;max-width:1500px;overflow:auto;\">\n",
        "<table border=\"1\" class=\"dataframe\">\n",
        "  <thead>\n",
        "    <tr style=\"text-align: right;\">\n",
        "      <th></th>\n",
        "      <th>polarity</th>\n",
        "      <th>tweet</th>\n",
        "    </tr>\n",
        "    <tr>\n",
        "      <th>id</th>\n",
        "      <th></th>\n",
        "      <th></th>\n",
        "    </tr>\n",
        "  </thead>\n",
        "  <tbody>\n",
        "    <tr>\n",
        "      <th>1467933112</th>\n",
        "      <td> 0</td>\n",
        "      <td> the angel is going to miss the athlete this we...</td>\n",
        "    </tr>\n",
        "    <tr>\n",
        "      <th>2323395086</th>\n",
        "      <td> 0</td>\n",
        "      <td> It looks as though Shaq is getting traded to C...</td>\n",
        "    </tr>\n",
        "    <tr>\n",
        "      <th>1467968979</th>\n",
        "      <td> 0</td>\n",
        "      <td>    @clarianne APRIL 9TH ISN'T COMING SOON ENOUGH </td>\n",
        "    </tr>\n",
        "    <tr>\n",
        "      <th>1990283756</th>\n",
        "      <td> 0</td>\n",
        "      <td> drinking a McDonalds coffee and not understand...</td>\n",
        "    </tr>\n",
        "    <tr>\n",
        "      <th>1988884918</th>\n",
        "      <td> 0</td>\n",
        "      <td> So dissapointed Taylor Swift doesnt have a Twi...</td>\n",
        "    </tr>\n",
        "  </tbody>\n",
        "</table>\n",
        "</div>"
       ],
       "metadata": {},
       "output_type": "pyout",
       "prompt_number": 8,
       "text": [
        "            polarity                                              tweet\n",
        "id                                                                     \n",
        "1467933112         0  the angel is going to miss the athlete this we...\n",
        "2323395086         0  It looks as though Shaq is getting traded to C...\n",
        "1467968979         0     @clarianne APRIL 9TH ISN'T COMING SOON ENOUGH \n",
        "1990283756         0  drinking a McDonalds coffee and not understand...\n",
        "1988884918         0  So dissapointed Taylor Swift doesnt have a Twi..."
       ]
      }
     ],
     "prompt_number": 8
    },
    {
     "cell_type": "code",
     "collapsed": false,
     "input": [
      "df.info()"
     ],
     "language": "python",
     "metadata": {},
     "outputs": [
      {
       "output_type": "stream",
       "stream": "stdout",
       "text": [
        "<class 'pandas.core.frame.DataFrame'>\n",
        "Int64Index: 2034 entries, 1467933112 to 2186977170\n",
        "Data columns (total 2 columns):\n",
        "polarity    2034 non-null int64\n",
        "tweet       2034 non-null object\n",
        "dtypes: int64(1), object(1)"
       ]
      }
     ],
     "prompt_number": 9
    },
    {
     "cell_type": "code",
     "collapsed": false,
     "input": [
      "df['percent_capitalized'] = df.tweet.apply(lambda x: sum([float(x[i] == x.upper()[i]) for i in range(len(x))])/len(x))"
     ],
     "language": "python",
     "metadata": {},
     "outputs": [],
     "prompt_number": 3
    },
    {
     "cell_type": "code",
     "collapsed": false,
     "input": [
      "df.tail(20)"
     ],
     "language": "python",
     "metadata": {},
     "outputs": [
      {
       "html": [
        "<div style=\"max-height:1000px;max-width:1500px;overflow:auto;\">\n",
        "<table border=\"1\" class=\"dataframe\">\n",
        "  <thead>\n",
        "    <tr style=\"text-align: right;\">\n",
        "      <th></th>\n",
        "      <th>polarity</th>\n",
        "      <th>tweet</th>\n",
        "      <th>percent_capitalized</th>\n",
        "    </tr>\n",
        "    <tr>\n",
        "      <th>id</th>\n",
        "      <th></th>\n",
        "      <th></th>\n",
        "      <th></th>\n",
        "    </tr>\n",
        "  </thead>\n",
        "  <tbody>\n",
        "    <tr>\n",
        "      <th>1795305046</th>\n",
        "      <td> 0</td>\n",
        "      <td> @michelletripp Don't be too bummed. Saw it @ I...</td>\n",
        "      <td> 0.319149</td>\n",
        "    </tr>\n",
        "    <tr>\n",
        "      <th>1467910986</th>\n",
        "      <td> 0</td>\n",
        "      <td> Keeping my fingers crossed for my buddy    He ...</td>\n",
        "      <td> 0.257576</td>\n",
        "    </tr>\n",
        "    <tr>\n",
        "      <th>1468038099</th>\n",
        "      <td> 0</td>\n",
        "      <td> @sudam08  yes, someone hasn't been reading my ...</td>\n",
        "      <td> 0.258065</td>\n",
        "    </tr>\n",
        "    <tr>\n",
        "      <th>2053385413</th>\n",
        "      <td> 0</td>\n",
        "      <td> I miss him so much  sosososo much. I wanna be ...</td>\n",
        "      <td> 0.272727</td>\n",
        "    </tr>\n",
        "    <tr>\n",
        "      <th>2000663077</th>\n",
        "      <td> 0</td>\n",
        "      <td> Just waking up feeling really tired. Does hayf...</td>\n",
        "      <td> 0.253731</td>\n",
        "    </tr>\n",
        "    <tr>\n",
        "      <th>1467879203</th>\n",
        "      <td> 0</td>\n",
        "      <td> I just saw that they found that Tracy girl in ...</td>\n",
        "      <td> 0.258427</td>\n",
        "    </tr>\n",
        "    <tr>\n",
        "      <th>2057515232</th>\n",
        "      <td> 0</td>\n",
        "      <td>   watching uruguay-brazil.. we need a miracle... </td>\n",
        "      <td> 0.255319</td>\n",
        "    </tr>\n",
        "    <tr>\n",
        "      <th>1754305167</th>\n",
        "      <td> 0</td>\n",
        "      <td> @kevinprince I couldn't buy any '#openhacklond...</td>\n",
        "      <td> 0.255102</td>\n",
        "    </tr>\n",
        "    <tr>\n",
        "      <th>2209465938</th>\n",
        "      <td> 0</td>\n",
        "      <td> @simondoggett I would like to install iphone 3...</td>\n",
        "      <td> 0.229508</td>\n",
        "    </tr>\n",
        "    <tr>\n",
        "      <th>1880171965</th>\n",
        "      <td> 0</td>\n",
        "      <td> Just realised I have @hueyyei 's psp in my bag...</td>\n",
        "      <td> 0.320000</td>\n",
        "    </tr>\n",
        "    <tr>\n",
        "      <th>2214025188</th>\n",
        "      <td> 0</td>\n",
        "      <td> I hope Microsoft have fixed #xboxlive #marketp...</td>\n",
        "      <td> 0.257576</td>\n",
        "    </tr>\n",
        "    <tr>\n",
        "      <th>1467986976</th>\n",
        "      <td> 0</td>\n",
        "      <td> @georgeruiz Unfortunately one of those moments...</td>\n",
        "      <td> 0.194805</td>\n",
        "    </tr>\n",
        "    <tr>\n",
        "      <th>1752634162</th>\n",
        "      <td> 0</td>\n",
        "      <td> @BleuMuze  Hit up gameworks and a movie in dow...</td>\n",
        "      <td> 0.258929</td>\n",
        "    </tr>\n",
        "    <tr>\n",
        "      <th>1467871661</th>\n",
        "      <td> 0</td>\n",
        "      <td> I miss you twitter. My phone broke, now I'm us...</td>\n",
        "      <td> 0.307692</td>\n",
        "    </tr>\n",
        "    <tr>\n",
        "      <th>2071726448</th>\n",
        "      <td> 0</td>\n",
        "      <td> @iLoveLyci lol i said the CAVS deserve to be i...</td>\n",
        "      <td> 0.285714</td>\n",
        "    </tr>\n",
        "    <tr>\n",
        "      <th>1468049681</th>\n",
        "      <td> 0</td>\n",
        "      <td> A king sized bed is nice but sad and lonely wi...</td>\n",
        "      <td> 0.245763</td>\n",
        "    </tr>\n",
        "    <tr>\n",
        "      <th>2195475499</th>\n",
        "      <td> 0</td>\n",
        "      <td> @breannalovesjb hurry up home!!!!! im dying wi...</td>\n",
        "      <td> 0.250000</td>\n",
        "    </tr>\n",
        "    <tr>\n",
        "      <th>1996172176</th>\n",
        "      <td> 0</td>\n",
        "      <td> @jordanhowell lol only a PSP, had a game boy b...</td>\n",
        "      <td> 0.311828</td>\n",
        "    </tr>\n",
        "    <tr>\n",
        "      <th>2016105580</th>\n",
        "      <td> 4</td>\n",
        "      <td> Good morning everyone!  It is such a beautiful...</td>\n",
        "      <td> 0.287671</td>\n",
        "    </tr>\n",
        "    <tr>\n",
        "      <th>2186977170</th>\n",
        "      <td> 4</td>\n",
        "      <td> hey guess was @magicmanil the Lakers won and K...</td>\n",
        "      <td> 0.274725</td>\n",
        "    </tr>\n",
        "  </tbody>\n",
        "</table>\n",
        "</div>"
       ],
       "metadata": {},
       "output_type": "pyout",
       "prompt_number": 13,
       "text": [
        "            polarity                                              tweet  \\\n",
        "id                                                                        \n",
        "1795305046         0  @michelletripp Don't be too bummed. Saw it @ I...   \n",
        "1467910986         0  Keeping my fingers crossed for my buddy    He ...   \n",
        "1468038099         0  @sudam08  yes, someone hasn't been reading my ...   \n",
        "2053385413         0  I miss him so much  sosososo much. I wanna be ...   \n",
        "2000663077         0  Just waking up feeling really tired. Does hayf...   \n",
        "1467879203         0  I just saw that they found that Tracy girl in ...   \n",
        "2057515232         0    watching uruguay-brazil.. we need a miracle...    \n",
        "1754305167         0  @kevinprince I couldn't buy any '#openhacklond...   \n",
        "2209465938         0  @simondoggett I would like to install iphone 3...   \n",
        "1880171965         0  Just realised I have @hueyyei 's psp in my bag...   \n",
        "2214025188         0  I hope Microsoft have fixed #xboxlive #marketp...   \n",
        "1467986976         0  @georgeruiz Unfortunately one of those moments...   \n",
        "1752634162         0  @BleuMuze  Hit up gameworks and a movie in dow...   \n",
        "1467871661         0  I miss you twitter. My phone broke, now I'm us...   \n",
        "2071726448         0  @iLoveLyci lol i said the CAVS deserve to be i...   \n",
        "1468049681         0  A king sized bed is nice but sad and lonely wi...   \n",
        "2195475499         0  @breannalovesjb hurry up home!!!!! im dying wi...   \n",
        "1996172176         0  @jordanhowell lol only a PSP, had a game boy b...   \n",
        "2016105580         4  Good morning everyone!  It is such a beautiful...   \n",
        "2186977170         4  hey guess was @magicmanil the Lakers won and K...   \n",
        "\n",
        "            percent_capitalized  \n",
        "id                               \n",
        "1795305046             0.319149  \n",
        "1467910986             0.257576  \n",
        "1468038099             0.258065  \n",
        "2053385413             0.272727  \n",
        "2000663077             0.253731  \n",
        "1467879203             0.258427  \n",
        "2057515232             0.255319  \n",
        "1754305167             0.255102  \n",
        "2209465938             0.229508  \n",
        "1880171965             0.320000  \n",
        "2214025188             0.257576  \n",
        "1467986976             0.194805  \n",
        "1752634162             0.258929  \n",
        "1467871661             0.307692  \n",
        "2071726448             0.285714  \n",
        "1468049681             0.245763  \n",
        "2195475499             0.250000  \n",
        "1996172176             0.311828  \n",
        "2016105580             0.287671  \n",
        "2186977170             0.274725  "
       ]
      }
     ],
     "prompt_number": 13
    },
    {
     "cell_type": "markdown",
     "metadata": {},
     "source": [
      "### Preparing our Features (X) and Target (Y) for Training"
     ]
    },
    {
     "cell_type": "code",
     "collapsed": false,
     "input": [
      "vectorizer = CountVectorizer(ngram_range=(1,3))\n",
      "\n",
      "# Create a vector where each row is bag-of-words for a single quote\n",
      "X = vectorizer.fit_transform(df.tweet)\n",
      "\n",
      "# temporary variable\n",
      "temp_vec = vectorizer.fit(df.tweet)\n",
      "\n",
      "# Create an array where each element encodes whether the array is Fresh or Rotten\n",
      "Y = (df.polarity == 4).values.astype(np.int)\n",
      "print Y[0:10]"
     ],
     "language": "python",
     "metadata": {},
     "outputs": [
      {
       "output_type": "stream",
       "stream": "stdout",
       "text": [
        "[0 0 0 0 0 0 0 0 0 0]\n"
       ]
      }
     ],
     "prompt_number": 7
    },
    {
     "cell_type": "code",
     "collapsed": false,
     "input": [
      "xtrain, xtest, ytrain, ytest = train_test_split(X, Y)"
     ],
     "language": "python",
     "metadata": {},
     "outputs": [],
     "prompt_number": 84
    },
    {
     "cell_type": "markdown",
     "metadata": {},
     "source": [
      "### Creating the Classifiers"
     ]
    },
    {
     "cell_type": "code",
     "collapsed": false,
     "input": [
      "# a few helper functions\n",
      "def accuracy_report(_clf):\n",
      "    print \"Accuracy: %0.2f%%\" % (100 * _clf.score(xtest, ytest))\n",
      "\n",
      "    #Print the accuracy on the test and training dataset\n",
      "    training_accuracy = _clf.score(xtrain, ytrain)\n",
      "    test_accuracy = _clf.score(xtest, ytest)\n",
      "\n",
      "    print \"Accuracy on training data: %0.2f\" % (training_accuracy)\n",
      "    \n",
      "# a function to run some tests\n",
      "def AnalyzeTweet(test_tweet, clf):\n",
      "    print \"\\\"\"  + test_tweet + \"\\\" is judged by classifier to be...\"\n",
      "    test_tweet = temp_vec.transform([test_tweet])\n",
      "\n",
      "    if (clf.predict(test_tweet)[0] == 1):\n",
      "        print \"... a positive tweet.\"\n",
      "    else:\n",
      "        print \"... a negative tweet.\"\n",
      "    return(clf.predict(test_tweet)[0])"
     ],
     "language": "python",
     "metadata": {},
     "outputs": [],
     "prompt_number": 37
    },
    {
     "cell_type": "code",
     "collapsed": false,
     "input": [
      "print \"MultinomialNB:\"\n",
      "mnb_clf = MultinomialNB().fit(xtrain, ytrain)\n",
      "accuracy_report(mnb_clf)"
     ],
     "language": "python",
     "metadata": {},
     "outputs": [
      {
       "output_type": "stream",
       "stream": "stdout",
       "text": [
        "MultinomialNB:\n",
        "Accuracy: 81.53%\n",
        "Accuracy on training data: 1.00\n"
       ]
      }
     ],
     "prompt_number": 85
    },
    {
     "cell_type": "code",
     "collapsed": false,
     "input": [
      "print \"BernoulliNB:\"\n",
      "bnb_clf = BernoulliNB().fit(xtrain, ytrain)\n",
      "accuracy_report(bnb_clf)"
     ],
     "language": "python",
     "metadata": {},
     "outputs": [
      {
       "output_type": "stream",
       "stream": "stdout",
       "text": [
        "BernoulliNB:\n",
        "Accuracy: 66.60%\n",
        "Accuracy on training data: 0.78\n"
       ]
      }
     ],
     "prompt_number": 86
    },
    {
     "cell_type": "code",
     "collapsed": false,
     "input": [
      "print \"Logistic Regression:\"\n",
      "lr_clf = LogisticRegression().fit(xtrain, ytrain)\n",
      "accuracy_report(lr_clf)"
     ],
     "language": "python",
     "metadata": {},
     "outputs": [
      {
       "output_type": "stream",
       "stream": "stdout",
       "text": [
        "Logistic Regression:\n",
        "Accuracy: 83.69%\n",
        "Accuracy on training data: 1.00\n"
       ]
      }
     ],
     "prompt_number": 87
    },
    {
     "cell_type": "code",
     "collapsed": false,
     "input": [
      "AnalyzeTweet(\"this is the best\", mnb_clf)"
     ],
     "language": "python",
     "metadata": {},
     "outputs": [
      {
       "output_type": "stream",
       "stream": "stdout",
       "text": [
        "\"this is the best\" is judged by classifier to be...\n",
        "... a positive tweet.\n"
       ]
      },
      {
       "metadata": {},
       "output_type": "pyout",
       "prompt_number": 90,
       "text": [
        "1"
       ]
      }
     ],
     "prompt_number": 90
    },
    {
     "cell_type": "code",
     "collapsed": false,
     "input": [
      "# Save prediction and probability\n",
      "\n",
      "# Outputs of X (just first column)\n",
      "prob = clf.predict_proba(X)[:, 0]\n",
      "\n",
      "predict = clf.predict(X)"
     ],
     "language": "python",
     "metadata": {},
     "outputs": [],
     "prompt_number": 49
    },
    {
     "cell_type": "code",
     "collapsed": false,
     "input": [
      "Y == 0 #(provides a mask where the actual polarity is 0)"
     ],
     "language": "python",
     "metadata": {},
     "outputs": [
      {
       "metadata": {},
       "output_type": "pyout",
       "prompt_number": 55,
       "text": [
        "id\n",
        "1467933112    True\n",
        "2323395086    True\n",
        "1467968979    True\n",
        "1990283756    True\n",
        "1988884918    True\n",
        "1467984364    True\n",
        "1964951623    True\n",
        "1881133744    True\n",
        "1753802024    True\n",
        "1980497384    True\n",
        "1755405128    True\n",
        "1966205498    True\n",
        "2206224118    True\n",
        "1687790990    True\n",
        "1963812485    True\n",
        "...\n",
        "1467879203     True\n",
        "2057515232     True\n",
        "1754305167     True\n",
        "2209465938     True\n",
        "1880171965     True\n",
        "2214025188     True\n",
        "1467986976     True\n",
        "1752634162     True\n",
        "1467871661     True\n",
        "2071726448     True\n",
        "1468049681     True\n",
        "2195475499     True\n",
        "1996172176     True\n",
        "2016105580    False\n",
        "2186977170    False\n",
        "Name: polarity, Length: 2034, dtype: bool"
       ]
      }
     ],
     "prompt_number": 55
    },
    {
     "cell_type": "code",
     "collapsed": false,
     "input": [
      "# argsort returns the positions of the top n sorted values\n",
      "\n",
      "# Review errors\n",
      "bad_positives = np.argsort(prob[Y == 0])[:5]\n",
      "bad_negatives = np.argsort(prob[Y == 1])[:5]"
     ],
     "language": "python",
     "metadata": {},
     "outputs": [],
     "prompt_number": 67
    },
    {
     "cell_type": "code",
     "collapsed": false,
     "input": [
      "print \"Mis-predicted negative quotes\"\n",
      "print '---------------------------'\n",
      "for row in bad_negatives:\n",
      "    print df[Y == 0].tweet.irow(row)\n",
      "    print\n",
      "\n",
      "print \"Mis-predicted positive quotes\"\n",
      "print '--------------------------'\n",
      "for row in bad_positives:\n",
      "    print df[Y == 0].tweet.irow(row)\n",
      "    print"
     ],
     "language": "python",
     "metadata": {},
     "outputs": [
      {
       "output_type": "stream",
       "stream": "stdout",
       "text": [
        "Mis-predicted negative quotes\n",
        "---------------------------\n",
        "CASH RULES EVERYTHING AROUND ME \n",
        "\n",
        "-gasps- dananananaykroyd touring aussie ....  GRRR WHY ALWAYS SYDNEY AND MELBZ FFS\n",
        "\n",
        "got disconnected of xbox live 1 vs 100 after having more than 30,000  at start  \n",
        "\n",
        "Damn u silverstone. wotya have to hold the racing on the day i'll be travelling back from middle england!! Booo!! \n",
        "\n",
        "I wanna move to LA! Or Laguna beach. Or maybe London... but not here, in this small boring country. No celebs ever come here!  uuuuh\n",
        "\n",
        "Mis-predicted positive quotes\n",
        "--------------------------\n",
        "I dnt think this is a happy birthday fa my baby Melo  lol oh well , I'm ready to see this Lakers/Cavs match-up!!\n",
        "\n",
        "You belong with me. - taylor swift. So true...  \n",
        "\n",
        "Places I want to go include Texas, New York, New Jersey, Seattle and LA. Can't they just give me the life I'd love. \n",
        "\n",
        "@ninaland Nightmare..the worst thing about following you is all the great locations you mention. And I\u2019m just stuck here in sunny London \n",
        "\n",
        "@TikkaMadsen @gogomago what are you two up to?  Ah shit, Miguel's gone?   I wonder if he blames Obama for Twitter, LOL...\n",
        "\n"
       ]
      }
     ],
     "prompt_number": 68
    },
    {
     "cell_type": "code",
     "collapsed": false,
     "input": [],
     "language": "python",
     "metadata": {},
     "outputs": []
    }
   ],
   "metadata": {}
  }
 ]
}