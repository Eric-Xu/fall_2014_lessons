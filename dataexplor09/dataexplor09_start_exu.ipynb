{
 "metadata": {
  "name": "",
  "signature": "sha256:4d27e52fd41a2abcb9353fc68d33dbbe282fb4013da5d6c72011adfab3fa87db"
 },
 "nbformat": 3,
 "nbformat_minor": 0,
 "worksheets": [
  {
   "cells": [
    {
     "cell_type": "heading",
     "level": 1,
     "metadata": {},
     "source": [
      "Dataexplor09: A/B Testing"
     ]
    },
    {
     "cell_type": "code",
     "collapsed": false,
     "input": [
      "import pandas as pd\n",
      "from numpy.random import beta as beta_dist\n",
      "import numpy as np\n",
      "import matplotlib.pyplot as plt\n",
      "%matplotlib inline"
     ],
     "language": "python",
     "metadata": {},
     "outputs": [],
     "prompt_number": 60
    },
    {
     "cell_type": "code",
     "collapsed": false,
     "input": [
      "#pre-reading: http://engineering.richrelevance.com/bayesian-ab-tests/"
     ],
     "language": "python",
     "metadata": {},
     "outputs": [],
     "prompt_number": 2
    },
    {
     "cell_type": "code",
     "collapsed": false,
     "input": [
      "#0 if user saw the headline and didn't click, 1 is a conversion\n",
      "# df = df.from_csv('/home/vagrant/notebooks/fall_2014_lessons/dataexplor09/CTR_data.csv')\n",
      "df = pd.read_csv(\"CTR_data.csv\")"
     ],
     "language": "python",
     "metadata": {},
     "outputs": [],
     "prompt_number": 3
    },
    {
     "cell_type": "code",
     "collapsed": false,
     "input": [
      "df # CTR_data.csv didn't upload correctly; use hits1 = 480; hits2 = 622; total = 1102"
     ],
     "language": "python",
     "metadata": {},
     "outputs": [
      {
       "html": [
        "<div style=\"max-height:1000px;max-width:1500px;overflow:auto;\">\n",
        "<table border=\"1\" class=\"dataframe\">\n",
        "  <thead>\n",
        "    <tr style=\"text-align: right;\">\n",
        "      <th></th>\n",
        "      <th>Unnamed: 0</th>\n",
        "      <th>test1</th>\n",
        "      <th>test2</th>\n",
        "    </tr>\n",
        "  </thead>\n",
        "  <tbody>\n",
        "    <tr>\n",
        "      <th>0</th>\n",
        "      <td> 0</td>\n",
        "      <td> 0</td>\n",
        "      <td> 0</td>\n",
        "    </tr>\n",
        "    <tr>\n",
        "      <th>1</th>\n",
        "      <td> 1</td>\n",
        "      <td> 0</td>\n",
        "      <td> 0</td>\n",
        "    </tr>\n",
        "    <tr>\n",
        "      <th>2</th>\n",
        "      <td> 2</td>\n",
        "      <td> 0</td>\n",
        "      <td> 0</td>\n",
        "    </tr>\n",
        "    <tr>\n",
        "      <th>3</th>\n",
        "      <td> 3</td>\n",
        "      <td> 1</td>\n",
        "      <td> 0</td>\n",
        "    </tr>\n",
        "    <tr>\n",
        "      <th>4</th>\n",
        "      <td> 4</td>\n",
        "      <td> 0</td>\n",
        "      <td> 0</td>\n",
        "    </tr>\n",
        "  </tbody>\n",
        "</table>\n",
        "</div>"
       ],
       "metadata": {},
       "output_type": "pyout",
       "prompt_number": 7,
       "text": [
        "   Unnamed: 0  test1  test2\n",
        "0           0      0      0\n",
        "1           1      0      0\n",
        "2           2      0      0\n",
        "3           3      1      0\n",
        "4           4      0      0"
       ]
      }
     ],
     "prompt_number": 7
    },
    {
     "cell_type": "code",
     "collapsed": false,
     "input": [
      "N_samp = 10000 # number of samples to draw\n",
      "clicks_A = 480\n",
      "views_A = 1102\n",
      "clicks_B = 622\n",
      "views_B = 1102\n",
      "alpha = 1.1 \n",
      "beta = 14.2\n",
      "A_samples = beta_dist(clicks_A+alpha, views_A-clicks_A+beta, N_samp)\n",
      "B_samples = beta_dist(clicks_B+alpha, views_B-clicks_B+beta, N_samp)\n",
      "\n",
      "print A_samples\n",
      "print B_samples"
     ],
     "language": "python",
     "metadata": {},
     "outputs": [
      {
       "output_type": "stream",
       "stream": "stdout",
       "text": [
        "[ 0.46771425  0.45061197  0.421529   ...,  0.42197174  0.42729246\n",
        "  0.43897237]\n",
        "[ 0.55603311  0.54239813  0.57083141 ...,  0.5452934   0.53319411\n",
        "  0.55625699]\n"
       ]
      }
     ],
     "prompt_number": 56
    },
    {
     "cell_type": "code",
     "collapsed": false,
     "input": [
      "#viewsA = viewsB = length of dataframe\n",
      "#QUESTION 1: What are clicksA and clicks B?"
     ],
     "language": "python",
     "metadata": {},
     "outputs": [],
     "prompt_number": 57
    },
    {
     "cell_type": "markdown",
     "metadata": {},
     "source": [
      "clicksA = 480\n",
      "clicksB = 622"
     ]
    },
    {
     "cell_type": "code",
     "collapsed": false,
     "input": [
      "np.mean(A_samples > B_samples)"
     ],
     "language": "python",
     "metadata": {},
     "outputs": [
      {
       "metadata": {},
       "output_type": "pyout",
       "prompt_number": 58,
       "text": [
        "0.0"
       ]
      }
     ],
     "prompt_number": 58
    },
    {
     "cell_type": "code",
     "collapsed": false,
     "input": [
      "N_samp = 10000 # number of samples to draw\n",
      "clicks_A = 480 # insert your own data here\n",
      "views_A = 56000\n",
      "clicks_B = 345 # ditto\n",
      "views_B = 49000\n",
      "alpha = 1.1 \n",
      "beta = 14.2\n",
      "A_samples = beta_dist(clicks_A+alpha, views_A-clicks_A+beta, N_samp)\n",
      "B_samples = beta_dist(clicks_B+alpha, views_B-clicks_B+beta, N_samp)\n",
      "\n",
      "print A_samples\n",
      "print B_samples"
     ],
     "language": "python",
     "metadata": {},
     "outputs": [
      {
       "output_type": "stream",
       "stream": "stdout",
       "text": [
        "[ 0.00864669  0.00772074  0.00807816 ...,  0.00923847  0.00855704\n",
        "  0.00890268]\n",
        "[ 0.00661715  0.00716194  0.00777128 ...,  0.00734467  0.00669417\n",
        "  0.00678374]\n"
       ]
      }
     ],
     "prompt_number": 50
    },
    {
     "cell_type": "code",
     "collapsed": false,
     "input": [
      "#prob that A has a truly higher CTR than B\n",
      "np.mean(A_samples > B_samples)"
     ],
     "language": "python",
     "metadata": {},
     "outputs": [
      {
       "metadata": {},
       "output_type": "pyout",
       "prompt_number": 43,
       "text": [
        "0.99770000000000003"
       ]
      }
     ],
     "prompt_number": 43
    },
    {
     "cell_type": "code",
     "collapsed": false,
     "input": [
      "#prob that A has a 3% higher CTR than B\n",
      "np.mean( (A_samples - B_samples)/B_samples > .03 )"
     ],
     "language": "python",
     "metadata": {},
     "outputs": [
      {
       "metadata": {},
       "output_type": "pyout",
       "prompt_number": 14,
       "text": [
        "0.91920000000000002"
       ]
      }
     ],
     "prompt_number": 14
    },
    {
     "cell_type": "code",
     "collapsed": false,
     "input": [
      "#QUESTION 2: prob that A has a 10% higher CTR than B\n",
      "np.mean((A_samples - B_samples)/B_samples > 0.1)"
     ],
     "language": "python",
     "metadata": {},
     "outputs": [
      {
       "metadata": {},
       "output_type": "pyout",
       "prompt_number": 15,
       "text": [
        "0.69499999999999995"
       ]
      }
     ],
     "prompt_number": 15
    },
    {
     "cell_type": "code",
     "collapsed": false,
     "input": [
      "#QUESTION 3: how does changing alpha and beta change the value?\n",
      "N_samp = 10000 # number of samples to draw\n",
      "clicks_A = 480 # insert your own data here\n",
      "views_A = 56000\n",
      "clicks_B = 345 # ditto\n",
      "views_B = 49000\n",
      "alpha = 100.1\n",
      "beta = 14.2\n",
      "A_samples = beta_dist(clicks_A+alpha, views_A-clicks_A+beta, N_samp)\n",
      "B_samples = beta_dist(clicks_B+alpha, views_B-clicks_B+beta, N_samp)\n",
      "\n",
      "np.mean(A_samples > B_samples)"
     ],
     "language": "python",
     "metadata": {},
     "outputs": [
      {
       "metadata": {},
       "output_type": "pyout",
       "prompt_number": 52,
       "text": [
        "0.98370000000000002"
       ]
      }
     ],
     "prompt_number": 52
    },
    {
     "cell_type": "markdown",
     "metadata": {},
     "source": [
      "Increasing the alpha decreases the probability that A has a higher CTR than B."
     ]
    },
    {
     "cell_type": "code",
     "collapsed": false,
     "input": [
      "fig, ax = plt.subplots(1, 1)\n",
      "\n",
      "xs = np.linspace(0, 1, 200)\n",
      "\n",
      "p1 = ax.plot(xs, A_samples.pdf(xs))"
     ],
     "language": "python",
     "metadata": {},
     "outputs": [
      {
       "ename": "AttributeError",
       "evalue": "'numpy.ndarray' object has no attribute 'pdf'",
       "output_type": "pyerr",
       "traceback": [
        "\u001b[0;31m---------------------------------------------------------------------------\u001b[0m\n\u001b[0;31mAttributeError\u001b[0m                            Traceback (most recent call last)",
        "\u001b[0;32m<ipython-input-61-70eaae03c662>\u001b[0m in \u001b[0;36m<module>\u001b[0;34m()\u001b[0m\n\u001b[1;32m      3\u001b[0m \u001b[0mxs\u001b[0m \u001b[0;34m=\u001b[0m \u001b[0mnp\u001b[0m\u001b[0;34m.\u001b[0m\u001b[0mlinspace\u001b[0m\u001b[0;34m(\u001b[0m\u001b[0;36m0\u001b[0m\u001b[0;34m,\u001b[0m \u001b[0;36m1\u001b[0m\u001b[0;34m,\u001b[0m \u001b[0;36m200\u001b[0m\u001b[0;34m)\u001b[0m\u001b[0;34m\u001b[0m\u001b[0m\n\u001b[1;32m      4\u001b[0m \u001b[0;34m\u001b[0m\u001b[0m\n\u001b[0;32m----> 5\u001b[0;31m \u001b[0mp1\u001b[0m \u001b[0;34m=\u001b[0m \u001b[0max\u001b[0m\u001b[0;34m.\u001b[0m\u001b[0mplot\u001b[0m\u001b[0;34m(\u001b[0m\u001b[0mxs\u001b[0m\u001b[0;34m,\u001b[0m \u001b[0mA_samples\u001b[0m\u001b[0;34m.\u001b[0m\u001b[0mpdf\u001b[0m\u001b[0;34m(\u001b[0m\u001b[0mxs\u001b[0m\u001b[0;34m)\u001b[0m\u001b[0;34m)\u001b[0m\u001b[0;34m\u001b[0m\u001b[0m\n\u001b[0m",
        "\u001b[0;31mAttributeError\u001b[0m: 'numpy.ndarray' object has no attribute 'pdf'"
       ]
      },
      {
       "metadata": {},
       "output_type": "display_data",
       "png": "[encoded data removed]",
       "text": [
        "<matplotlib.figure.Figure at 0x1121afd90>"
       ]
      }
     ],
     "prompt_number": 61
    },
    {
     "cell_type": "code",
     "collapsed": false,
     "input": [],
     "language": "python",
     "metadata": {},
     "outputs": []
    }
   ],
   "metadata": {}
  }
 ]
}