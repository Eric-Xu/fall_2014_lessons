{
 "metadata": {
  "name": "",
  "signature": "sha256:7304f462a3d1617684d4ed1603bcc90cc2df9c56a23d161c5d0a7affc4c80a24"
 },
 "nbformat": 3,
 "nbformat_minor": 0,
 "worksheets": [
  {
   "cells": [
    {
     "cell_type": "heading",
     "level": 1,
     "metadata": {},
     "source": [
      "Dataexplor09: A/B Testing"
     ]
    },
    {
     "cell_type": "code",
     "collapsed": false,
     "input": [
      "#pre-reading: http://engineering.richrelevance.com/bayesian-ab-tests/"
     ],
     "language": "python",
     "metadata": {},
     "outputs": [],
     "prompt_number": 8
    },
    {
     "cell_type": "code",
     "collapsed": false,
     "input": [
      "#0 if user saw the headline and didn't click, 1 is a conversion\n",
      "df = df.from_csv('/home/vagrant/notebooks/fall_2014_lessons/dataexplor09/CTR_data.csv')"
     ],
     "language": "python",
     "metadata": {},
     "outputs": [],
     "prompt_number": 56
    },
    {
     "cell_type": "code",
     "collapsed": false,
     "input": [
      "#viewsA = viewsB = length of dataframe\n",
      "#QUESTION 1: What are clicksA and clicks B?"
     ],
     "language": "python",
     "metadata": {},
     "outputs": [],
     "prompt_number": 57
    },
    {
     "cell_type": "code",
     "collapsed": false,
     "input": [
      "#Example"
     ],
     "language": "python",
     "metadata": {},
     "outputs": [],
     "prompt_number": 58
    },
    {
     "cell_type": "code",
     "collapsed": false,
     "input": [
      "from numpy.random import beta as beta_dist\n",
      "import numpy as np\n",
      "N_samp = 10000 # number of samples to draw\n",
      "clicks_A = 450 # insert your own data here\n",
      "views_A = 56000\n",
      "clicks_B = 345 # ditto\n",
      "views_B = 49000\n",
      "alpha = 1.1 \n",
      "beta = 14.2\n",
      "A_samples = beta_dist(clicks_A+alpha, views_A-clicks_A+beta, N_samp)\n",
      "B_samples = beta_dist(clicks_B+alpha, views_B-clicks_B+beta, N_samp)"
     ],
     "language": "python",
     "metadata": {},
     "outputs": [],
     "prompt_number": 59
    },
    {
     "cell_type": "code",
     "collapsed": false,
     "input": [
      "#prob that A has a truly higher CTR than B\n",
      "np.mean(A_samples > B_samples)"
     ],
     "language": "python",
     "metadata": {},
     "outputs": [
      {
       "metadata": {},
       "output_type": "pyout",
       "prompt_number": 6,
       "text": [
        "0.97140000000000004"
       ]
      }
     ],
     "prompt_number": 6
    },
    {
     "cell_type": "code",
     "collapsed": false,
     "input": [
      "#prob that A has a 3% higher CTR than B\n",
      "np.mean( (A_samples - B_samples)/B_samples > .03 )"
     ],
     "language": "python",
     "metadata": {},
     "outputs": [
      {
       "metadata": {},
       "output_type": "pyout",
       "prompt_number": 5,
       "text": [
        "0.92849999999999999"
       ]
      }
     ],
     "prompt_number": 5
    },
    {
     "cell_type": "code",
     "collapsed": false,
     "input": [
      "#QUESTION 2: prob that A has a 10% higher CTR than B"
     ],
     "language": "python",
     "metadata": {},
     "outputs": []
    },
    {
     "cell_type": "code",
     "collapsed": false,
     "input": [
      "#QUESTION 3: how does changing alpha and beta change the value?"
     ],
     "language": "python",
     "metadata": {},
     "outputs": []
    }
   ],
   "metadata": {}
  }
 ]
}