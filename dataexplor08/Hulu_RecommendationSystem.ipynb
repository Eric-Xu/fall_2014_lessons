{
 "metadata": {
  "name": "",
  "signature": "sha256:1d052a2cf4bd3c952b3e9d1f808939874bc14f62270badd7ac81d4873e9165e7"
 },
 "nbformat": 3,
 "nbformat_minor": 0,
 "worksheets": [
  {
   "cells": [
    {
     "cell_type": "heading",
     "level": 1,
     "metadata": {},
     "source": [
      "Booklovr.me"
     ]
    },
    {
     "cell_type": "code",
     "collapsed": false,
     "input": [
      "from IPython.display import Image\n",
      "Image(url='https://raw.githubusercontent.com/iamjarret/datasciencedrive/master/homepage.jpg')"
     ],
     "language": "python",
     "metadata": {},
     "outputs": [
      {
       "html": [
        "<img src=\"https://raw.githubusercontent.com/iamjarret/datasciencedrive/master/homepage.jpg\"/>"
       ],
       "metadata": {},
       "output_type": "pyout",
       "prompt_number": 11,
       "text": [
        "<IPython.core.display.Image at 0x29abb10>"
       ]
      }
     ],
     "prompt_number": 11
    },
    {
     "cell_type": "heading",
     "level": 2,
     "metadata": {},
     "source": [
      "Hulu Recommendation System"
     ]
    },
    {
     "cell_type": "code",
     "collapsed": false,
     "input": [
      "#link: http://tech.hulu.com/blog/2011/09/19/recommendation-system/"
     ],
     "language": "python",
     "metadata": {},
     "outputs": [],
     "prompt_number": 12
    },
    {
     "cell_type": "heading",
     "level": 2,
     "metadata": {},
     "source": [
      "1. Data Structure"
     ]
    },
    {
     "cell_type": "markdown",
     "metadata": {},
     "source": [
      "\"Since a lot of our content is comprised of episodes or clips within a show, we have decided to recommend shows to users instead of individual videos. Shows are a good method of organization, and videos in the same show are usually very closely related.\""
     ]
    },
    {
     "cell_type": "code",
     "collapsed": false,
     "input": [
      "#implicit data\n",
      "data1 = \"iamjarret watched Game of Thrones\"\n",
      "\n",
      "#explicit data\n",
      "data2 = \"RobD2 rated The Sopranos 5 stars\""
     ],
     "language": "python",
     "metadata": {},
     "outputs": []
    },
    {
     "cell_type": "heading",
     "level": 2,
     "metadata": {},
     "source": [
      "2. Modelling Architecture"
     ]
    },
    {
     "cell_type": "markdown",
     "metadata": {},
     "source": [
      "\"User profile builder: When a user first comes into the recommendation system, we will first build a profile for them. The profile includes the user\u2019s historical behaviors and topics, and these are generated from their old behaviors. Users can have many different types of behaviors. For example, they can watch videos, add shows to favorites, search for videos and vote on videos and shows. All these behaviors are all considered by our system and, after extracting all these behaviors, we use a topic model which is trained offline to generate users\u2019 preference on topics.\""
     ]
    },
    {
     "cell_type": "code",
     "collapsed": false,
     "input": [
      "def build_profile(user):\n",
      "    \"\"\"\n",
      "    Aggregate and organize each individual's activity\n",
      "    \"\"\"\n",
      "    return user_profile"
     ],
     "language": "python",
     "metadata": {},
     "outputs": [],
     "prompt_number": 4
    },
    {
     "cell_type": "markdown",
     "metadata": {},
     "source": [
      "\"Recommendation Core: After generating the list of user\u2019s historical preferences on shows and topics, we put all of those similar shows into raw recommendations.\""
     ]
    },
    {
     "cell_type": "markdown",
     "metadata": {},
     "source": [
      "\"Related Table Generator: The related table is an important resource for on-line recommendation. We use two main types of related table: one that\u2019s based on collaborative filtering (which we\u2019ll call CF), and another based on content. In CF, show A and show B will have high similarity if users who like show A also like show B. With content filtering, we use content information including title, description, channel, company, actor/actress, and tags.\""
     ]
    },
    {
     "cell_type": "code",
     "collapsed": false,
     "input": [
      "def basic_recommendation(profile):\n",
      "    \"\"\"\n",
      "    Produces \"raw\" recommendation rankings \n",
      "    \"\"\"\n",
      "    data = query_related_table_db(profile)\n",
      "    raw_recommendations = process(data)\n",
      "    return raw_recommendations\n",
      "    "
     ],
     "language": "python",
     "metadata": {},
     "outputs": [],
     "prompt_number": 5
    },
    {
     "cell_type": "markdown",
     "metadata": {},
     "source": [
      "\"Filtering: For some pretty obvious reasons, raw recommendation results cannot be presented to users directly. We need to filter out shows the user has already seen or engaged with, so we can increase the recommendations shows a little more precise.\""
     ]
    },
    {
     "cell_type": "code",
     "collapsed": false,
     "input": [
      "def filter_seen(raw_recommendations, user):\n",
      "    if recommended_show in user['seen']:\n",
      "        del recommended_show"
     ],
     "language": "python",
     "metadata": {},
     "outputs": [],
     "prompt_number": 7
    },
    {
     "cell_type": "heading",
     "level": 2,
     "metadata": {},
     "source": [
      "3. Fine Tuning the Model"
     ]
    },
    {
     "cell_type": "markdown",
     "metadata": {},
     "source": [
      "The first lesson we learned from A/B testing is that recommendations should fit users\u2019 recent preference and that users\u2019 recent behavior is more important than their older, historical behaviors. So, in our engine, we will put more weight on users\u2019 recent behaviors. In our system, CTR of recommendations that originate from users\u2019 recent watch behavior is 1.8 times higher than CTR of recommendations originating from users\u2019 old watch behavior."
     ]
    },
    {
     "cell_type": "code",
     "collapsed": false,
     "input": [
      "user = {'watched':['w','d','a','f','w'], 'recentlywatched':['u','h','j','w','f','h','y']}\n",
      "\n",
      "def recommendations(user):\n",
      "    return\n",
      "\n",
      "recommendations(user['recentlywatched'])"
     ],
     "language": "python",
     "metadata": {},
     "outputs": [],
     "prompt_number": 20
    },
    {
     "cell_type": "markdown",
     "metadata": {},
     "source": [
      "Feedback Analyzer: Feedback specifically means users\u2019 reactions to recommendation results. Using user feedback can improve recommendation quality. For example, say a show is recommended to many users, but most of them do not click this show. In that case, we\u2019ll decrease the rank of this show. Users will also have different types of behavior, so we\u2019ll use all these behaviors in developing the recommendations. However, some users may prefer recommendations to come from their prior watch history, and some users may prefer their recommendations to come from their voting behavior. All these effects can be modeled offline by analyzing users\u2019 feedback on their recommendations."
     ]
    },
    {
     "cell_type": "code",
     "collapsed": false,
     "input": [
      "recommended_to = ['user1', 'user4', 'user7', '...']\n",
      "watched = ['user7','user44','...']\n",
      "\n",
      "def rerank(recommendation, recommended_to, watched):\n",
      "    ratio = len(watched)/len(recommended_to)\n",
      "    if ratio<0.001:\n",
      "        recommendation=-0.1"
     ],
     "language": "python",
     "metadata": {},
     "outputs": [],
     "prompt_number": 13
    },
    {
     "cell_type": "code",
     "collapsed": false,
     "input": [],
     "language": "python",
     "metadata": {},
     "outputs": []
    }
   ],
   "metadata": {}
  }
 ]
}