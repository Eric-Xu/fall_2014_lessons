{
 "metadata": {
  "name": "",
  "signature": "sha256:e62fc199df26e9c2315050fc411d53d697420c4fa77afa64320d8c282cb24a0c"
 },
 "nbformat": 3,
 "nbformat_minor": 0,
 "worksheets": [
  {
   "cells": [
    {
     "cell_type": "code",
     "collapsed": false,
     "input": [
      "from sklearn.datasets import load_diabetes\n",
      "\n",
      "import pandas as pd\n",
      "import numpy as np\n",
      "import matplotlib.pyplot as plt\n",
      "from sklearn.linear_model import LinearRegression\n",
      "from sklearn.linear_model import Ridge\n",
      "from sklearn.linear_model import Lasso\n",
      "from sklearn.feature_selection import SelectKBest\n",
      "from sklearn.feature_selection import f_regression\n",
      "from sklearn.metrics import mean_squared_error\n",
      "from sklearn.cross_validation import KFold\n",
      "from sklearn.pipeline import make_pipeline\n",
      "from sklearn.preprocessing import PolynomialFeatures\n",
      "%matplotlib inline"
     ],
     "language": "python",
     "metadata": {},
     "outputs": [],
     "prompt_number": 1
    },
    {
     "cell_type": "markdown",
     "metadata": {},
     "source": [
      "The diabetes dataset consists of 10 physiological variables (age, sex, weight, blood pressure) measure on 442\n",
      "patients, and an indication of disease progression after one year:"
     ]
    },
    {
     "cell_type": "code",
     "collapsed": false,
     "input": [
      "data = load_diabetes()"
     ],
     "language": "python",
     "metadata": {},
     "outputs": [],
     "prompt_number": 2
    },
    {
     "cell_type": "code",
     "collapsed": false,
     "input": [
      "df=pd.DataFrame(data.data)"
     ],
     "language": "python",
     "metadata": {},
     "outputs": [],
     "prompt_number": 3
    },
    {
     "cell_type": "code",
     "collapsed": false,
     "input": [
      "df['y']=data.target"
     ],
     "language": "python",
     "metadata": {},
     "outputs": [],
     "prompt_number": 4
    },
    {
     "cell_type": "code",
     "collapsed": false,
     "input": [
      "df.describe()"
     ],
     "language": "python",
     "metadata": {},
     "outputs": [
      {
       "html": [
        "<div style=\"max-height:1000px;max-width:1500px;overflow:auto;\">\n",
        "<table border=\"1\" class=\"dataframe\">\n",
        "  <thead>\n",
        "    <tr style=\"text-align: right;\">\n",
        "      <th></th>\n",
        "      <th>0</th>\n",
        "      <th>1</th>\n",
        "      <th>2</th>\n",
        "      <th>3</th>\n",
        "      <th>4</th>\n",
        "      <th>5</th>\n",
        "      <th>6</th>\n",
        "      <th>7</th>\n",
        "      <th>8</th>\n",
        "      <th>9</th>\n",
        "      <th>y</th>\n",
        "    </tr>\n",
        "  </thead>\n",
        "  <tbody>\n",
        "    <tr>\n",
        "      <th>count</th>\n",
        "      <td> 4.420000e+02</td>\n",
        "      <td> 4.420000e+02</td>\n",
        "      <td> 4.420000e+02</td>\n",
        "      <td> 4.420000e+02</td>\n",
        "      <td> 4.420000e+02</td>\n",
        "      <td> 4.420000e+02</td>\n",
        "      <td> 4.420000e+02</td>\n",
        "      <td> 4.420000e+02</td>\n",
        "      <td> 4.420000e+02</td>\n",
        "      <td> 4.420000e+02</td>\n",
        "      <td> 442.000000</td>\n",
        "    </tr>\n",
        "    <tr>\n",
        "      <th>mean</th>\n",
        "      <td>-3.634285e-16</td>\n",
        "      <td> 1.308343e-16</td>\n",
        "      <td>-8.045349e-16</td>\n",
        "      <td> 1.281655e-16</td>\n",
        "      <td>-8.835316e-17</td>\n",
        "      <td> 1.327024e-16</td>\n",
        "      <td>-4.574646e-16</td>\n",
        "      <td> 3.777301e-16</td>\n",
        "      <td>-3.830854e-16</td>\n",
        "      <td>-3.412882e-16</td>\n",
        "      <td> 152.133484</td>\n",
        "    </tr>\n",
        "    <tr>\n",
        "      <th>std</th>\n",
        "      <td> 4.761905e-02</td>\n",
        "      <td> 4.761905e-02</td>\n",
        "      <td> 4.761905e-02</td>\n",
        "      <td> 4.761905e-02</td>\n",
        "      <td> 4.761905e-02</td>\n",
        "      <td> 4.761905e-02</td>\n",
        "      <td> 4.761905e-02</td>\n",
        "      <td> 4.761905e-02</td>\n",
        "      <td> 4.761905e-02</td>\n",
        "      <td> 4.761905e-02</td>\n",
        "      <td>  77.093005</td>\n",
        "    </tr>\n",
        "    <tr>\n",
        "      <th>min</th>\n",
        "      <td>-1.072256e-01</td>\n",
        "      <td>-4.464164e-02</td>\n",
        "      <td>-9.027530e-02</td>\n",
        "      <td>-1.123996e-01</td>\n",
        "      <td>-1.267807e-01</td>\n",
        "      <td>-1.156131e-01</td>\n",
        "      <td>-1.023071e-01</td>\n",
        "      <td>-7.639450e-02</td>\n",
        "      <td>-1.260974e-01</td>\n",
        "      <td>-1.377672e-01</td>\n",
        "      <td>  25.000000</td>\n",
        "    </tr>\n",
        "    <tr>\n",
        "      <th>25%</th>\n",
        "      <td>-3.729927e-02</td>\n",
        "      <td>-4.464164e-02</td>\n",
        "      <td>-3.422907e-02</td>\n",
        "      <td>-3.665645e-02</td>\n",
        "      <td>-3.424784e-02</td>\n",
        "      <td>-3.035840e-02</td>\n",
        "      <td>-3.511716e-02</td>\n",
        "      <td>-3.949338e-02</td>\n",
        "      <td>-3.324879e-02</td>\n",
        "      <td>-3.317903e-02</td>\n",
        "      <td>  87.000000</td>\n",
        "    </tr>\n",
        "    <tr>\n",
        "      <th>50%</th>\n",
        "      <td> 5.383060e-03</td>\n",
        "      <td>-4.464164e-02</td>\n",
        "      <td>-7.283766e-03</td>\n",
        "      <td>-5.670611e-03</td>\n",
        "      <td>-4.320866e-03</td>\n",
        "      <td>-3.819065e-03</td>\n",
        "      <td>-6.584468e-03</td>\n",
        "      <td>-2.592262e-03</td>\n",
        "      <td>-1.947634e-03</td>\n",
        "      <td>-1.077698e-03</td>\n",
        "      <td> 140.500000</td>\n",
        "    </tr>\n",
        "    <tr>\n",
        "      <th>75%</th>\n",
        "      <td> 3.807591e-02</td>\n",
        "      <td> 5.068012e-02</td>\n",
        "      <td> 3.124802e-02</td>\n",
        "      <td> 3.564384e-02</td>\n",
        "      <td> 2.835801e-02</td>\n",
        "      <td> 2.984439e-02</td>\n",
        "      <td> 2.931150e-02</td>\n",
        "      <td> 3.430886e-02</td>\n",
        "      <td> 3.243323e-02</td>\n",
        "      <td> 2.791705e-02</td>\n",
        "      <td> 211.500000</td>\n",
        "    </tr>\n",
        "    <tr>\n",
        "      <th>max</th>\n",
        "      <td> 1.107267e-01</td>\n",
        "      <td> 5.068012e-02</td>\n",
        "      <td> 1.705552e-01</td>\n",
        "      <td> 1.320442e-01</td>\n",
        "      <td> 1.539137e-01</td>\n",
        "      <td> 1.987880e-01</td>\n",
        "      <td> 1.811791e-01</td>\n",
        "      <td> 1.852344e-01</td>\n",
        "      <td> 1.335990e-01</td>\n",
        "      <td> 1.356118e-01</td>\n",
        "      <td> 346.000000</td>\n",
        "    </tr>\n",
        "  </tbody>\n",
        "</table>\n",
        "</div>"
       ],
       "metadata": {},
       "output_type": "pyout",
       "prompt_number": 5,
       "text": [
        "                  0             1             2             3             4  \\\n",
        "count  4.420000e+02  4.420000e+02  4.420000e+02  4.420000e+02  4.420000e+02   \n",
        "mean  -3.634285e-16  1.308343e-16 -8.045349e-16  1.281655e-16 -8.835316e-17   \n",
        "std    4.761905e-02  4.761905e-02  4.761905e-02  4.761905e-02  4.761905e-02   \n",
        "min   -1.072256e-01 -4.464164e-02 -9.027530e-02 -1.123996e-01 -1.267807e-01   \n",
        "25%   -3.729927e-02 -4.464164e-02 -3.422907e-02 -3.665645e-02 -3.424784e-02   \n",
        "50%    5.383060e-03 -4.464164e-02 -7.283766e-03 -5.670611e-03 -4.320866e-03   \n",
        "75%    3.807591e-02  5.068012e-02  3.124802e-02  3.564384e-02  2.835801e-02   \n",
        "max    1.107267e-01  5.068012e-02  1.705552e-01  1.320442e-01  1.539137e-01   \n",
        "\n",
        "                  5             6             7             8             9  \\\n",
        "count  4.420000e+02  4.420000e+02  4.420000e+02  4.420000e+02  4.420000e+02   \n",
        "mean   1.327024e-16 -4.574646e-16  3.777301e-16 -3.830854e-16 -3.412882e-16   \n",
        "std    4.761905e-02  4.761905e-02  4.761905e-02  4.761905e-02  4.761905e-02   \n",
        "min   -1.156131e-01 -1.023071e-01 -7.639450e-02 -1.260974e-01 -1.377672e-01   \n",
        "25%   -3.035840e-02 -3.511716e-02 -3.949338e-02 -3.324879e-02 -3.317903e-02   \n",
        "50%   -3.819065e-03 -6.584468e-03 -2.592262e-03 -1.947634e-03 -1.077698e-03   \n",
        "75%    2.984439e-02  2.931150e-02  3.430886e-02  3.243323e-02  2.791705e-02   \n",
        "max    1.987880e-01  1.811791e-01  1.852344e-01  1.335990e-01  1.356118e-01   \n",
        "\n",
        "                y  \n",
        "count  442.000000  \n",
        "mean   152.133484  \n",
        "std     77.093005  \n",
        "min     25.000000  \n",
        "25%     87.000000  \n",
        "50%    140.500000  \n",
        "75%    211.500000  \n",
        "max    346.000000  "
       ]
      }
     ],
     "prompt_number": 5
    },
    {
     "cell_type": "code",
     "collapsed": false,
     "input": [
      "df.head()"
     ],
     "language": "python",
     "metadata": {},
     "outputs": [
      {
       "html": [
        "<div style=\"max-height:1000px;max-width:1500px;overflow:auto;\">\n",
        "<table border=\"1\" class=\"dataframe\">\n",
        "  <thead>\n",
        "    <tr style=\"text-align: right;\">\n",
        "      <th></th>\n",
        "      <th>0</th>\n",
        "      <th>1</th>\n",
        "      <th>2</th>\n",
        "      <th>3</th>\n",
        "      <th>4</th>\n",
        "      <th>5</th>\n",
        "      <th>6</th>\n",
        "      <th>7</th>\n",
        "      <th>8</th>\n",
        "      <th>9</th>\n",
        "      <th>y</th>\n",
        "    </tr>\n",
        "  </thead>\n",
        "  <tbody>\n",
        "    <tr>\n",
        "      <th>0</th>\n",
        "      <td> 0.038076</td>\n",
        "      <td> 0.050680</td>\n",
        "      <td> 0.061696</td>\n",
        "      <td> 0.021872</td>\n",
        "      <td>-0.044223</td>\n",
        "      <td>-0.034821</td>\n",
        "      <td>-0.043401</td>\n",
        "      <td>-0.002592</td>\n",
        "      <td> 0.019908</td>\n",
        "      <td>-0.017646</td>\n",
        "      <td> 151</td>\n",
        "    </tr>\n",
        "    <tr>\n",
        "      <th>1</th>\n",
        "      <td>-0.001882</td>\n",
        "      <td>-0.044642</td>\n",
        "      <td>-0.051474</td>\n",
        "      <td>-0.026328</td>\n",
        "      <td>-0.008449</td>\n",
        "      <td>-0.019163</td>\n",
        "      <td> 0.074412</td>\n",
        "      <td>-0.039493</td>\n",
        "      <td>-0.068330</td>\n",
        "      <td>-0.092204</td>\n",
        "      <td>  75</td>\n",
        "    </tr>\n",
        "    <tr>\n",
        "      <th>2</th>\n",
        "      <td> 0.085299</td>\n",
        "      <td> 0.050680</td>\n",
        "      <td> 0.044451</td>\n",
        "      <td>-0.005671</td>\n",
        "      <td>-0.045599</td>\n",
        "      <td>-0.034194</td>\n",
        "      <td>-0.032356</td>\n",
        "      <td>-0.002592</td>\n",
        "      <td> 0.002864</td>\n",
        "      <td>-0.025930</td>\n",
        "      <td> 141</td>\n",
        "    </tr>\n",
        "    <tr>\n",
        "      <th>3</th>\n",
        "      <td>-0.089063</td>\n",
        "      <td>-0.044642</td>\n",
        "      <td>-0.011595</td>\n",
        "      <td>-0.036656</td>\n",
        "      <td> 0.012191</td>\n",
        "      <td> 0.024991</td>\n",
        "      <td>-0.036038</td>\n",
        "      <td> 0.034309</td>\n",
        "      <td> 0.022692</td>\n",
        "      <td>-0.009362</td>\n",
        "      <td> 206</td>\n",
        "    </tr>\n",
        "    <tr>\n",
        "      <th>4</th>\n",
        "      <td> 0.005383</td>\n",
        "      <td>-0.044642</td>\n",
        "      <td>-0.036385</td>\n",
        "      <td> 0.021872</td>\n",
        "      <td> 0.003935</td>\n",
        "      <td> 0.015596</td>\n",
        "      <td> 0.008142</td>\n",
        "      <td>-0.002592</td>\n",
        "      <td>-0.031991</td>\n",
        "      <td>-0.046641</td>\n",
        "      <td> 135</td>\n",
        "    </tr>\n",
        "  </tbody>\n",
        "</table>\n",
        "</div>"
       ],
       "metadata": {},
       "output_type": "pyout",
       "prompt_number": 6,
       "text": [
        "          0         1         2         3         4         5         6  \\\n",
        "0  0.038076  0.050680  0.061696  0.021872 -0.044223 -0.034821 -0.043401   \n",
        "1 -0.001882 -0.044642 -0.051474 -0.026328 -0.008449 -0.019163  0.074412   \n",
        "2  0.085299  0.050680  0.044451 -0.005671 -0.045599 -0.034194 -0.032356   \n",
        "3 -0.089063 -0.044642 -0.011595 -0.036656  0.012191  0.024991 -0.036038   \n",
        "4  0.005383 -0.044642 -0.036385  0.021872  0.003935  0.015596  0.008142   \n",
        "\n",
        "          7         8         9    y  \n",
        "0 -0.002592  0.019908 -0.017646  151  \n",
        "1 -0.039493 -0.068330 -0.092204   75  \n",
        "2 -0.002592  0.002864 -0.025930  141  \n",
        "3  0.034309  0.022692 -0.009362  206  \n",
        "4 -0.002592 -0.031991 -0.046641  135  "
       ]
      }
     ],
     "prompt_number": 6
    },
    {
     "cell_type": "markdown",
     "metadata": {},
     "source": [
      "### Examine the Correlation Between Predictors"
     ]
    },
    {
     "cell_type": "code",
     "collapsed": false,
     "input": [
      "predictors = [col for col in df.columns if col != 'y']"
     ],
     "language": "python",
     "metadata": {},
     "outputs": [],
     "prompt_number": 7
    },
    {
     "cell_type": "code",
     "collapsed": false,
     "input": [
      "df[predictors].corr()"
     ],
     "language": "python",
     "metadata": {},
     "outputs": [
      {
       "html": [
        "<div style=\"max-height:1000px;max-width:1500px;overflow:auto;\">\n",
        "<table border=\"1\" class=\"dataframe\">\n",
        "  <thead>\n",
        "    <tr style=\"text-align: right;\">\n",
        "      <th></th>\n",
        "      <th>0</th>\n",
        "      <th>1</th>\n",
        "      <th>2</th>\n",
        "      <th>3</th>\n",
        "      <th>4</th>\n",
        "      <th>5</th>\n",
        "      <th>6</th>\n",
        "      <th>7</th>\n",
        "      <th>8</th>\n",
        "      <th>9</th>\n",
        "    </tr>\n",
        "  </thead>\n",
        "  <tbody>\n",
        "    <tr>\n",
        "      <th>0</th>\n",
        "      <td> 1.000000</td>\n",
        "      <td> 0.173737</td>\n",
        "      <td> 0.185085</td>\n",
        "      <td> 0.335427</td>\n",
        "      <td> 0.260061</td>\n",
        "      <td> 0.219243</td>\n",
        "      <td>-0.075181</td>\n",
        "      <td> 0.203841</td>\n",
        "      <td> 0.270777</td>\n",
        "      <td> 0.301731</td>\n",
        "    </tr>\n",
        "    <tr>\n",
        "      <th>1</th>\n",
        "      <td> 0.173737</td>\n",
        "      <td> 1.000000</td>\n",
        "      <td> 0.088161</td>\n",
        "      <td> 0.241013</td>\n",
        "      <td> 0.035277</td>\n",
        "      <td> 0.142637</td>\n",
        "      <td>-0.379090</td>\n",
        "      <td> 0.332115</td>\n",
        "      <td> 0.149918</td>\n",
        "      <td> 0.208133</td>\n",
        "    </tr>\n",
        "    <tr>\n",
        "      <th>2</th>\n",
        "      <td> 0.185085</td>\n",
        "      <td> 0.088161</td>\n",
        "      <td> 1.000000</td>\n",
        "      <td> 0.395415</td>\n",
        "      <td> 0.249777</td>\n",
        "      <td> 0.261170</td>\n",
        "      <td>-0.366811</td>\n",
        "      <td> 0.413807</td>\n",
        "      <td> 0.446159</td>\n",
        "      <td> 0.388680</td>\n",
        "    </tr>\n",
        "    <tr>\n",
        "      <th>3</th>\n",
        "      <td> 0.335427</td>\n",
        "      <td> 0.241013</td>\n",
        "      <td> 0.395415</td>\n",
        "      <td> 1.000000</td>\n",
        "      <td> 0.242470</td>\n",
        "      <td> 0.185558</td>\n",
        "      <td>-0.178761</td>\n",
        "      <td> 0.257653</td>\n",
        "      <td> 0.393478</td>\n",
        "      <td> 0.390429</td>\n",
        "    </tr>\n",
        "    <tr>\n",
        "      <th>4</th>\n",
        "      <td> 0.260061</td>\n",
        "      <td> 0.035277</td>\n",
        "      <td> 0.249777</td>\n",
        "      <td> 0.242470</td>\n",
        "      <td> 1.000000</td>\n",
        "      <td> 0.896663</td>\n",
        "      <td> 0.051519</td>\n",
        "      <td> 0.542207</td>\n",
        "      <td> 0.515501</td>\n",
        "      <td> 0.325717</td>\n",
        "    </tr>\n",
        "    <tr>\n",
        "      <th>5</th>\n",
        "      <td> 0.219243</td>\n",
        "      <td> 0.142637</td>\n",
        "      <td> 0.261170</td>\n",
        "      <td> 0.185558</td>\n",
        "      <td> 0.896663</td>\n",
        "      <td> 1.000000</td>\n",
        "      <td>-0.196455</td>\n",
        "      <td> 0.659817</td>\n",
        "      <td> 0.318353</td>\n",
        "      <td> 0.290600</td>\n",
        "    </tr>\n",
        "    <tr>\n",
        "      <th>6</th>\n",
        "      <td>-0.075181</td>\n",
        "      <td>-0.379090</td>\n",
        "      <td>-0.366811</td>\n",
        "      <td>-0.178761</td>\n",
        "      <td> 0.051519</td>\n",
        "      <td>-0.196455</td>\n",
        "      <td> 1.000000</td>\n",
        "      <td>-0.738493</td>\n",
        "      <td>-0.398577</td>\n",
        "      <td>-0.273697</td>\n",
        "    </tr>\n",
        "    <tr>\n",
        "      <th>7</th>\n",
        "      <td> 0.203841</td>\n",
        "      <td> 0.332115</td>\n",
        "      <td> 0.413807</td>\n",
        "      <td> 0.257653</td>\n",
        "      <td> 0.542207</td>\n",
        "      <td> 0.659817</td>\n",
        "      <td>-0.738493</td>\n",
        "      <td> 1.000000</td>\n",
        "      <td> 0.617857</td>\n",
        "      <td> 0.417212</td>\n",
        "    </tr>\n",
        "    <tr>\n",
        "      <th>8</th>\n",
        "      <td> 0.270777</td>\n",
        "      <td> 0.149918</td>\n",
        "      <td> 0.446159</td>\n",
        "      <td> 0.393478</td>\n",
        "      <td> 0.515501</td>\n",
        "      <td> 0.318353</td>\n",
        "      <td>-0.398577</td>\n",
        "      <td> 0.617857</td>\n",
        "      <td> 1.000000</td>\n",
        "      <td> 0.464670</td>\n",
        "    </tr>\n",
        "    <tr>\n",
        "      <th>9</th>\n",
        "      <td> 0.301731</td>\n",
        "      <td> 0.208133</td>\n",
        "      <td> 0.388680</td>\n",
        "      <td> 0.390429</td>\n",
        "      <td> 0.325717</td>\n",
        "      <td> 0.290600</td>\n",
        "      <td>-0.273697</td>\n",
        "      <td> 0.417212</td>\n",
        "      <td> 0.464670</td>\n",
        "      <td> 1.000000</td>\n",
        "    </tr>\n",
        "  </tbody>\n",
        "</table>\n",
        "</div>"
       ],
       "metadata": {},
       "output_type": "pyout",
       "prompt_number": 8,
       "text": [
        "          0         1         2         3         4         5         6  \\\n",
        "0  1.000000  0.173737  0.185085  0.335427  0.260061  0.219243 -0.075181   \n",
        "1  0.173737  1.000000  0.088161  0.241013  0.035277  0.142637 -0.379090   \n",
        "2  0.185085  0.088161  1.000000  0.395415  0.249777  0.261170 -0.366811   \n",
        "3  0.335427  0.241013  0.395415  1.000000  0.242470  0.185558 -0.178761   \n",
        "4  0.260061  0.035277  0.249777  0.242470  1.000000  0.896663  0.051519   \n",
        "5  0.219243  0.142637  0.261170  0.185558  0.896663  1.000000 -0.196455   \n",
        "6 -0.075181 -0.379090 -0.366811 -0.178761  0.051519 -0.196455  1.000000   \n",
        "7  0.203841  0.332115  0.413807  0.257653  0.542207  0.659817 -0.738493   \n",
        "8  0.270777  0.149918  0.446159  0.393478  0.515501  0.318353 -0.398577   \n",
        "9  0.301731  0.208133  0.388680  0.390429  0.325717  0.290600 -0.273697   \n",
        "\n",
        "          7         8         9  \n",
        "0  0.203841  0.270777  0.301731  \n",
        "1  0.332115  0.149918  0.208133  \n",
        "2  0.413807  0.446159  0.388680  \n",
        "3  0.257653  0.393478  0.390429  \n",
        "4  0.542207  0.515501  0.325717  \n",
        "5  0.659817  0.318353  0.290600  \n",
        "6 -0.738493 -0.398577 -0.273697  \n",
        "7  1.000000  0.617857  0.417212  \n",
        "8  0.617857  1.000000  0.464670  \n",
        "9  0.417212  0.464670  1.000000  "
       ]
      }
     ],
     "prompt_number": 8
    },
    {
     "cell_type": "markdown",
     "metadata": {},
     "source": [
      "Looks like there are pretty high correlations between 4 and 5, 5 and 7, 6 and 7."
     ]
    },
    {
     "cell_type": "code",
     "collapsed": false,
     "input": [
      "X = df[predictors].values\n",
      "y = df.y.values"
     ],
     "language": "python",
     "metadata": {},
     "outputs": [],
     "prompt_number": 9
    },
    {
     "cell_type": "markdown",
     "metadata": {},
     "source": [
      "### Construct a baseline regressor with all features"
     ]
    },
    {
     "cell_type": "code",
     "collapsed": false,
     "input": [
      "reg = LinearRegression()\n",
      "reg.fit(X, y)\n",
      "ypred = reg.predict(X)\n",
      "rmse = np.sqrt(mean_squared_error(ypred, y))\n",
      "print(\"RMSE: %0.2f\" % (rmse.mean()))"
     ],
     "language": "python",
     "metadata": {},
     "outputs": [
      {
       "output_type": "stream",
       "stream": "stdout",
       "text": [
        "RMSE: 53.48\n"
       ]
      }
     ],
     "prompt_number": 10
    },
    {
     "cell_type": "markdown",
     "metadata": {},
     "source": [
      "### Use SelectKBest to find the best subset regression"
     ]
    },
    {
     "cell_type": "code",
     "collapsed": false,
     "input": [
      "mses = []\n",
      "nfeatures = range(1, len(predictors))\n",
      "\n",
      "for nfeature in nfeatures:\n",
      "    # compute MSE for different values of k (top features)\n",
      "    selector = SelectKBest(f_regression, k=nfeature)\n",
      "    selector.fit(X, y)\n",
      "    selected = selector.get_support()\n",
      "    feats = [col for (col,sel) in zip(predictors, selected) if sel]\n",
      "    reg = LinearRegression()\n",
      "    X_r = df[feats]\n",
      "    reg.fit(X_r, y)\n",
      "    ypred = reg.predict(X_r)\n",
      "    mses.append(np.sqrt(mean_squared_error(ypred, y)))\n",
      "\n",
      "plt.plot(nfeatures, mses)\n",
      "plt.xlabel(\"number of features\")\n",
      "plt.ylabel(\"RMSE\")"
     ],
     "language": "python",
     "metadata": {},
     "outputs": [
      {
       "metadata": {},
       "output_type": "pyout",
       "prompt_number": 11,
       "text": [
        "<matplotlib.text.Text at 0x1081dd1d0>"
       ]
      },
      {
       "metadata": {},
       "output_type": "display_data",
       "png": "[encoded data removed]",
       "text": [
        "<matplotlib.figure.Figure at 0x108167fd0>"
       ]
      }
     ],
     "prompt_number": 11
    },
    {
     "cell_type": "markdown",
     "metadata": {},
     "source": [
      "### Model selection by cross validation"
     ]
    },
    {
     "cell_type": "markdown",
     "metadata": {},
     "source": [
      "The RMSE falls as the number of features increase - this is expected because we are computing the RMSE off the training set (overfitting). We will now use 10-fold cross validation on each model to calculate a cross-validation MSE which will give us a better idea of the best feature size to use for the problem."
     ]
    },
    {
     "cell_type": "code",
     "collapsed": false,
     "input": [
      "cv_errors = []\n",
      "kfold = KFold(len(df), n_folds=10)\n",
      "nfeatures = range(1, len(predictors))\n",
      "\n",
      "for nfeature in nfeatures:\n",
      "    # build model with varying number of features\n",
      "    selector = SelectKBest(f_regression, k=nfeature)\n",
      "    selector.fit(X, y)\n",
      "    selected = selector.get_support()\n",
      "    feats = [col for (col,sel) in zip(predictors, selected) if sel]\n",
      "    X_r = df[feats].values\n",
      "    y = df[\"y\"].values\n",
      "    rmses = []\n",
      "    for train, test in kfold:\n",
      "        # each model is cross validated 10 times\n",
      "        Xtrain, ytrain, Xtest, ytest = X_r[train], y[train], X_r[test], y[test]   \n",
      "        reg = LinearRegression()\n",
      "        reg.fit(Xtrain, ytrain)\n",
      "        ypred = reg.predict(Xtest)\n",
      "        rmses.append(np.sqrt(mean_squared_error(ypred, ytest)))\n",
      "    cv_errors.append(np.mean(rmses))\n",
      "    \n",
      "plt.plot(nfeatures, cv_errors)\n",
      "plt.xlabel(\"number of features\")\n",
      "plt.ylabel(\"RMSE\")"
     ],
     "language": "python",
     "metadata": {},
     "outputs": [
      {
       "metadata": {},
       "output_type": "pyout",
       "prompt_number": 12,
       "text": [
        "<matplotlib.text.Text at 0x108156890>"
       ]
      },
      {
       "metadata": {},
       "output_type": "display_data",
       "png": "[encoded data removed]",
       "text": [
        "<matplotlib.figure.Figure at 0x10818ccd0>"
       ]
      }
     ],
     "prompt_number": 12
    },
    {
     "cell_type": "markdown",
     "metadata": {},
     "source": [
      "5 seems to be the optimal number of features to use. \n",
      "\n",
      "Next up: lets see if we can lower the MSE even further by using Ridge and Lasso regression to shrink the coefficient estimates."
     ]
    },
    {
     "cell_type": "markdown",
     "metadata": {},
     "source": [
      "### Compare baseline model with Ridge and Lasso"
     ]
    },
    {
     "cell_type": "code",
     "collapsed": false,
     "input": [
      "def cross_validate(X, y, nfolds, reg_name=None):\n",
      "    if reg_name == \"ridge\":\n",
      "        reg = Ridge()\n",
      "    elif reg_name == \"lasso\":\n",
      "        reg = Lasso()\n",
      "    elif reg_name == \"baseline\":\n",
      "        reg = LinearRegression()\n",
      "    else:\n",
      "        print \"model not defined\"\n",
      "\n",
      "    rmses = []\n",
      "    kfold = KFold(X.shape[0], n_folds=nfolds)\n",
      "    for train, test in kfold:\n",
      "        Xtrain, ytrain, Xtest, ytest = X[train], y[train], X[test], y[test]\n",
      "        reg.fit(Xtrain, ytrain)\n",
      "        ypred = reg.predict(Xtest)\n",
      "        rmses.append(np.sqrt(mean_squared_error(ytest, ypred)))\n",
      "    return np.mean(rmses)\n",
      "\n",
      "X = df[predictors].values\n",
      "y = df[\"y\"].values\n",
      "\n",
      "rmse_baseline = cross_validate(X, y, 10, \"baseline\")\n",
      "rmse_ridge = cross_validate(X, y, 10, \"ridge\")\n",
      "rmse_lasso = cross_validate(X, y, 10, \"lassoa\")\n",
      "\n",
      "print(\"baseline wins with: %0.2f; ridge: %0.2f; lasso: %0.2f\") % (rmse_baseline, rmse_ridge, rmse_lasso)"
     ],
     "language": "python",
     "metadata": {},
     "outputs": [
      {
       "output_type": "stream",
       "stream": "stdout",
       "text": [
        "model not defined\n"
       ]
      },
      {
       "ename": "UnboundLocalError",
       "evalue": "local variable 'reg' referenced before assignment",
       "output_type": "pyerr",
       "traceback": [
        "\u001b[0;31m---------------------------------------------------------------------------\u001b[0m\n\u001b[0;31mUnboundLocalError\u001b[0m                         Traceback (most recent call last)",
        "\u001b[0;32m<ipython-input-20-edb8705c6c60>\u001b[0m in \u001b[0;36m<module>\u001b[0;34m()\u001b[0m\n\u001b[1;32m     23\u001b[0m \u001b[0mrmse_baseline\u001b[0m \u001b[0;34m=\u001b[0m \u001b[0mcross_validate\u001b[0m\u001b[0;34m(\u001b[0m\u001b[0mX\u001b[0m\u001b[0;34m,\u001b[0m \u001b[0my\u001b[0m\u001b[0;34m,\u001b[0m \u001b[0;36m10\u001b[0m\u001b[0;34m,\u001b[0m \u001b[0;34m\"baseline\"\u001b[0m\u001b[0;34m)\u001b[0m\u001b[0;34m\u001b[0m\u001b[0m\n\u001b[1;32m     24\u001b[0m \u001b[0mrmse_ridge\u001b[0m \u001b[0;34m=\u001b[0m \u001b[0mcross_validate\u001b[0m\u001b[0;34m(\u001b[0m\u001b[0mX\u001b[0m\u001b[0;34m,\u001b[0m \u001b[0my\u001b[0m\u001b[0;34m,\u001b[0m \u001b[0;36m10\u001b[0m\u001b[0;34m,\u001b[0m \u001b[0;34m\"ridge\"\u001b[0m\u001b[0;34m)\u001b[0m\u001b[0;34m\u001b[0m\u001b[0m\n\u001b[0;32m---> 25\u001b[0;31m \u001b[0mrmse_lasso\u001b[0m \u001b[0;34m=\u001b[0m \u001b[0mcross_validate\u001b[0m\u001b[0;34m(\u001b[0m\u001b[0mX\u001b[0m\u001b[0;34m,\u001b[0m \u001b[0my\u001b[0m\u001b[0;34m,\u001b[0m \u001b[0;36m10\u001b[0m\u001b[0;34m,\u001b[0m \u001b[0;34m\"lassoa\"\u001b[0m\u001b[0;34m)\u001b[0m\u001b[0;34m\u001b[0m\u001b[0m\n\u001b[0m\u001b[1;32m     26\u001b[0m \u001b[0;34m\u001b[0m\u001b[0m\n\u001b[1;32m     27\u001b[0m \u001b[0;32mprint\u001b[0m\u001b[0;34m(\u001b[0m\u001b[0;34m\"baseline wins with: %0.2f; ridge: %0.2f; lasso: %0.2f\"\u001b[0m\u001b[0;34m)\u001b[0m \u001b[0;34m%\u001b[0m \u001b[0;34m(\u001b[0m\u001b[0mrmse_baseline\u001b[0m\u001b[0;34m,\u001b[0m \u001b[0mrmse_ridge\u001b[0m\u001b[0;34m,\u001b[0m \u001b[0mrmse_lasso\u001b[0m\u001b[0;34m)\u001b[0m\u001b[0;34m\u001b[0m\u001b[0m\n",
        "\u001b[0;32m<ipython-input-20-edb8705c6c60>\u001b[0m in \u001b[0;36mcross_validate\u001b[0;34m(X, y, nfolds, reg_name)\u001b[0m\n\u001b[1;32m     13\u001b[0m     \u001b[0;32mfor\u001b[0m \u001b[0mtrain\u001b[0m\u001b[0;34m,\u001b[0m \u001b[0mtest\u001b[0m \u001b[0;32min\u001b[0m \u001b[0mkfold\u001b[0m\u001b[0;34m:\u001b[0m\u001b[0;34m\u001b[0m\u001b[0m\n\u001b[1;32m     14\u001b[0m         \u001b[0mXtrain\u001b[0m\u001b[0;34m,\u001b[0m \u001b[0mytrain\u001b[0m\u001b[0;34m,\u001b[0m \u001b[0mXtest\u001b[0m\u001b[0;34m,\u001b[0m \u001b[0mytest\u001b[0m \u001b[0;34m=\u001b[0m \u001b[0mX\u001b[0m\u001b[0;34m[\u001b[0m\u001b[0mtrain\u001b[0m\u001b[0;34m]\u001b[0m\u001b[0;34m,\u001b[0m \u001b[0my\u001b[0m\u001b[0;34m[\u001b[0m\u001b[0mtrain\u001b[0m\u001b[0;34m]\u001b[0m\u001b[0;34m,\u001b[0m \u001b[0mX\u001b[0m\u001b[0;34m[\u001b[0m\u001b[0mtest\u001b[0m\u001b[0;34m]\u001b[0m\u001b[0;34m,\u001b[0m \u001b[0my\u001b[0m\u001b[0;34m[\u001b[0m\u001b[0mtest\u001b[0m\u001b[0;34m]\u001b[0m\u001b[0;34m\u001b[0m\u001b[0m\n\u001b[0;32m---> 15\u001b[0;31m         \u001b[0mreg\u001b[0m\u001b[0;34m.\u001b[0m\u001b[0mfit\u001b[0m\u001b[0;34m(\u001b[0m\u001b[0mXtrain\u001b[0m\u001b[0;34m,\u001b[0m \u001b[0mytrain\u001b[0m\u001b[0;34m)\u001b[0m\u001b[0;34m\u001b[0m\u001b[0m\n\u001b[0m\u001b[1;32m     16\u001b[0m         \u001b[0mypred\u001b[0m \u001b[0;34m=\u001b[0m \u001b[0mreg\u001b[0m\u001b[0;34m.\u001b[0m\u001b[0mpredict\u001b[0m\u001b[0;34m(\u001b[0m\u001b[0mXtest\u001b[0m\u001b[0;34m)\u001b[0m\u001b[0;34m\u001b[0m\u001b[0m\n\u001b[1;32m     17\u001b[0m         \u001b[0mrmses\u001b[0m\u001b[0;34m.\u001b[0m\u001b[0mappend\u001b[0m\u001b[0;34m(\u001b[0m\u001b[0mnp\u001b[0m\u001b[0;34m.\u001b[0m\u001b[0msqrt\u001b[0m\u001b[0;34m(\u001b[0m\u001b[0mmean_squared_error\u001b[0m\u001b[0;34m(\u001b[0m\u001b[0mytest\u001b[0m\u001b[0;34m,\u001b[0m \u001b[0mypred\u001b[0m\u001b[0;34m)\u001b[0m\u001b[0;34m)\u001b[0m\u001b[0;34m)\u001b[0m\u001b[0;34m\u001b[0m\u001b[0m\n",
        "\u001b[0;31mUnboundLocalError\u001b[0m: local variable 'reg' referenced before assignment"
       ]
      }
     ],
     "prompt_number": 20
    },
    {
     "cell_type": "markdown",
     "metadata": {},
     "source": [
      "### Fine tune the baseline model"
     ]
    },
    {
     "cell_type": "code",
     "collapsed": false,
     "input": [
      "# scores = []\n",
      "\n",
      "# for train, test in KFold(len(df), n_folds=5):\n",
      "#     Xtrain, ytrain, Xtest, ytest = X[train], y[train], X[test], y[test]\n",
      "    \n",
      "#     b = SelectKBest(f_regression, k=5)\n",
      "#     b.fit(Xtrain, ytrain)\n",
      "#     Xtrain = Xtrain[:, b.get_support()]\n",
      "#     Xtest = Xtest[:, b.get_support()]\n",
      "    \n",
      "#     clf = LinearRegression()\n",
      "#     clf.fit(Xtrain, ytrain)    \n",
      "#     scores.append(clf.score(Xtest, ytest))\n",
      "\n",
      "#     yp = clf.predict(Xtest)\n",
      "#     plt.plot(yp, ytest, 'o')\n",
      "#     plt.plot(ytest, ytest, 'r-')\n",
      "    \n",
      "# plt.xlabel(\"Predicted\")\n",
      "# plt.ylabel(\"Observed\")\n",
      "\n",
      "# print(\"CV Score is \", np.mean(scores))"
     ],
     "language": "python",
     "metadata": {},
     "outputs": [],
     "prompt_number": 14
    },
    {
     "cell_type": "markdown",
     "metadata": {},
     "source": [
      "As of now, cross validation has revealed that using the baseline model with 5 features results in the lowest RMSE. Now let's investigate when using 5 features, is there an optimal number of polynomial degrees to fit our model."
     ]
    },
    {
     "cell_type": "code",
     "collapsed": false,
     "input": [
      "degrees = np.arange(6)\n",
      "train_err = np.zeros(len(degrees))\n",
      "validation_err = np.zeros(len(degrees))\n",
      "\n",
      "scores = []\n",
      "\n",
      "for i, degree in enumerate(degrees):\n",
      "    for train, test in KFold(len(df), n_folds=3):\n",
      "        Xtrain, ytrain, Xtest, ytest = X[train], y[train], X[test], y[test]\n",
      "\n",
      "        b = SelectKBest(f_regression, k=5)\n",
      "        b.fit(Xtrain, ytrain)\n",
      "        Xtrain = Xtrain[:, b.get_support()]\n",
      "        Xtest = Xtest[:, b.get_support()]\n",
      "\n",
      "        print b.get_support() # returns the set of selected predictors\n",
      "        \n",
      "        est = make_pipeline(PolynomialFeatures(degree), LinearRegression())\n",
      "        est.fit(Xtrain, ytrain)\n",
      "        \n",
      "        train_err[i] = np.sqrt(np.mean((ytrain - est.predict(Xtrain)) ** 2))\n",
      "        validation_err[i] = np.sqrt(np.mean((ytest - est.predict(Xtest)) ** 2))\n",
      "        # same as: np.sqrt(mean_squared_error(ytest, est.predict(Xtest)))\n",
      "                        \n",
      "fig, ax = plt.subplots()\n",
      "\n",
      "ax.plot(degrees, validation_err, lw=2, label = 'cross-validation error')\n",
      "ax.plot(degrees, train_err, lw=2, label = 'training error')\n",
      "\n",
      "ax.legend(loc=0)\n",
      "ax.set_xlabel('degree of fit')\n",
      "ax.set_ylabel('RMSE')\n",
      "plt.ylim(-10, 150)"
     ],
     "language": "python",
     "metadata": {},
     "outputs": [
      {
       "output_type": "stream",
       "stream": "stdout",
       "text": [
        "[False False  True  True False False  True  True  True False]\n",
        "[False False  True  True False False  True  True  True False]\n",
        "[False False  True  True False False False  True  True  True]\n",
        "[False False  True  True False False  True  True  True False]\n",
        "[False False  True  True False False  True  True  True False]\n",
        "[False False  True  True False False False  True  True  True]\n",
        "[False False  True  True False False  True  True  True False]\n",
        "[False False  True  True False False  True  True  True False]\n",
        "[False False  True  True False False False  True  True  True]\n",
        "[False False  True  True False False  True  True  True False]\n",
        "[False False  True  True False False  True  True  True False]\n",
        "[False False  True  True False False False  True  True  True]\n",
        "[False False  True  True False False  True  True  True False]\n",
        "[False False  True  True False False  True  True  True False]"
       ]
      },
      {
       "output_type": "stream",
       "stream": "stdout",
       "text": [
        "\n",
        "[False False  True  True False False False  True  True  True]\n",
        "[False False  True  True False False  True  True  True False]"
       ]
      },
      {
       "output_type": "stream",
       "stream": "stdout",
       "text": [
        "\n",
        "[False False  True  True False False  True  True  True False]"
       ]
      },
      {
       "output_type": "stream",
       "stream": "stdout",
       "text": [
        "\n",
        "[False False  True  True False False False  True  True  True]"
       ]
      },
      {
       "output_type": "stream",
       "stream": "stdout",
       "text": [
        "\n"
       ]
      },
      {
       "metadata": {},
       "output_type": "pyout",
       "prompt_number": 15,
       "text": [
        "(-10, 150)"
       ]
      },
      {
       "metadata": {},
       "output_type": "display_data",
       "png": "[encoded data removed]",
       "text": [
        "<matplotlib.figure.Figure at 0x108352a90>"
       ]
      }
     ],
     "prompt_number": 15
    },
    {
     "cell_type": "code",
     "collapsed": false,
     "input": [
      "print validation_err"
     ],
     "language": "python",
     "metadata": {},
     "outputs": [
      {
       "output_type": "stream",
       "stream": "stdout",
       "text": [
        "[   75.70460231    54.52716532    55.1963555     70.85459868   136.84923024\n",
        "  2226.51041215]\n"
       ]
      }
     ],
     "prompt_number": 16
    },
    {
     "cell_type": "markdown",
     "metadata": {},
     "source": [
      "### Conclusion"
     ]
    },
    {
     "cell_type": "markdown",
     "metadata": {},
     "source": [
      "Given the cross validation results above, my conclusion is that a single order polynomial model using the predictors that correspond to columns 3, 4, 7, 8, and 9 will produce the most accurate results."
     ]
    },
    {
     "cell_type": "code",
     "collapsed": false,
     "input": [],
     "language": "python",
     "metadata": {},
     "outputs": [],
     "prompt_number": 16
    }
   ],
   "metadata": {}
  }
 ]
}