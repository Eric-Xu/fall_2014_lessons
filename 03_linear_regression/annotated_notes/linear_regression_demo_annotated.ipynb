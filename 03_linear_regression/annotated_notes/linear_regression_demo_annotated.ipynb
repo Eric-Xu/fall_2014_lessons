{
 "metadata": {
  "name": "",
  "signature": "sha256:bf4027eda49e7be0ca25bbeaddf192b2742c29b5c0d565c32ef1b481f820d0e0"
 },
 "nbformat": 3,
 "nbformat_minor": 0,
 "worksheets": [
  {
   "cells": [
    {
     "cell_type": "code",
     "collapsed": false,
     "input": [
      "import pandas as pd\n",
      "import numpy as np\n",
      "import matplotlib.pyplot as plt\n",
      "import seaborn as sns\n",
      "from sklearn.linear_model import LinearRegression\n",
      "\n",
      "from IPython.display import Image"
     ],
     "language": "python",
     "metadata": {},
     "outputs": [],
     "prompt_number": 3
    },
    {
     "cell_type": "markdown",
     "metadata": {},
     "source": [
      "### Steps:\n",
      "\n",
      "1. Create random training data for X and y\n",
      "2. Visualize\n",
      "3. Create sklearn Linear Regression Model and fit training data to it\n",
      "4. Create test input data, plug it into the model, and get predicted values for y (y_hat)\n",
      "5. Visualize"
     ]
    },
    {
     "cell_type": "markdown",
     "metadata": {},
     "source": [
      "#### Create some random data"
     ]
    },
    {
     "cell_type": "code",
     "collapsed": false,
     "input": [
      "#NP.random generates random numbers.  But it doesn't actually do that since it would be\n",
      "#impossible to write a deterministic function that created a truly random number.  Instead \n",
      "#np.random generates \"pseudo random\" numbers by looking at a long list of randomly generated\n",
      "#numbers.  We \"seed\" np.random by telling it where in the list to\n",
      "#start counting.  So although np.random is random with the same seed the results will\n",
      "#be repeatable.\n",
      "\n",
      "np.random.seed(0)"
     ],
     "language": "python",
     "metadata": {},
     "outputs": [],
     "prompt_number": 4
    },
    {
     "cell_type": "code",
     "collapsed": false,
     "input": [
      "# Random data\n",
      "Image(url='http://imgs.xkcd.com/comics/random_number.png')"
     ],
     "language": "python",
     "metadata": {},
     "outputs": [
      {
       "html": [
        "<img src=\"http://imgs.xkcd.com/comics/random_number.png\"/>"
       ],
       "metadata": {},
       "output_type": "pyout",
       "prompt_number": 5,
       "text": [
        "<IPython.core.display.Image at 0x48a4e10>"
       ]
      }
     ],
     "prompt_number": 5
    },
    {
     "cell_type": "markdown",
     "metadata": {},
     "source": [
      "#### Generate X values"
     ]
    },
    {
     "cell_type": "code",
     "collapsed": false,
     "input": [
      "#X is an array!\n",
      "X = np.random.random(size=(20,1)) # The size of the input array is expected to be [n_samples, n_features]\n",
      "X"
     ],
     "language": "python",
     "metadata": {},
     "outputs": [
      {
       "metadata": {},
       "output_type": "pyout",
       "prompt_number": 35,
       "text": [
        "array([[ 0.05684808],\n",
        "       [ 0.69699724],\n",
        "       [ 0.7786954 ],\n",
        "       [ 0.77740756],\n",
        "       [ 0.25942256],\n",
        "       [ 0.37381314],\n",
        "       [ 0.58759964],\n",
        "       [ 0.2728219 ],\n",
        "       [ 0.3708528 ],\n",
        "       [ 0.19705428],\n",
        "       [ 0.45985588],\n",
        "       [ 0.0446123 ],\n",
        "       [ 0.79979588],\n",
        "       [ 0.07695645],\n",
        "       [ 0.51883515],\n",
        "       [ 0.3068101 ],\n",
        "       [ 0.57754295],\n",
        "       [ 0.95943334],\n",
        "       [ 0.64557024],\n",
        "       [ 0.03536244]])"
       ]
      }
     ],
     "prompt_number": 35
    },
    {
     "cell_type": "code",
     "collapsed": false,
     "input": [
      "print X.shape"
     ],
     "language": "python",
     "metadata": {},
     "outputs": [
      {
       "output_type": "stream",
       "stream": "stdout",
       "text": [
        "(20, 1)\n"
       ]
      }
     ],
     "prompt_number": 36
    },
    {
     "cell_type": "markdown",
     "metadata": {},
     "source": [
      "#### Generate y values\n",
      "1. what does the \"squeeze\" method do?\n",
      "2. why do we include X when we generate y?\n",
      "3. what happens to y when we change the numbers around?"
     ]
    },
    {
     "cell_type": "code",
     "collapsed": false,
     "input": [
      "#We're performing matrix addition.  X is a vector (list, 1-dim array) plus another random vector\n",
      "#results in another vector y\n",
      "\n",
      "y = 2 + 3 * X.squeeze() + np.random.normal(size=20)\n",
      "y"
     ],
     "language": "python",
     "metadata": {},
     "outputs": [
      {
       "metadata": {},
       "output_type": "pyout",
       "prompt_number": 37,
       "text": [
        "array([ 2.56959057,  1.31839897,  6.2919985 ,  4.72231601,  2.12585911,\n",
        "        2.73048604,  4.25654068,  2.70236177,  1.08187393,  4.6556557 ,\n",
        "        3.26902699,  3.15400962,  3.70733781,  3.7672464 ,  3.84284914,\n",
        "        3.52927413,  2.68737548,  6.08944531,  4.6265289 ,  3.40793354])"
       ]
      }
     ],
     "prompt_number": 37
    },
    {
     "cell_type": "markdown",
     "metadata": {},
     "source": [
      "#### Guess the output of each line in the following cell"
     ]
    },
    {
     "cell_type": "code",
     "collapsed": false,
     "input": [
      "example_X = np.random.random(size=(5, 1)) \n",
      "print example_X\n",
      "print example_X.shape\n",
      "print example_X.squeeze()\n",
      "print example_X.flatten()\n",
      "print example_X.reshape(example_X.size)"
     ],
     "language": "python",
     "metadata": {},
     "outputs": [
      {
       "output_type": "stream",
       "stream": "stdout",
       "text": [
        "[[ 0.24002027]\n",
        " [ 0.16053882]\n",
        " [ 0.79639147]\n",
        " [ 0.9591666 ]\n",
        " [ 0.45813883]]\n",
        "(5, 1)\n",
        "[ 0.24002027  0.16053882  0.79639147  0.9591666   0.45813883]\n",
        "[ 0.24002027  0.16053882  0.79639147  0.9591666   0.45813883]\n",
        "[ 0.24002027  0.16053882  0.79639147  0.9591666   0.45813883]\n"
       ]
      }
     ],
     "prompt_number": 38
    },
    {
     "cell_type": "code",
     "collapsed": false,
     "input": [
      "# Visualize this training dataset\n",
      "#using pyplot plot command\n",
      "plt.plot(X,y,'o')"
     ],
     "language": "python",
     "metadata": {},
     "outputs": [
      {
       "metadata": {},
       "output_type": "pyout",
       "prompt_number": 39,
       "text": [
        "[<matplotlib.lines.Line2D at 0x679bb50>]"
       ]
      },
      {
       "metadata": {},
       "output_type": "display_data",
       "png": "[encoded data removed]",
       "text": [
        "<matplotlib.figure.Figure at 0x6454a90>"
       ]
      }
     ],
     "prompt_number": 39
    },
    {
     "cell_type": "markdown",
     "metadata": {},
     "source": [
      "#### Create a model and fit a linear regression to it"
     ]
    },
    {
     "cell_type": "code",
     "collapsed": false,
     "input": [
      "#The first line creates an instance of the LinearRegression class.\n",
      "#fit_intercept determines whether the model will fit a constant term (B_0) or not\n",
      "#The way we use the model on data is by running the .fit method\n",
      "#.fit takes X values comma y values\n",
      "#Internally, after running fit the model object becomes a certain model\n",
      "#we can see what model it has become by looking at the model.coef_ and model.intercept_\n",
      "#attributes.  These are variables stored internally in the object.\n",
      "#model.coef_ is the list of estimated coefficients.  How many will there be in this case?\n",
      "#model.intercept_ is the estimated intercept.\n",
      "\n",
      "model = LinearRegression(fit_intercept=True)\n",
      "model.fit(X, y)\n",
      "print (\"Model coefficient: %.5f, and intercept: %.5f\"\n",
      "       % (model.coef_, model.intercept_))\n",
      "\n",
      "#This runs fine.  Go back to where we created the variable X and set it's size equal to the\n",
      "#integer 20, instead of the tuple (20,1).  Re run the code up to here.  What error do you get?\n",
      "#What are the types of the different inputs (X,y) in both scenarios?"
     ],
     "language": "python",
     "metadata": {},
     "outputs": [
      {
       "output_type": "stream",
       "stream": "stdout",
       "text": [
        "Model coefficient: 2.10621, and intercept: 2.60046\n"
       ]
      }
     ],
     "prompt_number": 43
    },
    {
     "cell_type": "code",
     "collapsed": false,
     "input": [
      "#We previously fit a linear model with the LinearRegression model in sci-kit learn (sklearn)\n",
      "#Now we're going to look at a more stats-oriented package which gives regression output similar\n",
      "#to what you've seen with Stata.\n",
      "\n",
      "import statsmodels.api as sm\n",
      "\n",
      "#We have to explicitely add a constant to our matrix.  In matrix notation this is equivalent\n",
      "#to adding a column of 1's to our covariate matrix (covariate, feature, model input, \n",
      "# and independent var are all synonyms)\n",
      "#The model object stores the y and X internally\n",
      "X=sm.add_constant(X)\n",
      "model = sm.OLS(y,X)"
     ],
     "language": "python",
     "metadata": {},
     "outputs": [],
     "prompt_number": 52
    },
    {
     "cell_type": "code",
     "collapsed": false,
     "input": [],
     "language": "python",
     "metadata": {},
     "outputs": [],
     "prompt_number": 52
    },
    {
     "cell_type": "code",
     "collapsed": false,
     "input": [
      "#We fit the model.  Unlike sklearn this function takes no inputs.\n",
      "results = model.fit()"
     ],
     "language": "python",
     "metadata": {},
     "outputs": [],
     "prompt_number": 53
    },
    {
     "cell_type": "code",
     "collapsed": false,
     "input": [
      "#Beautiful regression output!\n",
      "print results.summary()"
     ],
     "language": "python",
     "metadata": {},
     "outputs": [
      {
       "output_type": "stream",
       "stream": "stdout",
       "text": [
        "                            OLS Regression Results                            \n",
        "==============================================================================\n",
        "Dep. Variable:                      y   R-squared:                       0.195\n",
        "Model:                            OLS   Adj. R-squared:                  0.150\n",
        "Method:                 Least Squares   F-statistic:                     4.353\n",
        "Date:                Thu, 06 Nov 2014   Prob (F-statistic):             0.0514\n",
        "Time:                        18:03:20   Log-Likelihood:                -31.758\n",
        "No. Observations:                  20   AIC:                             67.52\n",
        "Df Residuals:                      18   BIC:                             69.51\n",
        "Df Model:                           1                                         \n",
        "==============================================================================\n",
        "                 coef    std err          t      P>|t|      [95.0% Conf. Int.]\n",
        "------------------------------------------------------------------------------\n",
        "x1             2.1062      1.009      2.086      0.051        -0.015     4.227\n",
        "const          2.6005      0.524      4.959      0.000         1.499     3.702\n",
        "==============================================================================\n",
        "Omnibus:                        1.811   Durbin-Watson:                   2.623\n",
        "Prob(Omnibus):                  0.404   Jarque-Bera (JB):                0.965\n",
        "Skew:                          -0.538   Prob(JB):                        0.617\n",
        "Kurtosis:                       3.039   Cond. No.                         4.36\n",
        "==============================================================================\n"
       ]
      }
     ],
     "prompt_number": 54
    },
    {
     "cell_type": "code",
     "collapsed": false,
     "input": [
      "#refit a model using X_big instead of X\n",
      "X_big = np.column_stack((X,X**2,X**3,X**4))\n",
      "\n",
      "#why are there 8 coefficients in this model when it SEEMS like there should only be 4?\n",
      "#How many columns is the original X?  Correctly make the model above by 1) regenerating X\n",
      "#2) making X_big, 3) adding the constant, 4) re-fitting the model."
     ],
     "language": "python",
     "metadata": {},
     "outputs": [],
     "prompt_number": 55
    },
    {
     "cell_type": "markdown",
     "metadata": {},
     "source": [
      "#### Plot the data and the model prediction\n",
      "1. what does np.linspace do?\n",
      "2. why do we need to reshape it?"
     ]
    },
    {
     "cell_type": "code",
     "collapsed": false,
     "input": [
      "#nplinspace generates 100 numbers from 0 to 1.\n",
      "#Reshaping it prevents the error we found when we tried to make X only a list\n",
      "##model.predict takes inputs and generates the predicted values\n",
      "#since we're giving it every number between 0 and 1 we're going to get\n",
      "#the estimated model line\n",
      "X_test = np.linspace(0, 1, 100).reshape(100,1)\n",
      "y_hat = model.predict(X_test)"
     ],
     "language": "python",
     "metadata": {},
     "outputs": [],
     "prompt_number": 15
    },
    {
     "cell_type": "markdown",
     "metadata": {},
     "source": [
      "#### Plot the train data and regression!"
     ]
    },
    {
     "cell_type": "code",
     "collapsed": false,
     "input": [
      "plt.plot(X, y, 'o')\n",
      "plt.plot(X_test, y_hat)"
     ],
     "language": "python",
     "metadata": {},
     "outputs": [
      {
       "metadata": {},
       "output_type": "pyout",
       "prompt_number": 16,
       "text": [
        "[<matplotlib.lines.Line2D at 0x7f34c5d086d0>]"
       ]
      },
      {
       "metadata": {},
       "output_type": "display_data",
       "png": "[encoded data removed]",
       "text": [
        "<matplotlib.figure.Figure at 0x7f34ae3049d0>"
       ]
      }
     ],
     "prompt_number": 16
    },
    {
     "cell_type": "code",
     "collapsed": false,
     "input": [],
     "language": "python",
     "metadata": {},
     "outputs": [],
     "prompt_number": 85
    },
    {
     "cell_type": "code",
     "collapsed": false,
     "input": [],
     "language": "python",
     "metadata": {},
     "outputs": []
    }
   ],
   "metadata": {}
  }
 ]
}