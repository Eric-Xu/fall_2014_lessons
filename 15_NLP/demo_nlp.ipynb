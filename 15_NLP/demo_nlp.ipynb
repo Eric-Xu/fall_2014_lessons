{
 "metadata": {
  "name": "",
  "signature": "sha256:58526d6a80390a295d0ccc8b44da4f9f368ce43cf12be3992b1da85b14165c88"
 },
 "nbformat": 3,
 "nbformat_minor": 0,
 "worksheets": [
  {
   "cells": [
    {
     "cell_type": "code",
     "collapsed": false,
     "input": [
      "import pandas as pd\n",
      "import numpy as np\n",
      "from sklearn.feature_extraction.text import CountVectorizer\n"
     ],
     "language": "python",
     "metadata": {},
     "outputs": [],
     "prompt_number": 1
    },
    {
     "cell_type": "code",
     "collapsed": false,
     "input": [
      "vectorizer = CountVectorizer(stop_words=\"english\")\n",
      "document_set = (\"Your father\u2019s lightsaber. This is the weapon of a Jedi Knight.\",\n",
      "        \"A lightsaber is an interesting weapon, a blade unique in the history of warfare.\",\n",
      "        \"A lightsaber is a fictional energy weapon featured in the Star Wars universe.\",\n",
      "        \"Lightsabers are hand-built as part of a Jedi's or Sith's training regimen.\",\n",
      "        \"The lightsaber is the weapon of a Jedi, an elegant weapon of a more civilized age. \")"
     ],
     "language": "python",
     "metadata": {},
     "outputs": [],
     "prompt_number": 42
    },
    {
     "cell_type": "code",
     "collapsed": false,
     "input": [
      "print vectorizer"
     ],
     "language": "python",
     "metadata": {},
     "outputs": [
      {
       "output_type": "stream",
       "stream": "stdout",
       "text": [
        "CountVectorizer(analyzer=u'word', binary=False, charset=None,\n",
        "        charset_error=None, decode_error=u'strict',\n",
        "        dtype=<type 'numpy.int64'>, encoding=u'utf-8', input=u'content',\n",
        "        lowercase=True, max_df=1.0, max_features=None, min_df=1,\n",
        "        ngram_range=(1, 1), preprocessor=None, stop_words='english',\n",
        "        strip_accents=None, token_pattern=u'(?u)\\\\b\\\\w\\\\w+\\\\b',\n",
        "        tokenizer=None, vocabulary=None)\n"
       ]
      }
     ],
     "prompt_number": 43
    },
    {
     "cell_type": "code",
     "collapsed": false,
     "input": [
      "freq_term_matrix = vectorizer.fit_transform(document_set)\n",
      "print \"vocab: \", vectorizer.vocabulary_.keys()\n",
      "print \"stop words: \", vectorizer.stop_words_\n",
      "print \"feature names:\" , vectorizer.get_feature_names()"
     ],
     "language": "python",
     "metadata": {},
     "outputs": [
      {
       "output_type": "stream",
       "stream": "stdout",
       "text": [
        "vocab:  [u'sith', u'star', u'lightsabers', u'energy', u'wars', u'hand', u'elegant', u'featured', u'regimen', u'knight', u'unique', u'warfare', u'training', u'built', u'interesting', u'age', u'blade', u'father', u'civilized', u'fictional', u'jedi', u'lightsaber', u'universe', u'weapon', u'history']\n",
        "stop words:  set([])\n",
        "feature names: [u'age', u'blade', u'built', u'civilized', u'elegant', u'energy', u'father', u'featured', u'fictional', u'hand', u'history', u'interesting', u'jedi', u'knight', u'lightsaber', u'lightsabers', u'regimen', u'sith', u'star', u'training', u'unique', u'universe', u'warfare', u'wars', u'weapon']\n"
       ]
      }
     ],
     "prompt_number": 44
    },
    {
     "cell_type": "code",
     "collapsed": false,
     "input": [
      "print freq_term_matrix.todense()"
     ],
     "language": "python",
     "metadata": {},
     "outputs": [
      {
       "output_type": "stream",
       "stream": "stdout",
       "text": [
        "[[0 0 0 0 0 0 1 0 0 0 0 0 1 1 1 0 0 0 0 0 0 0 0 0 1]\n",
        " [0 1 0 0 0 0 0 0 0 0 1 1 0 0 1 0 0 0 0 0 1 0 1 0 1]\n",
        " [0 0 0 0 0 1 0 1 1 0 0 0 0 0 1 0 0 0 1 0 0 1 0 1 1]\n",
        " [0 0 1 0 0 0 0 0 0 1 0 0 1 0 0 1 1 1 0 1 0 0 0 0 0]\n",
        " [1 0 0 1 1 0 0 0 0 0 0 0 1 0 1 0 0 0 0 0 0 0 0 0 2]]\n"
       ]
      }
     ],
     "prompt_number": 45
    },
    {
     "cell_type": "code",
     "collapsed": false,
     "input": [
      "from sklearn.feature_extraction.text import TfidfTransformer\n",
      "\n",
      "tfidf = TfidfTransformer(norm=u'l2')\n",
      "tfidf.fit(freq_term_matrix)\n",
      "\n",
      "print \"Inverse Document Freq:\", tfidf.idf_\n"
     ],
     "language": "python",
     "metadata": {},
     "outputs": [
      {
       "output_type": "stream",
       "stream": "stdout",
       "text": [
        "Inverse Document Freq: [ 2.09861229  2.09861229  2.09861229  2.09861229  2.09861229  2.09861229\n",
        "  2.09861229  2.09861229  2.09861229  2.09861229  2.09861229  2.09861229\n",
        "  1.40546511  2.09861229  1.18232156  2.09861229  2.09861229  2.09861229\n",
        "  2.09861229  2.09861229  2.09861229  2.09861229  2.09861229  2.09861229\n",
        "  1.18232156]\n"
       ]
      }
     ],
     "prompt_number": 46
    },
    {
     "cell_type": "code",
     "collapsed": false,
     "input": [
      "tf_idf_matrix = tfidf.transform(freq_term_matrix)\n",
      "print tf_idf_matrix.todense()"
     ],
     "language": "python",
     "metadata": {},
     "outputs": [
      {
       "output_type": "stream",
       "stream": "stdout",
       "text": [
        "[[ 0.          0.          0.          0.          0.          0.\n",
        "   0.56949663  0.          0.          0.          0.          0.\n",
        "   0.38139853  0.56949663  0.32084447  0.          0.          0.          0.\n",
        "   0.          0.          0.          0.          0.          0.32084447]\n",
        " [ 0.          0.42127021  0.          0.          0.          0.          0.\n",
        "   0.          0.          0.          0.42127021  0.42127021  0.          0.\n",
        "   0.23733629  0.          0.          0.          0.          0.\n",
        "   0.42127021  0.          0.42127021  0.          0.23733629]\n",
        " [ 0.          0.          0.          0.          0.          0.38822731\n",
        "   0.          0.38822731  0.38822731  0.          0.          0.          0.\n",
        "   0.          0.2187205   0.          0.          0.          0.38822731\n",
        "   0.          0.          0.38822731  0.          0.38822731  0.2187205 ]\n",
        " [ 0.          0.          0.39379499  0.          0.          0.          0.\n",
        "   0.          0.          0.39379499  0.          0.          0.26372909\n",
        "   0.          0.          0.39379499  0.39379499  0.39379499  0.\n",
        "   0.39379499  0.          0.          0.          0.          0.        ]\n",
        " [ 0.44563381  0.          0.          0.44563381  0.44563381  0.          0.\n",
        "   0.          0.          0.          0.          0.          0.29844615\n",
        "   0.          0.25106231  0.          0.          0.          0.          0.\n",
        "   0.          0.          0.          0.          0.50212463]]\n"
       ]
      }
     ],
     "prompt_number": 47
    },
    {
     "cell_type": "code",
     "collapsed": false,
     "input": [
      "print tf_idf_matrix.shape"
     ],
     "language": "python",
     "metadata": {},
     "outputs": [
      {
       "output_type": "stream",
       "stream": "stdout",
       "text": [
        "(5, 25)\n"
       ]
      }
     ],
     "prompt_number": 48
    },
    {
     "cell_type": "code",
     "collapsed": false,
     "input": [
      "from sklearn.metrics.pairwise import cosine_similarity\n",
      "print tf_idf_matrix[0:1]\n",
      "cosine_similarity(tf_idf_matrix[0:1], tf_idf_matrix)"
     ],
     "language": "python",
     "metadata": {},
     "outputs": [
      {
       "output_type": "stream",
       "stream": "stdout",
       "text": [
        "  (0, 13)\t0.569496628089\n",
        "  (0, 12)\t0.381398529059\n",
        "  (0, 24)\t0.320844466387\n",
        "  (0, 14)\t0.320844466387\n",
        "  (0, 6)\t0.569496628089\n"
       ]
      },
      {
       "metadata": {},
       "output_type": "pyout",
       "prompt_number": 50,
       "text": [
        "array([[ 1.        ,  0.15229607,  0.14035052,  0.10058589,  0.35548279]])"
       ]
      }
     ],
     "prompt_number": 50
    },
    {
     "cell_type": "code",
     "collapsed": false,
     "input": [],
     "language": "python",
     "metadata": {},
     "outputs": []
    }
   ],
   "metadata": {}
  }
 ]
}