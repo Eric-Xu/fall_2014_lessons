{
 "metadata": {
  "name": "numpy-lab"
 },
 "nbformat": 3,
 "nbformat_minor": 0,
 "worksheets": [
  {
   "cells": [
    {
     "cell_type": "markdown",
     "metadata": {},
     "source": "# Numpy and Scipy\n\nBased on a notebook by Ariel Rokem, Matt Davis, Justin Kitzes, Katy Huff, Matthew Terry"
    },
    {
     "cell_type": "markdown",
     "metadata": {},
     "source": "## Introducing Numpy\n\nNumPy is a Python package implementing efficient collections of specific types of data (generally numerical), similar to the standard array\nmodule (but with many more features). NumPy arrays differ from lists and tuples in that the data is contiguous in memory. A Python **list**, \n```[0, 1, 2]```, in contrast, is actually an array of pointers to Python objects representing each number. This allows NumPy arrays to be\nconsiderably faster for numerical operations than Python lists/tuples."
    },
    {
     "cell_type": "code",
     "collapsed": true,
     "input": "# Many useful functions are in external packages\n# Let's meet numpy\nimport numpy as np",
     "language": "python",
     "metadata": {},
     "outputs": []
    },
    {
     "cell_type": "code",
     "collapsed": true,
     "input": "# To see what's in a package, type the name, a period, then hit tab\nnp?",
     "language": "python",
     "metadata": {},
     "outputs": []
    },
    {
     "cell_type": "code",
     "collapsed": false,
     "input": "# Some examples of numpy functions and \"things\":\nprint(np.sqrt(4))\nprint(np.pi)  # Not a function, just a variable\nprint(np.sin(np.pi)) # A function on a variable :) ",
     "language": "python",
     "metadata": {},
     "outputs": []
    },
    {
     "cell_type": "markdown",
     "metadata": {},
     "source": "### Numpy arrays (ndarrays)\n\nCreating a NumPy array is as simple as passing a sequence to numpy.array:\n    \nNumpy arrays are collections of things, all of which must be the same type, that work\nsimilarly to lists (as we've described them so far). The most important are:\n\n1. You can easily perform elementwise operations (and matrix algebra) on arrays\n1. Arrays can be n-dimensional\n1. Arrays must be pre-allocated (ie, there is no equivalent to append)\n\nArrays can be created from existing collections such as lists, or instantiated \"from scratch\" in a \nfew useful ways."
    },
    {
     "cell_type": "code",
     "collapsed": false,
     "input": "arr1 = np.array([1, 2.3, 4])   \nprint(type(arr1))\nprint(arr1.dtype)",
     "language": "python",
     "metadata": {},
     "outputs": []
    },
    {
     "cell_type": "code",
     "collapsed": false,
     "input": "foo = np.array([1, 2, 3])",
     "language": "python",
     "metadata": {},
     "outputs": []
    },
    {
     "cell_type": "markdown",
     "metadata": {},
     "source": "You can also explicitly specify the data-type if the automatically-chosen one would be unsuitable."
    },
    {
     "cell_type": "code",
     "collapsed": false,
     "input": "arr2 = np.array([1, 2.3, 4], dtype=int)   \nprint(type(arr2))\nprint(arr2.dtype)",
     "language": "python",
     "metadata": {},
     "outputs": [
      {
       "output_type": "stream",
       "stream": "stdout",
       "text": "<type 'numpy.ndarray'>\nint64\n"
      }
     ],
     "prompt_number": 5
    },
    {
     "cell_type": "markdown",
     "metadata": {},
     "source": "As you might expect, creating a NumPy array this way can be slow, since it must manually convert each element of a list into its equivalent C type (int objects become C ints, etc). There are many other ways to create NumPy arrays, such as `np.identity`, `np.zeros`, `np.zeros_like`, or by manually specifying the dimensions and type of the array with the low-level creation function:"
    },
    {
     "cell_type": "code",
     "collapsed": false,
     "input": "arr3 = np.ndarray((2, 3, 4), dtype=complex)  # Notice : `ndarray`, not `array`!\nprint(type(arr3))",
     "language": "python",
     "metadata": {},
     "outputs": []
    },
    {
     "cell_type": "markdown",
     "metadata": {},
     "source": "Arrays have a `.shape` attribute, which stores the dimensions of the array as a tuple:"
    },
    {
     "cell_type": "code",
     "collapsed": false,
     "input": "print(arr3.shape)",
     "language": "python",
     "metadata": {},
     "outputs": []
    },
    {
     "cell_type": "markdown",
     "metadata": {},
     "source": "For many of the examples below, we will be using `np.arange` which, similar to the Python built-in function `range`, returns a NumPy array\nof integers from 0 to N-1, inclusive. Like `range`, you can also specify a starting value and a step:"
    },
    {
     "cell_type": "code",
     "collapsed": false,
     "input": "arr4 = np.arange(2, 5)\nprint(arr4)\narr5 = np.arange(1, 5, 2)\nprint(arr5)\narr6 = np.arange(1, 10, 2)\nprint arr6",
     "language": "python",
     "metadata": {},
     "outputs": [
      {
       "output_type": "stream",
       "stream": "stdout",
       "text": "[2 3 4]\n[1 3]\n[1 3 5 7 9]\n"
      }
     ],
     "prompt_number": 6
    },
    {
     "cell_type": "markdown",
     "metadata": {},
     "source": "### Exercise : Create an Array\n\nCreate an array with values ranging from 0 to 10, in increments of 0.5. \n\nReminder: get help by typing `np.arange?`, `np.ndarray?`, `np.array?`, etc. "
    },
    {
     "cell_type": "markdown",
     "metadata": {},
     "source": "## Arithmetic with arrays\n\nSince numpy exists to perform efficient numerical operations in Python, arrays have all the usual arithmetic operations available to them. These operations are performed element-wise (i.e. the same operation is performed independently on each element of the array)."
    },
    {
     "cell_type": "code",
     "collapsed": false,
     "input": "A = np.arange(5)\nB = np.arange(5, 10)\n\nprint (A+B)\n\nprint(B-A)\n\nprint(A*B)",
     "language": "python",
     "metadata": {},
     "outputs": [
      {
       "output_type": "stream",
       "stream": "stdout",
       "text": "[ 5  7  9 11 13]\n[5 5 5 5 5]\n[ 0  6 14 24 36]\n"
      }
     ],
     "prompt_number": 7
    },
    {
     "cell_type": "markdown",
     "metadata": {},
     "source": "## What would happen if A and B did not have the same `shape`?"
    },
    {
     "cell_type": "markdown",
     "metadata": {},
     "source": "## Arithmetic with scalars:\nIn addition, if one of the arguments is a scalar, that value will be applied to all the elements of the array."
    },
    {
     "cell_type": "code",
     "collapsed": false,
     "input": "A = np.arange(5)\nprint(A+10)\nprint(2*A)\nprint(A**2)",
     "language": "python",
     "metadata": {},
     "outputs": [
      {
       "output_type": "stream",
       "stream": "stdout",
       "text": "[10 11 12 13 14]\n[0 2 4 6 8]\n[ 0  1  4  9 16]\n"
      }
     ],
     "prompt_number": 8
    },
    {
     "cell_type": "markdown",
     "metadata": {},
     "source": "## Linear algebra with arrays\nYou can use arrays as vectors and matrices in linear algebra operations\n\nSpecifically, you can perform matrix/vector multiplication between arrays, by using the `.dot` method, or the `np.dot` function:"
    },
    {
     "cell_type": "code",
     "collapsed": false,
     "input": "print A.dot(B)\nprint np.dot(A, B)",
     "language": "python",
     "metadata": {},
     "outputs": []
    },
    {
     "cell_type": "markdown",
     "metadata": {},
     "source": "Note: *This is like the '`*`' operator in Matlab*"
    },
    {
     "cell_type": "markdown",
     "metadata": {},
     "source": "### Boolean operators work on arrays too, and they return boolean arrays\nMuch like the basic arithmetic operations we discussed above, comparison operations are perfomed element-wise. That is, rather than returning a\nsingle boolean, comparison operators compare each element in both arrays pairwise, and return an `array` of booleans (if the sizes of the input\narrays are incompatible, the comparison will simply return False). For example:"
    },
    {
     "cell_type": "code",
     "collapsed": false,
     "input": "arr1 = np.array([1, 2, 3, 4, 5])\narr2 = np.array([1, 1, 3, 3, 5])\nprint(arr1 == arr2)\nc = (arr1 == arr2)\nprint c.dtype",
     "language": "python",
     "metadata": {},
     "outputs": [
      {
       "output_type": "stream",
       "stream": "stdout",
       "text": "[ True False  True False  True]\nbool\n"
      }
     ],
     "prompt_number": 9
    },
    {
     "cell_type": "markdown",
     "metadata": {},
     "source": "Note: You can use the methods `.any()` and `.all()` or the functions `np.any` and `np.all` to return a single boolean indicating whether any or all values in the array are `True`, respectively.\n"
    },
    {
     "cell_type": "code",
     "collapsed": false,
     "input": "print(np.all(c))\nprint(c.all())\nprint(c.any())",
     "language": "python",
     "metadata": {},
     "outputs": [
      {
       "output_type": "stream",
       "stream": "stdout",
       "text": "False\nFalse\nTrue\n"
      }
     ],
     "prompt_number": 10
    },
    {
     "cell_type": "markdown",
     "metadata": {},
     "source": "### Indexing arrays\n\nIn addition to the usual methods of indexing lists with an integer (or with a series of colon-separated integers for a slice), numpy allows you\nto index arrays in a wide variety of different ways for more advanced operations.\n\nFirst, the simple way:"
    },
    {
     "cell_type": "code",
     "collapsed": false,
     "input": "a = np.array([1,2,3])\nprint a[0:2]",
     "language": "python",
     "metadata": {},
     "outputs": [
      {
       "output_type": "stream",
       "stream": "stdout",
       "text": "[1 2]\n"
      }
     ],
     "prompt_number": 11
    },
    {
     "cell_type": "markdown",
     "metadata": {},
     "source": "### What happens if the array has more than one dimension? "
    },
    {
     "cell_type": "code",
     "collapsed": false,
     "input": "c = np.random.rand(3,3)\nprint(c)\nprint(c[1:3,0:2])\nc[0,:] = a\nprint(c)",
     "language": "python",
     "metadata": {},
     "outputs": [
      {
       "output_type": "stream",
       "stream": "stdout",
       "text": "[[ 0.1134655   0.96419307  0.94316786]\n [ 0.30762638  0.04913163  0.27286498]\n [ 0.42959666  0.76018236  0.61599757]]\n[[ 0.30762638  0.04913163]\n [ 0.42959666  0.76018236]]\n[[ 1.          2.          3.        ]\n [ 0.30762638  0.04913163  0.27286498]\n [ 0.42959666  0.76018236  0.61599757]]\n"
      }
     ],
     "prompt_number": 12
    },
    {
     "cell_type": "markdown",
     "metadata": {},
     "source": "## Exercise\nWe can manipulate the shape of an array as follows: \n  `A = np.arange(16).reshape(4, 4)`\nOr even:\n  `A = np.reshape(numpy.arange(16), (4, 4))`\n    \nUsing what we've learned about slicing and indexing, create a function that takes an integer as input, creates a square n-by-n array with integers from `0` to `n**2-1` (like `A`) and prints just the upper-left quarter of the array\n\nFor example, for A, the desired output would be: \n    \n     array([[2, 3],\n            [6, 7]])"
    },
    {
     "cell_type": "markdown",
     "metadata": {},
     "source": "### Arrays can also be indexed with other arrays\n\nArrays can be indexed with other arrays, using either an array of indices, or an array of booleans of the same length. In the former case, numpy returns a view of the data in the specified indices as a new array. In the latter, numpy returns a view of the array with only the elements where the index array is True. (We'll discuss the difference between views and copies in a moment.) This makes normally-tedious operations like clamping extremely simple.\n\nIndexing with an array of indices:\n"
    },
    {
     "cell_type": "code",
     "collapsed": false,
     "input": "A = np.arange(5, 10)\nprint(A)\nprint(A[[0, 2, 3]])\nA[[0, 2, 3]] = 0\nprint(A)\n",
     "language": "python",
     "metadata": {},
     "outputs": [
      {
       "output_type": "stream",
       "stream": "stdout",
       "text": "[5 6 7 8 9]\n[5 7 8]\n[0 6 0 0 9]\n"
      }
     ],
     "prompt_number": 13
    },
    {
     "cell_type": "markdown",
     "metadata": {},
     "source": "Indexing with a boolean array:"
    },
    {
     "cell_type": "code",
     "collapsed": false,
     "input": "random = np.random\nA = np.array([random.randint(0, 10) for i in range(10)]) # Check out the list comprehension!\nprint(A)\nA[A>5] = 5\nprint(A)\n",
     "language": "python",
     "metadata": {},
     "outputs": [
      {
       "output_type": "stream",
       "stream": "stdout",
       "text": "[8 1 7 8 6 4 5 6 0 1]\n[5 1 5 5 5 4 5 5 0 1]\n"
      }
     ],
     "prompt_number": 14
    },
    {
     "cell_type": "markdown",
     "metadata": {},
     "source": "A few more examples:"
    },
    {
     "cell_type": "code",
     "collapsed": false,
     "input": "b = np.array([4,5,6])\nprint (a)\nprint (b)\nprint (a > 2)\nprint (a[a > 2])\nprint (b[a > 2])\nb[a == 3] = 77\nprint(b)",
     "language": "python",
     "metadata": {},
     "outputs": [
      {
       "output_type": "stream",
       "stream": "stdout",
       "text": "[1 2 3]\n[4 5 6]\n[False False  True]\n[3]\n[6]\n[ 4  5 77]\n"
      }
     ],
     "prompt_number": 15
    },
    {
     "cell_type": "code",
     "collapsed": false,
     "input": "# There are handy ways to make arrays full of ones and zeros\nprint(np.zeros(5))\nprint np.ones(5)\nprint np.identity(5), '\\n'",
     "language": "python",
     "metadata": {},
     "outputs": [
      {
       "output_type": "stream",
       "stream": "stdout",
       "text": "[ 0.  0.  0.  0.  0.]\n[ 1.  1.  1.  1.  1.]\n[[ 1.  0.  0.  0.  0.]\n [ 0.  1.  0.  0.  0.]\n [ 0.  0.  1.  0.  0.]\n [ 0.  0.  0.  1.  0.]\n [ 0.  0.  0.  0.  1.]] \n\n"
      }
     ],
     "prompt_number": 16
    },
    {
     "cell_type": "markdown",
     "metadata": {},
     "source": "## Numpy 'gotchas'\n\n### Multiplication and Addition\n\nAs you may have noticed above, since NumPy arrays are modeled more closely after vectors and matrices, multiplying by a scalar will multiply each element of the array, whereas multiplying a list by a scalar will repeat that list N times."
    },
    {
     "cell_type": "code",
     "collapsed": false,
     "input": "A = np.arange(5)*2\nprint(A) \nB = range(5)*2\nprint(B)",
     "language": "python",
     "metadata": {},
     "outputs": [
      {
       "output_type": "stream",
       "stream": "stdout",
       "text": "[0 2 4 6 8]\n[0, 1, 2, 3, 4, 0, 1, 2, 3, 4]\n"
      }
     ],
     "prompt_number": 17
    },
    {
     "cell_type": "markdown",
     "metadata": {},
     "source": "Similarly, when adding two numpy arrays together, we get the vector sum back, whereas when adding two lists together, we get the concatenation back."
    },
    {
     "cell_type": "code",
     "collapsed": false,
     "input": "A = np.arange(5) + np.arange(5)\nprint(A)\nB =range(5) + range(5)\nprint(B)",
     "language": "python",
     "metadata": {},
     "outputs": [
      {
       "output_type": "stream",
       "stream": "stdout",
       "text": "[0 2 4 6 8]\n[0, 1, 2, 3, 4, 0, 1, 2, 3, 4]\n"
      }
     ],
     "prompt_number": 18
    },
    {
     "cell_type": "markdown",
     "metadata": {},
     "source": "### Views vs. Copies\n\nIn order to be as efficient as possible, numpy uses \"views\" instead of copies wherever possible. That is, numpy arrays derived from another base array generally refer to the ''exact same data'' as the base array. The consequence of this is that modification of these derived arrays will also modify the base array. The result of an array indexed by an array of indices is a ''copy'', but an array indexed by an array of booleans is a ''view''. \n\nSpecifically, slices of arrays are always views, unlike slices of lists or tuples, which are always copies."
    },
    {
     "cell_type": "code",
     "collapsed": false,
     "input": "A = np.arange(5)\nB = A[0:1]\nB[0] = 42\nprint(A)\n\nA = range(5)\nB = A[0:1]\nB[0] = 42\nprint(A)\n\n    \n    ",
     "language": "python",
     "metadata": {},
     "outputs": [
      {
       "output_type": "stream",
       "stream": "stdout",
       "text": "[42  1  2  3  4]\n[0, 1, 2, 3, 4]\n"
      }
     ],
     "prompt_number": 19
    },
    {
     "cell_type": "markdown",
     "metadata": {},
     "source": "### Exercise : Copy a numpy array\n\nFigure out how to create a copy of a numpy array. Remember: since numpy slices are views, you can't use the trick you'd use for Python lists,\ni.e. copy = list[:]."
    },
    {
     "cell_type": "markdown",
     "metadata": {},
     "source": "## Mathematics with numpy\n\nBeing designed for scientific computing, numpy also contains a host of common mathematical functions, including linear algebra functions, fast\nFourier transforms, and probability/statistics functions. While there isn't space to go over ''all'' of these in detail, we will provide an overview of the most common/essential of these."
    },
    {
     "cell_type": "markdown",
     "metadata": {},
     "source": "For >2-dimensional arrays, there are some other common matrix operations that can be conducted:"
    },
    {
     "cell_type": "code",
     "collapsed": false,
     "input": "A = np.arange(16).reshape(4, 4)\nprint(A)\nprint(A.T) # transpose\nprint(A.trace())",
     "language": "python",
     "metadata": {},
     "outputs": [
      {
       "output_type": "stream",
       "stream": "stdout",
       "text": "[[ 0  1  2  3]\n [ 4  5  6  7]\n [ 8  9 10 11]\n [12 13 14 15]]\n[[ 0  4  8 12]\n [ 1  5  9 13]\n [ 2  6 10 14]\n [ 3  7 11 15]]\n30\n"
      }
     ],
     "prompt_number": 20
    },
    {
     "cell_type": "markdown",
     "metadata": {},
     "source": "There are many more methods like these available with NumPy arrays. Be sure to consult the numpy documentation before writing your own versions!"
    },
    {
     "cell_type": "markdown",
     "metadata": {},
     "source": "### The  `matrix`  class \n\nSo far, we've used two-dimensional arrays to represent matrix-like objects. However, numpy provides a specialized class for this. The `matrix` class is almost identical to a two-dimensional numpy array, but has a few changes to the interface to simplify common linear algebraic tasks. These are: \\* The `*` operator is performs matrix multiplication \\* The `**` operator performs matrix exponentiation \\* The property `.I` (or the method `.getI()`) returns the matrix inverse \\* The property `.H` (or the method `.getH()`) returns the conjugate transpose\n\n### Example: Solving a System of Linear Equations"
    },
    {
     "cell_type": "code",
     "collapsed": false,
     "input": "la = np.linalg\nA = np.matrix([[3, 2, -1], [2, -2, 4], [-1, .5, -1]])\nB = np.array([1, -2, 0])\nprint(la.solve(A, B))",
     "language": "python",
     "metadata": {},
     "outputs": []
    },
    {
     "cell_type": "markdown",
     "metadata": {},
     "source": "### Universal functions \n\nUniversal functions (also called ufuncs) are high-speed, element-wise operations on NumPy arrays. They are, in essence, what allows you to operate on NumPy arrays efficiently. There are a large number of universal functions available covering most of the basic operations that get performed on data, like addition, subtraction, logarithms, and so on. Calling a ufunc is a simple matter:\n\n    "
    },
    {
     "cell_type": "code",
     "collapsed": false,
     "input": "A = np.arange(1,10)\nprint(np.log10(A))",
     "language": "python",
     "metadata": {},
     "outputs": [
      {
       "output_type": "stream",
       "stream": "stdout",
       "text": "[ 0.          0.30103     0.47712125  0.60205999  0.69897     0.77815125\n  0.84509804  0.90308999  0.95424251]\n"
      }
     ],
     "prompt_number": 21
    },
    {
     "cell_type": "code",
     "collapsed": false,
     "input": "",
     "language": "python",
     "metadata": {},
     "outputs": []
    },
    {
     "cell_type": "markdown",
     "metadata": {},
     "source": "In addition to basic operation like above, ufuncs that take two input arrays and return an output array can be used in more advanced ways.\n\n### Exercise : Elementwise Operations\n\nUsing ufuncs, calculate the reciprocals of each element in the following array:\n  \n  [8.1, 1.6, 0.9, 4.3, 7.0, 7.3, 4.7, 8.2, 7.2, 3.0,\n  1.4, 9.8, 5.7, 0.7, 8.7, 4.6, 8.8, 0.9, 4.4, 4.4]\n"
    },
    {
     "cell_type": "markdown",
     "metadata": {},
     "source": "# Scipy\n\nScipy is a huge library of scientific software. It includes many useful things, such as functions for statistics, for signal processing, image processing, etc. \n\nBecause it's very large, importing it doesn't actually bring in all of its modules and those need to be imported individually. "
    },
    {
     "cell_type": "code",
     "collapsed": false,
     "input": "import scipy\n# scipy?",
     "language": "python",
     "metadata": {},
     "outputs": []
    },
    {
     "cell_type": "markdown",
     "metadata": {},
     "source": "For example, if you want to look at physical constants, you need to specifically import the `constants` module."
    },
    {
     "cell_type": "code",
     "collapsed": false,
     "input": "import scipy.constants as const",
     "language": "python",
     "metadata": {},
     "outputs": []
    },
    {
     "cell_type": "code",
     "collapsed": false,
     "input": "print(const.c)",
     "language": "python",
     "metadata": {},
     "outputs": []
    },
    {
     "cell_type": "code",
     "collapsed": false,
     "input": "print(const.find(\"alpha\"))",
     "language": "python",
     "metadata": {},
     "outputs": []
    },
    {
     "cell_type": "code",
     "collapsed": false,
     "input": "print(const.physical_constants['alpha particle mass'])",
     "language": "python",
     "metadata": {},
     "outputs": []
    },
    {
     "cell_type": "markdown",
     "metadata": {},
     "source": "There are a lot of gems hidden in the `special` and `misc` modules"
    },
    {
     "cell_type": "code",
     "collapsed": false,
     "input": "import scipy.special as sps\n\n# We'll talk about matplotlib later today:\nimport matplotlib.pylab as pylab\nx = np.arange(0.0, 10.1, 0.1)\n\nfor n in range(4): \n    j = sps.jn(n, x) \n    pylab.plot(x, j, label='Bessel order=%s'%n)\n\npylab.legend()\npylab.show()\n\n",
     "language": "python",
     "metadata": {},
     "outputs": []
    },
    {
     "cell_type": "code",
     "collapsed": false,
     "input": "import scipy.misc as misc",
     "language": "python",
     "metadata": {},
     "outputs": [],
     "prompt_number": 23
    },
    {
     "cell_type": "code",
     "collapsed": false,
     "input": "import matplotlib.pylab as pylab\npylab.matshow(misc.lena())\npylab.show()",
     "language": "python",
     "metadata": {},
     "outputs": [],
     "prompt_number": 24
    },
    {
     "cell_type": "markdown",
     "metadata": {},
     "source": "As a short-cut, you can import many useful things using the following command:"
    },
    {
     "cell_type": "code",
     "collapsed": false,
     "input": "%pylab inline",
     "language": "python",
     "metadata": {},
     "outputs": [
      {
       "output_type": "stream",
       "stream": "stdout",
       "text": "\nWelcome to pylab, a matplotlib-based Python environment [backend: module://IPython.zmq.pylab.backend_inline].\nFor more information, type 'help(pylab)'.\n"
      }
     ],
     "prompt_number": 25
    },
    {
     "cell_type": "markdown",
     "metadata": {},
     "source": "This pulls into your namespace numpy (as `np`), as well as everything that is in numpy:"
    },
    {
     "cell_type": "code",
     "collapsed": false,
     "input": "array([1,2,3]) # Notice - I am calling this 'bare' without the preceding 'np'!",
     "language": "python",
     "metadata": {},
     "outputs": [
      {
       "output_type": "pyout",
       "prompt_number": 26,
       "text": "array([1, 2, 3])"
      }
     ],
     "prompt_number": 26
    },
    {
     "cell_type": "markdown",
     "metadata": {},
     "source": "Also - plots will from now on appear 'inline', as part of the cell output"
    },
    {
     "cell_type": "code",
     "collapsed": false,
     "input": "plot(array([1,2,3]))",
     "language": "python",
     "metadata": {},
     "outputs": []
    },
    {
     "cell_type": "code",
     "collapsed": false,
     "input": "",
     "language": "python",
     "metadata": {},
     "outputs": []
    }
   ],
   "metadata": {}
  }
 ]
}