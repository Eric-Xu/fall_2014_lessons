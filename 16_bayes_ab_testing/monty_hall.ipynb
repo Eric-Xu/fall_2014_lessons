{
 "metadata": {
  "name": "",
  "signature": "sha256:bcb8bc48023d374bfd3e344f750a3a7fdc6c9cdcc27e6f10623473e79c000b65"
 },
 "nbformat": 3,
 "nbformat_minor": 0,
 "worksheets": [
  {
   "cells": [
    {
     "cell_type": "code",
     "collapsed": false,
     "input": [
      "import numpy as np\n",
      "import random"
     ],
     "language": "python",
     "metadata": {},
     "outputs": [],
     "prompt_number": 6
    },
    {
     "cell_type": "markdown",
     "metadata": {},
     "source": [
      "#### Adapted from [Simulating The Monty Hall Problem](https://fiftyexamples.readthedocs.org/en/latest/monty-hall.html)"
     ]
    },
    {
     "cell_type": "code",
     "collapsed": false,
     "input": [
      "def simulate(num_doors, switch):\n",
      "    \"\"\"(int, bool): bool\n",
      "    \n",
      "    Carry out the game for one contestant.  If 'switch' is True,\n",
      "    the contestant will switch their chosen door when offered the chance.\n",
      "    Returns a Boolean value telling whether the simulated contestant won.\n",
      "    \"\"\"\n",
      "\n",
      "    # Doors are numbered from 0 up to num_doors-1 (inclusive).\n",
      "\n",
      "    # Randomly choose the door hiding the prize.\n",
      "    winning_door = random.randint(0, num_doors-1)\n",
      "\n",
      "    # The contestant picks a random door, too.\n",
      "    choice = random.randint(0, num_doors-1)\n",
      "\n",
      "    # The host opens all but two doors.\n",
      "    closed_doors = list(range(num_doors))\n",
      "    while len(closed_doors) > 2:\n",
      "        # Randomly choose a door to open.\n",
      "        door_to_remove = random.choice(closed_doors)\n",
      "\n",
      "        # The host will never open the winning door, or the door\n",
      "        # chosen by the contestant.\n",
      "        if door_to_remove == winning_door or door_to_remove == choice:\n",
      "            continue\n",
      "\n",
      "        # Remove the door from the list of closed doors.\n",
      "        closed_doors.remove(door_to_remove)\n",
      "\n",
      "    # There are always two doors remaining.\n",
      "    assert len(closed_doors) == 2\n",
      "\n",
      "    # Does the contestant want to switch their choice?\n",
      "    if switch:\n",
      "        # There are two closed doors left.  The contestant will never\n",
      "        # choose the same door, so we'll remove that door as a choice.\n",
      "        available_doors = list(closed_doors) # Make a copy of the list.\n",
      "        available_doors.remove(choice)\n",
      "\n",
      "        # Change choice to the only door available.\n",
      "        choice = available_doors.pop()\n",
      "\n",
      "    # Did the contestant win?\n",
      "    won = (choice == winning_door)\n",
      "    return won"
     ],
     "language": "python",
     "metadata": {},
     "outputs": [],
     "prompt_number": 43
    },
    {
     "cell_type": "code",
     "collapsed": false,
     "input": [
      "def run_sim(num_doors = 3, num_trials = 1000):\n",
      "\n",
      "    print('Simulating %s trials with %s doors' % (num_trials, num_doors))\n",
      "\n",
      "    # Carry out the trials\n",
      "    winning_non_switchers = 0\n",
      "    winning_switchers = 0\n",
      "    \n",
      "    for i in range(num_trials):\n",
      "        # First, do a trial where the contestant never switches.\n",
      "        won = simulate(num_doors, switch=False)\n",
      "        if won:\n",
      "            winning_non_switchers += 1\n",
      "\n",
      "        # Next, try one where the contestant switches.\n",
      "        won = simulate(num_doors, switch=True)\n",
      "        if won:\n",
      "            winning_switchers += 1\n",
      "    return winning_switchers, winning_non_switchers\n"
     ],
     "language": "python",
     "metadata": {},
     "outputs": [],
     "prompt_number": 44
    },
    {
     "cell_type": "markdown",
     "metadata": {},
     "source": [
      "### Questions: number of trials\n",
      "\n",
      "1. Use the run_sim() method to find the outcome of three doors and 10 trials. What is the output?\n",
      "2. What happens when you increase the number of trials? (try 100, 1000, and 10,000) What are the outputs?\n",
      "3. Is there an ideal number of trials?\n"
     ]
    },
    {
     "cell_type": "code",
     "collapsed": false,
     "input": [
      "num_doors = 3\n",
      "num_trials = 10\n",
      "\n",
      "# run_sim()...."
     ],
     "language": "python",
     "metadata": {},
     "outputs": [],
     "prompt_number": 2
    },
    {
     "cell_type": "markdown",
     "metadata": {},
     "source": [
      "### Questions: number of doors\n",
      "\n",
      "1. Increase the number of doors. Try 5, 10, 1000... What do you notice?\n",
      "2. Create a loop in which you run a range of door numbers-- \n",
      "3. Store the accuracy of switching and remaining the same for each case\n",
      "4. Plot the results\n",
      "5. What do the results mean?"
     ]
    },
    {
     "cell_type": "code",
     "collapsed": false,
     "input": [
      "# Now let's try with more than 3 doors\n",
      "all_ndoors = range(3, 10)\n",
      "stubborn = []\n",
      "switcher = []\n",
      "for num_doors in all_ndoors:\n",
      "    continue"
     ],
     "language": "python",
     "metadata": {},
     "outputs": [],
     "prompt_number": 3
    },
    {
     "cell_type": "code",
     "collapsed": false,
     "input": [
      "figure(figsize=(10,5))\n",
      "       \n"
     ],
     "language": "python",
     "metadata": {},
     "outputs": [
      {
       "metadata": {},
       "output_type": "pyout",
       "prompt_number": 4,
       "text": [
        "<matplotlib.figure.Figure at 0x7f425c503790>"
       ]
      },
      {
       "metadata": {},
       "output_type": "display_data",
       "text": [
        "<matplotlib.figure.Figure at 0x7f425c503790>"
       ]
      }
     ],
     "prompt_number": 4
    },
    {
     "cell_type": "code",
     "collapsed": false,
     "input": [],
     "language": "python",
     "metadata": {},
     "outputs": []
    }
   ],
   "metadata": {}
  }
 ]
}