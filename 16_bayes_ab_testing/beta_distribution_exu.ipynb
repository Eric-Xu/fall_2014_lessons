{
 "metadata": {
  "name": "",
  "signature": "sha256:e96c101b0b472beaf987ac816d854fd1e74e23e528d9709f7f081f7c26e77fb9"
 },
 "nbformat": 3,
 "nbformat_minor": 0,
 "worksheets": [
  {
   "cells": [
    {
     "cell_type": "code",
     "collapsed": false,
     "input": [
      "import pandas as pd\n",
      "import numpy as np\n",
      "from scipy.stats import beta\n",
      "import matplotlib.pyplot as plt\n",
      "%matplotlib inline"
     ],
     "language": "python",
     "metadata": {},
     "outputs": [],
     "prompt_number": 21
    },
    {
     "cell_type": "markdown",
     "metadata": {},
     "source": [
      "## Beta Distribution\n",
      "\n",
      "Read the scipy docs [here](http://docs.scipy.org/doc/scipy-0.14.0/reference/generated/scipy.stats.beta.html)\n",
      "\n",
      "\"A beta continuous random variable\"\n",
      "\n",
      "#### Parameters:\t\n",
      "======\n",
      "\n",
      "x : array_like\n",
      "    - quantiles\n",
      "    \n",
      "q : array_like\n",
      "    - lower or upper tail probability\n",
      "\n",
      "a, b : array_like\n",
      "   - shape parameters\n",
      "\n",
      "#### Methods:\n",
      "======\n",
      "\n",
      "rvs(a, b, size=1)\t\n",
      "    - Random variates.\n",
      "\n",
      "pdf(x, a, b)\t    \n",
      "    - Probability density function.\n",
      "    \n",
      "cdf(x, a, b)\t\n",
      "    - Cumulative density function.\n",
      "    \n",
      "ppf(q, a, b)\t\n",
      "    - Percent point function (also known as quantile function, or inverse of cdf).\n",
      "    - specifies, for a given probability in the probability distribution of a random variable, the value at which the probability of the random variable will be less than or equal to that probability\n"
     ]
    },
    {
     "cell_type": "markdown",
     "metadata": {},
     "source": [
      "### Questions:\n",
      "\n",
      "1. Given an alpha (a) and beta (b) of 5 and 10, respectively, instantiate a beta distribution\n",
      "2. What are summary statistics for this particular beta distribution? (hint: \"moments\")\n",
      "3. Generate some (say, 10) random numbers from this distribution. Print them\n",
      "4. Generate a histogram plot of the random vars\n",
      "5. Generate a Probability Distribution Function (pdf) plot\n",
      "6. Plot a histogram and pdf on the same plot"
     ]
    },
    {
     "cell_type": "code",
     "collapsed": false,
     "input": [
      "a = 5\n",
      "b = 10\n",
      "my_beta = beta(a,b)\n",
      "mean, var, skew, kurt = my_beta.stats(moments='mvsk')\n",
      "print \"mean: %s \\nvar: %s \\nskew: %s \\nkurt: %s \\n\" % (mean, var, skew, kurt)"
     ],
     "language": "python",
     "metadata": {},
     "outputs": [
      {
       "output_type": "stream",
       "stream": "stdout",
       "text": [
        "mean: 0.333333333333 \n",
        "var: 0.0138888888889 \n",
        "skew: 0.332756132323 \n",
        "kurt: -0.176470588235 \n",
        "\n"
       ]
      }
     ],
     "prompt_number": 13
    },
    {
     "cell_type": "code",
     "collapsed": false,
     "input": [
      "# generate random numbers from the distribution\n",
      "random_values = my_beta.rvs(100)\n",
      "\n",
      "print random_values"
     ],
     "language": "python",
     "metadata": {},
     "outputs": [
      {
       "output_type": "stream",
       "stream": "stdout",
       "text": [
        "[ 0.21202533  0.5535218   0.29377471  0.22038288  0.37130217  0.30657468\n",
        "  0.10860465  0.20360521  0.15486756  0.31815065  0.34135738  0.34305948\n",
        "  0.238016    0.19645605  0.23619448  0.37066595  0.3971198   0.43180118\n",
        "  0.23599599  0.52290166  0.53489096  0.25162823  0.22853421  0.26207075\n",
        "  0.46890766  0.28218573  0.23504189  0.28290743  0.33645159  0.20253894\n",
        "  0.17418425  0.46546946  0.25898507  0.17670579  0.2469582   0.22550394\n",
        "  0.17292033  0.35962872  0.2481709   0.19346747  0.38840237  0.35388287\n",
        "  0.388908    0.22323663  0.36648065  0.3964516   0.27834617  0.62576661\n",
        "  0.54306606  0.44721233  0.24402612  0.20986178  0.32389381  0.34967444\n",
        "  0.20951319  0.37522993  0.39915768  0.23647837  0.28208399  0.23513616\n",
        "  0.34763209  0.45621458  0.51250555  0.25118136  0.26259747  0.44100546\n",
        "  0.464449    0.32287881  0.2450934   0.16953377  0.27190816  0.29496746\n",
        "  0.26696448  0.39817042  0.43481417  0.36626969  0.244394    0.30354928\n",
        "  0.06565934  0.43586571  0.19157963  0.44967793  0.11460221  0.18595219\n",
        "  0.25626457  0.2492978   0.39890247  0.36340989  0.45234419  0.36242724\n",
        "  0.3307122   0.11533126  0.48170744  0.12285276  0.1572655   0.42566594\n",
        "  0.25074996  0.26084874  0.23249497  0.28127288]\n"
       ]
      }
     ],
     "prompt_number": 24
    },
    {
     "cell_type": "code",
     "collapsed": false,
     "input": [
      "# what does the histogram look like for these random values?\n",
      "fig, ax = plt.subplots(1, 1)\n",
      "\n",
      "h = ax.hist(random_values, normed=True, bins=20, alpha=0.2)\n",
      "h = ax.hist(random_values, normed=False, bins=20, alpha=0.2)"
     ],
     "language": "python",
     "metadata": {},
     "outputs": [
      {
       "metadata": {},
       "output_type": "display_data",
       "png": "[encoded data removed]",
       "text": [
        "<matplotlib.figure.Figure at 0x1134f8310>"
       ]
      }
     ],
     "prompt_number": 27
    },
    {
     "cell_type": "code",
     "collapsed": false,
     "input": [
      "# what does the pdf plot look like?\n",
      "fig, ax = plt.subplots(1, 1)\n",
      "\n",
      "xs = np.linspace(0, 1, 200)\n",
      "\n",
      "p = ax.plot(xs, my_beta.pdf(xs), 'r-', lw=2, alpha=0.6, label=\"beta\")\n",
      "h = ax.hist(random_values, normed=True, bins=20, alpha=0.2)\n",
      "ax.legend()"
     ],
     "language": "python",
     "metadata": {},
     "outputs": [
      {
       "metadata": {},
       "output_type": "pyout",
       "prompt_number": 44,
       "text": [
        "<matplotlib.legend.Legend at 0x113f2a8d0>"
       ]
      },
      {
       "metadata": {},
       "output_type": "display_data",
       "png": "[encoded data removed]",
       "text": [
        "<matplotlib.figure.Figure at 0x113d743d0>"
       ]
      }
     ],
     "prompt_number": 44
    },
    {
     "cell_type": "markdown",
     "metadata": {},
     "source": [
      "### A Bayesian view of Amazon Resellers \n",
      "###### From John Cook's excellent [blog](http://www.johndcook.com/blog)\n"
     ]
    },
    {
     "cell_type": "markdown",
     "metadata": {},
     "source": [
      "### ~~\n",
      "\n",
      "Three Amazon resellers offer a book at essentially the same price. Here are their ratings:\n",
      "\n",
      "- 94% positive out of 85,193 reviews\n",
      "- 98% positive out of 20,785 reviews\n",
      "- 99% positive out of 840 reviews\n",
      "\n",
      "Which reseller is likely to give the best service?"
     ]
    },
    {
     "cell_type": "markdown",
     "metadata": {},
     "source": [
      "#### A simpler example:\n",
      "\n",
      "- Reseller A has 90 positive reviews out of 100 (90% positive)\n",
      "- Reseller B has two reviews, both positive. (100% positive)\n",
      "\n",
      "Which is better?  (better = more trustworthy)"
     ]
    },
    {
     "cell_type": "markdown",
     "metadata": {},
     "source": [
      "### Questions\n",
      "\n",
      "1. Plot Beta Distribution of Beta(1,1) (the Prior)\n",
      "2. Plot Beta(1,1)\n",
      "3. What are the alpha and beta parameters for each reseller? (hint: how many positive votes vs negative)\n",
      "3. Create a Beta for Reseller A, Plot the pdf\n",
      "4. Create a Beta for Reseller B, Plot the pdf\n",
      "5. What is the meaning of the pdf plots for these Beta Distributions?"
     ]
    },
    {
     "cell_type": "code",
     "collapsed": false,
     "input": [
      "\n",
      "# what does pdf plot look like?\n",
      "fig, ax = plt.subplots(1, 1)\n",
      "\n",
      "xs = np.linspace(0, 1, 200)\n",
      "\n",
      "beta_a = beta(91, 11) # 91 pos reviews; 11 neg reviews\n",
      "beta_b = beta(3,1)\n",
      "beta_c = beta(3,40)\n",
      "\n",
      "p1 = ax.plot(xs, beta_a.pdf(xs))\n",
      "p2 = ax.plot(xs, beta_b.pdf(xs))\n",
      "p3 = ax.plot(xs, beta_c.pdf(xs))\n",
      "\n",
      "# beta_a is centered over 90%; greater certainty\n",
      "# beta_b does not have enough data"
     ],
     "language": "python",
     "metadata": {},
     "outputs": [
      {
       "metadata": {},
       "output_type": "display_data",
       "png": "[encoded data removed]",
       "text": [
        "<matplotlib.figure.Figure at 0x113c6c1d0>"
       ]
      }
     ],
     "prompt_number": 55
    },
    {
     "cell_type": "code",
     "collapsed": false,
     "input": [
      "### Questions:\n",
      "\n",
      "1. What is the probability that a sample from resellerA is bigger than a sample from resellerB?\n",
      " - Hint: We answer this with random sampling!"
     ],
     "language": "python",
     "metadata": {},
     "outputs": []
    },
    {
     "cell_type": "code",
     "collapsed": false,
     "input": [
      "# What is the probability that a sample from resellerA is bigger than a sample from resellerB?\n",
      "# We answer this with random sampling!\n",
      "def percent_better(resellerA_a, resellerA_b, resellerB_a, resellerB_b, size=100000):\n",
      "    ra = beta.rvs(resellerA_a, resellerA_b, size=(size))\n",
      "    rb = beta.rvs(resellerB_a, resellerB_b, size=(size))\n",
      "    return sum(ra >= rb) / (1.0*size)"
     ],
     "language": "python",
     "metadata": {},
     "outputs": [],
     "prompt_number": 57
    },
    {
     "cell_type": "code",
     "collapsed": false,
     "input": [
      "percent_better(91, 11, 3, 1) # 71.2% that sellerA is better than sellerB"
     ],
     "language": "python",
     "metadata": {},
     "outputs": [
      {
       "metadata": {},
       "output_type": "pyout",
       "prompt_number": 60,
       "text": [
        "0.71218999999999999"
       ]
      }
     ],
     "prompt_number": 60
    },
    {
     "cell_type": "markdown",
     "metadata": {},
     "source": [
      "## Back to the original Question\n",
      "Three Amazon resellers offer a book at essentially the same price. Here are their ratings:\n",
      "    \n",
      "- 94% positive out of 85,193 reviews\n",
      "- 98% positive out of 20,785 reviews\n",
      "- 99% positive out of 840 reviews\n",
      "\n",
      "Which reseller is likely to give the best service? How certain are you of your answer?"
     ]
    },
    {
     "cell_type": "code",
     "collapsed": false,
     "input": [],
     "language": "python",
     "metadata": {},
     "outputs": []
    }
   ],
   "metadata": {}
  }
 ]
}