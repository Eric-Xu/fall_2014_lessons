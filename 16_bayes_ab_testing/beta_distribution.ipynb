{
 "metadata": {
  "name": "",
  "signature": "sha256:d6216a1ee0aba6228ebda39db6c8e6f1d9a48b94b7271f3a40b3db3acacbdf95"
 },
 "nbformat": 3,
 "nbformat_minor": 0,
 "worksheets": [
  {
   "cells": [
    {
     "cell_type": "code",
     "collapsed": false,
     "input": [
      "import pandas as pd\n",
      "import numpy as np\n",
      "from scipy.stats import beta"
     ],
     "language": "python",
     "metadata": {},
     "outputs": []
    },
    {
     "cell_type": "markdown",
     "metadata": {},
     "source": [
      "## Beta Distribution\n",
      "\n",
      "Read the scipy docs [here](http://docs.scipy.org/doc/scipy-0.14.0/reference/generated/scipy.stats.beta.html)\n",
      "\n",
      "\"A beta continuous random variable\"\n",
      "\n",
      "#### Parameters:\t\n",
      "======\n",
      "\n",
      "x : array_like\n",
      "    - quantiles\n",
      "    \n",
      "q : array_like\n",
      "    - lower or upper tail probability\n",
      "\n",
      "a, b : array_like\n",
      "   - shape parameters\n",
      "\n",
      "#### Methods:\n",
      "======\n",
      "\n",
      "rvs(a, b, size=1)\t\n",
      "    - Random variates.\n",
      "\n",
      "pdf(x, a, b)\t    \n",
      "    - Probability density function.\n",
      "    \n",
      "cdf(x, a, b)\t\n",
      "    - Cumulative density function.\n",
      "    \n",
      "ppf(q, a, b)\t\n",
      "    - Percent point function (also known as quantile function, or inverse of cdf).\n",
      "    - specifies, for a given probability in the probability distribution of a random variable, the value at which the probability of the random variable will be less than or equal to that probability\n"
     ]
    },
    {
     "cell_type": "markdown",
     "metadata": {},
     "source": [
      "### Questions:\n",
      "\n",
      "1. Given an alpha (a) and beta (b) of 5 and 10, respectively, instantiate a beta distribution\n",
      "2. What are summary statistics for this particular beta distribution? (hint: \"moments\")\n",
      "3. Generate some (say, 10) random numbers from this distribution. Print them\n",
      "4. Generate a histogram plot of the random vars\n",
      "5. Generate a Probability Distribution Function (pdf) plot\n",
      "6. Plot a histogram and pdf on the same plot"
     ]
    },
    {
     "cell_type": "code",
     "collapsed": false,
     "input": [
      "a = 5\n",
      "b = 10\n",
      "\n",
      "#print \"mean: %s \\nvar: %s \\nskew: %s \\nkurt: %s \\n\" % (mean, var, skew, kurt)"
     ],
     "language": "python",
     "metadata": {},
     "outputs": [],
     "prompt_number": 1
    },
    {
     "cell_type": "code",
     "collapsed": false,
     "input": [
      "# generate random numbers from the distribution\n",
      "random_values = 0\n",
      "print random_values"
     ],
     "language": "python",
     "metadata": {},
     "outputs": [
      {
       "output_type": "stream",
       "stream": "stdout",
       "text": [
        "0\n"
       ]
      }
     ],
     "prompt_number": 2
    },
    {
     "cell_type": "code",
     "collapsed": false,
     "input": [
      "# what does the histogram look like for these random values?\n",
      "fig, ax = plt.subplots(1, 1)\n",
      "\n"
     ],
     "language": "python",
     "metadata": {},
     "outputs": [
      {
       "metadata": {},
       "output_type": "display_data",
       "png": "[encoded data removed]",
       "text": [
        "<matplotlib.figure.Figure at 0x7fdf3a8467d0>"
       ]
      }
     ],
     "prompt_number": 3
    },
    {
     "cell_type": "code",
     "collapsed": false,
     "input": [
      "# what does the pdf plot look like?\n",
      "fig, ax = plt.subplots(1, 1)\n",
      "\n",
      "xs = np.linspace(0, 1, 200)\n"
     ],
     "language": "python",
     "metadata": {},
     "outputs": [
      {
       "metadata": {},
       "output_type": "display_data",
       "png": "[encoded data removed]",
       "text": [
        "<matplotlib.figure.Figure at 0x7fdf39fb0b10>"
       ]
      }
     ],
     "prompt_number": 4
    },
    {
     "cell_type": "markdown",
     "metadata": {},
     "source": [
      "### A Bayesian view of Amazon Resellers \n",
      "###### From John Cook's excellent [blog](http://www.johndcook.com/blog)\n"
     ]
    },
    {
     "cell_type": "markdown",
     "metadata": {},
     "source": [
      "### ~~\n",
      "\n",
      "Three Amazon resellers offer a book at essentially the same price. Here are their ratings:\n",
      "\n",
      "- 94% positive out of 85,193 reviews\n",
      "- 98% positive out of 20,785 reviews\n",
      "- 99% positive out of 840 reviews\n",
      "\n",
      "Which reseller is likely to give the best service?"
     ]
    },
    {
     "cell_type": "markdown",
     "metadata": {},
     "source": [
      "#### A simpler example:\n",
      "\n",
      "- Reseller A has 90 positive reviews out of 100 (90% positive)\n",
      "- Reseller B has two reviews, both positive. (100% positive)\n",
      "\n",
      "Which is better?  (better = more trustworthy)"
     ]
    },
    {
     "cell_type": "markdown",
     "metadata": {},
     "source": [
      "### Questions\n",
      "\n",
      "1. Plot Beta Distribution of Beta(1,1) (the Prior)\n",
      "2. Plot Beta(1,1)\n",
      "3. What are the alpha and beta parameters for each reseller? (hint: how many positive votes vs negative)\n",
      "3. Create a Beta for Reseller A, Plot the pdf\n",
      "4. Create a Beta for Reseller B, Plot the pdf\n",
      "5. What is the meaning of the pdf plots for these Beta Distributions?"
     ]
    },
    {
     "cell_type": "code",
     "collapsed": false,
     "input": [
      "\n",
      "# what does pdf plot look like?\n",
      "fig, ax = plt.subplots(1, 1)\n",
      "\n",
      "xs = np.linspace(0, 1, 200)\n",
      "\n",
      "\n",
      "\n",
      "#ax.legend()"
     ],
     "language": "python",
     "metadata": {},
     "outputs": [
      {
       "metadata": {},
       "output_type": "display_data",
       "png": "[encoded data removed]",
       "text": [
        "<matplotlib.figure.Figure at 0x7f8d6ffcced0>"
       ]
      }
     ],
     "prompt_number": 2
    },
    {
     "cell_type": "code",
     "collapsed": false,
     "input": [
      "### Questions:\n",
      "\n",
      "1. What is the probability that a sample from resellerA is bigger than a sample from resellerB?\n",
      " - Hint: We answer this with random sampling!"
     ],
     "language": "python",
     "metadata": {},
     "outputs": []
    },
    {
     "cell_type": "code",
     "collapsed": false,
     "input": [
      "# What is the probability that a sample from resellerA is bigger than a sample from resellerB?\n",
      "# We answer this with random sampling!\n",
      "def percent_better(resellerA_a, resellerA_b, resellerB_a, resellerB_b, size=100000):\n",
      "    ra = beta.rvs(resellerA_a, resellerA_b, size=(size))\n",
      "    rb = beta.rvs(resellerB_a, resellerB_b, size=(size))\n",
      "    return sum(ra >= rb) / (1.0*size)"
     ],
     "language": "python",
     "metadata": {},
     "outputs": [],
     "prompt_number": 32
    },
    {
     "cell_type": "code",
     "collapsed": false,
     "input": [
      "# percent_better() ->"
     ],
     "language": "python",
     "metadata": {},
     "outputs": [],
     "prompt_number": 3
    },
    {
     "cell_type": "markdown",
     "metadata": {},
     "source": [
      "## Back to the original Question\n",
      "Three Amazon resellers offer a book at essentially the same price. Here are their ratings:\n",
      "    \n",
      "- 94% positive out of 85,193 reviews\n",
      "- 98% positive out of 20,785 reviews\n",
      "- 99% positive out of 840 reviews\n",
      "\n",
      "Which reseller is likely to give the best service? How certain are you of your answer?"
     ]
    },
    {
     "cell_type": "code",
     "collapsed": false,
     "input": [],
     "language": "python",
     "metadata": {},
     "outputs": []
    }
   ],
   "metadata": {}
  }
 ]
}