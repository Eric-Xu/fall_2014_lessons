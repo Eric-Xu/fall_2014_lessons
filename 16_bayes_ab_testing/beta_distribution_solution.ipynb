{
 "metadata": {
  "name": "",
  "signature": "sha256:a99859a00f4e2bab9a180c17f7d314a4f8e1f9f3c27e02d5784698439a0d3af7"
 },
 "nbformat": 3,
 "nbformat_minor": 0,
 "worksheets": [
  {
   "cells": [
    {
     "cell_type": "code",
     "collapsed": false,
     "input": [
      "import pandas as pd\n",
      "import numpy as np\n",
      "from scipy.stats import beta"
     ],
     "language": "python",
     "metadata": {},
     "outputs": [],
     "prompt_number": 2
    },
    {
     "cell_type": "markdown",
     "metadata": {},
     "source": [
      "## Beta Distribution\n",
      "\n",
      "Read the scipy docs [here](http://docs.scipy.org/doc/scipy-0.14.0/reference/generated/scipy.stats.beta.html)\n",
      "\n",
      "\"A beta continuous random variable\"\n",
      "\n",
      "#### Parameters:\t\n",
      "======\n",
      "\n",
      "x : array_like\n",
      "    - quantiles\n",
      "    \n",
      "q : array_like\n",
      "    - lower or upper tail probability\n",
      "\n",
      "a, b : array_like\n",
      "   - shape parameters\n",
      "\n",
      "#### Methods:\n",
      "======\n",
      "\n",
      "rvs(a, b, size=1)\t\n",
      "    - Random variates.\n",
      "\n",
      "pdf(x, a, b)\t    \n",
      "    - Probability density function.\n",
      "    \n",
      "cdf(x, a, b)\t\n",
      "    - Cumulative density function.\n",
      "    \n",
      "ppf(q, a, b)\t\n",
      "    - Percent point function (also known as quantile function, or inverse of cdf).\n",
      "    - specifies, for a given probability in the probability distribution of a random variable, the value at which the probability of the random variable will be less than or equal to that probability\n"
     ]
    },
    {
     "cell_type": "code",
     "collapsed": false,
     "input": [
      "a = 5\n",
      "b = 10\n",
      "my_beta = beta(a, b)\n",
      "mean, var, skew, kurt = my_beta.stats(moments='mvsk')\n",
      "print \"mean: %s \\nvar: %s \\nskew: %s \\nkurt: %s \\n\" % (mean, var, skew, kurt)"
     ],
     "language": "python",
     "metadata": {},
     "outputs": [
      {
       "output_type": "stream",
       "stream": "stdout",
       "text": [
        "mean: 0.333333333333 \n",
        "var: 0.0138888888889 \n",
        "skew: 0.332756132323 \n",
        "kurt: -0.176470588235 \n",
        "\n"
       ]
      }
     ],
     "prompt_number": 3
    },
    {
     "cell_type": "code",
     "collapsed": false,
     "input": [
      "# generate random numbers from the distribution\n",
      "random_values = my_beta.rvs(size=100)\n",
      "print random_values"
     ],
     "language": "python",
     "metadata": {},
     "outputs": [
      {
       "output_type": "stream",
       "stream": "stdout",
       "text": [
        "[ 0.46428194  0.26505436  0.41331751  0.54491949  0.24577861  0.22763575\n",
        "  0.30048329  0.55911189  0.27616998  0.42990954  0.4616661   0.44325562\n",
        "  0.44209518  0.33117576  0.35914765  0.18909935  0.35714497  0.42306221\n",
        "  0.41458712  0.35389696  0.20551078  0.23112474  0.52728811  0.34289151\n",
        "  0.21196264  0.288753    0.37705309  0.27282023  0.14464795  0.1677734\n",
        "  0.42910166  0.2699999   0.21158413  0.28188908  0.37017115  0.23388377\n",
        "  0.37251156  0.14825855  0.09669225  0.43314261  0.27794411  0.21378236\n",
        "  0.19798185  0.46526635  0.2409637   0.22293443  0.31384779  0.60761513\n",
        "  0.34114167  0.37053754  0.36966956  0.44001077  0.44041211  0.20375057\n",
        "  0.2633362   0.4393249   0.2904624   0.24534213  0.28821558  0.40704007\n",
        "  0.35869185  0.4716754   0.33230071  0.37517589  0.39845655  0.18716884\n",
        "  0.26284989  0.42152595  0.18067027  0.27269788  0.52959272  0.09848843\n",
        "  0.28666491  0.4336586   0.51705121  0.41323465  0.37812296  0.55680526\n",
        "  0.25976897  0.24552721  0.46321782  0.45630309  0.42855983  0.23180436\n",
        "  0.45773072  0.18904086  0.16138327  0.48020798  0.49209712  0.24750495\n",
        "  0.30631294  0.31442058  0.49031268  0.38729825  0.25168031  0.38226763\n",
        "  0.30874063  0.32219825  0.32389554  0.20451334]\n"
       ]
      }
     ],
     "prompt_number": 4
    },
    {
     "cell_type": "code",
     "collapsed": false,
     "input": [
      "ax.hist?"
     ],
     "language": "python",
     "metadata": {},
     "outputs": [],
     "prompt_number": 7
    },
    {
     "cell_type": "code",
     "collapsed": false,
     "input": [
      "# what does the histogram look like for these random values?\n",
      "fig, ax = plt.subplots(1, 1)\n",
      "\n",
      "h = ax.hist(random_values, normed=False, bins=20, alpha=0.2)\n",
      "h2 = ax.hist(random_values, normed=True, bins=20, alpha=0.2)"
     ],
     "language": "python",
     "metadata": {},
     "outputs": [
      {
       "metadata": {},
       "output_type": "display_data",
       "png": "[encoded data removed]",
       "text": [
        "<matplotlib.figure.Figure at 0x7ff6536a0f10>"
       ]
      }
     ],
     "prompt_number": 11
    },
    {
     "cell_type": "code",
     "collapsed": false,
     "input": [
      "# what does the pdf plot look like?\n",
      "fig, ax = plt.subplots(1, 1)\n",
      "\n",
      "xs = np.linspace(0, 1, 200)\n",
      "p = ax.plot(xs, my_beta.pdf(xs), 'r-', lw=2, alpha=0.6, label='beta(a=%0.2f, b=%0.2f) pdf'%(a,b))\n",
      "h = ax.hist(random_values, normed=True, bins=20, alpha=0.2)\n",
      "ax.legend()"
     ],
     "language": "python",
     "metadata": {},
     "outputs": [
      {
       "metadata": {},
       "output_type": "pyout",
       "prompt_number": 12,
       "text": [
        "<matplotlib.legend.Legend at 0x7ff65357fe90>"
       ]
      },
      {
       "metadata": {},
       "output_type": "display_data",
       "png": "[encoded data removed]",
       "text": [
        "<matplotlib.figure.Figure at 0x7ff6533f6cd0>"
       ]
      }
     ],
     "prompt_number": 12
    },
    {
     "cell_type": "markdown",
     "metadata": {},
     "source": [
      "### [A Bayesian view of Amazon Resellers](http://www.johndcook.com/blog/2011/09/27/bayesian-amazon/)\n"
     ]
    },
    {
     "cell_type": "markdown",
     "metadata": {},
     "source": [
      "Three Amazon resellers offer a book at essentially the same price. Here are their ratings:\n",
      "\n",
      "- 94% positive out of 85,193 reviews\n",
      "- 98% positive out of 20,785 reviews\n",
      "- 99% positive out of 840 reviews\n",
      "\n",
      "Which reseller is likely to give the best service?"
     ]
    },
    {
     "cell_type": "markdown",
     "metadata": {},
     "source": [
      "#### A simpler example:\n",
      "\n",
      "- Reseller A has 90 positive reviews out of 100 (90% positive)\n",
      "- Reseller B has two reviews, both positive. (100% positive)\n",
      "\n",
      "Which is better?  (better = more trustworthy)"
     ]
    },
    {
     "cell_type": "code",
     "collapsed": false,
     "input": [
      "# Plot Beta Distribution of Beta(1,1) (the Prior)\n",
      "# Plot Beta(1,1)\n",
      "# Plot Beta(91,11)\n",
      "# Plot Beta(3,1)\n",
      "# what does pdf plot look like?\n",
      "fig, ax = plt.subplots(1, 1)\n",
      "\n",
      "figure(figsize=(10,5))\n",
      "xs = np.linspace(0, 1, 200)\n",
      "\n",
      "resellerA_a = 90\n",
      "resellerA_b = 11\n",
      "resellerB_a = 3\n",
      "resellerB_b = 1\n",
      "pA = ax.plot(xs, beta.pdf(xs, resellerA_a, resellerA_b), 'r-', lw=2, alpha=0.6, \n",
      "             label='beta(a=%0.2f, b=%0.2f) pdf'%(resellerA_a, resellerA_b))\n",
      "pB = ax.plot(xs, beta.pdf(xs, resellerB_a, resellerB_b), 'b-', lw=2, alpha=0.6, \n",
      "             label='beta(a=%0.2f, b=%0.2f) pdf'%(resellerB_a, resellerB_b))\n",
      "\n",
      "ax.legend()"
     ],
     "language": "python",
     "metadata": {},
     "outputs": [
      {
       "metadata": {},
       "output_type": "pyout",
       "prompt_number": 30,
       "text": [
        "<matplotlib.legend.Legend at 0x7f6c0f24bb50>"
       ]
      },
      {
       "metadata": {},
       "output_type": "display_data",
       "png": "[encoded data removed]",
       "text": [
        "<matplotlib.figure.Figure at 0x7f6c0e815c10>"
       ]
      },
      {
       "metadata": {},
       "output_type": "display_data",
       "text": [
        "<matplotlib.figure.Figure at 0x7f6c0e815bd0>"
       ]
      }
     ],
     "prompt_number": 30
    },
    {
     "cell_type": "code",
     "collapsed": false,
     "input": [
      "# What is the probability that a sample from resellerA is bigger than a sample from resellerB?\n",
      "# We answer this with random sampling!\n",
      "def percent_better(resellerA_a, resellerA_b, resellerB_a, resellerB_b, size=100000):\n",
      "    ra = beta.rvs(resellerA_a, resellerA_b, size=(size))\n",
      "    rb = beta.rvs(resellerB_a, resellerB_b, size=(size))\n",
      "    return sum(ra >= rb) / (1.0*size)"
     ],
     "language": "python",
     "metadata": {},
     "outputs": [],
     "prompt_number": 32
    },
    {
     "cell_type": "code",
     "collapsed": false,
     "input": [
      "percent_better(resellerA_a, resellerA_b, resellerB_a, resellerB_b, size=100000)"
     ],
     "language": "python",
     "metadata": {},
     "outputs": [
      {
       "metadata": {},
       "output_type": "pyout",
       "prompt_number": 33,
       "text": [
        "0.71128999999999998"
       ]
      }
     ],
     "prompt_number": 33
    },
    {
     "cell_type": "markdown",
     "metadata": {},
     "source": [
      "## Back to the original Question\n",
      "Three Amazon resellers offer a book at essentially the same price. Here are their ratings:\n",
      "    \n",
      "- 94% positive out of 85,193 reviews\n",
      "- 98% positive out of 20,785 reviews\n",
      "- 99% positive out of 840 reviews\n",
      "\n",
      "Which reseller is likely to give the best service?"
     ]
    },
    {
     "cell_type": "code",
     "collapsed": false,
     "input": [],
     "language": "python",
     "metadata": {},
     "outputs": []
    }
   ],
   "metadata": {}
  }
 ]
}