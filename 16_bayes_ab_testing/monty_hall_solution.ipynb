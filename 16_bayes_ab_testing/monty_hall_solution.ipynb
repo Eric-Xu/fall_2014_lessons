{
 "metadata": {
  "name": "",
  "signature": "sha256:b29b33068815feb596da738d383a879d8a1bcacf130152264171bfdcc8567905"
 },
 "nbformat": 3,
 "nbformat_minor": 0,
 "worksheets": [
  {
   "cells": [
    {
     "cell_type": "code",
     "collapsed": false,
     "input": [
      "import numpy as np\n",
      "import random"
     ],
     "language": "python",
     "metadata": {},
     "outputs": [],
     "prompt_number": 1
    },
    {
     "cell_type": "markdown",
     "metadata": {},
     "source": [
      "#### Adapted from [Simulating The Monty Hall Problem](https://fiftyexamples.readthedocs.org/en/latest/monty-hall.html)"
     ]
    },
    {
     "cell_type": "code",
     "collapsed": false,
     "input": [
      "def simulate(num_doors, switch):\n",
      "    \"\"\"(int, bool): bool\n",
      "    \n",
      "    Carry out the game for one contestant.  If 'switch' is True,\n",
      "    the contestant will switch their chosen door when offered the chance.\n",
      "    Returns a Boolean value telling whether the simulated contestant won.\n",
      "    \"\"\"\n",
      "\n",
      "    # Doors are numbered from 0 up to num_doors-1 (inclusive).\n",
      "\n",
      "    # Randomly choose the door hiding the prize.\n",
      "    winning_door = random.randint(0, num_doors-1)\n",
      "\n",
      "    # The contestant picks a random door, too.\n",
      "    choice = random.randint(0, num_doors-1)\n",
      "\n",
      "    # The host opens all but two doors.\n",
      "    closed_doors = list(range(num_doors))\n",
      "    while len(closed_doors) > 2:\n",
      "        # Randomly choose a door to open.\n",
      "        door_to_remove = random.choice(closed_doors)\n",
      "\n",
      "        # The host will never open the winning door, or the door\n",
      "        # chosen by the contestant.\n",
      "        if door_to_remove == winning_door or door_to_remove == choice:\n",
      "            continue\n",
      "\n",
      "        # Remove the door from the list of closed doors.\n",
      "        closed_doors.remove(door_to_remove)\n",
      "\n",
      "    # There are always two doors remaining.\n",
      "    assert len(closed_doors) == 2\n",
      "\n",
      "    # Does the contestant want to switch their choice?\n",
      "    if switch:\n",
      "        # There are two closed doors left.  The contestant will never\n",
      "        # choose the same door, so we'll remove that door as a choice.\n",
      "        available_doors = list(closed_doors) # Make a copy of the list.\n",
      "        available_doors.remove(choice)\n",
      "\n",
      "        # Change choice to the only door available.\n",
      "        choice = available_doors.pop()\n",
      "\n",
      "    # Did the contestant win?\n",
      "    won = (choice == winning_door)\n",
      "    return won"
     ],
     "language": "python",
     "metadata": {},
     "outputs": [],
     "prompt_number": 2
    },
    {
     "cell_type": "code",
     "collapsed": false,
     "input": [
      "def run_sim(num_doors = 3, num_trials = 1000):\n",
      "\n",
      "    print('Simulating %s trials with %s doors' % (num_trials, num_doors))\n",
      "\n",
      "    # Carry out the trials\n",
      "    winning_non_switchers = 0\n",
      "    winning_switchers = 0\n",
      "    \n",
      "    for i in range(num_trials):\n",
      "        # First, do a trial where the contestant never switches.\n",
      "        won = simulate(num_doors, switch=False)\n",
      "        if won:\n",
      "            winning_non_switchers += 1\n",
      "\n",
      "        # Next, try one where the contestant switches.\n",
      "        won = simulate(num_doors, switch=True)\n",
      "        if won:\n",
      "            winning_switchers += 1\n",
      "    return winning_switchers, winning_non_switchers\n"
     ],
     "language": "python",
     "metadata": {},
     "outputs": [],
     "prompt_number": 3
    },
    {
     "cell_type": "code",
     "collapsed": false,
     "input": [
      "num_doors = 3\n",
      "num_trials = 10\n",
      "\n",
      "winning_switchers, winning_non_switchers = run_sim(num_doors = 3, num_trials = num_trials)\n",
      "\n",
      "switch_percent_win = (1.0 * winning_switchers) / num_trials * 100 \n",
      "non_switch_percent_win = (1.0 * winning_non_switchers) / num_trials * 100\n",
      "\n",
      "print '    Switching won %s times out of %s (%s percent of the time)' % (winning_switchers,\n",
      "                                                                     num_trials,\n",
      "                                                                     switch_percent_win)\n",
      "print 'Not switching won %s times out of %s (%s percent of the time)' % (winning_non_switchers,\n",
      "                                                                     num_trials,\n",
      "                                                                     non_switch_percent_win)"
     ],
     "language": "python",
     "metadata": {},
     "outputs": [
      {
       "output_type": "stream",
       "stream": "stdout",
       "text": [
        "Simulating 10 trials with 3 doors\n",
        "    Switching won 8 times out of 10 (80.0 percent of the time)\n",
        "Not switching won 2 times out of 10 (20.0 percent of the time)\n"
       ]
      }
     ],
     "prompt_number": 8
    },
    {
     "cell_type": "code",
     "collapsed": false,
     "input": [
      "# Now let's try with more than 3 doors\n",
      "all_ndoors = range(3, 10)\n",
      "stubborn = []\n",
      "switcher = []\n",
      "for num_doors in all_ndoors:\n",
      "    winning_switchers, winning_non_switchers = run_sim(num_doors, num_trials = 10000)\n",
      "    switch_percent_win = (1.0 * winning_switchers) / num_trials\n",
      "    switcher.append(switch_percent_win)    \n",
      "    non_switch_percent_win = (1.0 * winning_non_switchers) / num_trials\n",
      "    stubborn.append(non_switch_percent_win)"
     ],
     "language": "python",
     "metadata": {},
     "outputs": [
      {
       "output_type": "stream",
       "stream": "stdout",
       "text": [
        "Simulating 10000 trials with 3 doors\n",
        "Simulating 10000 trials with 4 doors"
       ]
      },
      {
       "output_type": "stream",
       "stream": "stdout",
       "text": [
        "\n",
        "Simulating 10000 trials with 5 doors"
       ]
      },
      {
       "output_type": "stream",
       "stream": "stdout",
       "text": [
        "\n",
        "Simulating 10000 trials with 6 doors"
       ]
      },
      {
       "output_type": "stream",
       "stream": "stdout",
       "text": [
        "\n",
        "Simulating 10000 trials with 7 doors"
       ]
      },
      {
       "output_type": "stream",
       "stream": "stdout",
       "text": [
        "\n",
        "Simulating 10000 trials with 8 doors"
       ]
      },
      {
       "output_type": "stream",
       "stream": "stdout",
       "text": [
        "\n",
        "Simulating 10000 trials with 9 doors"
       ]
      },
      {
       "output_type": "stream",
       "stream": "stdout",
       "text": [
        "\n",
        "Simulating 10000 trials with 10 doors"
       ]
      },
      {
       "output_type": "stream",
       "stream": "stdout",
       "text": [
        "\n",
        "Simulating 10000 trials with 11 doors"
       ]
      },
      {
       "output_type": "stream",
       "stream": "stdout",
       "text": [
        "\n",
        "Simulating 10000 trials with 12 doors"
       ]
      },
      {
       "output_type": "stream",
       "stream": "stdout",
       "text": [
        "\n",
        "Simulating 10000 trials with 13 doors"
       ]
      },
      {
       "output_type": "stream",
       "stream": "stdout",
       "text": [
        "\n",
        "Simulating 10000 trials with 14 doors"
       ]
      },
      {
       "output_type": "stream",
       "stream": "stdout",
       "text": [
        "\n",
        "Simulating 10000 trials with 15 doors"
       ]
      },
      {
       "output_type": "stream",
       "stream": "stdout",
       "text": [
        "\n",
        "Simulating 10000 trials with 16 doors"
       ]
      },
      {
       "output_type": "stream",
       "stream": "stdout",
       "text": [
        "\n",
        "Simulating 10000 trials with 17 doors"
       ]
      },
      {
       "output_type": "stream",
       "stream": "stdout",
       "text": [
        "\n",
        "Simulating 10000 trials with 18 doors"
       ]
      },
      {
       "output_type": "stream",
       "stream": "stdout",
       "text": [
        "\n",
        "Simulating 10000 trials with 19 doors"
       ]
      },
      {
       "output_type": "stream",
       "stream": "stdout",
       "text": [
        "\n"
       ]
      }
     ],
     "prompt_number": 57
    },
    {
     "cell_type": "code",
     "collapsed": false,
     "input": [
      "figure(figsize=(10,5))\n",
      "       \n",
      "plot(all_ndoors, stubborn, label=\"Stays with first choice\", lw=2.)\n",
      "plot(all_ndoors, switcher, label=\"Switches\", lw=2.)\n",
      "\n",
      "xlabel(\"Number of doors\")\n",
      "ylabel(\"Chance of winning\")\n",
      "\n",
      "legend()"
     ],
     "language": "python",
     "metadata": {},
     "outputs": [
      {
       "metadata": {},
       "output_type": "pyout",
       "prompt_number": 58,
       "text": [
        "<matplotlib.legend.Legend at 0x7f9b816a82d0>"
       ]
      },
      {
       "metadata": {},
       "output_type": "display_data",
       "png": "[encoded data removed]",
       "text": [
        "<matplotlib.figure.Figure at 0x7f9b8175ced0>"
       ]
      }
     ],
     "prompt_number": 58
    },
    {
     "cell_type": "code",
     "collapsed": false,
     "input": [],
     "language": "python",
     "metadata": {},
     "outputs": []
    }
   ],
   "metadata": {}
  }
 ]
}