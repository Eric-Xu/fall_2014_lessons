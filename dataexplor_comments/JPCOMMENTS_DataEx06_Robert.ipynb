{
 "metadata": {
  "name": "",
  "signature": "sha256:e55fd08742ba7c56d4d429792c3b8ad14d84d1069e6c2cc7921feec6d4f72ea2"
 },
 "nbformat": 3,
 "nbformat_minor": 0,
 "worksheets": [
  {
   "cells": [
    {
     "cell_type": "code",
     "collapsed": false,
     "input": [
      "import numpy as np\n",
      "import pandas as pd\n",
      "from sklearn.linear_model import LogisticRegression\n",
      "from sklearn.naive_bayes import MultinomialNB\n",
      "from sklearn.naive_bayes import BernoulliNB\n",
      "from urllib2 import urlopen\n",
      "from bs4 import BeautifulSoup\n",
      "import re\n",
      "from sklearn.feature_extraction.text import CountVectorizer\n",
      "from sklearn.cross_validation import train_test_split"
     ],
     "language": "python",
     "metadata": {},
     "outputs": [],
     "prompt_number": 68
    },
    {
     "cell_type": "heading",
     "level": 4,
     "metadata": {},
     "source": [
      "Gather Data"
     ]
    },
    {
     "cell_type": "code",
     "collapsed": false,
     "input": [
      "url='http://www.cs.cmu.edu/~mleone/gdead/dead-sets/'"
     ],
     "language": "python",
     "metadata": {},
     "outputs": [],
     "prompt_number": 2
    },
    {
     "cell_type": "code",
     "collapsed": false,
     "input": [
      "html=urlopen(url)"
     ],
     "language": "python",
     "metadata": {},
     "outputs": [],
     "prompt_number": 3
    },
    {
     "cell_type": "code",
     "collapsed": false,
     "input": [
      "soup=BeautifulSoup(html)"
     ],
     "language": "python",
     "metadata": {},
     "outputs": [],
     "prompt_number": 4
    },
    {
     "cell_type": "code",
     "collapsed": false,
     "input": [
      "lst=[i for i in soup.find_all('a')]"
     ],
     "language": "python",
     "metadata": {},
     "outputs": [],
     "prompt_number": 5
    },
    {
     "cell_type": "code",
     "collapsed": false,
     "input": [
      "lst=lst[4:29]"
     ],
     "language": "python",
     "metadata": {},
     "outputs": [],
     "prompt_number": 6
    },
    {
     "cell_type": "code",
     "collapsed": false,
     "input": [
      "lst=lst[1:]"
     ],
     "language": "python",
     "metadata": {},
     "outputs": [],
     "prompt_number": 7
    },
    {
     "cell_type": "code",
     "collapsed": false,
     "input": [
      "dct_of_years={}"
     ],
     "language": "python",
     "metadata": {},
     "outputs": [],
     "prompt_number": 8
    },
    {
     "cell_type": "code",
     "collapsed": false,
     "input": [
      "for i in range(len(lst)):\n",
      "    dct_of_years[lst[i]['href']]='http://www.cs.cmu.edu/~mleone/gdead/dead-sets/'+lst[i]['href']"
     ],
     "language": "python",
     "metadata": {},
     "outputs": [],
     "prompt_number": 9
    },
    {
     "cell_type": "code",
     "collapsed": false,
     "input": [
      "#JP\n",
      "#'txt' in link is a good way to test each link.  The function doesn't return anything.\n",
      "#instead it modified a dictionary definted outside the scope of the function.  This code\n",
      "#wouldn't run as a script.\n",
      "#If the idea of the function is to add to an already created list\n",
      "#then it needs to take that list as an input: def helper_function(x, dct)\n",
      "\n",
      "dct_of_shows={}\n",
      "def helper_function(x):\n",
      "    url=urlopen(x)\n",
      "    soup=BeautifulSoup(url)\n",
      "    lst=list(soup.find_all('a'))\n",
      "    for i in range(len(lst)):\n",
      "        if 'txt' in lst[i]['href']:\n",
      "            dct_of_shows[lst[i]['href']]=x+lst[i]['href']"
     ],
     "language": "python",
     "metadata": {},
     "outputs": [],
     "prompt_number": 10
    },
    {
     "cell_type": "code",
     "collapsed": false,
     "input": [
      "#JP\n",
      "#This then would need to overwrite the old dictionary with each iteraion\n",
      "#with the modified dict.\n",
      "\n",
      "for i in dct_of_years:\n",
      "    helper_function(dct_of_years[i])"
     ],
     "language": "python",
     "metadata": {},
     "outputs": [],
     "prompt_number": 11
    },
    {
     "cell_type": "code",
     "collapsed": false,
     "input": [
      "#JP\n",
      "#Putting the data into one text string could be accomplished\n",
      "#here by instead of splitting by '/n' replacing '/n' with ','\n",
      "\n",
      "def get_text_function(x):\n",
      "    url=urlopen(x)\n",
      "    soup=BeautifulSoup(url)\n",
      "    text=soup.get_text().split('\\n')\n",
      "    pattern=r'\\d.*\\d'\n",
      "    regex=re.compile(pattern)\n",
      "    m=regex.search(x)\n",
      "    dct_of_sets[m.group()]=soup.get_text().split('\\n')"
     ],
     "language": "python",
     "metadata": {},
     "outputs": [],
     "prompt_number": 12
    },
    {
     "cell_type": "code",
     "collapsed": false,
     "input": [
      "dct_of_sets={}"
     ],
     "language": "python",
     "metadata": {},
     "outputs": [],
     "prompt_number": 13
    },
    {
     "cell_type": "code",
     "collapsed": false,
     "input": [
      "for i in dct_of_shows:\n",
      "    get_text_function(dct_of_shows[i])"
     ],
     "language": "python",
     "metadata": {},
     "outputs": [],
     "prompt_number": 14
    },
    {
     "cell_type": "heading",
     "level": 4,
     "metadata": {},
     "source": [
      "Install data in DataFrame and clean"
     ]
    },
    {
     "cell_type": "code",
     "collapsed": false,
     "input": [
      "df=pd.DataFrame.from_dict(dct_of_sets, orient='index')"
     ],
     "language": "python",
     "metadata": {},
     "outputs": [],
     "prompt_number": 15
    },
    {
     "cell_type": "code",
     "collapsed": false,
     "input": [
      "del df[1]"
     ],
     "language": "python",
     "metadata": {},
     "outputs": [],
     "prompt_number": 16
    },
    {
     "cell_type": "code",
     "collapsed": false,
     "input": [
      "drop_lst=range(30,4354)"
     ],
     "language": "python",
     "metadata": {},
     "outputs": [],
     "prompt_number": 17
    },
    {
     "cell_type": "code",
     "collapsed": false,
     "input": [
      "#JP\n",
      "#Might want to add a space before and after the comma so that songs lists don't become one unbroken word\n",
      "shows_df=df.apply(lambda row: ','.join(map(str,row)),axis=1)"
     ],
     "language": "python",
     "metadata": {},
     "outputs": [],
     "prompt_number": 18
    },
    {
     "cell_type": "code",
     "collapsed": false,
     "input": [
      "df=df.drop(drop_lst,axis=1)"
     ],
     "language": "python",
     "metadata": {},
     "outputs": [],
     "prompt_number": 24
    },
    {
     "cell_type": "code",
     "collapsed": false,
     "input": [
      "shows_df=pd.DataFrame(shows_df)"
     ],
     "language": "python",
     "metadata": {},
     "outputs": [],
     "prompt_number": 19
    },
    {
     "cell_type": "code",
     "collapsed": false,
     "input": [
      "shows_df['year']=0"
     ],
     "language": "python",
     "metadata": {},
     "outputs": [],
     "prompt_number": 34
    },
    {
     "cell_type": "code",
     "collapsed": false,
     "input": [
      "for i in shows_df.index:\n",
      "    shows_df.loc[i,'year']=i[0:2]"
     ],
     "language": "python",
     "metadata": {},
     "outputs": [],
     "prompt_number": 35
    },
    {
     "cell_type": "code",
     "collapsed": false,
     "input": [
      "shows_df.rename(columns={0:'show'},inplace=True)"
     ],
     "language": "python",
     "metadata": {},
     "outputs": [],
     "prompt_number": 36
    },
    {
     "cell_type": "heading",
     "level": 4,
     "metadata": {},
     "source": [
      "Create Bag of Words"
     ]
    },
    {
     "cell_type": "code",
     "collapsed": false,
     "input": [
      "#JP\n",
      "#If songs are more than two words long this'll miss it.  Going up to ngram of 5 would capture\n",
      "#the effect of songs played after each other. For example 'dark star , space' would be one item. \n",
      "vectorizer=CountVectorizer(ngram_range=(1,2))"
     ],
     "language": "python",
     "metadata": {},
     "outputs": [],
     "prompt_number": 87
    },
    {
     "cell_type": "code",
     "collapsed": false,
     "input": [
      "shows_vectorizer=vectorizer.fit_transform(shows_df.show)"
     ],
     "language": "python",
     "metadata": {},
     "outputs": [],
     "prompt_number": 88
    },
    {
     "cell_type": "heading",
     "level": 4,
     "metadata": {},
     "source": [
      "Build and Test Predictive Models"
     ]
    },
    {
     "cell_type": "code",
     "collapsed": false,
     "input": [
      "from sklearn.cross_validation import KFold"
     ],
     "language": "python",
     "metadata": {},
     "outputs": [],
     "prompt_number": 61
    },
    {
     "cell_type": "code",
     "collapsed": false,
     "input": [
      "from sklearn.cross_validation import cross_val_score"
     ],
     "language": "python",
     "metadata": {},
     "outputs": [],
     "prompt_number": 62
    },
    {
     "cell_type": "code",
     "collapsed": false,
     "input": [
      "Y=shows_df.year.values"
     ],
     "language": "python",
     "metadata": {},
     "outputs": [],
     "prompt_number": 49
    },
    {
     "cell_type": "code",
     "collapsed": false,
     "input": [
      "Y=Y.astype(int)"
     ],
     "language": "python",
     "metadata": {},
     "outputs": [],
     "prompt_number": 52
    },
    {
     "cell_type": "code",
     "collapsed": false,
     "input": [
      "kfold=KFold(len(shows_df),n_folds=5)"
     ],
     "language": "python",
     "metadata": {},
     "outputs": [],
     "prompt_number": 64
    },
    {
     "cell_type": "code",
     "collapsed": false,
     "input": [
      "lr=LogisticRegression()\n",
      "mn=MultinomialNB()\n",
      "bl=BernoulliNB()\n",
      "models={lr:'lr',mn:'mn',bl:'bl'}"
     ],
     "language": "python",
     "metadata": {},
     "outputs": [],
     "prompt_number": 81
    },
    {
     "cell_type": "code",
     "collapsed": false,
     "input": [
      "model_score={}"
     ],
     "language": "python",
     "metadata": {},
     "outputs": [],
     "prompt_number": 83
    },
    {
     "cell_type": "code",
     "collapsed": false,
     "input": [
      "model_score1=model_score.copy()"
     ],
     "language": "python",
     "metadata": {},
     "outputs": [],
     "prompt_number": 90
    },
    {
     "cell_type": "code",
     "collapsed": false,
     "input": [
      "counter=0\n",
      "for train, test in kfold:\n",
      "    counter+=1\n",
      "    for model in models:\n",
      "        xtrain, ytrain, xtest, ytest= shows_vectorizer[train],Y[train],shows_vectorizer[test],Y[test]\n",
      "        modelfit=model.fit(xtrain,ytrain)\n",
      "        model_score['%i%s_train' %(counter,models[model])]=modelfit.score(xtrain,ytrain)\n",
      "        model_score['%i%s_test' %(counter,models[model])]=modelfit.score(xtest,ytest)\n",
      "        \n",
      "    "
     ],
     "language": "python",
     "metadata": {},
     "outputs": [],
     "prompt_number": 91
    },
    {
     "cell_type": "code",
     "collapsed": false,
     "input": [
      "shows_vect=vectorizer.fit(shows_df.show)"
     ],
     "language": "python",
     "metadata": {},
     "outputs": [],
     "prompt_number": 94
    },
    {
     "cell_type": "code",
     "collapsed": false,
     "input": [
      "test_show=shows_vect.transform(['Cold Rain and Snow','Little Red Rooster','Tennesse Jed','Wharf Rat', 'Estimated Prophet' 'Deal','Darkstar'])\n",
      "test_show2=shows_vect.transform(['Cold Rain and Snow,Little Red Rooster,Tennesse Jed,Wharf Rat,Estimated Prophet,Deal,Darkstar'])"
     ],
     "language": "python",
     "metadata": {},
     "outputs": [],
     "prompt_number": 110
    },
    {
     "cell_type": "code",
     "collapsed": false,
     "input": [
      "xtrain,xtest,ytrain,ytest=train_test_split(shows_vectorizer,Y)"
     ],
     "language": "python",
     "metadata": {},
     "outputs": [],
     "prompt_number": 111
    },
    {
     "cell_type": "code",
     "collapsed": false,
     "input": [
      "fitlr=lr.fit(xtrain,ytrain)"
     ],
     "language": "python",
     "metadata": {},
     "outputs": [],
     "prompt_number": 112
    },
    {
     "cell_type": "code",
     "collapsed": false,
     "input": [
      "fitlr.predict(test_show2)"
     ],
     "language": "python",
     "metadata": {},
     "outputs": [
      {
       "metadata": {},
       "output_type": "pyout",
       "prompt_number": 117,
       "text": [
        "array([77])"
       ]
      }
     ],
     "prompt_number": 117
    },
    {
     "cell_type": "code",
     "collapsed": false,
     "input": [
      "fitlr.predict(test_show)"
     ],
     "language": "python",
     "metadata": {},
     "outputs": [
      {
       "metadata": {},
       "output_type": "pyout",
       "prompt_number": 118,
       "text": [
        "array([90, 81, 77, 76, 77, 94])"
       ]
      }
     ],
     "prompt_number": 118
    },
    {
     "cell_type": "code",
     "collapsed": false,
     "input": [
      "#JP\n",
      "#This is hard to read.  The power of cross validation comes from aggregating\n",
      "#a model's scores across each test.\n",
      "#Good job starting with a unique model name, but take it further by\n",
      "#making the dictionary values other dictionaries\n",
      "#{'score': .5625, 'model': lr, 'set':test}\n",
      "\n",
      "\n",
      "model_score"
     ],
     "language": "python",
     "metadata": {},
     "outputs": [
      {
       "metadata": {},
       "output_type": "pyout",
       "prompt_number": 119,
       "text": [
        "{'10bl_test': 0.5625,\n",
        " '10bl_train': 0.69411764705882351,\n",
        " '10lr_test': 0.94999999999999996,\n",
        " '10lr_train': 1.0,\n",
        " '10mn_test': 0.45624999999999999,\n",
        " '10mn_train': 0.55224913494809691,\n",
        " '1bl_test': 0.5714285714285714,\n",
        " '1bl_train': 0.7389196675900277,\n",
        " '1lr_test': 0.97515527950310554,\n",
        " '1lr_train': 1.0,\n",
        " '1mn_test': 0.453416149068323,\n",
        " '1mn_train': 0.60526315789473684,\n",
        " '2bl_test': 0.49068322981366458,\n",
        " '2bl_train': 0.68767313019390586,\n",
        " '2lr_test': 0.98136645962732916,\n",
        " '2lr_train': 1.0,\n",
        " '2mn_test': 0.42857142857142855,\n",
        " '2mn_train': 0.56578947368421051,\n",
        " '3bl_test': 0.59627329192546585,\n",
        " '3bl_train': 0.77631578947368418,\n",
        " '3lr_test': 0.94409937888198758,\n",
        " '3lr_train': 1.0,\n",
        " '3mn_test': 0.54037267080745344,\n",
        " '3mn_train': 0.66689750692520777,\n",
        " '4bl_test': 0.59006211180124224,\n",
        " '4bl_train': 0.74653739612188363,\n",
        " '4lr_test': 0.92546583850931674,\n",
        " '4lr_train': 1.0,\n",
        " '4mn_test': 0.50310559006211175,\n",
        " '4mn_train': 0.56440443213296398,\n",
        " '5bl_test': 0.43478260869565216,\n",
        " '5bl_train': 0.69182825484764543,\n",
        " '5lr_test': 0.95652173913043481,\n",
        " '5lr_train': 1.0,\n",
        " '5mn_test': 0.32919254658385094,\n",
        " '5mn_train': 0.54639889196675895,\n",
        " '6bl_test': 0.53125,\n",
        " '6bl_train': 0.68858131487889274,\n",
        " '6lr_test': 0.96875,\n",
        " '6lr_train': 1.0,\n",
        " '6mn_test': 0.43125000000000002,\n",
        " '6mn_train': 0.57370242214532874,\n",
        " '7bl_test': 0.63124999999999998,\n",
        " '7bl_train': 0.72871972318339095,\n",
        " '7lr_test': 0.96875,\n",
        " '7lr_train': 1.0,\n",
        " '7mn_test': 0.52500000000000002,\n",
        " '7mn_train': 0.62145328719723181,\n",
        " '8bl_test': 0.53749999999999998,\n",
        " '8bl_train': 0.70034602076124564,\n",
        " '8lr_test': 0.96875,\n",
        " '8lr_train': 1.0,\n",
        " '8mn_test': 0.43125000000000002,\n",
        " '8mn_train': 0.56678200692041525,\n",
        " '9bl_test': 0.40625,\n",
        " '9bl_train': 0.65397923875432529,\n",
        " '9lr_test': 0.98124999999999996,\n",
        " '9lr_train': 1.0,\n",
        " '9mn_test': 0.30625000000000002,\n",
        " '9mn_train': 0.48788927335640137}"
       ]
      }
     ],
     "prompt_number": 119
    },
    {
     "cell_type": "code",
     "collapsed": false,
     "input": [
      "lst=[]\n",
      "for train, test in kfold:\n",
      "    xtrain, ytrain, xtest, ytest= shows_vectorizer[train],Y[train],shows_vectorizer[test],Y[test]\n",
      "    modelfit=model.fit(xtrain,ytrain)\n",
      "    lst.append(modelfit.predict(test_show2))\n",
      "    #model_score['%i%s_train' %(counter,models[model])]=modelfit.score(xtrain,ytrain)\n",
      "    #model_score['%i%s_test' %(counter,models[model])]=modelfit.score(xtest,ytest)"
     ],
     "language": "python",
     "metadata": {},
     "outputs": [],
     "prompt_number": 120
    },
    {
     "cell_type": "code",
     "collapsed": false,
     "input": [
      "#JP\n",
      "#Different models have trouble differentiating between 1977 and 1981.  I need to listen to more \n",
      "#1981 shows!\n",
      "\n",
      "lst"
     ],
     "language": "python",
     "metadata": {},
     "outputs": [
      {
       "metadata": {},
       "output_type": "pyout",
       "prompt_number": 121,
       "text": [
        "[array([77]),\n",
        " array([81]),\n",
        " array([81]),\n",
        " array([77]),\n",
        " array([77]),\n",
        " array([77]),\n",
        " array([77]),\n",
        " array([77]),\n",
        " array([77]),\n",
        " array([77])]"
       ]
      }
     ],
     "prompt_number": 121
    },
    {
     "cell_type": "code",
     "collapsed": false,
     "input": [
      "#JP\n",
      "#Great job!  Vectorizer was a creative approach building on class.  All the mechanics are here\n",
      "#what's needed is more organization to take it to the next level."
     ],
     "language": "python",
     "metadata": {},
     "outputs": []
    }
   ],
   "metadata": {}
  }
 ]
}