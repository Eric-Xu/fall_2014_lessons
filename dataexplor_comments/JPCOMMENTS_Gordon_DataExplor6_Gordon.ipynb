{
 "metadata": {
  "name": ""
 },
 "nbformat": 3,
 "nbformat_minor": 0,
 "worksheets": [
  {
   "cells": [
    {
     "cell_type": "code",
     "collapsed": false,
     "input": [
      "import os\n",
      "import pandas as pd\n",
      "import numpy as np\n",
      "from sklearn.naive_bayes import MultinomialNB\n",
      "from sklearn.naive_bayes import BernoulliNB\n",
      "from sklearn.linear_model import LogisticRegression, LinearRegression, Ridge, Lasso\n",
      "\n",
      "from matplotlib import pyplot as plt\n",
      "from sklearn.metrics import confusion_matrix as sk_confusion_matrix\n",
      "from sklearn.metrics import roc_curve, auc\n",
      "\n",
      "from sklearn.cross_validation import KFold\n",
      "from sklearn.cross_validation import train_test_split\n",
      "from sklearn.cross_validation import cross_val_score\n",
      "\n",
      "from sklearn import cross_validation\n",
      "from sklearn.metrics import mean_squared_error\n",
      "from sklearn.feature_selection import f_regression\n",
      "\n",
      "from bs4 import BeautifulSoup\n",
      "import urllib2"
     ],
     "language": "python",
     "metadata": {},
     "outputs": [],
     "prompt_number": 7
    },
    {
     "cell_type": "markdown",
     "metadata": {},
     "source": [
      "Test a model to predict shows from the\n",
      "80's. From year 1987. Are there issues with using a standard KFold if testing a model from only one\n",
      "year? Develop a multi-class model for classifying shows into each decade. Is there another way\n",
      "besides date that the data can be grouped?"
     ]
    },
    {
     "cell_type": "code",
     "collapsed": false,
     "input": [
      "cd fall_2014_lessons/dataexplor06\n"
     ],
     "language": "python",
     "metadata": {},
     "outputs": [
      {
       "output_type": "stream",
       "stream": "stdout",
       "text": [
        "[Errno 2] No such file or directory: 'fall_2014_lessons/dataexplor06'\n",
        "/home/vagrant\n"
       ]
      }
     ],
     "prompt_number": 8
    },
    {
     "cell_type": "code",
     "collapsed": false,
     "input": [
      "#df = pd.read_csv('GDsetlists.csv',\",\")\n",
      "df = pd.read_csv('https://raw.githubusercontent.com/gads14-nyc/fall_2014_lessons/master/dataexplor06/GDsetlists.csv')\n",
      "#header_row = ['age', 'sex', 'bmi', 'av_blood_pressure', 'bloodserum01', 'bloodserum02', 'bloodserum03', 'bloodserum04', 'bloodserum05', 'bloodserum06','y']\n",
      "#df.columns =  header_row\n",
      "print type(df)\n",
      "print df[\"Addams Family\"].head()"
     ],
     "language": "python",
     "metadata": {},
     "outputs": [
      {
       "output_type": "stream",
       "stream": "stdout",
       "text": [
        "<class 'pandas.core.frame.DataFrame'>\n",
        "0    False\n",
        "1    False\n",
        "2    False\n",
        "3    False\n",
        "4    False\n",
        "Name: Addams Family, dtype: bool\n"
       ]
      }
     ],
     "prompt_number": 11
    },
    {
     "cell_type": "code",
     "collapsed": false,
     "input": [
      "print len(df.columns)\n",
      "print(len(df))"
     ],
     "language": "python",
     "metadata": {},
     "outputs": [
      {
       "output_type": "stream",
       "stream": "stdout",
       "text": [
        "433\n",
        "1389\n"
       ]
      }
     ],
     "prompt_number": 4
    },
    {
     "cell_type": "markdown",
     "metadata": {},
     "source": [
      "An attempt at web scraping that was ultimately cut short."
     ]
    },
    {
     "cell_type": "code",
     "collapsed": false,
     "input": [
      "url = \"http://www.cs.cmu.edu/~./gdead/setlists.html\"\n",
      "content = urllib2.urlopen(url).read()\n",
      "soup = BeautifulSoup(content)\n",
      "\n",
      "#print soup.prettify()\n",
      "\n",
      "#title\n",
      "print soup.title.string"
     ],
     "language": "python",
     "metadata": {},
     "outputs": [
      {
       "output_type": "stream",
       "stream": "stdout",
       "text": [
        "Grateful Dead Setlists\n"
       ]
      }
     ],
     "prompt_number": 5
    },
    {
     "cell_type": "code",
     "collapsed": false,
     "input": [
      "years = []\n",
      "\n",
      "#print all the links\n",
      "for link in soup.find_all('a'):\n",
      "#    print(link.get('href'))\n",
      "    years.append(link.get('href'))\n",
      "    \n",
      "years = years[4:]\n",
      "    \n",
      "print years\n",
      "    \n",
      "#url2 = len(soup.find_all('a'))\n",
      "    \n",
      "#get all the text\n",
      "#print(soup.get_text())"
     ],
     "language": "python",
     "metadata": {},
     "outputs": [
      {
       "output_type": "stream",
       "stream": "stdout",
       "text": [
        "['95.html', '94.html', '93.html', '92.html', '91.html', '90.html', '89.html', '88.html', '87.html', '86.html', '85.html', '84.html', '83.html', '82.html', '81.html', '80.html', '79.html', '78.html', '77.html', '76.html', '75.html', '74.html', '73.html', '72.html']\n"
       ]
      }
     ],
     "prompt_number": 7
    },
    {
     "cell_type": "code",
     "collapsed": false,
     "input": [
      "#print url.find('set')\n",
      "url_trun = url[:31]\n",
      "#print url\n",
      "#print url_trun\n",
      "\n",
      "for i in range(len(years)):\n",
      "    years[i]=url_trun+years[i]\n",
      "    print years[i]"
     ],
     "language": "python",
     "metadata": {},
     "outputs": [
      {
       "output_type": "stream",
       "stream": "stdout",
       "text": [
        "http://www.cs.cmu.edu/~./gdead/95.html\n",
        "http://www.cs.cmu.edu/~./gdead/94.html\n",
        "http://www.cs.cmu.edu/~./gdead/93.html\n",
        "http://www.cs.cmu.edu/~./gdead/92.html\n",
        "http://www.cs.cmu.edu/~./gdead/91.html\n",
        "http://www.cs.cmu.edu/~./gdead/90.html\n",
        "http://www.cs.cmu.edu/~./gdead/89.html\n",
        "http://www.cs.cmu.edu/~./gdead/88.html\n",
        "http://www.cs.cmu.edu/~./gdead/87.html\n",
        "http://www.cs.cmu.edu/~./gdead/86.html\n",
        "http://www.cs.cmu.edu/~./gdead/85.html\n",
        "http://www.cs.cmu.edu/~./gdead/84.html\n",
        "http://www.cs.cmu.edu/~./gdead/83.html\n",
        "http://www.cs.cmu.edu/~./gdead/82.html\n",
        "http://www.cs.cmu.edu/~./gdead/81.html\n",
        "http://www.cs.cmu.edu/~./gdead/80.html\n",
        "http://www.cs.cmu.edu/~./gdead/79.html\n",
        "http://www.cs.cmu.edu/~./gdead/78.html\n",
        "http://www.cs.cmu.edu/~./gdead/77.html\n",
        "http://www.cs.cmu.edu/~./gdead/76.html\n",
        "http://www.cs.cmu.edu/~./gdead/75.html\n",
        "http://www.cs.cmu.edu/~./gdead/74.html\n",
        "http://www.cs.cmu.edu/~./gdead/73.html\n",
        "http://www.cs.cmu.edu/~./gdead/72.html\n"
       ]
      }
     ],
     "prompt_number": 8
    },
    {
     "cell_type": "code",
     "collapsed": false,
     "input": [
      "url2 = years[0]\n",
      "content2 = urllib2.urlopen(url2).read()\n",
      "soup2 = BeautifulSoup(content2)\n",
      "\n",
      "#title\n",
      "print soup2.title.string"
     ],
     "language": "python",
     "metadata": {},
     "outputs": [
      {
       "output_type": "stream",
       "stream": "stdout",
       "text": [
        "Grateful Dead Setlists: 1995\n"
       ]
      }
     ],
     "prompt_number": 9
    },
    {
     "cell_type": "code",
     "collapsed": false,
     "input": [
      "gigs_95 = []\n",
      "\n",
      "#print all the links\n",
      "for link in soup2.find_all('a'):\n",
      "    #print(link.get('href'))\n",
      "    gigs_95.append(link.get('href'))\n",
      "    \n",
      "\n",
      "for i in range(len(gigs_95)):\n",
      "    gigs_95[i]=url_trun+gigs_95[i]\n",
      "    print gigs_95[i]"
     ],
     "language": "python",
     "metadata": {},
     "outputs": [
      {
       "output_type": "stream",
       "stream": "stdout",
       "text": [
        "http://www.cs.cmu.edu/~./gdead/dead-sets/95/2-19-95.txt\n",
        "http://www.cs.cmu.edu/~./gdead/dead-sets/95/2-20-95.txt\n",
        "http://www.cs.cmu.edu/~./gdead/dead-sets/95/2-21-95.txt\n",
        "http://www.cs.cmu.edu/~./gdead/dead-sets/95/2-24-95.txt\n",
        "http://www.cs.cmu.edu/~./gdead/dead-sets/95/2-25-95.txt\n",
        "http://www.cs.cmu.edu/~./gdead/dead-sets/95/2-26-95.txt\n",
        "http://www.cs.cmu.edu/~./gdead/dead-sets/95/3-17-95.txt\n",
        "http://www.cs.cmu.edu/~./gdead/dead-sets/95/3-18-95.txt\n",
        "http://www.cs.cmu.edu/~./gdead/dead-sets/95/3-19-95.txt\n",
        "http://www.cs.cmu.edu/~./gdead/dead-sets/95/3-22-95.txt\n",
        "http://www.cs.cmu.edu/~./gdead/dead-sets/95/3-23-95.txt\n",
        "http://www.cs.cmu.edu/~./gdead/dead-sets/95/3-24-95.txt\n",
        "http://www.cs.cmu.edu/~./gdead/dead-sets/95/3-26-95.txt\n",
        "http://www.cs.cmu.edu/~./gdead/dead-sets/95/3-27-95.txt\n",
        "http://www.cs.cmu.edu/~./gdead/dead-sets/95/3-29-95.txt\n",
        "http://www.cs.cmu.edu/~./gdead/dead-sets/95/3-30-95.txt\n",
        "http://www.cs.cmu.edu/~./gdead/dead-sets/95/4-1-95.txt\n",
        "http://www.cs.cmu.edu/~./gdead/dead-sets/95/4-2-95.txt\n",
        "http://www.cs.cmu.edu/~./gdead/dead-sets/95/4-4-95.txt\n",
        "http://www.cs.cmu.edu/~./gdead/dead-sets/95/4-5-95.txt\n",
        "http://www.cs.cmu.edu/~./gdead/dead-sets/95/4-7-95.txt\n",
        "http://www.cs.cmu.edu/~./gdead/dead-sets/95/5-19-95.txt\n",
        "http://www.cs.cmu.edu/~./gdead/dead-sets/95/5-20-95.txt\n",
        "http://www.cs.cmu.edu/~./gdead/dead-sets/95/5-21-95.txt\n",
        "http://www.cs.cmu.edu/~./gdead/dead-sets/95/5-24-95.txt\n",
        "http://www.cs.cmu.edu/~./gdead/dead-sets/95/5-25-95.txt\n",
        "http://www.cs.cmu.edu/~./gdead/dead-sets/95/5-26-95.txt\n",
        "http://www.cs.cmu.edu/~./gdead/dead-sets/95/5-28-95.txt\n",
        "http://www.cs.cmu.edu/~./gdead/dead-sets/95/5-29-95.txt\n",
        "http://www.cs.cmu.edu/~./gdead/dead-sets/95/6-2-95.txt\n",
        "http://www.cs.cmu.edu/~./gdead/dead-sets/95/6-3-95.txt\n",
        "http://www.cs.cmu.edu/~./gdead/dead-sets/95/6-4-95.txt\n",
        "http://www.cs.cmu.edu/~./gdead/dead-sets/95/6-15-95.txt\n",
        "http://www.cs.cmu.edu/~./gdead/dead-sets/95/6-18-95.txt\n",
        "http://www.cs.cmu.edu/~./gdead/dead-sets/95/6-19-95.txt\n",
        "http://www.cs.cmu.edu/~./gdead/dead-sets/95/6-21-95.txt\n",
        "http://www.cs.cmu.edu/~./gdead/dead-sets/95/6-22-95.txt\n",
        "http://www.cs.cmu.edu/~./gdead/dead-sets/95/6-24-95.txt\n",
        "http://www.cs.cmu.edu/~./gdead/dead-sets/95/6-25-95.txt\n",
        "http://www.cs.cmu.edu/~./gdead/dead-sets/95/6-27-95.txt\n",
        "http://www.cs.cmu.edu/~./gdead/dead-sets/95/6-28-95.txt\n",
        "http://www.cs.cmu.edu/~./gdead/dead-sets/95/6-30-95.txt\n",
        "http://www.cs.cmu.edu/~./gdead/dead-sets/95/7-2-95.txt\n",
        "http://www.cs.cmu.edu/~./gdead/dead-sets/95/7-3-95.txt\n",
        "http://www.cs.cmu.edu/~./gdead/dead-sets/95/7-5-95.txt\n",
        "http://www.cs.cmu.edu/~./gdead/dead-sets/95/7-6-95.txt\n",
        "http://www.cs.cmu.edu/~./gdead/dead-sets/95/7-8-95.txt\n",
        "http://www.cs.cmu.edu/~./gdead/dead-sets/95/7-9-95.txt\n"
       ]
      }
     ],
     "prompt_number": 11
    },
    {
     "cell_type": "code",
     "collapsed": false,
     "input": [
      "url3 = gigs_95[0]\n",
      "content3 = urllib2.urlopen(url3).read()\n",
      "soup3 = BeautifulSoup(content3)\n",
      "\n",
      "print(soup3.get_text().split(\"\\n\"))\n",
      "#look at index function, inline method, strip string processing"
     ],
     "language": "python",
     "metadata": {},
     "outputs": [
      {
       "output_type": "stream",
       "stream": "stdout",
       "text": [
        "[u'Delta Center, Salt Lake City, UT (Sunday, 2/19/95)', u'', u'Jack Straw', u'Sugaree', u\"Walkin' Blues\", u'Alabama Getaway', u'Me & My Uncle* ->', u'Big River*', u\"Don't Ease Me In*\", u'', u'China Cat Sunflower ->', u'I Know You Rider', u'Samson and Delilah', u'If the Shoe Fits', u'New Speedway Boogie ->', u'Estimated Prophet ->', u'Drums ->', u'Space ->', u'I Need A Miracle ->', u'Attics of my Life ->', u'Johnny B. Goode', u'', u'E: Baby Blue', u'', u'*Bobby Acoustic', u'*(first Alabama Getaway since 6/18/89)*', u'*(soundcheck included Alabama Getaway, Attics, Schoolgirl, ', u\"and It's a Man's World)*\", u'']\n"
       ]
      }
     ],
     "prompt_number": 19
    },
    {
     "cell_type": "code",
     "collapsed": false,
     "input": [
      "#JP\n",
      "#Well done getting the data fora  single concert.  THe final step would be nest this code in \n",
      "#a for loop"
     ],
     "language": "python",
     "metadata": {},
     "outputs": []
    },
    {
     "cell_type": "markdown",
     "metadata": {},
     "source": [
      "Ended the web scraping experiment."
     ]
    },
    {
     "cell_type": "code",
     "collapsed": false,
     "input": [
      "#take shows from 78 and equally divide them into two parts. \n",
      "#get indices for 78, use random.random library to dive into 2 groups"
     ],
     "language": "python",
     "metadata": {},
     "outputs": []
    },
    {
     "cell_type": "code",
     "collapsed": false,
     "input": [
      "df['decade'] = floor(((df['year'] - 1900)/10)*10)\n",
      "\n",
      "index_70s = []\n",
      "\n",
      "for i in range(len(df)):\n",
      "    if df['decade'][i] == 70:\n",
      "        index_70s.append(i)"
     ],
     "language": "python",
     "metadata": {},
     "outputs": [],
     "prompt_number": 13
    },
    {
     "cell_type": "code",
     "collapsed": false,
     "input": [
      "#JP\n",
      "#Finding appropriate indices can be done quicker using the where command\n",
      "np.where(df['decade']==70)[0]"
     ],
     "language": "python",
     "metadata": {},
     "outputs": [
      {
       "metadata": {},
       "output_type": "pyout",
       "prompt_number": 26,
       "text": [
        "array([   4,    6,   10,   12,   15,   17,   18,   26,   29,   32,   33,\n",
        "         35,   36,   37,   39,   40,   42,   44,   45,   47,   48,   49,\n",
        "         51,   52,   54,   62,   65,   66,   75,   81,   92,   96,   99,\n",
        "        101,  103,  104,  107,  109,  112,  117,  121,  123,  128,  130,\n",
        "        132,  133,  137,  138,  142,  149,  151,  152,  153,  155,  156,\n",
        "        158,  159,  161,  162,  165,  168,  170,  171,  181,  185,  188,\n",
        "        189,  190,  192,  193,  194,  197,  202,  208,  209,  215,  219,\n",
        "        221,  222,  223,  225,  229,  230,  233,  236,  237,  239,  241,\n",
        "        247,  251,  262,  266,  267,  272,  274,  276,  293,  302,  305,\n",
        "        307,  321,  328,  329,  333,  334,  336,  340,  344,  349,  353,\n",
        "        359,  360,  366,  373,  377,  378,  379,  382,  386,  387,  388,\n",
        "        389,  396,  398,  406,  408,  409,  411,  422,  423,  424,  426,\n",
        "        430,  433,  435,  436,  440,  441,  442,  443,  446,  448,  449,\n",
        "        450,  451,  457,  464,  466,  468,  470,  471,  473,  475,  476,\n",
        "        482,  483,  484,  489,  494,  496,  498,  499,  513,  517,  518,\n",
        "        519,  521,  522,  524,  531,  532,  533,  535,  536,  537,  538,\n",
        "        540,  547,  551,  552,  553,  556,  557,  562,  564,  566,  570,\n",
        "        573,  574,  582,  583,  584,  586,  589,  590,  591,  594,  595,\n",
        "        597,  598,  600,  601,  602,  603,  607,  608,  609,  610,  611,\n",
        "        613,  615,  616,  621,  631,  634,  635,  638,  640,  641,  643,\n",
        "        648,  649,  653,  658,  659,  672,  673,  677,  679,  690,  695,\n",
        "        696,  700,  702,  706,  707,  710,  715,  720,  723,  724,  726,\n",
        "        729,  730,  736,  737,  740,  741,  743,  746,  748,  749,  754,\n",
        "        757,  760,  761,  765,  768,  771,  774,  787,  792,  794,  796,\n",
        "        798,  799,  802,  804,  817,  819,  820,  822,  823,  824,  825,\n",
        "        826,  827,  828,  829,  830,  831,  834,  836,  838,  846,  849,\n",
        "        850,  854,  855,  863,  865,  866,  873,  876,  877,  879,  883,\n",
        "        887,  888,  893,  895,  897,  899,  906,  908,  920,  922,  927,\n",
        "        933,  940,  942,  945,  946,  953,  954,  957,  959,  962,  964,\n",
        "        965,  967,  970,  971,  977,  978,  979,  981,  984,  985,  987,\n",
        "        990,  993, 1000, 1001, 1005, 1006, 1008, 1010, 1017, 1018, 1020,\n",
        "       1022, 1025, 1027, 1032, 1033, 1035, 1037, 1050, 1054, 1057, 1059,\n",
        "       1060, 1064, 1066, 1068, 1070, 1071, 1079, 1088, 1089, 1090, 1092,\n",
        "       1095, 1096, 1102, 1104, 1105, 1114, 1116, 1117, 1120, 1121, 1128,\n",
        "       1133, 1135, 1136, 1137, 1138, 1139, 1143, 1146, 1147, 1148, 1153,\n",
        "       1158, 1161, 1172, 1174, 1175, 1178, 1179, 1183, 1184, 1186, 1187,\n",
        "       1190, 1191, 1192, 1194, 1196, 1201, 1203, 1205, 1207, 1210, 1211,\n",
        "       1217, 1219, 1220, 1221, 1223, 1225, 1226, 1229, 1234, 1238, 1239,\n",
        "       1241, 1249, 1250, 1253, 1254, 1259, 1268, 1272, 1273, 1277, 1278,\n",
        "       1279, 1280, 1285, 1288, 1298, 1299, 1300, 1305, 1309, 1311, 1313,\n",
        "       1315, 1316, 1321, 1333, 1335, 1337, 1338, 1343, 1346, 1347, 1354,\n",
        "       1356, 1362, 1365, 1366, 1367, 1371, 1373, 1377, 1381, 1386, 1388])"
       ]
      }
     ],
     "prompt_number": 26
    },
    {
     "cell_type": "code",
     "collapsed": false,
     "input": [
      "\n",
      "\n",
      "random.shuffle(index_70s)\n",
      "\n",
      "all_sets =  set(df.index)\n",
      "\n",
      "not_1970s = list(all_sets - set(index_70s))\n",
      "\n",
      "random.shuffle(not_1970s)\n",
      "\n",
      "train_1970s =  set(index_70s[:int(len(index_70s)/2)])\n",
      "train_not_1970s = set(not_1970s[:int(len(not_1970s)/2)])\n",
      "\n",
      "train = list(train_1970s | train_not_1970s)\n",
      "test = list(all_sets - set(train))"
     ],
     "language": "python",
     "metadata": {},
     "outputs": [
      {
       "ename": "NameError",
       "evalue": "name 'index_70s' is not defined",
       "output_type": "pyerr",
       "traceback": [
        "\u001b[1;31m---------------------------------------------------------------------------\u001b[0m\n\u001b[1;31mNameError\u001b[0m                                 Traceback (most recent call last)",
        "\u001b[1;32m<ipython-input-4-6f90edf7beed>\u001b[0m in \u001b[0;36m<module>\u001b[1;34m()\u001b[0m\n\u001b[0;32m      1\u001b[0m \u001b[1;31m#JP\u001b[0m\u001b[1;33m\u001b[0m\u001b[1;33m\u001b[0m\u001b[0m\n\u001b[0;32m      2\u001b[0m \u001b[1;33m\u001b[0m\u001b[0m\n\u001b[1;32m----> 3\u001b[1;33m \u001b[0mrandom\u001b[0m\u001b[1;33m.\u001b[0m\u001b[0mshuffle\u001b[0m\u001b[1;33m(\u001b[0m\u001b[0mindex_70s\u001b[0m\u001b[1;33m)\u001b[0m\u001b[1;33m\u001b[0m\u001b[0m\n\u001b[0m\u001b[0;32m      4\u001b[0m \u001b[1;33m\u001b[0m\u001b[0m\n\u001b[0;32m      5\u001b[0m \u001b[0mall_sets\u001b[0m \u001b[1;33m=\u001b[0m  \u001b[0mset\u001b[0m\u001b[1;33m(\u001b[0m\u001b[0mdf\u001b[0m\u001b[1;33m.\u001b[0m\u001b[0mindex\u001b[0m\u001b[1;33m)\u001b[0m\u001b[1;33m\u001b[0m\u001b[0m\n",
        "\u001b[1;31mNameError\u001b[0m: name 'index_70s' is not defined"
       ]
      }
     ],
     "prompt_number": 4
    },
    {
     "cell_type": "code",
     "collapsed": false,
     "input": [
      "#JP\n",
      "#Here's a sampling implementation using where and np.random.choice\n",
      "\n",
      "in_decade = np.where(df['decade']==70)[0]\n",
      "not_in_decade = np.where(df['decade']!=70)[0]\n",
      "train_size = int(0.5*in_decade.shape[0])-2\n",
      "train_test_in = np.random.choice(in_decade, size=2*train_size, replace=False)\n",
      "train_in = train_test_in[0:train_size].tolist()\n",
      "test_in = train_test_in[train_size:].tolist()\n",
      "train_test_out = np.random.choice(not_in_decade, size=2*train_size, replace=False)\n",
      "train_out = train_test_out[0:train_size].tolist()\n",
      "test_out = train_test_out[train_size:].tolist()\n",
      "train= train_in + train_out\n",
      "test = test_in + test_out"
     ],
     "language": "python",
     "metadata": {},
     "outputs": [],
     "prompt_number": 155
    },
    {
     "cell_type": "code",
     "collapsed": false,
     "input": [
      "#JP\n",
      "#You're defining X and Y as two different types of variables.  Y is a series\n",
      "#and X is a dataframe.  Then there's problems assigning test/train sets\n",
      "#because these two structures have different subselection methods.  For this model\n",
      "#Y should be a binary variable 1 if in 70's and 0 otherwise.\n",
      "\n",
      "#Naive Bayes\n",
      "#uses same no. of yes and no\u2019s in training\n",
      "#Kfold not good, try something else. \n",
      "\n",
      "X = df[df.columns[:-1]] #original code\n",
      "X = df.ix[:,0:-1]\n",
      "\n",
      "#Y = df['year'] #original code\n",
      "Y = df['year']\n",
      "Y=Y.apply(lambda x: 1 if x<1980 else 0)\n",
      "\n",
      "#xtrain, ytrain, xtest, ytest = X[train,],Y[train,],X[test,],Y[test,]\n",
      "xtrain = X.ix[train,:]\n",
      "ytrain = Y.ix[train,]\n",
      "xtest  = X.ix[test,:]\n",
      "ytest = Y.ix[test,]"
     ],
     "language": "python",
     "metadata": {},
     "outputs": [],
     "prompt_number": 164
    },
    {
     "cell_type": "code",
     "collapsed": false,
     "input": [
      "Y.describe()"
     ],
     "language": "python",
     "metadata": {},
     "outputs": [
      {
       "metadata": {},
       "output_type": "pyout",
       "prompt_number": 165,
       "text": [
        "count    1389.000000\n",
        "mean        0.332613\n",
        "std         0.471319\n",
        "min         0.000000\n",
        "25%         0.000000\n",
        "50%         0.000000\n",
        "75%         1.000000\n",
        "max         1.000000\n",
        "dtype: float64"
       ]
      }
     ],
     "prompt_number": 165
    },
    {
     "cell_type": "code",
     "collapsed": false,
     "input": [
      "\n",
      "# add parameters to make sure function is robust, xtrain, ytrain, xtest, ytest\n",
      "def accuracy_report(_clf):\n",
      "    \n",
      "    print \"Accuracy: %0.2f%%\" % (100 * _clf.score(xtest, ytest))\n",
      "\n",
      "    #Print the accuracy on the test and training dataset\n",
      "    training_accuracy = _clf.score(xtrain, ytrain)\n",
      "    test_accuracy = _clf.score(xtest, ytest)\n",
      "\n",
      "    #print \"Accuracy on training data: %0.2f\" % (training_accuracy)\n",
      "    #print \"Accuracy on test data: %0.2f\" % (test_accuracy)\n",
      "    \n",
      "    return test_accuracy\n",
      "\n",
      "\n",
      "results = {}\n",
      "multi = []\n",
      "binom = []\n",
      "log_reg = []\n",
      "\n",
      "#This is a simple implementation of a 1-Fold\n",
      "\n",
      "for i in range(1):    \n",
      "    \n",
      "    clf_mn2 = MultinomialNB().fit(xtrain, ytrain)\n",
      "    clf_b2 = BernoulliNB().fit(xtrain, ytrain)\n",
      "    clf_lr2 = LogisticRegression().fit(xtrain, ytrain)\n",
      "\n",
      "    multi.append(accuracy_report(clf_mn2))\n",
      "    binom.append(accuracy_report(clf_b2))\n",
      "    log_reg.append(accuracy_report(clf_lr2))\n",
      "    \n",
      "#results['Multinomial'] = multi\n",
      "#results['Binomial'] = binom\n",
      "#results['Logistic'] = log_reg"
     ],
     "language": "python",
     "metadata": {},
     "outputs": [
      {
       "output_type": "stream",
       "stream": "stderr",
       "text": [
        "/usr/local/lib/python2.7/dist-packages/sklearn/naive_bayes.py:427: DeprecationWarning: Implicitly casting between incompatible kinds. In a future numpy release, this will raise an error. Use casting=\"unsafe\" if this is intentional.\n",
        "  self.feature_count_ += safe_sparse_dot(Y.T, X)\n",
        "/usr/local/lib/python2.7/dist-packages/sklearn/naive_bayes.py:525: DeprecationWarning: Implicitly casting between incompatible kinds. In a future numpy release, this will raise an error. Use casting=\"unsafe\" if this is intentional.\n",
        "  self.feature_count_ += safe_sparse_dot(Y.T, X)\n"
       ]
      },
      {
       "output_type": "stream",
       "stream": "stdout",
       "text": [
        "Accuracy: 96.72%\n",
        "Accuracy: 96.07%"
       ]
      },
      {
       "output_type": "stream",
       "stream": "stdout",
       "text": [
        "\n",
        "Accuracy: 98.03%"
       ]
      },
      {
       "output_type": "stream",
       "stream": "stdout",
       "text": [
        "\n"
       ]
      }
     ],
     "prompt_number": 167
    },
    {
     "cell_type": "code",
     "collapsed": false,
     "input": [
      "#Data Visualization\n",
      "\n",
      "years = df.year.unique()\n",
      "\n",
      "counts = []\n",
      "count = 0\n",
      "\n",
      "for yr in years:\n",
      "    \n",
      "    for i in df.year:\n",
      "        if i == yr:\n",
      "            count =  count + 1\n",
      "            \n",
      "    counts.append(count)\n",
      "    \n",
      "print counts\n",
      "    \n",
      "df2 = pd.DataFrame(index=range(len(years)), columns=[\"year\",\"no_of_songs\"])\n",
      "df2.year,df2.no_of_songs =  years, counts\n",
      "\n",
      "df2.head()"
     ],
     "language": "python",
     "metadata": {},
     "outputs": [
      {
       "output_type": "stream",
       "stream": "stdout",
       "text": [
        "[86, 149, 223, 299, 379, 452, 518, 572, 632, 703, 790, 877, 917, 998, 1071, 1117, 1203, 1244, 1321, 1385, 1389]\n"
       ]
      },
      {
       "output_type": "stream",
       "stream": "stderr",
       "text": [
        "/usr/lib/python2.7/dist-packages/pandas/core/config.py:570: DeprecationWarning: height has been deprecated.\n",
        "\n",
        "  warnings.warn(d.msg, DeprecationWarning)\n",
        "/usr/lib/python2.7/dist-packages/pandas/core/config.py:570: DeprecationWarning: height has been deprecated.\n",
        "\n",
        "  warnings.warn(d.msg, DeprecationWarning)\n"
       ]
      },
      {
       "html": [
        "<div style=\"max-height:1000px;max-width:1500px;overflow:auto;\">\n",
        "<table border=\"1\" class=\"dataframe\">\n",
        "  <thead>\n",
        "    <tr style=\"text-align: right;\">\n",
        "      <th></th>\n",
        "      <th>year</th>\n",
        "      <th>no_of_songs</th>\n",
        "    </tr>\n",
        "  </thead>\n",
        "  <tbody>\n",
        "    <tr>\n",
        "      <th>0</th>\n",
        "      <td> 1987</td>\n",
        "      <td>  86</td>\n",
        "    </tr>\n",
        "    <tr>\n",
        "      <th>1</th>\n",
        "      <td> 1982</td>\n",
        "      <td> 149</td>\n",
        "    </tr>\n",
        "    <tr>\n",
        "      <th>2</th>\n",
        "      <td> 1990</td>\n",
        "      <td> 223</td>\n",
        "    </tr>\n",
        "    <tr>\n",
        "      <th>3</th>\n",
        "      <td> 1979</td>\n",
        "      <td> 299</td>\n",
        "    </tr>\n",
        "    <tr>\n",
        "      <th>4</th>\n",
        "      <td> 1988</td>\n",
        "      <td> 379</td>\n",
        "    </tr>\n",
        "  </tbody>\n",
        "</table>\n",
        "</div>"
       ],
       "metadata": {},
       "output_type": "pyout",
       "prompt_number": 11,
       "text": [
        "   year  no_of_songs\n",
        "0  1987           86\n",
        "1  1982          149\n",
        "2  1990          223\n",
        "3  1979          299\n",
        "4  1988          379"
       ]
      }
     ],
     "prompt_number": 11
    },
    {
     "cell_type": "code",
     "collapsed": false,
     "input": [
      "#Plot no of songs by year\n",
      "\n",
      "x = df2.year\n",
      "y = df2.no_of_songs\n",
      "\n",
      "plot(x,y,'o')"
     ],
     "language": "python",
     "metadata": {},
     "outputs": [
      {
       "metadata": {},
       "output_type": "pyout",
       "prompt_number": 17,
       "text": [
        "[<matplotlib.lines.Line2D at 0x5388a50>]"
       ]
      },
      {
       "metadata": {},
       "output_type": "display_data",
       "png": "[encoded data removed]"
      }
     ],
     "prompt_number": 17
    },
    {
     "cell_type": "code",
     "collapsed": false,
     "input": [
      "print x \n",
      "#|print y"
     ],
     "language": "python",
     "metadata": {},
     "outputs": [
      {
       "output_type": "stream",
       "stream": "stdout",
       "text": [
        "0     1987\n",
        "1     1982\n",
        "2     1990\n",
        "3     1979\n",
        "4     1988\n",
        "5     1973\n",
        "6     1983\n",
        "7     1992\n",
        "8     1977\n",
        "9     1985\n",
        "10    1980\n",
        "11    1972\n",
        "12    1974\n",
        "13    1978\n",
        "14    1989\n",
        "15    1986\n",
        "16    1981\n",
        "17    1976\n",
        "18    1991\n",
        "19    1984\n",
        "20    1975\n",
        "Name: year, dtype: int64\n"
       ]
      }
     ],
     "prompt_number": 15
    },
    {
     "cell_type": "code",
     "collapsed": false,
     "input": [
      "plt.hist(x,y)"
     ],
     "language": "python",
     "metadata": {},
     "outputs": [
      {
       "metadata": {},
       "output_type": "pyout",
       "prompt_number": 13,
       "text": [
        "(array([0, 0, 0, 0, 0, 0, 0, 0, 0, 0, 0, 0, 0, 0, 0, 0, 0, 0, 0, 0]),\n",
        " array([  86,  149,  223,  299,  379,  452,  518,  572,  632,  703,  790,\n",
        "        877,  917,  998, 1071, 1117, 1203, 1244, 1321, 1385, 1389]),\n",
        " <a list of 20 Patch objects>)"
       ]
      },
      {
       "metadata": {},
       "output_type": "display_data",
       "png": "[encoded data removed]"
      }
     ],
     "prompt_number": 13
    },
    {
     "cell_type": "code",
     "collapsed": false,
     "input": [],
     "language": "python",
     "metadata": {},
     "outputs": []
    },
    {
     "cell_type": "code",
     "collapsed": false,
     "input": [
      "#JP\n",
      "#Great job going in two extra directions: tacking on the sampling question and adding\n",
      "#graphics.  You nearly had it with the scraping challenge.  "
     ],
     "language": "python",
     "metadata": {},
     "outputs": []
    }
   ],
   "metadata": {}
  }
 ]
}