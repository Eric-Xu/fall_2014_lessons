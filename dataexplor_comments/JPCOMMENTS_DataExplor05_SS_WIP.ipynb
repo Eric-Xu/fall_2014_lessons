{
 "metadata": {
  "name": "",
  "signature": "sha256:16ebeffe35dd13aa1cb2386f923ad8114703b02d22310e76824102a532447f8a"
 },
 "nbformat": 3,
 "nbformat_minor": 0,
 "worksheets": [
  {
   "cells": [
    {
     "cell_type": "code",
     "collapsed": false,
     "input": [
      "# Purpose of this analysis is to predict sentiment of a tweet \n",
      "# based on the text in the tweets.  Sentiment is described with \n",
      "# \"polarity\" where:\n",
      "\n",
      "# 0 = negative\n",
      "# 4 = positive"
     ],
     "language": "python",
     "metadata": {},
     "outputs": [],
     "prompt_number": 1
    },
    {
     "cell_type": "code",
     "collapsed": false,
     "input": [
      "import pandas as pd\n",
      "import numpy as np\n",
      "from sklearn.feature_extraction.text import CountVectorizer"
     ],
     "language": "python",
     "metadata": {},
     "outputs": [],
     "prompt_number": 2
    },
    {
     "cell_type": "code",
     "collapsed": false,
     "input": [],
     "language": "python",
     "metadata": {},
     "outputs": [],
     "prompt_number": 2
    },
    {
     "cell_type": "code",
     "collapsed": false,
     "input": [
      "# import data"
     ],
     "language": "python",
     "metadata": {},
     "outputs": [],
     "prompt_number": 3
    },
    {
     "cell_type": "code",
     "collapsed": false,
     "input": [
      "df = pd.read_csv('https://raw.githubusercontent.com/TeachingDataScience/data-science-course/forstudentviewing/12_Naive_Bayes/twitter_training/sts_gold_tweet.csv',';')"
     ],
     "language": "python",
     "metadata": {},
     "outputs": [],
     "prompt_number": 4
    },
    {
     "cell_type": "code",
     "collapsed": false,
     "input": [],
     "language": "python",
     "metadata": {},
     "outputs": [],
     "prompt_number": 4
    },
    {
     "cell_type": "code",
     "collapsed": false,
     "input": [
      "# data exploration"
     ],
     "language": "python",
     "metadata": {},
     "outputs": [],
     "prompt_number": 5
    },
    {
     "cell_type": "code",
     "collapsed": false,
     "input": [
      "# quick look at data\n",
      "df.head()"
     ],
     "language": "python",
     "metadata": {},
     "outputs": [
      {
       "html": [
        "<div style=\"max-height:1000px;max-width:1500px;overflow:auto;\">\n",
        "<table border=\"1\" class=\"dataframe\">\n",
        "  <thead>\n",
        "    <tr style=\"text-align: right;\">\n",
        "      <th></th>\n",
        "      <th>id</th>\n",
        "      <th>polarity</th>\n",
        "      <th>tweet</th>\n",
        "    </tr>\n",
        "  </thead>\n",
        "  <tbody>\n",
        "    <tr>\n",
        "      <th>0</th>\n",
        "      <td> 1467933112</td>\n",
        "      <td> 0</td>\n",
        "      <td> the angel is going to miss the athlete this we...</td>\n",
        "    </tr>\n",
        "    <tr>\n",
        "      <th>1</th>\n",
        "      <td> 2323395086</td>\n",
        "      <td> 0</td>\n",
        "      <td> It looks as though Shaq is getting traded to C...</td>\n",
        "    </tr>\n",
        "    <tr>\n",
        "      <th>2</th>\n",
        "      <td> 1467968979</td>\n",
        "      <td> 0</td>\n",
        "      <td>    @clarianne APRIL 9TH ISN'T COMING SOON ENOUGH </td>\n",
        "    </tr>\n",
        "    <tr>\n",
        "      <th>3</th>\n",
        "      <td> 1990283756</td>\n",
        "      <td> 0</td>\n",
        "      <td> drinking a McDonalds coffee and not understand...</td>\n",
        "    </tr>\n",
        "    <tr>\n",
        "      <th>4</th>\n",
        "      <td> 1988884918</td>\n",
        "      <td> 0</td>\n",
        "      <td> So dissapointed Taylor Swift doesnt have a Twi...</td>\n",
        "    </tr>\n",
        "  </tbody>\n",
        "</table>\n",
        "</div>"
       ],
       "metadata": {},
       "output_type": "pyout",
       "prompt_number": 6,
       "text": [
        "           id  polarity                                              tweet\n",
        "0  1467933112         0  the angel is going to miss the athlete this we...\n",
        "1  2323395086         0  It looks as though Shaq is getting traded to C...\n",
        "2  1467968979         0     @clarianne APRIL 9TH ISN'T COMING SOON ENOUGH \n",
        "3  1990283756         0  drinking a McDonalds coffee and not understand...\n",
        "4  1988884918         0  So dissapointed Taylor Swift doesnt have a Twi..."
       ]
      }
     ],
     "prompt_number": 6
    },
    {
     "cell_type": "code",
     "collapsed": false,
     "input": [
      "# make sure there are no rows with missing data\n",
      "len(df), len(df.dropna())"
     ],
     "language": "python",
     "metadata": {},
     "outputs": [
      {
       "metadata": {},
       "output_type": "pyout",
       "prompt_number": 7,
       "text": [
        "(2034, 2034)"
       ]
      }
     ],
     "prompt_number": 7
    },
    {
     "cell_type": "code",
     "collapsed": false,
     "input": [
      "# making sure there are only 0 and 4 values for polarity\n",
      "df.polarity.value_counts()"
     ],
     "language": "python",
     "metadata": {},
     "outputs": [
      {
       "metadata": {},
       "output_type": "pyout",
       "prompt_number": 8,
       "text": [
        "0    1402\n",
        "4     632\n",
        "dtype: int64"
       ]
      }
     ],
     "prompt_number": 8
    },
    {
     "cell_type": "code",
     "collapsed": false,
     "input": [
      "#JP\n",
      "#This is a handy function.  Next step would be to search the string for any values greater than 1.\n",
      "\n",
      "# making sure that the id's are distinct, no dups\n",
      "df.id.value_counts()"
     ],
     "language": "python",
     "metadata": {},
     "outputs": [
      {
       "metadata": {},
       "output_type": "pyout",
       "prompt_number": 9,
       "text": [
        "2018145532    1\n",
        "2174569897    1\n",
        "2045826754    1\n",
        "1687790990    1\n",
        "2213258642    1\n",
        "1467987350    1\n",
        "1467841943    1\n",
        "1753038233    1\n",
        "2054471067    1\n",
        "2243126686    1\n",
        "1467960735    1\n",
        "1467841957    1\n",
        "2233259430    1\n",
        "1995759015    1\n",
        "2261476776    1\n",
        "...\n",
        "1976486578    1\n",
        "2072208051    1\n",
        "1467948434    1\n",
        "2178665142    1\n",
        "2071993016    1\n",
        "2053634746    1\n",
        "1467824828    1\n",
        "1961864642    1\n",
        "2235122367    1\n",
        "2211318464    1\n",
        "1467918126    1\n",
        "1834752708    1\n",
        "1822896837    1\n",
        "2002295494    1\n",
        "1467842568    1\n",
        "Length: 2034, dtype: int64"
       ]
      }
     ],
     "prompt_number": 9
    },
    {
     "cell_type": "code",
     "collapsed": false,
     "input": [],
     "language": "python",
     "metadata": {},
     "outputs": [],
     "prompt_number": 9
    },
    {
     "cell_type": "code",
     "collapsed": false,
     "input": [
      "# preparing covariate/feature data for modeling"
     ],
     "language": "python",
     "metadata": {},
     "outputs": [],
     "prompt_number": 10
    },
    {
     "cell_type": "code",
     "collapsed": false,
     "input": [
      "# build n_gram of 1 to n with stop_words = english\n",
      "# purposely set nmax to a high number (50) to create every single\n",
      "# ngram possible..\n",
      "\n",
      "vectorizer_1_50 = CountVectorizer(ngram_range = (1,50), stop_words = 'english')\n",
      "vectorizer_1_50"
     ],
     "language": "python",
     "metadata": {},
     "outputs": [
      {
       "metadata": {},
       "output_type": "pyout",
       "prompt_number": 11,
       "text": [
        "CountVectorizer(analyzer=u'word', binary=False, charset=None,\n",
        "        charset_error=None, decode_error=u'strict',\n",
        "        dtype=<type 'numpy.int64'>, encoding=u'utf-8', input=u'content',\n",
        "        lowercase=True, max_df=1.0, max_features=None, min_df=1,\n",
        "        ngram_range=(1, 50), preprocessor=None, stop_words='english',\n",
        "        strip_accents=None, token_pattern=u'(?u)\\\\b\\\\w\\\\w+\\\\b',\n",
        "        tokenizer=None, vocabulary=None)"
       ]
      }
     ],
     "prompt_number": 11
    },
    {
     "cell_type": "code",
     "collapsed": false,
     "input": [
      "#JP\n",
      "#Here's the tradeoff with ngram 50, there's 72,009 covariates.  In a sense this is \n",
      "#a full Bayesian approach - without a strong prior assumption of the right ngram range\n",
      "#we should let the model decide.\n",
      "\n",
      "# create n_gram fit and transform into sparse matrix in one go\n",
      "x_fit_transform = vectorizer_1_50.fit_transform(df.tweet)\n",
      "\n",
      "print x_fit_transform.shape"
     ],
     "language": "python",
     "metadata": {},
     "outputs": [
      {
       "output_type": "stream",
       "stream": "stdout",
       "text": [
        "(2034, 72009)\n"
       ]
      }
     ],
     "prompt_number": 12
    },
    {
     "cell_type": "code",
     "collapsed": false,
     "input": [],
     "language": "python",
     "metadata": {},
     "outputs": [],
     "prompt_number": 12
    },
    {
     "cell_type": "code",
     "collapsed": false,
     "input": [
      "# preparing dependent variable for modeling"
     ],
     "language": "python",
     "metadata": {},
     "outputs": [],
     "prompt_number": 13
    },
    {
     "cell_type": "code",
     "collapsed": false,
     "input": [
      "# transform the dependent variable to binary\n",
      "Y = (df.polarity == 4).values.astype(np.int)\n",
      "print Y.shape, len(Y), len(Y[Y==1]), len(Y[Y==0])"
     ],
     "language": "python",
     "metadata": {},
     "outputs": [
      {
       "output_type": "stream",
       "stream": "stdout",
       "text": [
        "(2034,) 2034 632 1402\n"
       ]
      }
     ],
     "prompt_number": 14
    },
    {
     "cell_type": "code",
     "collapsed": false,
     "input": [],
     "language": "python",
     "metadata": {},
     "outputs": [],
     "prompt_number": 14
    },
    {
     "cell_type": "code",
     "collapsed": false,
     "input": [
      "# split dataset into testing and training"
     ],
     "language": "python",
     "metadata": {},
     "outputs": [],
     "prompt_number": 15
    },
    {
     "cell_type": "code",
     "collapsed": false,
     "input": [
      "from sklearn.cross_validation import train_test_split\n",
      "xtrain, xtest, ytrain, ytest = train_test_split(x_fit_transform, Y)\n",
      "\n",
      "# make sure the split is done correctly\n",
      "xtrain, xtest, len(ytrain), len(ytest)"
     ],
     "language": "python",
     "metadata": {},
     "outputs": [
      {
       "metadata": {},
       "output_type": "pyout",
       "prompt_number": 16,
       "text": [
        "(<1525x72009 sparse matrix of type '<type 'numpy.int64'>'\n",
        " \twith 63730 stored elements in Compressed Sparse Row format>,\n",
        " <509x72009 sparse matrix of type '<type 'numpy.int64'>'\n",
        " \twith 20186 stored elements in Compressed Sparse Row format>,\n",
        " 1525,\n",
        " 509)"
       ]
      }
     ],
     "prompt_number": 16
    },
    {
     "cell_type": "code",
     "collapsed": false,
     "input": [
      "#JP\n",
      "#This is interesting.  Pandas automatically changed from a regular dataframe to a sparse matrix.\n",
      "#\n",
      "#"
     ],
     "language": "python",
     "metadata": {},
     "outputs": [],
     "prompt_number": 17
    },
    {
     "cell_type": "code",
     "collapsed": false,
     "input": [
      "# build 3 models: Multinomial Naive Bayes, Bernoulli's Naive Bayes\n",
      "# and Logistic Regression"
     ],
     "language": "python",
     "metadata": {},
     "outputs": [],
     "prompt_number": 18
    },
    {
     "cell_type": "code",
     "collapsed": false,
     "input": [
      "#JP\n",
      "#Nice job keeping it organized.  Ideally this would be nested. \n",
      "\n",
      "\n",
      "# fit classification using MultinomialNB\n",
      "\n",
      "from sklearn.naive_bayes import MultinomialNB\n",
      "\n",
      "fitmt = MultinomialNB().fit(xtrain, ytrain)\n",
      "print\"Predictability score on training data is:\",fitmt.score(xtrain, ytrain)\n",
      "print\"Predictability score on test data is:\",fitmt.score(xtest, ytest)\n"
     ],
     "language": "python",
     "metadata": {},
     "outputs": [
      {
       "output_type": "stream",
       "stream": "stdout",
       "text": [
        "Predictability score on training data is: 0.998032786885\n",
        "Predictability score on test data is: 0.607072691552\n"
       ]
      }
     ],
     "prompt_number": 19
    },
    {
     "cell_type": "code",
     "collapsed": false,
     "input": [
      "# fit classification using BernoulliNB\n",
      "\n",
      "from sklearn.naive_bayes import BernoulliNB\n",
      "\n",
      "fitbm = BernoulliNB().fit(xtrain, ytrain)\n",
      "print\"Predictability score on training data is:\",fitbm.score(xtrain, ytrain)\n",
      "print\"Predictability score on test data is:\",fitbm.score(xtest, ytest)\n"
     ],
     "language": "python",
     "metadata": {},
     "outputs": [
      {
       "output_type": "stream",
       "stream": "stdout",
       "text": [
        "Predictability score on training data is: 0.775081967213\n",
        "Predictability score on test data is: 0.687622789784\n"
       ]
      }
     ],
     "prompt_number": 20
    },
    {
     "cell_type": "code",
     "collapsed": false,
     "input": [
      "# fit classification using Logistic Regression (not Naive Bayes)\n",
      "\n",
      "from sklearn.linear_model import LogisticRegression\n",
      "\n",
      "fitlg = LogisticRegression().fit(xtrain, ytrain)\n",
      "print\"Predictability score on training data is:\",fitlg.score(xtrain, ytrain)\n",
      "print\"Predictability score on test data is:\",fitlg.score(xtest, ytest)"
     ],
     "language": "python",
     "metadata": {},
     "outputs": [
      {
       "output_type": "stream",
       "stream": "stdout",
       "text": [
        "Predictability score on training data is: 0.998032786885\n",
        "Predictability score on test data is: 0.7721021611\n"
       ]
      }
     ],
     "prompt_number": 21
    },
    {
     "cell_type": "code",
     "collapsed": false,
     "input": [
      "# conclusion: logistic regression tested best on test and training"
     ],
     "language": "python",
     "metadata": {},
     "outputs": [],
     "prompt_number": 22
    },
    {
     "cell_type": "code",
     "collapsed": false,
     "input": [],
     "language": "python",
     "metadata": {},
     "outputs": [],
     "prompt_number": 22
    },
    {
     "cell_type": "code",
     "collapsed": false,
     "input": [
      "# take a look at the wrong prediction in logistic regression..."
     ],
     "language": "python",
     "metadata": {},
     "outputs": [],
     "prompt_number": 23
    },
    {
     "cell_type": "code",
     "collapsed": false,
     "input": [
      "x_fit_transform.shape"
     ],
     "language": "python",
     "metadata": {},
     "outputs": [
      {
       "metadata": {},
       "output_type": "pyout",
       "prompt_number": 24,
       "text": [
        "(2034, 72009)"
       ]
      }
     ],
     "prompt_number": 24
    },
    {
     "cell_type": "code",
     "collapsed": false,
     "input": [
      "print x_fit_transform[:,0].shape\n",
      "print x_fit_transform[:,1].shape\n",
      "\n",
      "#JP: this line causes a memory error!  Since it creates a matrix with 72,000 zeros\n",
      "#print x_fit_transform.toarray()[0].shape"
     ],
     "language": "python",
     "metadata": {},
     "outputs": [
      {
       "output_type": "stream",
       "stream": "stdout",
       "text": [
        "(2034, 1)\n",
        "(2034, 1)\n"
       ]
      }
     ],
     "prompt_number": 27
    },
    {
     "cell_type": "code",
     "collapsed": false,
     "input": [
      "# # save the prediction\n",
      "predict = fitlg.predict(x_fit_transform)\n",
      "prob = fitlg.predict_proba(x_fit_transform)\n",
      "\n",
      "# # ^ couldn't complete the above part, because got the same error\n",
      "# # as the lab.. how to reshape x_fit_transform so I could calculate\n",
      "# # the predictability?"
     ],
     "language": "python",
     "metadata": {},
     "outputs": [],
     "prompt_number": 28
    },
    {
     "cell_type": "code",
     "collapsed": false,
     "input": [
      "#JP\n",
      "#Let's look at the prob matrix\n",
      "prob"
     ],
     "language": "python",
     "metadata": {},
     "outputs": [
      {
       "metadata": {},
       "output_type": "pyout",
       "prompt_number": 31,
       "text": [
        "array([[ 0.96552617,  0.03447383],\n",
        "       [ 0.9415425 ,  0.0584575 ],\n",
        "       [ 0.93334097,  0.06665903],\n",
        "       ..., \n",
        "       [ 0.96306519,  0.03693481],\n",
        "       [ 0.03633264,  0.96366736],\n",
        "       [ 0.03441722,  0.96558278]])"
       ]
      }
     ],
     "prompt_number": 31
    },
    {
     "cell_type": "code",
     "collapsed": false,
     "input": [
      "#JP\n",
      "#Each row adds to 1.  The first column is the prob of 1, the second prob of 0\n",
      "#(This isn't clear from the matrix, I had to look at the predict string as well)\n",
      "#We don't need both.  Below just takes the first column of every row.\n",
      "prob0 = prob[:,0]\n",
      "prob1 = prob[:,1]\n",
      "prob0"
     ],
     "language": "python",
     "metadata": {},
     "outputs": [
      {
       "metadata": {},
       "output_type": "pyout",
       "prompt_number": 59,
       "text": [
        "array([ 0.96552617,  0.9415425 ,  0.93334097, ...,  0.96306519,\n",
        "        0.03633264,  0.03441722])"
       ]
      }
     ],
     "prompt_number": 59
    },
    {
     "cell_type": "code",
     "collapsed": false,
     "input": [
      "# top 10 classification errors in either category\n",
      "bad_negative = np.argsort(prob[Y == 0][:2])\n",
      "bad_positive = np.argsort(prob[Y == 1][-2:])"
     ],
     "language": "python",
     "metadata": {},
     "outputs": [],
     "prompt_number": 44
    },
    {
     "cell_type": "code",
     "collapsed": false,
     "input": [
      "#JP\n",
      "#Way to get in the weeds testing this thing!  Let's think about a simple metric for\n",
      "#misclassification\n",
      "\n",
      "#If we predict 1 and the tweet was really 0 then (prob1 - actual) will be a large\n",
      "#positive number for texts we missclassified as 1\n",
      "prob1-Y\n",
      "np.argsort(prob1-Y)\n",
      "\n",
      "#note np.argsort returns an array in ASCENDING order.  We're interesting in the last few values"
     ],
     "language": "python",
     "metadata": {},
     "outputs": [
      {
       "metadata": {},
       "output_type": "pyout",
       "prompt_number": 73,
       "text": [
        "array([ 588,  287, 1464, ..., 1308,  135, 1692])"
       ]
      }
     ],
     "prompt_number": 73
    },
    {
     "cell_type": "code",
     "collapsed": false,
     "input": [
      "#JP\n",
      "#Here are the top 10 texts we wrongly categorized as\n",
      "#positive when they were not (false positive)\n",
      "\n",
      "df['tweet'][np.argsort(prob1-Y)[-10:]]"
     ],
     "language": "python",
     "metadata": {},
     "outputs": [
      {
       "metadata": {},
       "output_type": "pyout",
       "prompt_number": 71,
       "text": [
        "1847    stupid arranged marriages... i'll convert so y...\n",
        "2004    I'm tweetless without miPhone   can't wait for...\n",
        "1262    I know my life has been flipped upside down wh...\n",
        "1146    guess I have to wait another year to see Taylo...\n",
        "1197           Not so good of a morning   The lakers lost\n",
        "191     Listening to Bjork's All is full of Love... cr...\n",
        "174     magic vs lakers... I kno my baby @erik_jamaal ...\n",
        "1308    I dnt think this is a happy birthday fa my bab...\n",
        "135     @Lakers girls better do something amazing atth...\n",
        "1692    i'm crying so much! i can't watch the mcfly vi...\n",
        "Name: tweet, dtype: object"
       ]
      }
     ],
     "prompt_number": 71
    },
    {
     "cell_type": "code",
     "collapsed": false,
     "input": [
      "#JP\n",
      "#If we predict 0 and the tweet was really 1 then (prob1 - actual) will be a large\n",
      "#negative number for texts we missclassified as 0 (false negative)\n",
      "df['tweet'][np.argsort(prob1-Y)[0:10]]"
     ],
     "language": "python",
     "metadata": {},
     "outputs": [
      {
       "metadata": {},
       "output_type": "pyout",
       "prompt_number": 74,
       "text": [
        "588     @mistadee - I've got Tweetie for the iPod Touc...\n",
        "287     @catharinamcfly think of London and you'll sur...\n",
        "1464    @twinsmvb i will be rooting for twins in seatt...\n",
        "544     @ddlovato  ohh myy goshh!! ,, are you the open...\n",
        "1545    @DanniAsheOnline I think that would work nicel...\n",
        "355     Back from school. NO MORE SCHOOL FOR TWO WEEKS :)\n",
        "541     im going to danniis party nd im gona dress up ...\n",
        "691     @eliizabetty maybe we will meet there. i want ...\n",
        "395     @JonasAustralia This Friday as in 5th June Fri...\n",
        "438                     May be going to London next week \n",
        "Name: tweet, dtype: object"
       ]
      }
     ],
     "prompt_number": 74
    },
    {
     "cell_type": "code",
     "collapsed": false,
     "input": [
      "# this output is not making much sense...\n",
      "\n",
      "print \"Mis-predicted Negative Tweets\"\n",
      "print '---------------------------'\n",
      "for row in bad_negative:\n",
      "    print df[Y == 0].tweet.irow(row)\n",
      "    print\n",
      "\n",
      "print \"Mis-predicted Positive Tweets\"\n",
      "print '--------------------------'\n",
      "for row in bad_positive:\n",
      "    print df[Y == 1].tweet.irow(row)\n",
      "    print"
     ],
     "language": "python",
     "metadata": {},
     "outputs": [
      {
       "output_type": "stream",
       "stream": "stdout",
       "text": [
        "Mis-predicted Negative Tweets\n",
        "---------------------------\n",
        "1    It looks as though Shaq is getting traded to C...\n",
        "0    the angel is going to miss the athlete this we...\n",
        "Name: tweet, dtype: object\n",
        "\n",
        "1    It looks as though Shaq is getting traded to C...\n",
        "0    the angel is going to miss the athlete this we...\n",
        "Name: tweet, dtype: object\n",
        "\n",
        "Mis-predicted Positive Tweets\n",
        "--------------------------\n",
        "77    @ mcdonalds with my litto sis aka cuzin lol cr...\n",
        "78    @AnnaSaccone Love your new cards!   I would de...\n",
        "Name: tweet, dtype: object\n",
        "\n",
        "77    @ mcdonalds with my litto sis aka cuzin lol cr...\n",
        "78    @AnnaSaccone Love your new cards!   I would de...\n",
        "Name: tweet, dtype: object\n",
        "\n"
       ]
      }
     ],
     "prompt_number": 28
    },
    {
     "cell_type": "code",
     "collapsed": false,
     "input": [
      "#JP\n",
      "#Overall systematic approach to the problem.  Nicely done!"
     ],
     "language": "python",
     "metadata": {},
     "outputs": []
    }
   ],
   "metadata": {}
  }
 ]
}